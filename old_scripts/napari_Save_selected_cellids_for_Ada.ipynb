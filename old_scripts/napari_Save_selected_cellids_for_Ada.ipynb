{
 "cells": [
  {
   "cell_type": "code",
   "execution_count": 2,
   "metadata": {
    "collapsed": true
   },
   "outputs": [],
   "source": [
    "%gui qt"
   ]
  },
  {
   "cell_type": "code",
   "execution_count": 1,
   "metadata": {
    "collapsed": true
   },
   "outputs": [
    {
     "name": "stderr",
     "output_type": "stream",
     "text": [
      "c:\\Hyapp\\Anaconda3-2020.11\\envs\\zarr_env\\lib\\site-packages\\numpy\\_distributor_init.py:30: UserWarning: loaded more than 1 DLL from .libs:\n",
      "c:\\Hyapp\\Anaconda3-2020.11\\envs\\zarr_env\\lib\\site-packages\\numpy\\.libs\\libopenblas.EL2C6PLE4ZYW3ECEVIV3OXXGRN2NRFM2.gfortran-win_amd64.dll\n",
      "c:\\Hyapp\\Anaconda3-2020.11\\envs\\zarr_env\\lib\\site-packages\\numpy\\.libs\\libopenblas.FB5AE2TYXYH2IJRDKGDGQ3XBKLKTF43H.gfortran-win_amd64.dll\n",
      "  warnings.warn(\"loaded more than 1 DLL from .libs:\"\n"
     ]
    }
   ],
   "source": [
    "import numpy as np\n",
    "import tifffile\n",
    "import skimage\n",
    "from tifffile import imread\n",
    "import napari\n",
    "import pandas as pd\n",
    "from matplotlib.backends.backend_qt5agg import FigureCanvas\n",
    "from matplotlib.figure import Figure\n",
    "from pathlib import Path\n",
    "from magicgui import event_loop, magicgui\n",
    "from PyQt5.QtWidgets import QMessageBox\n",
    "import sys\n",
    "from PyQt5.QtWidgets import QApplication, QPushButton\n",
    "from PyQt5.QtCore import Slot\n",
    "import enum\n",
    "import os\n",
    "from dask_image.imread import imread as daskread"
   ]
  },
  {
   "cell_type": "code",
   "execution_count": 4,
   "metadata": {
    "collapsed": false
   },
   "outputs": [
    {
     "data": {
      "text/plain": [
       "<napari._qt.widgets.qt_viewer_dock_widget.QtViewerDockWidget at 0x20c900c1ea0>"
      ]
     },
     "execution_count": 4,
     "metadata": {},
     "output_type": "execute_result"
    }
   ],
   "source": [
    "@magicgui(call_button='Cut Mask')\n",
    "def cut_mask():\n",
    "    mask_to_cut = viewer.layers.selection.active.data\n",
    "    newmask = np.copy(mask_to_cut)\n",
    "    shape = viewer.layers.selection.active.data.shape\n",
    "    selected_area = viewer.layers['Shapes'].to_labels(labels_shape=shape)\n",
    "    global removable_cells\n",
    "    removable_cells =[]\n",
    "\n",
    "    for i in range(0,mask_to_cut.shape[0]):\n",
    "        for j in range(0,mask_to_cut.shape[1]):\n",
    "            cell = mask_to_cut[i,j]\n",
    "            if selected_area[i,j] > 0 and cell not in removable_cells and cell > 0:\n",
    "                removable_cells.append(cell)\n",
    "                print(cell)\n",
    "\n",
    "    return(removable_cells)\n",
    "\n",
    "@magicgui(call_button='Save removable cells to csv', filepath={\"mode\": \"w\", \"mode\": \"d\"})  \n",
    "def save_list(filepath: Path):\n",
    "    dict = {'cellid': removable_cells}\n",
    "    df = pd.DataFrame(dict)\n",
    "    df = df.astype(int)\n",
    "    df.to_csv(str(filepath) + '/' + viewer.layers.selection.active.name + '_selected_cellids.csv', index=False)\n",
    "\n",
    "viewer.window.add_dock_widget(cut_mask)\n",
    "viewer.window.add_dock_widget(save_list)\n"
   ]
  }
 ],
 "metadata": {
  "kernelspec": {
   "display_name": "Python 3.10.4 ('zarr_env')",
   "language": "python",
   "name": "python3"
  },
  "language_info": {
   "codemirror_mode": {
    "name": "ipython",
    "version": 3
   },
   "file_extension": ".py",
   "mimetype": "text/x-python",
   "name": "python",
   "nbconvert_exporter": "python",
   "pygments_lexer": "ipython3",
   "version": "3.10.4"
  },
  "vscode": {
   "interpreter": {
    "hash": "e43eece51857d6e2f368b869c9ba9cc7d05e00d562004f99dbdb9e7725e1bc0d"
   }
  }
 },
 "nbformat": 4,
 "nbformat_minor": 1
}
