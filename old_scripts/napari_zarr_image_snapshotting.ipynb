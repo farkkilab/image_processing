{
 "cells": [
  {
   "cell_type": "code",
   "execution_count": null,
   "id": "345c8968",
   "metadata": {
    "collapsed": false
   },
   "outputs": [],
   "source": [
    "try:\n",
    "    import napari\n",
    "    from napari.layers import Shapes\n",
    "    from napari.utils.notifications import show_info\n",
    "except:\n",
    "    pass\n",
    "import pandas as pd\n",
    "import random\n",
    "import tifffile as tiff\n",
    "\n",
    "import dask.array as da\n",
    "from dask.cache import Cache\n",
    "import zarr\n",
    "import os\n",
    "import matplotlib.patches as mpatches\n",
    "import numpy as np\n",
    "import scipy.spatial.distance as sdistance\n",
    "#from joblib import Parallel, delayed'\n",
    "from magicgui import magicgui\n",
    "import ast\n",
    "from pathlib import Path"
   ]
  },
  {
   "cell_type": "code",
   "execution_count": null,
   "id": "cac31754",
   "metadata": {
    "collapsed": true
   },
   "outputs": [],
   "source": [
    "viewer = napari.Viewer()"
   ]
  },
  {
   "cell_type": "code",
   "execution_count": null,
   "id": "0e1a9a68",
   "metadata": {
    "collapsed": false
   },
   "outputs": [],
   "source": [
    "@magicgui(call_button='Open image', layout='vertical')\n",
    "def open_large_image(image_path=Path(), contrast_limit_txt=Path()):\n",
    "    #ab = pd.read_csv(\"D://2022-06-20_Alfredos_project//template//cycle_1to7_renaming.txt\")\n",
    "    #ab = list(ab[\"ABS\"])\n",
    "    cl_txt = str(contrast_limit_txt)\n",
    "    \n",
    "    if cl_txt =='.':\n",
    "        image = tiff.TiffFile(image_path, is_ome=False) #is_ome=False\n",
    "        z = zarr.open(image.aszarr(), mode='r') # convert image to Zarr array\n",
    "        # Identify the number of pyramids\n",
    "        n_levels = len(image.series[0].levels) # pyramid\n",
    "\n",
    "        # If and if not pyramids are available\n",
    "        if n_levels > 1:\n",
    "            pyramid = [da.from_zarr(z[i]) for i in range(n_levels)]\n",
    "            multiscale = True\n",
    "        else:\n",
    "            pyramid = da.from_zarr(z)\n",
    "            multiscale = False  \n",
    "\n",
    "        viewer.add_image(\n",
    "        pyramid, multiscale=multiscale, channel_axis=0,visible=False,)#name=ab\n",
    "\n",
    "    else:\n",
    "        cl = open(cl_txt, 'r')\n",
    "        c = cl.read()\n",
    "        contrast_limit = ast.literal_eval(c)\n",
    "        \n",
    "        image = tiff.TiffFile(image_path, is_ome=False) #is_ome=False\n",
    "        z = zarr.open(image.aszarr(), mode='r') # convert image to Zarr array\n",
    "        # Identify the number of pyramids\n",
    "        n_levels = len(image.series[0].levels) # pyramid\n",
    "\n",
    "        # If and if not pyramids are available\n",
    "        if n_levels > 1:\n",
    "            pyramid = [da.from_zarr(z[i]) for i in range(n_levels)]\n",
    "            multiscale = True\n",
    "        else:\n",
    "            pyramid = da.from_zarr(z)\n",
    "            multiscale = False  \n",
    "\n",
    "        viewer.add_image(\n",
    "        pyramid, multiscale=multiscale, channel_axis=0,visible=False,contrast_limits=contrast_limit,name=ab)\n",
    "        cl.close()\n",
    "        \n",
    "viewer.window.add_dock_widget(open_large_image)\n"
   ]
  },
  {
   "cell_type": "code",
   "execution_count": null,
   "id": "5812d8dc",
   "metadata": {
    "collapsed": false
   },
   "outputs": [],
   "source": [
    "@magicgui(call_button='Save contrast limits', layout='vertical', output_file={\"mode\": \"w\"})\n",
    "def save_contrast_limits(output_file=Path()):\n",
    "    contrast_limit = list()\n",
    "    ab = pd.read_csv(\"L:\\ltdk_farkkila//Data//CyCIF//2023-02-08_S139_geomx//templates//cycle_1to9_renaming.txt\")\n",
    "    ab = list(ab[\"ABS\"])\n",
    "    print(ab)\n",
    "    for antibody in ab:\n",
    "        contrast_limit.append(viewer.layers[antibody].contrast_limits)\n",
    "\n",
    "    with open(output_file, \"w\") as output:\n",
    "        output.write(str(contrast_limit))\n",
    "\n",
    "viewer.window.add_dock_widget(save_contrast_limits)"
   ]
  },
  {
   "cell_type": "code",
   "execution_count": null,
   "id": "8120f7b7",
   "metadata": {
    "collapsed": true
   },
   "outputs": [],
   "source": [
    "@magicgui(call_button='Save removable cells to csv', filepath={\"mode\": \"w\", \"mode\": \"d\"})  \n",
    "def save_list(filepath: Path):\n",
    "    dict = {'cellid': removable_cells}\n",
    "    df = pd.DataFrame(dict)\n",
    "    df = df.astype(int)\n",
    "    df.to_csv(str(filepath) + viewer.active_layer.name + '_cellids.csv', index=False)\n",
    "\n",
    "viewer.window.add_dock_widget(save_list)"
   ]
  },
  {
   "attachments": {},
   "cell_type": "markdown",
   "id": "b24607ff",
   "metadata": {},
   "source": [
    "TAKE SNAPSHOTS"
   ]
  },
  {
   "cell_type": "code",
   "execution_count": null,
   "id": "ac275ee7",
   "metadata": {},
   "outputs": [],
   "source": [
    "#ULTIMATE BLENDING - SHAPES MUST BE SQUARES :) - SHAPES LAYER SHOULD BE VISIBLE AND NAMED \"Shapes\", LAYERS TO SCREENSHOT MUST BE VISIBLE\n",
    "\n",
    "from PIL import Image\n",
    "def blended_img(viewer,path):\n",
    "    blended = None\n",
    "    layer_rectangle = viewer.layers[\"Shapes\"]\n",
    "    for i in range(len(layer_rectangle.data)):\n",
    "        print(i)\n",
    "        w = int(layer_rectangle.data[i][3][0]) - int(layer_rectangle.data[i][0][0])\n",
    "        h = int(layer_rectangle.data[i][2][1]) - int(layer_rectangle.data[i][0][1])\n",
    "        print(w)\n",
    "        #define blended\n",
    "        blended = np.zeros((w,h,4))\n",
    "        # 1. (initial blended_img) iterate over layers to create new transformed layer only with those coordinates\n",
    "        iterated_layers = []\n",
    "        for layer in viewer.layers:\n",
    "            if layer.visible and not isinstance(layer, napari.layers.Shapes):\n",
    "                contrast_limits = layer.contrast_limits\n",
    "                colormap = layer.colormap\n",
    "                name = \"transformed\" + layer.name\n",
    "                layer = np.array(layer.data[0][int(layer_rectangle.data[i][0][0]):int(layer_rectangle.data[i][3][0]), int(layer_rectangle.data[i][0][1]):int(layer_rectangle.data[i][2][1])])\n",
    "                viewer.add_image(layer, name=name ,contrast_limits=contrast_limits,colormap=colormap,visible=False)\n",
    "                iterated_layers.append(name)\n",
    "        # 2. iterate over the transformed layers to then create a composite\n",
    "        blended = np.zeros((w,h,4))\n",
    "        for layer in viewer.layers:\n",
    "            if \"transformed\" in layer.name:\n",
    "                normalized_data = (layer.data - layer.contrast_limits[0]) / (layer.contrast_limits[1] - layer.contrast_limits[0])\n",
    "                colormapped_data = layer.colormap.map(normalized_data.flatten())\n",
    "                colormapped_data = colormapped_data.reshape(normalized_data.shape + (4,))\n",
    "                blended = blended + colormapped_data\n",
    "        final_name = str(i)\n",
    "        extension_name = path + final_name + \".jpg\"\n",
    "        blended[..., 3] = 1 # Set alpha channel to 1 outside of ma\n",
    "        blended[blended>1]=1\n",
    "        plt.imsave(extension_name, blended)\n",
    "        # 3. close the non-utilized windows\n",
    "        for item in iterated_layers:\n",
    "            viewer.layers.remove(item)\n",
    "        print(iterated_layers)\n",
    "        print(\"done closing\")\n",
    "    #return blended "
   ]
  },
  {
   "cell_type": "code",
   "execution_count": null,
   "id": "603ebfa7",
   "metadata": {},
   "outputs": [],
   "source": [
    "path=\"E://snapshots//Post-NACT//IBApos_CD8neg//vim//\"\n",
    "blended_img(viewer,path)"
   ]
  },
  {
   "cell_type": "code",
   "execution_count": null,
   "id": "92e3caa9",
   "metadata": {},
   "outputs": [],
   "source": [
    "layer_image = viewer.add_image(img, name='blended')\n",
    "viewer.layers.remove(\"blended\")"
   ]
  },
  {
   "attachments": {},
   "cell_type": "markdown",
   "id": "43d63619",
   "metadata": {},
   "source": [
    "MASK CUT - IN CASE IT IS NEEDED"
   ]
  },
  {
   "cell_type": "code",
   "execution_count": null,
   "id": "2d1e409b",
   "metadata": {},
   "outputs": [],
   "source": [
    "@magicgui(call_button='Cut Mask')\n",
    "def cut_mask():\n",
    "    mask_to_cut = viewer.layers.selection.active.data\n",
    "    newmask = np.copy(mask_to_cut)\n",
    "    shape = viewer.layers.selection.active.data.shape\n",
    "    selected_area = viewer.layers['Shapes'].to_labels(labels_shape=shape)\n",
    "    global removable_cells\n",
    "    removable_cells =[]\n",
    "\n",
    "    for i in range(0,mask_to_cut.shape[0]):\n",
    "        for j in range(0,mask_to_cut.shape[1]):\n",
    "            cell = mask_to_cut[i,j]\n",
    "            if selected_area[i,j] > 0 and cell not in removable_cells and cell > 0:\n",
    "                removable_cells.append(cell)\n",
    "                print(cell)\n",
    "\n",
    "    return(removable_cells)\n",
    "\n",
    "@magicgui(call_button='Save removable cells to csv', filepath={\"mode\": \"w\", \"mode\": \"d\"})  \n",
    "def save_list(filepath: Path):\n",
    "    dict = {'cellid': removable_cells}\n",
    "    df = pd.DataFrame(dict)\n",
    "    df = df.astype(int)\n",
    "    df.to_csv(str(filepath) + '/' + viewer.layers.selection.active.name + '_selected_cellids.csv', index=False)\n",
    "\n",
    "viewer.window.add_dock_widget(cut_mask)\n",
    "viewer.window.add_dock_widget(save_list)"
   ]
  }
 ],
 "metadata": {
  "anaconda-cloud": {},
  "kernelspec": {
   "display_name": "napari_tools",
   "language": "python",
   "name": "python3"
  },
  "language_info": {
   "codemirror_mode": {
    "name": "ipython",
    "version": 3
   },
   "file_extension": ".py",
   "mimetype": "text/x-python",
   "name": "python",
   "nbconvert_exporter": "python",
   "pygments_lexer": "ipython3",
   "version": "3.10.4"
  },
  "vscode": {
   "interpreter": {
    "hash": "60b82fe1e9a8f57154b72e5418f8da742526d53650be060220e8cf0fdab15287"
   }
  }
 },
 "nbformat": 4,
 "nbformat_minor": 5
}
