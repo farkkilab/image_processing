{
 "cells": [
  {
   "cell_type": "code",
   "execution_count": 1,
   "metadata": {},
   "outputs": [
    {
     "name": "stdout",
     "output_type": "stream",
     "text": [
      "executed\n"
     ]
    }
   ],
   "source": [
    "print(\"executed\")\n",
    "import os\n",
    "import argparse\n",
    "import multiprocessing\n",
    "from re import search\n",
    "from os import listdir\n",
    "from os.path import isfile, join"
   ]
  },
  {
   "cell_type": "code",
   "execution_count": 7,
   "metadata": {},
   "outputs": [
    {
     "data": {
      "text/plain": [
       "['D://Ada//ada_cell_cycle//batch_3_val\\\\S073_Val',\n",
       " 'D://Ada//ada_cell_cycle//batch_3_val\\\\S076_Val',\n",
       " 'D://Ada//ada_cell_cycle//batch_3_val\\\\S053_Val',\n",
       " 'D://Ada//ada_cell_cycle//batch_3_val\\\\S032_Post']"
      ]
     },
     "execution_count": 7,
     "metadata": {},
     "output_type": "execute_result"
    }
   ],
   "source": [
    "my_path = \"D://Ada//ada_cell_cycle//batch_3_val\"\n",
    "output_path = \"D://Ada//ada_cell_cycle//batch_3_val\"\n",
    "subfolders = [f.path for f in os.scandir(my_path) if f.is_dir()]\n",
    "subfolders"
   ]
  },
  {
   "cell_type": "code",
   "execution_count": 18,
   "metadata": {},
   "outputs": [
    {
     "name": "stdout",
     "output_type": "stream",
     "text": [
      "cd \"D://Ada//ada_cell_cycle//batch_3_val\\S073_Val\"\n",
      "D://Ada//ada_cell_cycle//batch_3_val\\S073_Val\n",
      "S073_Val.ome.tiff\n",
      "['S073_Val@20230815_101142_874448.rcpnl', 'S073_Val@20230816_095626_738238.rcpnl', 'S073_Val@20230818_100829_143651.rcpnl', 'S073_Val@20230821_084726_633109.rcpnl', 'S073_Val@20230822_072537_235789.rcpnl', 'S073_Val@20230823_064823_725123.rcpnl', 'S073_Val@20230824_080304_038488.rcpnl']\n",
      "S073_Val@20230815_101142_874448.rcpnl\n",
      "S073_Val@20230816_095626_738238.rcpnl\n",
      "S073_Val@20230818_100829_143651.rcpnl\n",
      "S073_Val@20230821_084726_633109.rcpnl\n",
      "S073_Val@20230822_072537_235789.rcpnl\n",
      "S073_Val@20230823_064823_725123.rcpnl\n",
      "S073_Val@20230824_080304_038488.rcpnl\n",
      " D://Ada//ada_cell_cycle//batch_3_val\\S073_Val\\S073_Val@20230815_101142_874448.rcpnl D://Ada//ada_cell_cycle//batch_3_val\\S073_Val\\S073_Val@20230816_095626_738238.rcpnl D://Ada//ada_cell_cycle//batch_3_val\\S073_Val\\S073_Val@20230818_100829_143651.rcpnl D://Ada//ada_cell_cycle//batch_3_val\\S073_Val\\S073_Val@20230821_084726_633109.rcpnl D://Ada//ada_cell_cycle//batch_3_val\\S073_Val\\S073_Val@20230822_072537_235789.rcpnl D://Ada//ada_cell_cycle//batch_3_val\\S073_Val\\S073_Val@20230823_064823_725123.rcpnl D://Ada//ada_cell_cycle//batch_3_val\\S073_Val\\S073_Val@20230824_080304_038488.rcpnl \n",
      "ashlar  D://Ada//ada_cell_cycle//batch_3_val\\S073_Val\\S073_Val@20230815_101142_874448.rcpnl D://Ada//ada_cell_cycle//batch_3_val\\S073_Val\\S073_Val@20230816_095626_738238.rcpnl D://Ada//ada_cell_cycle//batch_3_val\\S073_Val\\S073_Val@20230818_100829_143651.rcpnl D://Ada//ada_cell_cycle//batch_3_val\\S073_Val\\S073_Val@20230821_084726_633109.rcpnl D://Ada//ada_cell_cycle//batch_3_val\\S073_Val\\S073_Val@20230822_072537_235789.rcpnl D://Ada//ada_cell_cycle//batch_3_val\\S073_Val\\S073_Val@20230823_064823_725123.rcpnl D://Ada//ada_cell_cycle//batch_3_val\\S073_Val\\S073_Val@20230824_080304_038488.rcpnl -o\"D://Ada//ada_cell_cycle//batch_3_val\\S073_Val.ome.tiff\" --pyramid --filter-sigma 1 -m 30\n",
      "cd \"D://Ada//ada_cell_cycle//batch_3_val\\S076_Val\"\n",
      "D://Ada//ada_cell_cycle//batch_3_val\\S076_Val\n",
      "S076_Val.ome.tiff\n",
      "['S076_Val@20230815_110512_342848.rcpnl', 'S076_Val@20230816_113636_840416.rcpnl', 'S076_Val@20230818_071743_258908.rcpnl', 'S076_Val@20230821_091425_047729.rcpnl', 'S076_Val@20230822_092041_992217.rcpnl', 'S076_Val@20230823_092130_132155.rcpnl', 'S076_Val@20230824_101529_560006.rcpnl']\n",
      "S076_Val@20230815_110512_342848.rcpnl\n",
      "S076_Val@20230816_113636_840416.rcpnl\n",
      "S076_Val@20230818_071743_258908.rcpnl\n",
      "S076_Val@20230821_091425_047729.rcpnl\n",
      "S076_Val@20230822_092041_992217.rcpnl\n",
      "S076_Val@20230823_092130_132155.rcpnl\n",
      "S076_Val@20230824_101529_560006.rcpnl\n",
      " D://Ada//ada_cell_cycle//batch_3_val\\S076_Val\\S076_Val@20230815_110512_342848.rcpnl D://Ada//ada_cell_cycle//batch_3_val\\S076_Val\\S076_Val@20230816_113636_840416.rcpnl D://Ada//ada_cell_cycle//batch_3_val\\S076_Val\\S076_Val@20230818_071743_258908.rcpnl D://Ada//ada_cell_cycle//batch_3_val\\S076_Val\\S076_Val@20230821_091425_047729.rcpnl D://Ada//ada_cell_cycle//batch_3_val\\S076_Val\\S076_Val@20230822_092041_992217.rcpnl D://Ada//ada_cell_cycle//batch_3_val\\S076_Val\\S076_Val@20230823_092130_132155.rcpnl D://Ada//ada_cell_cycle//batch_3_val\\S076_Val\\S076_Val@20230824_101529_560006.rcpnl \n",
      "ashlar  D://Ada//ada_cell_cycle//batch_3_val\\S076_Val\\S076_Val@20230815_110512_342848.rcpnl D://Ada//ada_cell_cycle//batch_3_val\\S076_Val\\S076_Val@20230816_113636_840416.rcpnl D://Ada//ada_cell_cycle//batch_3_val\\S076_Val\\S076_Val@20230818_071743_258908.rcpnl D://Ada//ada_cell_cycle//batch_3_val\\S076_Val\\S076_Val@20230821_091425_047729.rcpnl D://Ada//ada_cell_cycle//batch_3_val\\S076_Val\\S076_Val@20230822_092041_992217.rcpnl D://Ada//ada_cell_cycle//batch_3_val\\S076_Val\\S076_Val@20230823_092130_132155.rcpnl D://Ada//ada_cell_cycle//batch_3_val\\S076_Val\\S076_Val@20230824_101529_560006.rcpnl -o\"D://Ada//ada_cell_cycle//batch_3_val\\S076_Val.ome.tiff\" --pyramid --filter-sigma 1 -m 30\n",
      "cd \"D://Ada//ada_cell_cycle//batch_3_val\\S053_Val\"\n",
      "D://Ada//ada_cell_cycle//batch_3_val\\S053_Val\n",
      "S053_Val.ome.tiff\n",
      "['S053_Val@20230815_113429_175227.rcpnl', 'S053_Val@20230817_062107_226989.rcpnl', 'S053_Val@20230818_071743_147248.rcpnl', 'S053_Val@20230821_084726_658085.rcpnl', 'S053_Val@20230822_092042_028306.rcpnl', 'S053_Val@20230823_092130_176288.rcpnl', 'S053_Val@20230824_100546_929556.rcpnl']\n",
      "S053_Val@20230815_113429_175227.rcpnl\n",
      "S053_Val@20230817_062107_226989.rcpnl\n",
      "S053_Val@20230818_071743_147248.rcpnl\n",
      "S053_Val@20230821_084726_658085.rcpnl\n",
      "S053_Val@20230822_092042_028306.rcpnl\n",
      "S053_Val@20230823_092130_176288.rcpnl\n",
      "S053_Val@20230824_100546_929556.rcpnl\n",
      " D://Ada//ada_cell_cycle//batch_3_val\\S053_Val\\S053_Val@20230815_113429_175227.rcpnl D://Ada//ada_cell_cycle//batch_3_val\\S053_Val\\S053_Val@20230817_062107_226989.rcpnl D://Ada//ada_cell_cycle//batch_3_val\\S053_Val\\S053_Val@20230818_071743_147248.rcpnl D://Ada//ada_cell_cycle//batch_3_val\\S053_Val\\S053_Val@20230821_084726_658085.rcpnl D://Ada//ada_cell_cycle//batch_3_val\\S053_Val\\S053_Val@20230822_092042_028306.rcpnl D://Ada//ada_cell_cycle//batch_3_val\\S053_Val\\S053_Val@20230823_092130_176288.rcpnl D://Ada//ada_cell_cycle//batch_3_val\\S053_Val\\S053_Val@20230824_100546_929556.rcpnl \n",
      "ashlar  D://Ada//ada_cell_cycle//batch_3_val\\S053_Val\\S053_Val@20230815_113429_175227.rcpnl D://Ada//ada_cell_cycle//batch_3_val\\S053_Val\\S053_Val@20230817_062107_226989.rcpnl D://Ada//ada_cell_cycle//batch_3_val\\S053_Val\\S053_Val@20230818_071743_147248.rcpnl D://Ada//ada_cell_cycle//batch_3_val\\S053_Val\\S053_Val@20230821_084726_658085.rcpnl D://Ada//ada_cell_cycle//batch_3_val\\S053_Val\\S053_Val@20230822_092042_028306.rcpnl D://Ada//ada_cell_cycle//batch_3_val\\S053_Val\\S053_Val@20230823_092130_176288.rcpnl D://Ada//ada_cell_cycle//batch_3_val\\S053_Val\\S053_Val@20230824_100546_929556.rcpnl -o\"D://Ada//ada_cell_cycle//batch_3_val\\S053_Val.ome.tiff\" --pyramid --filter-sigma 1 -m 30\n",
      "cd \"D://Ada//ada_cell_cycle//batch_3_val\\S032_Post\"\n",
      "D://Ada//ada_cell_cycle//batch_3_val\\S032_Post\n",
      "S032_Post.ome.tiff\n",
      "['S032_Post@20230815_104027_247886.rcpnl', 'S032_Post@20230816_065729_630700.rcpnl', 'S032_Post@20230818_090802_622142.rcpnl', 'S032_Post@20230821_061349_069443.rcpnl', 'S032_Post@20230822_082518_699955.rcpnl', 'S032_Post@20230823_092130_312893.rcpnl', 'S032_Post@20230824_061318_854300.rcpnl']\n",
      "S032_Post@20230815_104027_247886.rcpnl\n",
      "S032_Post@20230816_065729_630700.rcpnl\n",
      "S032_Post@20230818_090802_622142.rcpnl\n",
      "S032_Post@20230821_061349_069443.rcpnl\n",
      "S032_Post@20230822_082518_699955.rcpnl\n",
      "S032_Post@20230823_092130_312893.rcpnl\n",
      "S032_Post@20230824_061318_854300.rcpnl\n",
      " D://Ada//ada_cell_cycle//batch_3_val\\S032_Post\\S032_Post@20230815_104027_247886.rcpnl D://Ada//ada_cell_cycle//batch_3_val\\S032_Post\\S032_Post@20230816_065729_630700.rcpnl D://Ada//ada_cell_cycle//batch_3_val\\S032_Post\\S032_Post@20230818_090802_622142.rcpnl D://Ada//ada_cell_cycle//batch_3_val\\S032_Post\\S032_Post@20230821_061349_069443.rcpnl D://Ada//ada_cell_cycle//batch_3_val\\S032_Post\\S032_Post@20230822_082518_699955.rcpnl D://Ada//ada_cell_cycle//batch_3_val\\S032_Post\\S032_Post@20230823_092130_312893.rcpnl D://Ada//ada_cell_cycle//batch_3_val\\S032_Post\\S032_Post@20230824_061318_854300.rcpnl \n",
      "ashlar  D://Ada//ada_cell_cycle//batch_3_val\\S032_Post\\S032_Post@20230815_104027_247886.rcpnl D://Ada//ada_cell_cycle//batch_3_val\\S032_Post\\S032_Post@20230816_065729_630700.rcpnl D://Ada//ada_cell_cycle//batch_3_val\\S032_Post\\S032_Post@20230818_090802_622142.rcpnl D://Ada//ada_cell_cycle//batch_3_val\\S032_Post\\S032_Post@20230821_061349_069443.rcpnl D://Ada//ada_cell_cycle//batch_3_val\\S032_Post\\S032_Post@20230822_082518_699955.rcpnl D://Ada//ada_cell_cycle//batch_3_val\\S032_Post\\S032_Post@20230823_092130_312893.rcpnl D://Ada//ada_cell_cycle//batch_3_val\\S032_Post\\S032_Post@20230824_061318_854300.rcpnl -o\"D://Ada//ada_cell_cycle//batch_3_val\\S032_Post.ome.tiff\" --pyramid --filter-sigma 1 -m 30\n"
     ]
    }
   ],
   "source": [
    "for subfolder in subfolders:\n",
    "    file_path = os.path.join(output_path, subfolder)\n",
    "    command = 'cd \\\"'+ file_path +\"\\\"\"\n",
    "    print(command)\n",
    "    os.system(command)\n",
    "    files_to_stitch=\" \"\n",
    "    print(subfolder)\n",
    "    #get standard name\n",
    "    name = subfolder.split(os.sep)[-1]\n",
    "    file_name = name + \".ome.tiff\"\n",
    "    print(file_name)\n",
    "    #add name to output path\n",
    "    output_path2 = os.path.join(output_path, file_name)\n",
    "    #print(output_path)\n",
    "    #get files and format them\n",
    "    files = [f for f in listdir(subfolder) if search('rcpnl', f)]\n",
    "    print(files)\n",
    "    for file in files:\n",
    "        print(file)\n",
    "        files_to_stitch= files_to_stitch + subfolder+ os.sep + file + \" \"\n",
    "        \n",
    "    print(files_to_stitch)\n",
    "    files_to_stitch = files_to_stitch.rstrip() \n",
    "    cmd= \"ashlar {} -o\\\"{}\\\" --pyramid --filter-sigma 1 -m 30\".format(files_to_stitch,output_path2)\n",
    "    print(cmd)"
   ]
  },
  {
   "cell_type": "code",
   "execution_count": 17,
   "metadata": {},
   "outputs": [
    {
     "name": "stdout",
     "output_type": "stream",
     "text": [
      "D://Ada//ada_cell_cycle//batch_3_val\\S073_Val\n",
      "S073_Val.ome.tiff\n",
      "['S073_Val@20230815_101142_874448.rcpnl', 'S073_Val@20230816_095626_738238.rcpnl', 'S073_Val@20230818_100829_143651.rcpnl', 'S073_Val@20230821_084726_633109.rcpnl', 'S073_Val@20230822_072537_235789.rcpnl', 'S073_Val@20230823_064823_725123.rcpnl', 'S073_Val@20230824_080304_038488.rcpnl']\n",
      "D://Ada//ada_cell_cycle//batch_3_val\\S073_Val\\S073_Val@20230815_101142_874448.rcpnl\n",
      "D://Ada//ada_cell_cycle//batch_3_val\\S073_Val\\S073_Val@20230816_095626_738238.rcpnl\n",
      "D://Ada//ada_cell_cycle//batch_3_val\\S073_Val\\S073_Val@20230818_100829_143651.rcpnl\n",
      "D://Ada//ada_cell_cycle//batch_3_val\\S073_Val\\S073_Val@20230821_084726_633109.rcpnl\n",
      "D://Ada//ada_cell_cycle//batch_3_val\\S073_Val\\S073_Val@20230822_072537_235789.rcpnl\n",
      "D://Ada//ada_cell_cycle//batch_3_val\\S073_Val\\S073_Val@20230823_064823_725123.rcpnl\n",
      "D://Ada//ada_cell_cycle//batch_3_val\\S073_Val\\S073_Val@20230824_080304_038488.rcpnl\n",
      "D://Ada//ada_cell_cycle//batch_3_val\\S076_Val\n",
      "S076_Val.ome.tiff\n",
      "['S076_Val@20230815_110512_342848.rcpnl', 'S076_Val@20230816_113636_840416.rcpnl', 'S076_Val@20230818_071743_258908.rcpnl', 'S076_Val@20230821_091425_047729.rcpnl', 'S076_Val@20230822_092041_992217.rcpnl', 'S076_Val@20230823_092130_132155.rcpnl', 'S076_Val@20230824_101529_560006.rcpnl']\n",
      "D://Ada//ada_cell_cycle//batch_3_val\\S076_Val\\S076_Val@20230815_110512_342848.rcpnl\n",
      "D://Ada//ada_cell_cycle//batch_3_val\\S076_Val\\S076_Val@20230816_113636_840416.rcpnl\n",
      "D://Ada//ada_cell_cycle//batch_3_val\\S076_Val\\S076_Val@20230818_071743_258908.rcpnl\n",
      "D://Ada//ada_cell_cycle//batch_3_val\\S076_Val\\S076_Val@20230821_091425_047729.rcpnl\n",
      "D://Ada//ada_cell_cycle//batch_3_val\\S076_Val\\S076_Val@20230822_092041_992217.rcpnl\n",
      "D://Ada//ada_cell_cycle//batch_3_val\\S076_Val\\S076_Val@20230823_092130_132155.rcpnl\n",
      "D://Ada//ada_cell_cycle//batch_3_val\\S076_Val\\S076_Val@20230824_101529_560006.rcpnl\n",
      "D://Ada//ada_cell_cycle//batch_3_val\\S053_Val\n",
      "S053_Val.ome.tiff\n",
      "['S053_Val@20230815_113429_175227.rcpnl', 'S053_Val@20230817_062107_226989.rcpnl', 'S053_Val@20230818_071743_147248.rcpnl', 'S053_Val@20230821_084726_658085.rcpnl', 'S053_Val@20230822_092042_028306.rcpnl', 'S053_Val@20230823_092130_176288.rcpnl', 'S053_Val@20230824_100546_929556.rcpnl']\n",
      "D://Ada//ada_cell_cycle//batch_3_val\\S053_Val\\S053_Val@20230815_113429_175227.rcpnl\n",
      "D://Ada//ada_cell_cycle//batch_3_val\\S053_Val\\S053_Val@20230817_062107_226989.rcpnl\n",
      "D://Ada//ada_cell_cycle//batch_3_val\\S053_Val\\S053_Val@20230818_071743_147248.rcpnl\n",
      "D://Ada//ada_cell_cycle//batch_3_val\\S053_Val\\S053_Val@20230821_084726_658085.rcpnl\n",
      "D://Ada//ada_cell_cycle//batch_3_val\\S053_Val\\S053_Val@20230822_092042_028306.rcpnl\n",
      "D://Ada//ada_cell_cycle//batch_3_val\\S053_Val\\S053_Val@20230823_092130_176288.rcpnl\n",
      "D://Ada//ada_cell_cycle//batch_3_val\\S053_Val\\S053_Val@20230824_100546_929556.rcpnl\n",
      "D://Ada//ada_cell_cycle//batch_3_val\\S032_Post\n",
      "S032_Post.ome.tiff\n",
      "['S032_Post@20230815_104027_247886.rcpnl', 'S032_Post@20230816_065729_630700.rcpnl', 'S032_Post@20230818_090802_622142.rcpnl', 'S032_Post@20230821_061349_069443.rcpnl', 'S032_Post@20230822_082518_699955.rcpnl', 'S032_Post@20230823_092130_312893.rcpnl', 'S032_Post@20230824_061318_854300.rcpnl']\n",
      "D://Ada//ada_cell_cycle//batch_3_val\\S032_Post\\S032_Post@20230815_104027_247886.rcpnl\n",
      "D://Ada//ada_cell_cycle//batch_3_val\\S032_Post\\S032_Post@20230816_065729_630700.rcpnl\n",
      "D://Ada//ada_cell_cycle//batch_3_val\\S032_Post\\S032_Post@20230818_090802_622142.rcpnl\n",
      "D://Ada//ada_cell_cycle//batch_3_val\\S032_Post\\S032_Post@20230821_061349_069443.rcpnl\n",
      "D://Ada//ada_cell_cycle//batch_3_val\\S032_Post\\S032_Post@20230822_082518_699955.rcpnl\n",
      "D://Ada//ada_cell_cycle//batch_3_val\\S032_Post\\S032_Post@20230823_092130_312893.rcpnl\n",
      "D://Ada//ada_cell_cycle//batch_3_val\\S032_Post\\S032_Post@20230824_061318_854300.rcpnl\n"
     ]
    }
   ],
   "source": [
    "for subfolder in subfolders:\n",
    "    print(subfolder)\n",
    "    file_path = os.path.join(output_path, subfolder)\n",
    "    files_to_stitch=\" \"\n",
    "    #get standard name\n",
    "    name = subfolder.split(os.sep)[-1]\n",
    "    file_name = name + \".ome.tiff\"\n",
    "    print(file_name)\n",
    "\n",
    "    #add name to output path\n",
    "    output_path2 = os.path.join(output_path, file_name)\n",
    "\n",
    "    #get files and format them\n",
    "    files = [f for f in listdir(subfolder) if search('rcpnl', f)]\n",
    "    print(files)\n",
    "    for file in files:\n",
    "        files_to_stitch= subfolder + os.sep + file\n",
    "        print(files_to_stitch)"
   ]
  }
 ],
 "metadata": {
  "kernelspec": {
   "display_name": "stardist",
   "language": "python",
   "name": "python3"
  },
  "language_info": {
   "codemirror_mode": {
    "name": "ipython",
    "version": 3
   },
   "file_extension": ".py",
   "mimetype": "text/x-python",
   "name": "python",
   "nbconvert_exporter": "python",
   "pygments_lexer": "ipython3",
   "version": "3.10.9"
  }
 },
 "nbformat": 4,
 "nbformat_minor": 2
}
