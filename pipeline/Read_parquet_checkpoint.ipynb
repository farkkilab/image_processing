{
 "cells": [
  {
   "cell_type": "code",
   "execution_count": 2,
   "metadata": {},
   "outputs": [],
   "source": [
    "import pandas as pd\n",
    "import numpy as np\n",
    "import csv"
   ]
  },
  {
   "cell_type": "code",
   "execution_count": 32,
   "metadata": {},
   "outputs": [],
   "source": [
    "path = \"D:\\\\Projects\\\\NKI_TMAs\\\\Whole_slide_validation\\\\cylinter_7\\\\output\\\\checkpoints\" # replace with the checkpoint file path\n",
    "filepath = \"D:\\\\Projects\\\\NKI_TMAs\\\\Whole_slide_validation\\\\Tribus_analysis\\\\input_data\" # path for output\n",
    "checkpoint = \"logTransform\" # specify the checkpoint you want to read"
   ]
  },
  {
   "cell_type": "code",
   "execution_count": 33,
   "metadata": {},
   "outputs": [
    {
     "data": {
      "text/plain": [
       "array(['S083_iOme1', 'S084_iOme2', 'S098_iOme', 'S112_iOme', 'S118_iOme'],\n",
       "      dtype=object)"
      ]
     },
     "execution_count": 33,
     "metadata": {},
     "output_type": "execute_result"
    }
   ],
   "source": [
    "df = pd.read_parquet('{}\\{}.parquet'.format(path, checkpoint), engine='pyarrow')\n",
    "np.unique(df[\"Sample\"])"
   ]
  },
  {
   "cell_type": "code",
   "execution_count": 34,
   "metadata": {},
   "outputs": [
    {
     "name": "stdout",
     "output_type": "stream",
     "text": [
      "processing S083_iOme1\n",
      "processing S084_iOme2\n",
      "processing S098_iOme\n",
      "processing S112_iOme\n",
      "processing S118_iOme\n"
     ]
    }
   ],
   "source": [
    "for sample_name in np.unique(df[\"Sample\"]): \n",
    "    print(\"processing {}\".format(sample_name))\n",
    "    subdf = df.loc[df['Sample'] == sample_name]\n",
    "    subdf.to_csv('{}\\\\{}.csv'.format(filepath, sample_name))"
   ]
  }
 ],
 "metadata": {
  "kernelspec": {
   "display_name": "Python 3",
   "language": "python",
   "name": "python3"
  },
  "language_info": {
   "codemirror_mode": {
    "name": "ipython",
    "version": 3
   },
   "file_extension": ".py",
   "mimetype": "text/x-python",
   "name": "python",
   "nbconvert_exporter": "python",
   "pygments_lexer": "ipython3",
   "version": "3.10.13"
  }
 },
 "nbformat": 4,
 "nbformat_minor": 2
}
