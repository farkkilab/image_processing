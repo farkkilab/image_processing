{
 "cells": [
  {
   "cell_type": "code",
   "execution_count": 1,
   "metadata": {
    "collapsed": false
   },
   "outputs": [
    {
     "name": "stderr",
     "output_type": "stream",
     "text": [
      "c:\\Users\\Localadmin_kangzigi\\.conda\\envs\\numba_napari\\lib\\site-packages\\numpy\\_distributor_init.py:30: UserWarning: loaded more than 1 DLL from .libs:\n",
      "c:\\Users\\Localadmin_kangzigi\\.conda\\envs\\numba_napari\\lib\\site-packages\\numpy\\.libs\\libopenblas.FB5AE2TYXYH2IJRDKGDGQ3XBKLKTF43H.gfortran-win_amd64.dll\n",
      "c:\\Users\\Localadmin_kangzigi\\.conda\\envs\\numba_napari\\lib\\site-packages\\numpy\\.libs\\libopenblas.XWYDX2IKJW2NMTWSFYNGFUWKQU3LYTCZ.gfortran-win_amd64.dll\n",
      "  warnings.warn(\"loaded more than 1 DLL from .libs:\"\n"
     ]
    }
   ],
   "source": [
    "import numpy as np\n",
    "import pandas as pd\n",
    "import tifffile as tiff\n",
    "import zarr\n",
    "import napari\n",
    "import random\n",
    "import dask.array as da\n",
    "from dask.cache import Cache\n",
    "import zarr\n",
    "import os\n",
    "import numpy as np\n",
    "from pathlib import Path\n",
    "from magicgui import magicgui\n",
    "import ast\n",
    "import distinctipy \n",
    "from matplotlib.colors import to_hex"
   ]
  },
  {
   "cell_type": "code",
   "execution_count": 2,
   "metadata": {
    "collapsed": false
   },
   "outputs": [],
   "source": [
    "viewer = napari.Viewer()"
   ]
  },
  {
   "cell_type": "markdown",
   "metadata": {},
   "source": [
    "#### Open large images in a fast manner, channel list needs a .xlsx file with a column named Channel_name where you list all antybodies used in order. Otherwise names will me like Image[0], Image[1] etc."
   ]
  },
  {
   "cell_type": "code",
   "execution_count": 3,
   "metadata": {
    "collapsed": false
   },
   "outputs": [
    {
     "data": {
      "text/plain": [
       "<napari._qt.widgets.qt_viewer_dock_widget.QtViewerDockWidget at 0x23fc08b70a0>"
      ]
     },
     "execution_count": 3,
     "metadata": {},
     "output_type": "execute_result"
    }
   ],
   "source": [
    "@magicgui(call_button='Open image')\n",
    "def open_image(impath = Path(), channel_list=Path()):\n",
    "    image = tiff.TiffFile(impath, is_ome = False)\n",
    "    z = zarr.open(image.aszarr(), mode='r')\n",
    "    n_levels = len(image.series[0].levels) # pyramid\n",
    "\n",
    "    # If and if not pyramids are available\n",
    "    if n_levels > 1:\n",
    "        pyramid = [da.from_zarr(z[i]) for i in range(n_levels)]\n",
    "        multiscale = True\n",
    "    else:\n",
    "        pyramid = da.from_zarr(z)\n",
    "        multiscale = False \n",
    "        \n",
    "    if os.path.isfile(channel_list) == False:\n",
    "        viewer.add_image(pyramid, multiscale=multiscale, channel_axis=0, visible=False, contrast_limits=(0,65535))\n",
    "    else:\n",
    "        list_df = pd.read_excel(channel_list)\n",
    "        clist = list(list_df.loc[:, 'Channel_name'])\n",
    "        viewer.add_image(pyramid, multiscale=multiscale, channel_axis=0, visible=False, contrast_limits=(0,65535), name=clist)\n",
    "\n",
    "viewer.window.add_dock_widget(open_image)"
   ]
  },
  {
   "cell_type": "markdown",
   "metadata": {},
   "source": [
    "#### Setting colors for masks, helper functions"
   ]
  },
  {
   "cell_type": "code",
   "execution_count": 4,
   "metadata": {
    "collapsed": true
   },
   "outputs": [],
   "source": [
    "RED = (1, 0, 0)\n",
    "GREEN = (0, 1, 0)\n",
    "BLUE = (0, 0, 1)\n",
    "WHITE = (1, 1, 1)\n",
    "BLACK = (0, 0, 0)\n",
    "MAGENTA = (1, 0, 1)\n",
    "YELLOW = (1, 1, 0)\n",
    "CYAN = (0, 1, 1)\n",
    "\n",
    "excluded_colors = [RED, GREEN, BLUE, BLACK, WHITE, CYAN, MAGENTA]"
   ]
  },
  {
   "cell_type": "code",
   "execution_count": 5,
   "metadata": {
    "collapsed": true
   },
   "outputs": [],
   "source": [
    "def filter_and_transform(arr, selected_ids):\n",
    "    filtered_arr = np.where(np.isin(arr, selected_ids), arr, 0)\n",
    "    return np.where(filtered_arr != 0, 1, 0)"
   ]
  },
  {
   "cell_type": "markdown",
   "metadata": {},
   "source": [
    "#### Needs .tif/tiff mask, and a .csv file, which contains cellIDs and labels you wish to display. Either name your columns ID and final_label respectivelt, or change the column names below. "
   ]
  },
  {
   "cell_type": "code",
   "execution_count": null,
   "metadata": {
    "collapsed": false
   },
   "outputs": [],
   "source": [
    "@magicgui(call_button = 'Show celltype masks')\n",
    "def show_celltypes(mask_path = Path(), labels = Path()):\n",
    "\n",
    "    c_table = pd.read_csv(labels)\n",
    "    cts = c_table['final_label'].unique()\n",
    "    ids = c_table['CellID'].unique()\n",
    "    filtered_cellIDs = c_table.loc[c_table['final_label'] == cts[0], 'CellID'].values\n",
    "    print(cts)\n",
    "\n",
    "    channel=0\n",
    "    image = tiff.TiffFile(mask_path)\n",
    "\n",
    "    img = image.pages[channel].asarray()\n",
    "    pyramid = [img[::2**i, ::2**i] for i in range(4) ]\n",
    "    pyramid = [da.from_array(z) for z in pyramid]\n",
    "    print(pyramid)\n",
    "\n",
    "\n",
    "    colors = distinctipy.get_colors(len(cts), pastel_factor=0.6, exclude_colors = excluded_colors)\n",
    "    print(colors)\n",
    "\n",
    "    hex_colors = [to_hex(color) for color in colors]\n",
    "    print(hex_colors)\n",
    "\n",
    "\n",
    "    for celltype in range(len(cts)):\n",
    "        color = list(colors[celltype])\n",
    "        color.append(1)\n",
    "        new_cmap = napari.utils.colormaps.Colormap(colors = np.array([[0.0, 0.0, 0.0, 0.0],color]), name = hex_colors[celltype])\n",
    "        print(cts[celltype])\n",
    "        filtered_cellIDs = c_table.loc[c_table['final_label'] == cts[celltype], 'CellID'].values\n",
    "        print(filtered_cellIDs)\n",
    "\n",
    "        filtered_pyramid = [da.map_blocks(filter_and_transform, layer, filtered_cellIDs, dtype=np.uint8) for layer in pyramid]\n",
    "        viewer.add_image(filtered_pyramid, colormap= new_cmap, name= cts[celltype] + '_mask', blending = 'translucent', contrast_limits=(0,1))  \n",
    "\n",
    "viewer.window.add_dock_widget(show_celltypes)"
   ]
  },
  {
   "cell_type": "code",
   "execution_count": null,
   "metadata": {
    "collapsed": true
   },
   "outputs": [],
   "source": []
  }
 ],
 "metadata": {
  "anaconda-cloud": {},
  "kernelspec": {
   "display_name": "napari_tools_2",
   "language": "python",
   "name": "python3"
  },
  "language_info": {
   "codemirror_mode": {
    "name": "ipython",
    "version": 3
   },
   "file_extension": ".py",
   "mimetype": "text/x-python",
   "name": "python",
   "nbconvert_exporter": "python",
   "pygments_lexer": "ipython3",
   "version": "3.10.4"
  }
 },
 "nbformat": 4,
 "nbformat_minor": 1
}
