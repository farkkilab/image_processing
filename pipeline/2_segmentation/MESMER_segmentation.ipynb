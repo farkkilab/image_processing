{
 "cells": [
  {
   "cell_type": "code",
   "execution_count": null,
   "id": "bc53514f",
   "metadata": {},
   "outputs": [
    {
     "name": "stderr",
     "output_type": "stream",
     "text": [
      "2025-07-25 16:36:48.295437: W tensorflow/stream_executor/platform/default/dso_loader.cc:64] Could not load dynamic library 'libcudart.so.11.0'; dlerror: libcudart.so.11.0: cannot open shared object file: No such file or directory; LD_LIBRARY_PATH: /home/elruuska/.conda/envs/mesmer/lib/python3.9/site-packages/cv2/../../lib64:\n",
      "2025-07-25 16:36:48.295453: I tensorflow/stream_executor/cuda/cudart_stub.cc:29] Ignore above cudart dlerror if you do not have a GPU set up on your machine.\n",
      "INFO:root:Checking for cached data\n",
      "INFO:root:Checking MultiplexSegmentation-9.tar.gz against provided file_hash...\n",
      "INFO:root:MultiplexSegmentation-9.tar.gz with hash a1dfbce2594f927b9112f23a0a1739e0 already available.\n",
      "INFO:root:Extracting /home/elruuska/.deepcell/models/MultiplexSegmentation-9.tar.gz\n",
      "INFO:root:Successfully extracted /home/elruuska/.deepcell/models/MultiplexSegmentation-9.tar.gz into /home/elruuska/.deepcell/models\n",
      "2025-07-25 16:36:51.735308: I tensorflow/stream_executor/cuda/cuda_gpu_executor.cc:936] successful NUMA node read from SysFS had negative value (-1), but there must be at least one NUMA node, so returning NUMA node zero\n",
      "2025-07-25 16:36:51.739003: W tensorflow/stream_executor/platform/default/dso_loader.cc:64] Could not load dynamic library 'libcudart.so.11.0'; dlerror: libcudart.so.11.0: cannot open shared object file: No such file or directory; LD_LIBRARY_PATH: /home/elruuska/.conda/envs/mesmer/lib/python3.9/site-packages/cv2/../../lib64:\n",
      "2025-07-25 16:36:51.739075: W tensorflow/stream_executor/platform/default/dso_loader.cc:64] Could not load dynamic library 'libcublas.so.11'; dlerror: libcublas.so.11: cannot open shared object file: No such file or directory; LD_LIBRARY_PATH: /home/elruuska/.conda/envs/mesmer/lib/python3.9/site-packages/cv2/../../lib64:\n",
      "2025-07-25 16:36:51.739117: W tensorflow/stream_executor/platform/default/dso_loader.cc:64] Could not load dynamic library 'libcublasLt.so.11'; dlerror: libcublasLt.so.11: cannot open shared object file: No such file or directory; LD_LIBRARY_PATH: /home/elruuska/.conda/envs/mesmer/lib/python3.9/site-packages/cv2/../../lib64:\n",
      "2025-07-25 16:36:51.739156: W tensorflow/stream_executor/platform/default/dso_loader.cc:64] Could not load dynamic library 'libcufft.so.10'; dlerror: libcufft.so.10: cannot open shared object file: No such file or directory; LD_LIBRARY_PATH: /home/elruuska/.conda/envs/mesmer/lib/python3.9/site-packages/cv2/../../lib64:\n",
      "2025-07-25 16:36:51.843963: W tensorflow/stream_executor/platform/default/dso_loader.cc:64] Could not load dynamic library 'libcusparse.so.11'; dlerror: libcusparse.so.11: cannot open shared object file: No such file or directory; LD_LIBRARY_PATH: /home/elruuska/.conda/envs/mesmer/lib/python3.9/site-packages/cv2/../../lib64:\n",
      "2025-07-25 16:36:51.844051: W tensorflow/stream_executor/platform/default/dso_loader.cc:64] Could not load dynamic library 'libcudnn.so.8'; dlerror: libcudnn.so.8: cannot open shared object file: No such file or directory; LD_LIBRARY_PATH: /home/elruuska/.conda/envs/mesmer/lib/python3.9/site-packages/cv2/../../lib64:\n",
      "2025-07-25 16:36:51.844065: W tensorflow/core/common_runtime/gpu/gpu_device.cc:1850] Cannot dlopen some GPU libraries. Please make sure the missing libraries mentioned above are installed properly if you would like to use GPU. Follow the guide at https://www.tensorflow.org/install/gpu for how to download and setup the required libraries for your platform.\n",
      "Skipping registering GPU devices...\n",
      "2025-07-25 16:36:51.844912: I tensorflow/core/platform/cpu_feature_guard.cc:151] This TensorFlow binary is optimized with oneAPI Deep Neural Network Library (oneDNN) to use the following CPU instructions in performance-critical operations:  AVX2 FMA\n",
      "To enable them in other operations, rebuild TensorFlow with the appropriate compiler flags.\n"
     ]
    },
    {
     "name": "stdout",
     "output_type": "stream",
     "text": [
      "WARNING:tensorflow:No training configuration found in save file, so the model was *not* compiled. Compile it manually.\n"
     ]
    },
    {
     "name": "stderr",
     "output_type": "stream",
     "text": [
      "WARNING:tensorflow:No training configuration found in save file, so the model was *not* compiled. Compile it manually.\n"
     ]
    }
   ],
   "source": [
    "# Create a new environment for Mesmer before the first run. DeepCell/Mesmer works with Python 3.8+ and we are using 3.8.20 and 3.9\n",
    "# Activate the environment and install necessary packages: pip install deepcell\n",
    "import os\n",
    "import tifffile\n",
    "import time\n",
    "import psutil\n",
    "import numpy as np\n",
    "import cv2\n",
    "import math\n",
    "from deepcell.applications import Mesmer\n",
    "from deepcell_toolbox.utils import tile_image, untile_image\n",
    "from pathlib import Path\n",
    "from PIL import Image\n",
    "from numpy.lib.stride_tricks import as_strided\n",
    "from skimage.segmentation import flood_fill\n",
    "import matplotlib.pyplot as plt\n",
    "\n",
    "# Load DeepCell API token securely - get key from deepcell website, create account with institution email address\n",
    "os.environ.update({\"DEEPCELL_ACCESS_TOKEN\": \"irTp24VK.sf2kGZEml3jFJVEwyDiqDXqHID81sHAQ\"}) #Please change to your own DeepCell API token here\n",
    "\n",
    "# Load Mesmer segmentation model\n",
    "# Load Mesmer segmentation model\n",
    "app = Mesmer()\n",
    "\n",
    "# Functions:\n",
    "def normalize_channel(channel):\n",
    "    \"\"\"Normalize an image channel to the range [0,1].\"\"\"\n",
    "    return (channel - channel.min()) / (channel.max() - channel.min())\n",
    "\n",
    "def apply_gamma_correction(image, gamma):\n",
    "    \"\"\"Apply Gamma Correction to an image.\"\"\"\n",
    "    gammacorrected_image = (np.power(normalize_channel(image), (1 / gamma)) * 65535).astype(np.uint16) \n",
    "    return gammacorrected_image\n",
    "\n",
    "def apply_unsharp_mask(image, sigma, strength):\n",
    "    \"\"\"Apply Unsharp Masking to an image and ensure type consistency.\"\"\"\n",
    "    img_float32 = image.astype(np.float32)  # Convert to float32\n",
    "    blurred = cv2.GaussianBlur(img_float32, (0, 0), sigma)\n",
    "    sharpened = cv2.addWeighted(img_float32, 1 + strength, blurred, -strength, 0, dtype=cv2.CV_32F)   \n",
    "    unsharpmasking_image = np.clip(sharpened, 0, 65535).astype(np.uint16) # Clip values to valid range and convert back to uint16\n",
    "    return unsharpmasking_image\n",
    "\n",
    "def mesmer_masking(image):\n",
    "    mask = app.predict(image, image_mpp=0.650, compartment='nuclear')\n",
    "    return mask\n",
    "\n",
    "def tile(image, tile_size, overlap):\n",
    "    B, X, Y, C = image.shape\n",
    "    tile_x, tile_y = tile_size\n",
    "    overlap_x, overlap_y = overlap\n",
    "\n",
    "    step_x = tile_x - overlap_x\n",
    "    step_y = tile_y - overlap_y\n",
    "\n",
    "    num_tiles_x = int(np.ceil((X - tile_x) // step_x)) + 1\n",
    "    num_tiles_y = int(np.ceil((Y - tile_y) // step_y)) + 1\n",
    "\n",
    "    stride_b, stride_x, stride_y, stride_c = image.strides\n",
    "    new_shape = (B, num_tiles_x, num_tiles_y, tile_x, tile_y, C)\n",
    "    new_strides = (stride_b, step_x * stride_x, step_y * stride_y, stride_x, stride_y, stride_c)\n",
    "\n",
    "    return as_strided(image, shape=new_shape, strides=new_strides)\n",
    "\n",
    "def untile(tiles, original_shape, tile_size, overlap):\n",
    "    tiles = tiles.copy()\n",
    "    B, X, Y, C = original_shape\n",
    "    tile_x, tile_y = tile_size\n",
    "    overlap_x, overlap_y = overlap\n",
    "\n",
    "    step_x = tile_x - overlap_x\n",
    "    step_y = tile_y - overlap_y\n",
    "\n",
    "    untiled = np.zeros((B, X, Y, C), dtype=tiles.dtype)\n",
    "\n",
    "    num_tiles_x, num_tiles_y = tiles.shape[1:3]\n",
    "\n",
    "    for i in range(num_tiles_x):\n",
    "        x_start = i * step_x\n",
    "        x_end = x_start + tile_x\n",
    "\n",
    "        untiled_row = np.zeros((B, tile_x, Y, C), dtype=tiles.dtype)\n",
    "\n",
    "        for j in range(num_tiles_y):\n",
    "            y_start = j * step_y\n",
    "            y_end = y_start + tile_y\n",
    "\n",
    "            if j > 0:\n",
    "                color_map = {}\n",
    "                for k in range(tile_x):\n",
    "                    current_value = untiled_row[0, k, y_start + overlap_y // 2, 0]\n",
    "                    new_value = tiles[0, i, j, k, overlap_y // 2, 0]\n",
    "                    color_map[current_value] = color_map.get(current_value, {})\n",
    "                    color_map[current_value][new_value] = (k, color_map[current_value].get(new_value, (k, 0))[1] + 1)\n",
    "                color_map[0] = {}\n",
    "                for current_value in color_map:\n",
    "                    if 0 in color_map[current_value]:\n",
    "                        del color_map[current_value][0]\n",
    "                    if len(color_map[current_value]) > 0:\n",
    "                        new_value = max(color_map[current_value], key=lambda x: color_map[current_value][x][1])\n",
    "                        k = color_map[current_value][new_value][0]\n",
    "                        flood_fill(tiles[0, i, j, :, :, 0], (k, overlap_y // 2), current_value, in_place=True)\n",
    "                untiled_row[:, :, y_start+overlap_y // 2:y_end, :] = tiles[:, i, j, :, overlap_y // 2:, :]\n",
    "            else:\n",
    "                untiled_row[:, :, y_start:y_end, :] = tiles[:, i, j, :, :, :]\n",
    "            tiles[tiles != 0] += untiled_row.max()\n",
    "\n",
    "        if i > 0:\n",
    "            color_map = {}\n",
    "            for k in range(Y):\n",
    "                current_value = untiled[0, x_start + overlap_x // 2, k, 0]\n",
    "                new_value = untiled_row[0, overlap_x // 2, k, 0]\n",
    "                color_map[current_value] = color_map.get(current_value, {})\n",
    "                color_map[current_value][new_value] = (k, color_map[current_value].get(new_value, (k, 0))[1] + 1)\n",
    "            color_map[0] = {}\n",
    "            for current_value in color_map:\n",
    "                if 0 in color_map[current_value]:\n",
    "                    del color_map[current_value][0]\n",
    "                if len(color_map[current_value]) > 0:\n",
    "                    new_value = max(color_map[current_value], key=lambda x: color_map[current_value][x][1])\n",
    "                    k = color_map[current_value][new_value][0]\n",
    "                    flood_fill(untiled_row[0, :, :, 0], (overlap_x // 2, k), current_value, in_place=True)\n",
    "            untiled[:, x_start+overlap_x // 2:x_end, :, :] = untiled_row[:, overlap_x // 2:, :, :]\n",
    "        else:\n",
    "            untiled[:, x_start:x_end, :, :] = untiled_row\n",
    "\n",
    "    return untiled\n",
    "\n",
    "# GMM on Tile Mean Intensities and automatically filter out background clusters\n",
    "import numpy as np\n",
    "from sklearn.mixture import GaussianMixture\n",
    "import matplotlib.pyplot as plt\n",
    "\n",
    "def filter_tiles_by_mean_intensity_gmm_auto_background(image_tiles, channel_idx=0, n_components=3, visualize=True):\n",
    "    \"\"\"\n",
    "    Apply GMM clustering on mean intensity of tiles, then filter out background clusters.\n",
    "\n",
    "    Args:\n",
    "        image_tiles: np.ndarray of shape (1, H_tiles, W_tiles, H, W, C)\n",
    "        channel_idx: index of the channel to compute the mean on (e.g., DAPI)\n",
    "        n_components: number of GMM clusters to fit\n",
    "        background_clusters: list of cluster indices considered background\n",
    "        visualize: whether to plot the results\n",
    "\n",
    "    Returns:\n",
    "        skipped_mask: boolean mask of tiles to skip (True = background)\n",
    "        cluster_labels: GMM cluster label for each tile\n",
    "    \"\"\"\n",
    "    _, H_tiles, W_tiles, H, W, C = image_tiles.shape\n",
    "\n",
    "    tile_means = []\n",
    "    tile_coords = []\n",
    "\n",
    "    for i in range(H_tiles):\n",
    "        for j in range(W_tiles):\n",
    "            tile = image_tiles[0, i, j, :, :, channel_idx]\n",
    "            tile_mean = np.mean(tile)\n",
    "            tile_means.append([tile_mean])  # keep it 2D for GMM\n",
    "            tile_coords.append((i, j))\n",
    "\n",
    "    tile_means = np.array(tile_means)\n",
    "\n",
    "    # Apply GMM\n",
    "    gmm = GaussianMixture(n_components=n_components, random_state=0)\n",
    "    gmm.fit(tile_means)\n",
    "    labels = gmm.predict(tile_means)\n",
    "    original_labels = labels.copy()\n",
    "\n",
    "    # Rank cluster indices by ascending mean\n",
    "    cluster_means = [tile_means[original_labels == i].mean() for i in range(n_components)]\n",
    "    ranked_clusters = np.argsort(cluster_means)  # ranked by mean intensity\n",
    "    background_cluster = ranked_clusters[0]  # lowest-mean cluster\n",
    "\n",
    "    # Create skipped mask and filter our background tiles\n",
    "    skipped_mask = np.zeros((H_tiles, W_tiles), dtype=bool)\n",
    "    for idx, (i, j) in enumerate(tile_coords):\n",
    "        if original_labels[idx] == background_cluster:\n",
    "            skipped_mask[i, j] = True\n",
    "\n",
    "    if visualize:\n",
    "        plt.figure(figsize=(8, 4))\n",
    "        plt.hist(tile_means[:, 0], bins=50, color='gray', alpha=0.4, label='Mean Intensity')\n",
    "        for i in range(n_components):\n",
    "            mean = gmm.means_[i][0]\n",
    "            plt.axvline(mean, color=f\"C{i}\", linestyle='--', label=f'Cluster {i} (mean: {mean:.1f})')\n",
    "        plt.axvline(cluster_means[background_cluster], color='red', linestyle='-', label='Selected BG cluster')\n",
    "        plt.xlabel(\"Mean Tile Intensity\")\n",
    "        plt.ylabel(\"Count\")\n",
    "        plt.title(\"Tile Mean Intensities with GMM Clusters\")\n",
    "        plt.legend()\n",
    "        plt.tight_layout()\n",
    "        plt.show()\n",
    "\n",
    "    return skipped_mask, original_labels, ranked_clusters\n",
    "\n",
    "def print_memory_usage(msg=\"\"):\n",
    "    process = psutil.Process(os.getpid())\n",
    "    mem_mb = process.memory_info().rss / (1024 ** 2)\n",
    "    print(f\"[{msg}] Memory usage: {mem_mb:.2f} MB\")"
   ]
  },
  {
   "cell_type": "code",
   "execution_count": 2,
   "id": "43987a68",
   "metadata": {},
   "outputs": [
    {
     "name": "stdout",
     "output_type": "stream",
     "text": [
      "Found 1 images.\n"
     ]
    }
   ],
   "source": [
    "#Define Input & Output Folders\n",
    "input_folder = \"/run/user/1325827/gvfs/smb-share:server=group3.ad.helsinki.fi,share=h30492/farkkilab2/9_EyeMT/9_EyeMT_Cycif/batch2_adjacent_slides/tif/\" # Change it to the path of your own input folder\n",
    "output_folder = \"/run/user/1325827/gvfs/smb-share:server=group3.ad.helsinki.fi,share=h30492/farkkilab2/9_EyeMT/9_EyeMT_Cycif/batch2_adjacent_slides/mesmer_seg_new\" # Change it to the path of your own output folder\n",
    "os.makedirs(output_folder, exist_ok=True)  # Ensure output folder exists\n",
    "\n",
    "# List all TIFF images in input folder\n",
    "image_files = [\"S188_iOme.ome.tif\"]\n",
    "print(f\"Found {len(image_files)} images.\")\n",
    "\n",
    "# Define Parameters\n",
    "gamma = 1.5\n",
    "sigma = 1.0\n",
    "strength = 1.5\n",
    "channel = [0, 5] # Channel for Masking - Mesmer needs two channels, we tested with two DAPI channel, but the  ideal according to deepcell website would be a nuclear and a cytoplasm channel\n",
    "\n",
    "# Define Parameters if tiling of image is necessary\n",
    "tile_size = 2500, 2500"
   ]
  },
  {
   "cell_type": "code",
   "execution_count": 3,
   "id": "7ab3217c",
   "metadata": {},
   "outputs": [],
   "source": [
    "import gc"
   ]
  },
  {
   "cell_type": "code",
   "execution_count": 4,
   "id": "47ff36c3",
   "metadata": {},
   "outputs": [
    {
     "name": "stdout",
     "output_type": "stream",
     "text": [
      "[➡️ Start of loop] Memory usage: 1169.07 MB\n",
      "[Before loading image] Memory usage: 1169.07 MB\n",
      "[After loading image] Memory usage: 10291.88 MB\n",
      "[After gamma correction] Memory usage: 19357.46 MB\n",
      "[After unsharp masking] Memory usage: 28423.19 MB\n",
      "[After deleting corrected data] Memory usage: 19358.85 MB\n",
      "[After stacking channels] Memory usage: 28423.19 MB\n",
      "[After deleting sharpened data] Memory usage: 19358.84 MB\n",
      "[After expand_dims] Memory usage: 19358.84 MB\n",
      "[After deleting original image] Memory usage: 10294.50 MB\n",
      "(1324, 1283)\n",
      "(1, 29, 54, 2500, 2500, 2)\n",
      "Tile (0, 0) Mean Intensity: 350.55291424\n",
      "Tile (0, 1) Mean Intensity: 346.48404304\n",
      "Tile (0, 2) Mean Intensity: 341.9774984\n",
      "Tile (0, 3) Mean Intensity: 346.3702632\n",
      "Tile (0, 4) Mean Intensity: 348.33564992\n",
      "Tile (0, 5) Mean Intensity: 348.09958432\n",
      "Tile (0, 6) Mean Intensity: 348.06668736\n",
      "Tile (0, 7) Mean Intensity: 346.364832\n",
      "Tile (0, 8) Mean Intensity: 344.08095648\n",
      "Tile (0, 9) Mean Intensity: 347.38720976\n",
      "Tile (0, 10) Mean Intensity: 351.37773152\n",
      "Tile (0, 11) Mean Intensity: 348.13003168\n",
      "Tile (0, 12) Mean Intensity: 344.71108\n",
      "Tile (0, 13) Mean Intensity: 347.42417664\n",
      "Tile (0, 14) Mean Intensity: 349.61973856\n",
      "Tile (0, 15) Mean Intensity: 346.80675344\n",
      "Tile (0, 16) Mean Intensity: 341.896732\n",
      "Tile (0, 17) Mean Intensity: 339.33998064\n",
      "Tile (0, 18) Mean Intensity: 339.12222\n",
      "Tile (0, 19) Mean Intensity: 343.41025488\n",
      "Tile (0, 20) Mean Intensity: 353.17886656\n",
      "Tile (0, 21) Mean Intensity: 356.2929016\n",
      "Tile (0, 22) Mean Intensity: 352.7991816\n",
      "Tile (0, 23) Mean Intensity: 349.39284608\n",
      "Tile (0, 24) Mean Intensity: 345.55628496\n",
      "Tile (0, 25) Mean Intensity: 344.20671648\n",
      "Tile (0, 26) Mean Intensity: 341.11480096\n",
      "Tile (0, 27) Mean Intensity: 339.30120976\n",
      "Tile (0, 28) Mean Intensity: 339.26041216\n",
      "Tile (0, 29) Mean Intensity: 345.42986032\n",
      "Tile (0, 30) Mean Intensity: 357.64417248\n",
      "Tile (0, 31) Mean Intensity: 390.22403088\n",
      "Tile (0, 32) Mean Intensity: 542.31868256\n",
      "Tile (0, 33) Mean Intensity: 2084.76504624\n",
      "Tile (0, 34) Mean Intensity: 3824.17413408\n",
      "Tile (0, 35) Mean Intensity: 2745.63708672\n",
      "Tile (0, 36) Mean Intensity: 1732.42474992\n",
      "Tile (0, 37) Mean Intensity: 1403.22093856\n",
      "Tile (0, 38) Mean Intensity: 476.33932208\n",
      "Tile (0, 39) Mean Intensity: 356.05866768\n",
      "Tile (0, 40) Mean Intensity: 353.3224088\n",
      "Tile (0, 41) Mean Intensity: 351.4707328\n",
      "Tile (0, 42) Mean Intensity: 346.97377616\n",
      "Tile (0, 43) Mean Intensity: 342.76891648\n",
      "Tile (0, 44) Mean Intensity: 344.21380016\n",
      "Tile (0, 45) Mean Intensity: 344.51443776\n",
      "Tile (0, 46) Mean Intensity: 342.34111984\n",
      "Tile (0, 47) Mean Intensity: 341.67052\n",
      "Tile (0, 48) Mean Intensity: 343.26055392\n",
      "Tile (0, 49) Mean Intensity: 344.7729032\n",
      "Tile (0, 50) Mean Intensity: 344.78769296\n",
      "Tile (0, 51) Mean Intensity: 347.55267216\n",
      "Tile (0, 52) Mean Intensity: 350.36148352\n",
      "Tile (0, 53) Mean Intensity: 349.41008576\n",
      "Tile (1, 0) Mean Intensity: 331.40267888\n",
      "Tile (1, 1) Mean Intensity: 331.80286848\n",
      "Tile (1, 2) Mean Intensity: 331.85456592\n",
      "Tile (1, 3) Mean Intensity: 335.53051376\n",
      "Tile (1, 4) Mean Intensity: 338.38670672\n",
      "Tile (1, 5) Mean Intensity: 339.28734592\n",
      "Tile (1, 6) Mean Intensity: 339.05437664\n",
      "Tile (1, 7) Mean Intensity: 337.16339792\n",
      "Tile (1, 8) Mean Intensity: 335.00700656\n",
      "Tile (1, 9) Mean Intensity: 337.0394808\n",
      "Tile (1, 10) Mean Intensity: 340.73986864\n",
      "Tile (1, 11) Mean Intensity: 339.69481824\n",
      "Tile (1, 12) Mean Intensity: 338.33105632\n",
      "Tile (1, 13) Mean Intensity: 340.5616256\n",
      "Tile (1, 14) Mean Intensity: 341.95288496\n",
      "Tile (1, 15) Mean Intensity: 340.99334464\n",
      "Tile (1, 16) Mean Intensity: 338.918596\n",
      "Tile (1, 17) Mean Intensity: 337.85034448\n",
      "Tile (1, 18) Mean Intensity: 338.06665376\n",
      "Tile (1, 19) Mean Intensity: 340.79490944\n",
      "Tile (1, 20) Mean Intensity: 345.14950848\n",
      "Tile (1, 21) Mean Intensity: 347.10597648\n",
      "Tile (1, 22) Mean Intensity: 347.87579088\n",
      "Tile (1, 23) Mean Intensity: 347.95688656\n",
      "Tile (1, 24) Mean Intensity: 346.68007616\n",
      "Tile (1, 25) Mean Intensity: 345.08708624\n",
      "Tile (1, 26) Mean Intensity: 342.556772\n",
      "Tile (1, 27) Mean Intensity: 341.7149776\n",
      "Tile (1, 28) Mean Intensity: 343.12786592\n",
      "Tile (1, 29) Mean Intensity: 363.66159248\n",
      "Tile (1, 30) Mean Intensity: 416.62922416\n",
      "Tile (1, 31) Mean Intensity: 579.79916192\n",
      "Tile (1, 32) Mean Intensity: 2020.34321936\n",
      "Tile (1, 33) Mean Intensity: 5612.52675536\n",
      "Tile (1, 34) Mean Intensity: 8188.70933776\n",
      "Tile (1, 35) Mean Intensity: 6678.48445408\n",
      "Tile (1, 36) Mean Intensity: 4600.63819024\n",
      "Tile (1, 37) Mean Intensity: 2828.16347264\n",
      "Tile (1, 38) Mean Intensity: 853.33077008\n",
      "Tile (1, 39) Mean Intensity: 383.44675936\n",
      "Tile (1, 40) Mean Intensity: 393.20997296\n",
      "Tile (1, 41) Mean Intensity: 400.87395136\n",
      "Tile (1, 42) Mean Intensity: 384.60947696\n",
      "Tile (1, 43) Mean Intensity: 370.17384656\n",
      "Tile (1, 44) Mean Intensity: 370.73350928\n",
      "Tile (1, 45) Mean Intensity: 367.20309312\n",
      "Tile (1, 46) Mean Intensity: 356.40035824\n",
      "Tile (1, 47) Mean Intensity: 347.78204544\n",
      "Tile (1, 48) Mean Intensity: 346.5941776\n",
      "Tile (1, 49) Mean Intensity: 346.63111392\n",
      "Tile (1, 50) Mean Intensity: 346.190316\n",
      "Tile (1, 51) Mean Intensity: 345.20887824\n",
      "Tile (1, 52) Mean Intensity: 345.6370592\n",
      "Tile (1, 53) Mean Intensity: 347.59577488\n",
      "Tile (2, 0) Mean Intensity: 323.8697544\n",
      "Tile (2, 1) Mean Intensity: 325.63925936\n",
      "Tile (2, 2) Mean Intensity: 326.19600144\n",
      "Tile (2, 3) Mean Intensity: 328.46664176\n",
      "Tile (2, 4) Mean Intensity: 332.52809488\n",
      "Tile (2, 5) Mean Intensity: 333.69054272\n",
      "Tile (2, 6) Mean Intensity: 332.2206\n",
      "Tile (2, 7) Mean Intensity: 330.32092288\n",
      "Tile (2, 8) Mean Intensity: 328.26674576\n",
      "Tile (2, 9) Mean Intensity: 329.27186832\n",
      "Tile (2, 10) Mean Intensity: 331.65683568\n",
      "Tile (2, 11) Mean Intensity: 332.03169168\n",
      "Tile (2, 12) Mean Intensity: 332.55494192\n",
      "Tile (2, 13) Mean Intensity: 334.79956448\n",
      "Tile (2, 14) Mean Intensity: 337.34834016\n",
      "Tile (2, 15) Mean Intensity: 339.42150336\n",
      "Tile (2, 16) Mean Intensity: 340.33774528\n",
      "Tile (2, 17) Mean Intensity: 339.70435408\n",
      "Tile (2, 18) Mean Intensity: 339.06983472\n",
      "Tile (2, 19) Mean Intensity: 338.9428176\n",
      "Tile (2, 20) Mean Intensity: 339.59136576\n",
      "Tile (2, 21) Mean Intensity: 340.71240384\n",
      "Tile (2, 22) Mean Intensity: 345.81083904\n",
      "Tile (2, 23) Mean Intensity: 347.99120848\n",
      "Tile (2, 24) Mean Intensity: 349.22689728\n",
      "Tile (2, 25) Mean Intensity: 346.83296944\n",
      "Tile (2, 26) Mean Intensity: 345.64774336\n",
      "Tile (2, 27) Mean Intensity: 350.34634048\n",
      "Tile (2, 28) Mean Intensity: 368.63696832\n",
      "Tile (2, 29) Mean Intensity: 457.51990512\n",
      "Tile (2, 30) Mean Intensity: 1430.963032\n",
      "Tile (2, 31) Mean Intensity: 3636.08802336\n",
      "Tile (2, 32) Mean Intensity: 5808.48526944\n",
      "Tile (2, 33) Mean Intensity: 7987.31229296\n",
      "Tile (2, 34) Mean Intensity: 9095.09321072\n",
      "Tile (2, 35) Mean Intensity: 8897.97770944\n",
      "Tile (2, 36) Mean Intensity: 8001.81965344\n",
      "Tile (2, 37) Mean Intensity: 5649.97661104\n",
      "Tile (2, 38) Mean Intensity: 2785.70091968\n",
      "Tile (2, 39) Mean Intensity: 1071.54145168\n",
      "Tile (2, 40) Mean Intensity: 1405.4027\n",
      "Tile (2, 41) Mean Intensity: 2012.03981904\n",
      "Tile (2, 42) Mean Intensity: 1713.52524608\n",
      "Tile (2, 43) Mean Intensity: 864.24255472\n",
      "Tile (2, 44) Mean Intensity: 879.63353456\n",
      "Tile (2, 45) Mean Intensity: 901.85919808\n",
      "Tile (2, 46) Mean Intensity: 488.00052\n",
      "Tile (2, 47) Mean Intensity: 400.88889008\n",
      "Tile (2, 48) Mean Intensity: 385.65295008\n",
      "Tile (2, 49) Mean Intensity: 371.18081952\n",
      "Tile (2, 50) Mean Intensity: 360.13800096\n",
      "Tile (2, 51) Mean Intensity: 348.6766888\n",
      "Tile (2, 52) Mean Intensity: 348.07586208\n",
      "Tile (2, 53) Mean Intensity: 349.60763424\n",
      "Tile (3, 0) Mean Intensity: 323.25524912\n",
      "Tile (3, 1) Mean Intensity: 326.72049536\n",
      "Tile (3, 2) Mean Intensity: 327.38028096\n",
      "Tile (3, 3) Mean Intensity: 328.84631792\n",
      "Tile (3, 4) Mean Intensity: 330.95421184\n",
      "Tile (3, 5) Mean Intensity: 330.38643696\n",
      "Tile (3, 6) Mean Intensity: 329.50010496\n",
      "Tile (3, 7) Mean Intensity: 328.64978128\n",
      "Tile (3, 8) Mean Intensity: 327.54504064\n",
      "Tile (3, 9) Mean Intensity: 329.44734944\n",
      "Tile (3, 10) Mean Intensity: 330.8797856\n",
      "Tile (3, 11) Mean Intensity: 330.72453648\n",
      "Tile (3, 12) Mean Intensity: 331.39326928\n",
      "Tile (3, 13) Mean Intensity: 335.29461104\n",
      "Tile (3, 14) Mean Intensity: 339.8191528\n",
      "Tile (3, 15) Mean Intensity: 342.32800032\n",
      "Tile (3, 16) Mean Intensity: 344.37446752\n",
      "Tile (3, 17) Mean Intensity: 343.68851776\n",
      "Tile (3, 18) Mean Intensity: 342.1199448\n",
      "Tile (3, 19) Mean Intensity: 341.09714608\n",
      "Tile (3, 20) Mean Intensity: 340.90583424\n",
      "Tile (3, 21) Mean Intensity: 341.6444208\n",
      "Tile (3, 22) Mean Intensity: 346.53395008\n",
      "Tile (3, 23) Mean Intensity: 348.77412512\n",
      "Tile (3, 24) Mean Intensity: 351.39689648\n",
      "Tile (3, 25) Mean Intensity: 350.718588\n",
      "Tile (3, 26) Mean Intensity: 350.3390312\n",
      "Tile (3, 27) Mean Intensity: 366.3588712\n",
      "Tile (3, 28) Mean Intensity: 421.8275344\n",
      "Tile (3, 29) Mean Intensity: 1535.30472832\n",
      "Tile (3, 30) Mean Intensity: 4022.9079896\n",
      "Tile (3, 31) Mean Intensity: 7607.189712\n",
      "Tile (3, 32) Mean Intensity: 8404.52060192\n",
      "Tile (3, 33) Mean Intensity: 8079.47241248\n",
      "Tile (3, 34) Mean Intensity: 8929.98019024\n",
      "Tile (3, 35) Mean Intensity: 9667.34938288\n",
      "Tile (3, 36) Mean Intensity: 9916.09536832\n",
      "Tile (3, 37) Mean Intensity: 9132.54041312\n",
      "Tile (3, 38) Mean Intensity: 7519.91214992\n",
      "Tile (3, 39) Mean Intensity: 4796.9783928\n",
      "Tile (3, 40) Mean Intensity: 4234.18132768\n",
      "Tile (3, 41) Mean Intensity: 4683.88859152\n",
      "Tile (3, 42) Mean Intensity: 4559.31435728\n",
      "Tile (3, 43) Mean Intensity: 3919.54149936\n",
      "Tile (3, 44) Mean Intensity: 3797.41808784\n",
      "Tile (3, 45) Mean Intensity: 3665.78658528\n",
      "Tile (3, 46) Mean Intensity: 2314.80314336\n",
      "Tile (3, 47) Mean Intensity: 1284.01196016\n",
      "Tile (3, 48) Mean Intensity: 763.95508496\n",
      "Tile (3, 49) Mean Intensity: 422.52413616\n",
      "Tile (3, 50) Mean Intensity: 387.11215968\n",
      "Tile (3, 51) Mean Intensity: 353.17486176\n",
      "Tile (3, 52) Mean Intensity: 362.34126064\n",
      "Tile (3, 53) Mean Intensity: 363.47412048\n",
      "Tile (4, 0) Mean Intensity: 322.29159712\n",
      "Tile (4, 1) Mean Intensity: 326.99434624\n",
      "Tile (4, 2) Mean Intensity: 328.65048016\n",
      "Tile (4, 3) Mean Intensity: 330.7179248\n",
      "Tile (4, 4) Mean Intensity: 331.64307392\n",
      "Tile (4, 5) Mean Intensity: 329.403392\n",
      "Tile (4, 6) Mean Intensity: 328.57783504\n",
      "Tile (4, 7) Mean Intensity: 328.90738624\n",
      "Tile (4, 8) Mean Intensity: 329.09910992\n",
      "Tile (4, 9) Mean Intensity: 331.35210432\n",
      "Tile (4, 10) Mean Intensity: 333.36390176\n",
      "Tile (4, 11) Mean Intensity: 341.65591776\n",
      "Tile (4, 12) Mean Intensity: 354.30121248\n",
      "Tile (4, 13) Mean Intensity: 371.18842016\n",
      "Tile (4, 14) Mean Intensity: 387.8561224\n",
      "Tile (4, 15) Mean Intensity: 393.883776\n",
      "Tile (4, 16) Mean Intensity: 398.22647344\n",
      "Tile (4, 17) Mean Intensity: 395.73462976\n",
      "Tile (4, 18) Mean Intensity: 387.65879088\n",
      "Tile (4, 19) Mean Intensity: 397.50188416\n",
      "Tile (4, 20) Mean Intensity: 429.59401792\n",
      "Tile (4, 21) Mean Intensity: 431.7805528\n",
      "Tile (4, 22) Mean Intensity: 403.76736256\n",
      "Tile (4, 23) Mean Intensity: 388.59258192\n",
      "Tile (4, 24) Mean Intensity: 400.49455696\n",
      "Tile (4, 25) Mean Intensity: 509.5571408\n",
      "Tile (4, 26) Mean Intensity: 688.86326848\n",
      "Tile (4, 27) Mean Intensity: 707.69608368\n",
      "Tile (4, 28) Mean Intensity: 671.93070496\n",
      "Tile (4, 29) Mean Intensity: 3502.09940128\n",
      "Tile (4, 30) Mean Intensity: 7251.50200576\n",
      "Tile (4, 31) Mean Intensity: 9233.7910176\n",
      "Tile (4, 32) Mean Intensity: 9042.79637152\n",
      "Tile (4, 33) Mean Intensity: 8925.03875472\n",
      "Tile (4, 34) Mean Intensity: 9710.134212\n",
      "Tile (4, 35) Mean Intensity: 10297.88700096\n",
      "Tile (4, 36) Mean Intensity: 11053.31046352\n",
      "Tile (4, 37) Mean Intensity: 11221.33727232\n",
      "Tile (4, 38) Mean Intensity: 10867.87374176\n",
      "Tile (4, 39) Mean Intensity: 9687.37617248\n",
      "Tile (4, 40) Mean Intensity: 8783.27217312\n",
      "Tile (4, 41) Mean Intensity: 7292.8512384\n",
      "Tile (4, 42) Mean Intensity: 6434.11896832\n",
      "Tile (4, 43) Mean Intensity: 6031.51332352\n",
      "Tile (4, 44) Mean Intensity: 5396.01333456\n",
      "Tile (4, 45) Mean Intensity: 5293.09842368\n",
      "Tile (4, 46) Mean Intensity: 5276.08376464\n",
      "Tile (4, 47) Mean Intensity: 5459.60917056\n",
      "Tile (4, 48) Mean Intensity: 4648.9750992\n",
      "Tile (4, 49) Mean Intensity: 3286.99635104\n",
      "Tile (4, 50) Mean Intensity: 1919.41477488\n",
      "Tile (4, 51) Mean Intensity: 866.02595776\n",
      "Tile (4, 52) Mean Intensity: 439.39298832\n",
      "Tile (4, 53) Mean Intensity: 372.223504\n",
      "Tile (5, 0) Mean Intensity: 323.6848464\n",
      "Tile (5, 1) Mean Intensity: 327.72401856\n",
      "Tile (5, 2) Mean Intensity: 329.75478896\n",
      "Tile (5, 3) Mean Intensity: 331.49901872\n",
      "Tile (5, 4) Mean Intensity: 332.27761328\n",
      "Tile (5, 5) Mean Intensity: 331.04857008\n",
      "Tile (5, 6) Mean Intensity: 330.93265744\n",
      "Tile (5, 7) Mean Intensity: 332.5756976\n",
      "Tile (5, 8) Mean Intensity: 332.78088224\n",
      "Tile (5, 9) Mean Intensity: 335.55583696\n",
      "Tile (5, 10) Mean Intensity: 340.4210032\n",
      "Tile (5, 11) Mean Intensity: 369.79998672\n",
      "Tile (5, 12) Mean Intensity: 603.46292688\n",
      "Tile (5, 13) Mean Intensity: 1030.1280576\n",
      "Tile (5, 14) Mean Intensity: 1321.57345824\n",
      "Tile (5, 15) Mean Intensity: 1488.90538192\n",
      "Tile (5, 16) Mean Intensity: 1517.8018608\n",
      "Tile (5, 17) Mean Intensity: 1518.26496288\n",
      "Tile (5, 18) Mean Intensity: 1214.740556\n",
      "Tile (5, 19) Mean Intensity: 1208.28938752\n",
      "Tile (5, 20) Mean Intensity: 2248.24471088\n",
      "Tile (5, 21) Mean Intensity: 3003.79586496\n",
      "Tile (5, 22) Mean Intensity: 1937.35061888\n",
      "Tile (5, 23) Mean Intensity: 506.38178144\n",
      "Tile (5, 24) Mean Intensity: 769.36207616\n",
      "Tile (5, 25) Mean Intensity: 2856.62200176\n",
      "Tile (5, 26) Mean Intensity: 4916.31789952\n",
      "Tile (5, 27) Mean Intensity: 4681.93707808\n",
      "Tile (5, 28) Mean Intensity: 4505.19774048\n",
      "Tile (5, 29) Mean Intensity: 7134.16341728\n",
      "Tile (5, 30) Mean Intensity: 9920.57378208\n",
      "Tile (5, 31) Mean Intensity: 10256.77251184\n",
      "Tile (5, 32) Mean Intensity: 9832.22192464\n",
      "Tile (5, 33) Mean Intensity: 9527.97157296\n",
      "Tile (5, 34) Mean Intensity: 9886.90384576\n",
      "Tile (5, 35) Mean Intensity: 10861.48832896\n",
      "Tile (5, 36) Mean Intensity: 11291.72566752\n",
      "Tile (5, 37) Mean Intensity: 10979.86879856\n",
      "Tile (5, 38) Mean Intensity: 10794.70568992\n",
      "Tile (5, 39) Mean Intensity: 11378.78267968\n",
      "Tile (5, 40) Mean Intensity: 11291.52241984\n",
      "Tile (5, 41) Mean Intensity: 9893.8840912\n",
      "Tile (5, 42) Mean Intensity: 8330.46865392\n",
      "Tile (5, 43) Mean Intensity: 6420.69992224\n",
      "Tile (5, 44) Mean Intensity: 4869.21490704\n",
      "Tile (5, 45) Mean Intensity: 5166.43105696\n",
      "Tile (5, 46) Mean Intensity: 7055.39988048\n",
      "Tile (5, 47) Mean Intensity: 8820.93336768\n",
      "Tile (5, 48) Mean Intensity: 8856.23952944\n",
      "Tile (5, 49) Mean Intensity: 7706.5037816\n",
      "Tile (5, 50) Mean Intensity: 6304.17365728\n",
      "Tile (5, 51) Mean Intensity: 4342.82881568\n",
      "Tile (5, 52) Mean Intensity: 1774.0584128\n",
      "Tile (5, 53) Mean Intensity: 412.74455184\n",
      "Tile (6, 0) Mean Intensity: 326.81125136\n",
      "Tile (6, 1) Mean Intensity: 330.37017728\n",
      "Tile (6, 2) Mean Intensity: 331.4985736\n",
      "Tile (6, 3) Mean Intensity: 331.24755056\n",
      "Tile (6, 4) Mean Intensity: 331.19729488\n",
      "Tile (6, 5) Mean Intensity: 332.2175248\n",
      "Tile (6, 6) Mean Intensity: 332.91558848\n",
      "Tile (6, 7) Mean Intensity: 336.88098224\n",
      "Tile (6, 8) Mean Intensity: 341.59329312\n",
      "Tile (6, 9) Mean Intensity: 382.07043936\n",
      "Tile (6, 10) Mean Intensity: 762.83921472\n",
      "Tile (6, 11) Mean Intensity: 1412.94764512\n",
      "Tile (6, 12) Mean Intensity: 2331.3752496\n",
      "Tile (6, 13) Mean Intensity: 3464.91991264\n",
      "Tile (6, 14) Mean Intensity: 4421.31031824\n",
      "Tile (6, 15) Mean Intensity: 4738.57077072\n",
      "Tile (6, 16) Mean Intensity: 4601.7401968\n",
      "Tile (6, 17) Mean Intensity: 4659.11847056\n",
      "Tile (6, 18) Mean Intensity: 3947.3034664\n",
      "Tile (6, 19) Mean Intensity: 3365.10157008\n",
      "Tile (6, 20) Mean Intensity: 4994.56579024\n",
      "Tile (6, 21) Mean Intensity: 6393.98496368\n",
      "Tile (6, 22) Mean Intensity: 3993.80168112\n",
      "Tile (6, 23) Mean Intensity: 1243.90011232\n",
      "Tile (6, 24) Mean Intensity: 1698.492052\n",
      "Tile (6, 25) Mean Intensity: 6159.04069872\n",
      "Tile (6, 26) Mean Intensity: 10110.24458288\n",
      "Tile (6, 27) Mean Intensity: 9893.53208384\n",
      "Tile (6, 28) Mean Intensity: 8955.75894896\n",
      "Tile (6, 29) Mean Intensity: 9248.3809032\n",
      "Tile (6, 30) Mean Intensity: 9630.55081344\n",
      "Tile (6, 31) Mean Intensity: 9760.01162448\n",
      "Tile (6, 32) Mean Intensity: 9574.36854608\n",
      "Tile (6, 33) Mean Intensity: 9175.17443024\n",
      "Tile (6, 34) Mean Intensity: 9968.67576816\n",
      "Tile (6, 35) Mean Intensity: 10781.86073408\n",
      "Tile (6, 36) Mean Intensity: 11106.56635184\n",
      "Tile (6, 37) Mean Intensity: 11760.617232\n",
      "Tile (6, 38) Mean Intensity: 11987.89933616\n",
      "Tile (6, 39) Mean Intensity: 12116.592244\n",
      "Tile (6, 40) Mean Intensity: 11933.84928416\n",
      "Tile (6, 41) Mean Intensity: 11511.87878528\n",
      "Tile (6, 42) Mean Intensity: 9948.57827392\n",
      "Tile (6, 43) Mean Intensity: 7793.11972576\n",
      "Tile (6, 44) Mean Intensity: 7016.11967936\n",
      "Tile (6, 45) Mean Intensity: 7736.32673808\n",
      "Tile (6, 46) Mean Intensity: 8388.80988256\n",
      "Tile (6, 47) Mean Intensity: 8747.92613664\n",
      "Tile (6, 48) Mean Intensity: 8998.64541904\n",
      "Tile (6, 49) Mean Intensity: 8071.9447008\n",
      "Tile (6, 50) Mean Intensity: 8238.55376848\n",
      "Tile (6, 51) Mean Intensity: 8083.20003472\n",
      "Tile (6, 52) Mean Intensity: 4740.5846224\n",
      "Tile (6, 53) Mean Intensity: 1361.33781792\n",
      "Tile (7, 0) Mean Intensity: 326.58675552\n",
      "Tile (7, 1) Mean Intensity: 331.04528768\n",
      "Tile (7, 2) Mean Intensity: 331.75166992\n",
      "Tile (7, 3) Mean Intensity: 332.15134144\n",
      "Tile (7, 4) Mean Intensity: 334.2361272\n",
      "Tile (7, 5) Mean Intensity: 338.64213472\n",
      "Tile (7, 6) Mean Intensity: 342.33745072\n",
      "Tile (7, 7) Mean Intensity: 351.34972816\n",
      "Tile (7, 8) Mean Intensity: 392.10174512\n",
      "Tile (7, 9) Mean Intensity: 991.66556384\n",
      "Tile (7, 10) Mean Intensity: 2972.98530784\n",
      "Tile (7, 11) Mean Intensity: 4079.7100096\n",
      "Tile (7, 12) Mean Intensity: 4619.19651424\n",
      "Tile (7, 13) Mean Intensity: 6227.57209952\n",
      "Tile (7, 14) Mean Intensity: 7545.23001664\n",
      "Tile (7, 15) Mean Intensity: 7799.0001432\n",
      "Tile (7, 16) Mean Intensity: 7470.32420432\n",
      "Tile (7, 17) Mean Intensity: 7813.09651792\n",
      "Tile (7, 18) Mean Intensity: 7034.26690416\n",
      "Tile (7, 19) Mean Intensity: 6292.46906176\n",
      "Tile (7, 20) Mean Intensity: 6943.63791216\n",
      "Tile (7, 21) Mean Intensity: 7098.17969296\n",
      "Tile (7, 22) Mean Intensity: 6456.010116\n",
      "Tile (7, 23) Mean Intensity: 5039.98455696\n",
      "Tile (7, 24) Mean Intensity: 4297.00478864\n",
      "Tile (7, 25) Mean Intensity: 7701.61508288\n",
      "Tile (7, 26) Mean Intensity: 10538.63160256\n",
      "Tile (7, 27) Mean Intensity: 11630.01298304\n",
      "Tile (7, 28) Mean Intensity: 11161.93063664\n",
      "Tile (7, 29) Mean Intensity: 9538.12158512\n",
      "Tile (7, 30) Mean Intensity: 8306.08386752\n",
      "Tile (7, 31) Mean Intensity: 8093.2174568\n",
      "Tile (7, 32) Mean Intensity: 9099.072188\n",
      "Tile (7, 33) Mean Intensity: 9833.56962368\n",
      "Tile (7, 34) Mean Intensity: 10169.73047008\n",
      "Tile (7, 35) Mean Intensity: 10211.37759584\n",
      "Tile (7, 36) Mean Intensity: 10375.81487568\n",
      "Tile (7, 37) Mean Intensity: 11448.6715832\n",
      "Tile (7, 38) Mean Intensity: 12434.16284944\n",
      "Tile (7, 39) Mean Intensity: 12343.02672736\n",
      "Tile (7, 40) Mean Intensity: 11493.64450784\n",
      "Tile (7, 41) Mean Intensity: 11095.69751088\n",
      "Tile (7, 42) Mean Intensity: 9996.73098752\n",
      "Tile (7, 43) Mean Intensity: 9191.6814576\n",
      "Tile (7, 44) Mean Intensity: 9585.44952896\n",
      "Tile (7, 45) Mean Intensity: 9874.27147248\n",
      "Tile (7, 46) Mean Intensity: 9376.54496704\n",
      "Tile (7, 47) Mean Intensity: 8623.96888464\n",
      "Tile (7, 48) Mean Intensity: 8042.19324688\n",
      "Tile (7, 49) Mean Intensity: 7102.09201664\n",
      "Tile (7, 50) Mean Intensity: 8040.34803632\n",
      "Tile (7, 51) Mean Intensity: 9451.36492016\n",
      "Tile (7, 52) Mean Intensity: 7232.5355912\n",
      "Tile (7, 53) Mean Intensity: 2655.56562032\n",
      "Tile (8, 0) Mean Intensity: 323.64875552\n",
      "Tile (8, 1) Mean Intensity: 329.43168656\n",
      "Tile (8, 2) Mean Intensity: 331.98241024\n",
      "Tile (8, 3) Mean Intensity: 337.6130552\n",
      "Tile (8, 4) Mean Intensity: 344.2832624\n",
      "Tile (8, 5) Mean Intensity: 360.80475536\n",
      "Tile (8, 6) Mean Intensity: 380.58574848\n",
      "Tile (8, 7) Mean Intensity: 672.34412496\n",
      "Tile (8, 8) Mean Intensity: 1431.76133664\n",
      "Tile (8, 9) Mean Intensity: 2623.3842424\n",
      "Tile (8, 10) Mean Intensity: 4860.44096176\n",
      "Tile (8, 11) Mean Intensity: 5932.35654704\n",
      "Tile (8, 12) Mean Intensity: 5916.9359432\n",
      "Tile (8, 13) Mean Intensity: 8283.29802528\n",
      "Tile (8, 14) Mean Intensity: 10398.77202272\n",
      "Tile (8, 15) Mean Intensity: 9469.06581424\n",
      "Tile (8, 16) Mean Intensity: 8316.85198208\n",
      "Tile (8, 17) Mean Intensity: 8700.66708816\n",
      "Tile (8, 18) Mean Intensity: 8003.31776304\n",
      "Tile (8, 19) Mean Intensity: 7538.08527696\n",
      "Tile (8, 20) Mean Intensity: 7268.37623568\n",
      "Tile (8, 21) Mean Intensity: 5999.02997616\n",
      "Tile (8, 22) Mean Intensity: 7293.91669824\n",
      "Tile (8, 23) Mean Intensity: 7967.93160096\n",
      "Tile (8, 24) Mean Intensity: 7190.8527088\n",
      "Tile (8, 25) Mean Intensity: 8999.00005488\n",
      "Tile (8, 26) Mean Intensity: 10218.17799744\n",
      "Tile (8, 27) Mean Intensity: 10745.30093024\n",
      "Tile (8, 28) Mean Intensity: 10744.01224704\n",
      "Tile (8, 29) Mean Intensity: 9426.28514288\n",
      "Tile (8, 30) Mean Intensity: 8089.20525584\n",
      "Tile (8, 31) Mean Intensity: 7885.08854512\n",
      "Tile (8, 32) Mean Intensity: 9061.47250384\n",
      "Tile (8, 33) Mean Intensity: 10184.3387224\n",
      "Tile (8, 34) Mean Intensity: 10311.12517776\n",
      "Tile (8, 35) Mean Intensity: 10298.065412\n",
      "Tile (8, 36) Mean Intensity: 10140.78161856\n",
      "Tile (8, 37) Mean Intensity: 10428.67132816\n",
      "Tile (8, 38) Mean Intensity: 11720.20216128\n",
      "Tile (8, 39) Mean Intensity: 11672.53261776\n",
      "Tile (8, 40) Mean Intensity: 10912.14391296\n",
      "Tile (8, 41) Mean Intensity: 10586.24487152\n",
      "Tile (8, 42) Mean Intensity: 9048.96822256\n",
      "Tile (8, 43) Mean Intensity: 9416.07804224\n",
      "Tile (8, 44) Mean Intensity: 10570.5060344\n",
      "Tile (8, 45) Mean Intensity: 9736.74142208\n",
      "Tile (8, 46) Mean Intensity: 9390.05054608\n",
      "Tile (8, 47) Mean Intensity: 9572.09232336\n",
      "Tile (8, 48) Mean Intensity: 9196.739228\n",
      "Tile (8, 49) Mean Intensity: 8627.48253984\n",
      "Tile (8, 50) Mean Intensity: 9064.7908336\n",
      "Tile (8, 51) Mean Intensity: 9710.34445504\n",
      "Tile (8, 52) Mean Intensity: 8058.07149408\n",
      "Tile (8, 53) Mean Intensity: 3390.71328256\n",
      "Tile (9, 0) Mean Intensity: 321.88552448\n",
      "Tile (9, 1) Mean Intensity: 337.4170368\n",
      "Tile (9, 2) Mean Intensity: 353.80772\n",
      "Tile (9, 3) Mean Intensity: 416.73330912\n",
      "Tile (9, 4) Mean Intensity: 495.25013408\n",
      "Tile (9, 5) Mean Intensity: 522.20337808\n",
      "Tile (9, 6) Mean Intensity: 1320.90592736\n",
      "Tile (9, 7) Mean Intensity: 2884.53553264\n",
      "Tile (9, 8) Mean Intensity: 3526.04130992\n",
      "Tile (9, 9) Mean Intensity: 3915.02780048\n",
      "Tile (9, 10) Mean Intensity: 5292.01664576\n",
      "Tile (9, 11) Mean Intensity: 6619.05786368\n",
      "Tile (9, 12) Mean Intensity: 7160.38251664\n",
      "Tile (9, 13) Mean Intensity: 9700.67710704\n",
      "Tile (9, 14) Mean Intensity: 12129.61151264\n",
      "Tile (9, 15) Mean Intensity: 10458.8420848\n",
      "Tile (9, 16) Mean Intensity: 8674.84698448\n",
      "Tile (9, 17) Mean Intensity: 8344.220684\n",
      "Tile (9, 18) Mean Intensity: 7529.2805552\n",
      "Tile (9, 19) Mean Intensity: 6947.91073664\n",
      "Tile (9, 20) Mean Intensity: 6940.77207856\n",
      "Tile (9, 21) Mean Intensity: 6088.84739664\n",
      "Tile (9, 22) Mean Intensity: 7161.91866928\n",
      "Tile (9, 23) Mean Intensity: 8818.4792552\n",
      "Tile (9, 24) Mean Intensity: 8812.5956832\n",
      "Tile (9, 25) Mean Intensity: 10014.71388592\n",
      "Tile (9, 26) Mean Intensity: 11203.8057256\n",
      "Tile (9, 27) Mean Intensity: 10886.51527376\n",
      "Tile (9, 28) Mean Intensity: 10129.97665728\n",
      "Tile (9, 29) Mean Intensity: 9271.0386976\n",
      "Tile (9, 30) Mean Intensity: 9216.10890864\n",
      "Tile (9, 31) Mean Intensity: 8916.90641008\n",
      "Tile (9, 32) Mean Intensity: 8473.12856624\n",
      "Tile (9, 33) Mean Intensity: 9376.21917792\n",
      "Tile (9, 34) Mean Intensity: 9819.14974176\n",
      "Tile (9, 35) Mean Intensity: 9471.21435312\n",
      "Tile (9, 36) Mean Intensity: 9470.73023888\n",
      "Tile (9, 37) Mean Intensity: 10141.185892\n",
      "Tile (9, 38) Mean Intensity: 11256.77674416\n",
      "Tile (9, 39) Mean Intensity: 11257.84524656\n",
      "Tile (9, 40) Mean Intensity: 10747.10136784\n",
      "Tile (9, 41) Mean Intensity: 10207.29934144\n",
      "Tile (9, 42) Mean Intensity: 8606.3597064\n",
      "Tile (9, 43) Mean Intensity: 9610.98545792\n",
      "Tile (9, 44) Mean Intensity: 11352.63938464\n",
      "Tile (9, 45) Mean Intensity: 10505.49138464\n",
      "Tile (9, 46) Mean Intensity: 9994.30796096\n",
      "Tile (9, 47) Mean Intensity: 10326.05085792\n",
      "Tile (9, 48) Mean Intensity: 10106.74864064\n",
      "Tile (9, 49) Mean Intensity: 10208.07994496\n",
      "Tile (9, 50) Mean Intensity: 9848.11895536\n",
      "Tile (9, 51) Mean Intensity: 8911.5306008\n",
      "Tile (9, 52) Mean Intensity: 7236.07588432\n",
      "Tile (9, 53) Mean Intensity: 3016.62798512\n",
      "Tile (10, 0) Mean Intensity: 322.8058984\n",
      "Tile (10, 1) Mean Intensity: 356.4227888\n",
      "Tile (10, 2) Mean Intensity: 406.84205136\n",
      "Tile (10, 3) Mean Intensity: 2709.68555024\n",
      "Tile (10, 4) Mean Intensity: 4911.69758496\n",
      "Tile (10, 5) Mean Intensity: 4151.21159888\n",
      "Tile (10, 6) Mean Intensity: 4417.47756112\n",
      "Tile (10, 7) Mean Intensity: 6124.83566704\n",
      "Tile (10, 8) Mean Intensity: 6276.83897008\n",
      "Tile (10, 9) Mean Intensity: 6247.72419216\n",
      "Tile (10, 10) Mean Intensity: 7518.99016496\n",
      "Tile (10, 11) Mean Intensity: 8651.18473568\n",
      "Tile (10, 12) Mean Intensity: 8116.83851936\n",
      "Tile (10, 13) Mean Intensity: 8322.25336416\n",
      "Tile (10, 14) Mean Intensity: 9859.0755704\n",
      "Tile (10, 15) Mean Intensity: 10326.82055232\n",
      "Tile (10, 16) Mean Intensity: 9694.94102848\n",
      "Tile (10, 17) Mean Intensity: 8365.73993824\n",
      "Tile (10, 18) Mean Intensity: 6870.44252832\n",
      "Tile (10, 19) Mean Intensity: 6395.12035888\n",
      "Tile (10, 20) Mean Intensity: 7003.42625904\n",
      "Tile (10, 21) Mean Intensity: 6532.27040224\n",
      "Tile (10, 22) Mean Intensity: 7209.1908512\n",
      "Tile (10, 23) Mean Intensity: 9727.70426\n",
      "Tile (10, 24) Mean Intensity: 10553.9898488\n",
      "Tile (10, 25) Mean Intensity: 10423.1821824\n",
      "Tile (10, 26) Mean Intensity: 10369.74353536\n",
      "Tile (10, 27) Mean Intensity: 10628.55007728\n",
      "Tile (10, 28) Mean Intensity: 10079.63520864\n",
      "Tile (10, 29) Mean Intensity: 8992.14098928\n",
      "Tile (10, 30) Mean Intensity: 9463.03687616\n",
      "Tile (10, 31) Mean Intensity: 9363.71824176\n",
      "Tile (10, 32) Mean Intensity: 8356.11255904\n",
      "Tile (10, 33) Mean Intensity: 9020.11491248\n",
      "Tile (10, 34) Mean Intensity: 9484.23623936\n",
      "Tile (10, 35) Mean Intensity: 9146.71390288\n",
      "Tile (10, 36) Mean Intensity: 9261.33297504\n",
      "Tile (10, 37) Mean Intensity: 9465.68576416\n",
      "Tile (10, 38) Mean Intensity: 10181.26263088\n",
      "Tile (10, 39) Mean Intensity: 10198.3826248\n",
      "Tile (10, 40) Mean Intensity: 9589.39508336\n",
      "Tile (10, 41) Mean Intensity: 9591.79511136\n",
      "Tile (10, 42) Mean Intensity: 9537.67635168\n",
      "Tile (10, 43) Mean Intensity: 9789.01024496\n",
      "Tile (10, 44) Mean Intensity: 10968.31526016\n",
      "Tile (10, 45) Mean Intensity: 11279.15980144\n",
      "Tile (10, 46) Mean Intensity: 10693.42128816\n",
      "Tile (10, 47) Mean Intensity: 10004.54940592\n",
      "Tile (10, 48) Mean Intensity: 9312.25511744\n",
      "Tile (10, 49) Mean Intensity: 10538.65608528\n",
      "Tile (10, 50) Mean Intensity: 10058.88471136\n",
      "Tile (10, 51) Mean Intensity: 7968.99582352\n",
      "Tile (10, 52) Mean Intensity: 5781.7021312\n",
      "Tile (10, 53) Mean Intensity: 2280.0942288\n",
      "Tile (11, 0) Mean Intensity: 328.61931168\n",
      "Tile (11, 1) Mean Intensity: 376.2321408\n",
      "Tile (11, 2) Mean Intensity: 444.53255344\n",
      "Tile (11, 3) Mean Intensity: 4926.95601488\n",
      "Tile (11, 4) Mean Intensity: 9797.21331168\n",
      "Tile (11, 5) Mean Intensity: 9245.98797648\n",
      "Tile (11, 6) Mean Intensity: 8034.06914992\n",
      "Tile (11, 7) Mean Intensity: 7971.6527328\n",
      "Tile (11, 8) Mean Intensity: 8038.28486256\n",
      "Tile (11, 9) Mean Intensity: 8190.95960752\n",
      "Tile (11, 10) Mean Intensity: 8939.88867488\n",
      "Tile (11, 11) Mean Intensity: 9044.83335552\n",
      "Tile (11, 12) Mean Intensity: 7896.58946272\n",
      "Tile (11, 13) Mean Intensity: 7201.29186432\n",
      "Tile (11, 14) Mean Intensity: 7445.1771456\n",
      "Tile (11, 15) Mean Intensity: 8491.50193552\n",
      "Tile (11, 16) Mean Intensity: 8650.251312\n",
      "Tile (11, 17) Mean Intensity: 7826.41467472\n",
      "Tile (11, 18) Mean Intensity: 6440.31235072\n",
      "Tile (11, 19) Mean Intensity: 5784.45137952\n",
      "Tile (11, 20) Mean Intensity: 6047.43691728\n",
      "Tile (11, 21) Mean Intensity: 6181.8410096\n",
      "Tile (11, 22) Mean Intensity: 8228.59464256\n",
      "Tile (11, 23) Mean Intensity: 10730.31775392\n",
      "Tile (11, 24) Mean Intensity: 10916.02029248\n",
      "Tile (11, 25) Mean Intensity: 10018.31493056\n",
      "Tile (11, 26) Mean Intensity: 9027.45194528\n",
      "Tile (11, 27) Mean Intensity: 8742.35998736\n",
      "Tile (11, 28) Mean Intensity: 8621.33191472\n",
      "Tile (11, 29) Mean Intensity: 8495.3080944\n",
      "Tile (11, 30) Mean Intensity: 8498.83044688\n",
      "Tile (11, 31) Mean Intensity: 8425.7737152\n",
      "Tile (11, 32) Mean Intensity: 8073.49451216\n",
      "Tile (11, 33) Mean Intensity: 8890.692684\n",
      "Tile (11, 34) Mean Intensity: 9333.89463536\n",
      "Tile (11, 35) Mean Intensity: 8969.3896136\n",
      "Tile (11, 36) Mean Intensity: 8847.89482976\n",
      "Tile (11, 37) Mean Intensity: 8026.5304392\n",
      "Tile (11, 38) Mean Intensity: 8460.52043552\n",
      "Tile (11, 39) Mean Intensity: 9061.99312352\n",
      "Tile (11, 40) Mean Intensity: 8857.79623184\n",
      "Tile (11, 41) Mean Intensity: 9355.22359984\n",
      "Tile (11, 42) Mean Intensity: 9948.99678192\n",
      "Tile (11, 43) Mean Intensity: 9716.70769504\n",
      "Tile (11, 44) Mean Intensity: 9835.89463376\n",
      "Tile (11, 45) Mean Intensity: 10688.00086816\n",
      "Tile (11, 46) Mean Intensity: 10639.65599488\n",
      "Tile (11, 47) Mean Intensity: 9894.6202976\n",
      "Tile (11, 48) Mean Intensity: 9033.5838384\n",
      "Tile (11, 49) Mean Intensity: 9626.98452752\n",
      "Tile (11, 50) Mean Intensity: 9282.1641544\n",
      "Tile (11, 51) Mean Intensity: 8392.9781176\n",
      "Tile (11, 52) Mean Intensity: 6872.72387456\n",
      "Tile (11, 53) Mean Intensity: 2892.65604416\n",
      "Tile (12, 0) Mean Intensity: 342.88867744\n",
      "Tile (12, 1) Mean Intensity: 394.53716544\n",
      "Tile (12, 2) Mean Intensity: 454.05832048\n",
      "Tile (12, 3) Mean Intensity: 5299.88271952\n",
      "Tile (12, 4) Mean Intensity: 10846.2157392\n",
      "Tile (12, 5) Mean Intensity: 11160.93179136\n",
      "Tile (12, 6) Mean Intensity: 9968.07189408\n",
      "Tile (12, 7) Mean Intensity: 8647.84338688\n",
      "Tile (12, 8) Mean Intensity: 8187.38426912\n",
      "Tile (12, 9) Mean Intensity: 8060.73485792\n",
      "Tile (12, 10) Mean Intensity: 7889.44341088\n",
      "Tile (12, 11) Mean Intensity: 7107.09598928\n",
      "Tile (12, 12) Mean Intensity: 6220.76394112\n",
      "Tile (12, 13) Mean Intensity: 6199.78459472\n",
      "Tile (12, 14) Mean Intensity: 5855.29735504\n",
      "Tile (12, 15) Mean Intensity: 6260.44340896\n",
      "Tile (12, 16) Mean Intensity: 6641.4711032\n",
      "Tile (12, 17) Mean Intensity: 7012.4950256\n",
      "Tile (12, 18) Mean Intensity: 6501.99937088\n",
      "Tile (12, 19) Mean Intensity: 5385.42891248\n",
      "Tile (12, 20) Mean Intensity: 5281.11235504\n",
      "Tile (12, 21) Mean Intensity: 5816.12518688\n",
      "Tile (12, 22) Mean Intensity: 8474.59225664\n",
      "Tile (12, 23) Mean Intensity: 10230.00891936\n",
      "Tile (12, 24) Mean Intensity: 9483.64628896\n",
      "Tile (12, 25) Mean Intensity: 9250.79108912\n",
      "Tile (12, 26) Mean Intensity: 8532.2012048\n",
      "Tile (12, 27) Mean Intensity: 7641.01250816\n",
      "Tile (12, 28) Mean Intensity: 8161.38557408\n",
      "Tile (12, 29) Mean Intensity: 8322.56882752\n",
      "Tile (12, 30) Mean Intensity: 7558.55539504\n",
      "Tile (12, 31) Mean Intensity: 7470.98425424\n",
      "Tile (12, 32) Mean Intensity: 7815.58453584\n",
      "Tile (12, 33) Mean Intensity: 8977.86729392\n",
      "Tile (12, 34) Mean Intensity: 9275.8685712\n",
      "Tile (12, 35) Mean Intensity: 8530.07882624\n",
      "Tile (12, 36) Mean Intensity: 8500.92663728\n",
      "Tile (12, 37) Mean Intensity: 7448.46172784\n",
      "Tile (12, 38) Mean Intensity: 7326.37483488\n",
      "Tile (12, 39) Mean Intensity: 8603.27551312\n",
      "Tile (12, 40) Mean Intensity: 9063.58384032\n",
      "Tile (12, 41) Mean Intensity: 9496.75160032\n",
      "Tile (12, 42) Mean Intensity: 9721.59838432\n",
      "Tile (12, 43) Mean Intensity: 9533.46732304\n",
      "Tile (12, 44) Mean Intensity: 9795.8919184\n",
      "Tile (12, 45) Mean Intensity: 10343.33889136\n",
      "Tile (12, 46) Mean Intensity: 10186.26742512\n",
      "Tile (12, 47) Mean Intensity: 9751.56636672\n",
      "Tile (12, 48) Mean Intensity: 8809.02674112\n",
      "Tile (12, 49) Mean Intensity: 8541.63576688\n",
      "Tile (12, 50) Mean Intensity: 9052.69393152\n",
      "Tile (12, 51) Mean Intensity: 9307.99945232\n",
      "Tile (12, 52) Mean Intensity: 7396.3438624\n",
      "Tile (12, 53) Mean Intensity: 2794.25480048\n",
      "Tile (13, 0) Mean Intensity: 354.47203856\n",
      "Tile (13, 1) Mean Intensity: 1439.08298432\n",
      "Tile (13, 2) Mean Intensity: 2293.16798928\n",
      "Tile (13, 3) Mean Intensity: 5699.01885008\n",
      "Tile (13, 4) Mean Intensity: 10130.80929024\n",
      "Tile (13, 5) Mean Intensity: 11416.4734376\n",
      "Tile (13, 6) Mean Intensity: 10944.0277984\n",
      "Tile (13, 7) Mean Intensity: 9301.07686032\n",
      "Tile (13, 8) Mean Intensity: 7897.3189552\n",
      "Tile (13, 9) Mean Intensity: 7646.8700704\n",
      "Tile (13, 10) Mean Intensity: 7995.20803776\n",
      "Tile (13, 11) Mean Intensity: 7010.88896\n",
      "Tile (13, 12) Mean Intensity: 5473.51578624\n",
      "Tile (13, 13) Mean Intensity: 5472.8788776\n",
      "Tile (13, 14) Mean Intensity: 6474.12937248\n",
      "Tile (13, 15) Mean Intensity: 7333.8481272\n",
      "Tile (13, 16) Mean Intensity: 7756.25300944\n",
      "Tile (13, 17) Mean Intensity: 8309.16087488\n",
      "Tile (13, 18) Mean Intensity: 7372.08816224\n",
      "Tile (13, 19) Mean Intensity: 6493.76240416\n",
      "Tile (13, 20) Mean Intensity: 6367.98045344\n",
      "Tile (13, 21) Mean Intensity: 6549.95005488\n",
      "Tile (13, 22) Mean Intensity: 7890.39147232\n",
      "Tile (13, 23) Mean Intensity: 8398.06693744\n",
      "Tile (13, 24) Mean Intensity: 8310.245292\n",
      "Tile (13, 25) Mean Intensity: 9156.6801088\n",
      "Tile (13, 26) Mean Intensity: 8823.25565104\n",
      "Tile (13, 27) Mean Intensity: 7464.74399872\n",
      "Tile (13, 28) Mean Intensity: 7440.5480768\n",
      "Tile (13, 29) Mean Intensity: 7271.34452016\n",
      "Tile (13, 30) Mean Intensity: 6214.24335776\n",
      "Tile (13, 31) Mean Intensity: 6783.27447232\n",
      "Tile (13, 32) Mean Intensity: 7436.69167472\n",
      "Tile (13, 33) Mean Intensity: 8443.18186144\n",
      "Tile (13, 34) Mean Intensity: 9060.79374\n",
      "Tile (13, 35) Mean Intensity: 8528.84195744\n",
      "Tile (13, 36) Mean Intensity: 8654.49848016\n",
      "Tile (13, 37) Mean Intensity: 8244.28898272\n",
      "Tile (13, 38) Mean Intensity: 7783.59439984\n",
      "Tile (13, 39) Mean Intensity: 8653.3043632\n",
      "Tile (13, 40) Mean Intensity: 9170.93827056\n",
      "Tile (13, 41) Mean Intensity: 9019.6954328\n",
      "Tile (13, 42) Mean Intensity: 9091.81591696\n",
      "Tile (13, 43) Mean Intensity: 9260.92271824\n",
      "Tile (13, 44) Mean Intensity: 9943.70227856\n",
      "Tile (13, 45) Mean Intensity: 10131.34302144\n",
      "Tile (13, 46) Mean Intensity: 10230.81730112\n",
      "Tile (13, 47) Mean Intensity: 9368.28029136\n",
      "Tile (13, 48) Mean Intensity: 8555.76068\n",
      "Tile (13, 49) Mean Intensity: 8752.58323136\n",
      "Tile (13, 50) Mean Intensity: 8902.44627856\n",
      "Tile (13, 51) Mean Intensity: 9155.63605856\n",
      "Tile (13, 52) Mean Intensity: 6009.1850576\n",
      "Tile (13, 53) Mean Intensity: 1481.43921792\n",
      "Tile (14, 0) Mean Intensity: 355.43146336\n",
      "Tile (14, 1) Mean Intensity: 2256.92307312\n",
      "Tile (14, 2) Mean Intensity: 4783.35897184\n",
      "Tile (14, 3) Mean Intensity: 7508.15963552\n",
      "Tile (14, 4) Mean Intensity: 9845.46808064\n",
      "Tile (14, 5) Mean Intensity: 11035.18662144\n",
      "Tile (14, 6) Mean Intensity: 11059.80672368\n",
      "Tile (14, 7) Mean Intensity: 9615.3591912\n",
      "Tile (14, 8) Mean Intensity: 8316.58060848\n",
      "Tile (14, 9) Mean Intensity: 8144.8204664\n",
      "Tile (14, 10) Mean Intensity: 8083.75375312\n",
      "Tile (14, 11) Mean Intensity: 7118.57721888\n",
      "Tile (14, 12) Mean Intensity: 6091.68992912\n",
      "Tile (14, 13) Mean Intensity: 6433.49558768\n",
      "Tile (14, 14) Mean Intensity: 7967.49836896\n",
      "Tile (14, 15) Mean Intensity: 8232.41626848\n",
      "Tile (14, 16) Mean Intensity: 7982.48547968\n",
      "Tile (14, 17) Mean Intensity: 8939.69759136\n",
      "Tile (14, 18) Mean Intensity: 8895.76541408\n",
      "Tile (14, 19) Mean Intensity: 7943.52136224\n",
      "Tile (14, 20) Mean Intensity: 6930.09706032\n",
      "Tile (14, 21) Mean Intensity: 7948.20490752\n",
      "Tile (14, 22) Mean Intensity: 8657.21418096\n",
      "Tile (14, 23) Mean Intensity: 7614.60416656\n",
      "Tile (14, 24) Mean Intensity: 7286.80878816\n",
      "Tile (14, 25) Mean Intensity: 8751.68652016\n",
      "Tile (14, 26) Mean Intensity: 9399.53025008\n",
      "Tile (14, 27) Mean Intensity: 7395.1582216\n",
      "Tile (14, 28) Mean Intensity: 6036.05804592\n",
      "Tile (14, 29) Mean Intensity: 6024.9154568\n",
      "Tile (14, 30) Mean Intensity: 5513.29606096\n",
      "Tile (14, 31) Mean Intensity: 5591.6464104\n",
      "Tile (14, 32) Mean Intensity: 6439.9212376\n",
      "Tile (14, 33) Mean Intensity: 7570.99716016\n",
      "Tile (14, 34) Mean Intensity: 8483.3362968\n",
      "Tile (14, 35) Mean Intensity: 8698.519192\n",
      "Tile (14, 36) Mean Intensity: 8740.5332256\n",
      "Tile (14, 37) Mean Intensity: 8804.8827408\n",
      "Tile (14, 38) Mean Intensity: 8248.00908448\n",
      "Tile (14, 39) Mean Intensity: 8371.75728544\n",
      "Tile (14, 40) Mean Intensity: 8991.97437376\n",
      "Tile (14, 41) Mean Intensity: 8326.46782976\n",
      "Tile (14, 42) Mean Intensity: 7981.28918816\n",
      "Tile (14, 43) Mean Intensity: 8836.379892\n",
      "Tile (14, 44) Mean Intensity: 9519.78830368\n",
      "Tile (14, 45) Mean Intensity: 9076.05673968\n",
      "Tile (14, 46) Mean Intensity: 9772.56366512\n",
      "Tile (14, 47) Mean Intensity: 9307.16241328\n",
      "Tile (14, 48) Mean Intensity: 8474.6522928\n",
      "Tile (14, 49) Mean Intensity: 9012.81264864\n",
      "Tile (14, 50) Mean Intensity: 8017.04132752\n",
      "Tile (14, 51) Mean Intensity: 8143.37161024\n",
      "Tile (14, 52) Mean Intensity: 5138.29339808\n",
      "Tile (14, 53) Mean Intensity: 616.77046224\n",
      "Tile (15, 0) Mean Intensity: 342.4033392\n",
      "Tile (15, 1) Mean Intensity: 2066.31683264\n",
      "Tile (15, 2) Mean Intensity: 6868.79272688\n",
      "Tile (15, 3) Mean Intensity: 11179.5636592\n",
      "Tile (15, 4) Mean Intensity: 11803.87467408\n",
      "Tile (15, 5) Mean Intensity: 10950.15732032\n",
      "Tile (15, 6) Mean Intensity: 10315.08223616\n",
      "Tile (15, 7) Mean Intensity: 9786.99218176\n",
      "Tile (15, 8) Mean Intensity: 9157.62172128\n",
      "Tile (15, 9) Mean Intensity: 8910.2264408\n",
      "Tile (15, 10) Mean Intensity: 8121.44618544\n",
      "Tile (15, 11) Mean Intensity: 7188.78905984\n",
      "Tile (15, 12) Mean Intensity: 6675.07416416\n",
      "Tile (15, 13) Mean Intensity: 7652.2351504\n",
      "Tile (15, 14) Mean Intensity: 8535.77204272\n",
      "Tile (15, 15) Mean Intensity: 7580.07840432\n",
      "Tile (15, 16) Mean Intensity: 6886.32006496\n",
      "Tile (15, 17) Mean Intensity: 7475.22798704\n",
      "Tile (15, 18) Mean Intensity: 9008.89633584\n",
      "Tile (15, 19) Mean Intensity: 8505.4484096\n",
      "Tile (15, 20) Mean Intensity: 6996.935128\n",
      "Tile (15, 21) Mean Intensity: 8701.98766752\n",
      "Tile (15, 22) Mean Intensity: 9881.06570096\n",
      "Tile (15, 23) Mean Intensity: 8291.36231744\n",
      "Tile (15, 24) Mean Intensity: 6575.608816\n",
      "Tile (15, 25) Mean Intensity: 7887.7211328\n",
      "Tile (15, 26) Mean Intensity: 9060.18722544\n",
      "Tile (15, 27) Mean Intensity: 7002.1543024\n",
      "Tile (15, 28) Mean Intensity: 5100.04210672\n",
      "Tile (15, 29) Mean Intensity: 5240.09119984\n",
      "Tile (15, 30) Mean Intensity: 5296.7009944\n",
      "Tile (15, 31) Mean Intensity: 4636.5930136\n",
      "Tile (15, 32) Mean Intensity: 5335.26355472\n",
      "Tile (15, 33) Mean Intensity: 6520.29866624\n",
      "Tile (15, 34) Mean Intensity: 7514.69088864\n",
      "Tile (15, 35) Mean Intensity: 8392.73941616\n",
      "Tile (15, 36) Mean Intensity: 8691.01595584\n",
      "Tile (15, 37) Mean Intensity: 8987.77756096\n",
      "Tile (15, 38) Mean Intensity: 8535.99330816\n",
      "Tile (15, 39) Mean Intensity: 8299.71844208\n",
      "Tile (15, 40) Mean Intensity: 8923.29805488\n",
      "Tile (15, 41) Mean Intensity: 8280.92196896\n",
      "Tile (15, 42) Mean Intensity: 8217.14433616\n",
      "Tile (15, 43) Mean Intensity: 9152.850308\n",
      "Tile (15, 44) Mean Intensity: 9170.46674768\n",
      "Tile (15, 45) Mean Intensity: 8774.27550192\n",
      "Tile (15, 46) Mean Intensity: 9460.13322928\n",
      "Tile (15, 47) Mean Intensity: 9482.06355232\n",
      "Tile (15, 48) Mean Intensity: 9092.90888096\n",
      "Tile (15, 49) Mean Intensity: 9814.72778016\n",
      "Tile (15, 50) Mean Intensity: 8333.32274352\n",
      "Tile (15, 51) Mean Intensity: 6238.6734208\n",
      "Tile (15, 52) Mean Intensity: 3315.38417632\n",
      "Tile (15, 53) Mean Intensity: 403.9405512\n",
      "Tile (16, 0) Mean Intensity: 333.96671088\n",
      "Tile (16, 1) Mean Intensity: 1614.89305168\n",
      "Tile (16, 2) Mean Intensity: 6644.91601136\n",
      "Tile (16, 3) Mean Intensity: 10163.63274464\n",
      "Tile (16, 4) Mean Intensity: 10538.71131712\n",
      "Tile (16, 5) Mean Intensity: 10476.82528912\n",
      "Tile (16, 6) Mean Intensity: 10069.73186592\n",
      "Tile (16, 7) Mean Intensity: 10343.43861456\n",
      "Tile (16, 8) Mean Intensity: 9840.2078864\n",
      "Tile (16, 9) Mean Intensity: 8943.62734208\n",
      "Tile (16, 10) Mean Intensity: 8177.178068\n",
      "Tile (16, 11) Mean Intensity: 7748.42438896\n",
      "Tile (16, 12) Mean Intensity: 7378.75158288\n",
      "Tile (16, 13) Mean Intensity: 8318.6833984\n",
      "Tile (16, 14) Mean Intensity: 8586.05560208\n",
      "Tile (16, 15) Mean Intensity: 7556.22920288\n",
      "Tile (16, 16) Mean Intensity: 7143.18024096\n",
      "Tile (16, 17) Mean Intensity: 6513.14661744\n",
      "Tile (16, 18) Mean Intensity: 7230.11816512\n",
      "Tile (16, 19) Mean Intensity: 8271.07385248\n",
      "Tile (16, 20) Mean Intensity: 7775.76882832\n",
      "Tile (16, 21) Mean Intensity: 8612.08191984\n",
      "Tile (16, 22) Mean Intensity: 10291.124832\n",
      "Tile (16, 23) Mean Intensity: 9027.25066304\n",
      "Tile (16, 24) Mean Intensity: 7669.38359664\n",
      "Tile (16, 25) Mean Intensity: 8037.46497312\n",
      "Tile (16, 26) Mean Intensity: 8397.53336944\n",
      "Tile (16, 27) Mean Intensity: 7194.21708544\n",
      "Tile (16, 28) Mean Intensity: 5036.68498608\n",
      "Tile (16, 29) Mean Intensity: 4463.61858784\n",
      "Tile (16, 30) Mean Intensity: 4514.93705056\n",
      "Tile (16, 31) Mean Intensity: 4483.31983824\n",
      "Tile (16, 32) Mean Intensity: 4861.84164288\n",
      "Tile (16, 33) Mean Intensity: 5969.12290592\n",
      "Tile (16, 34) Mean Intensity: 6967.3109448\n",
      "Tile (16, 35) Mean Intensity: 7097.17118848\n",
      "Tile (16, 36) Mean Intensity: 7665.80068832\n",
      "Tile (16, 37) Mean Intensity: 9035.65333184\n",
      "Tile (16, 38) Mean Intensity: 8911.67569648\n",
      "Tile (16, 39) Mean Intensity: 8750.30782144\n",
      "Tile (16, 40) Mean Intensity: 9198.07387216\n",
      "Tile (16, 41) Mean Intensity: 8577.76615296\n",
      "Tile (16, 42) Mean Intensity: 8999.69243888\n",
      "Tile (16, 43) Mean Intensity: 9579.40078768\n",
      "Tile (16, 44) Mean Intensity: 8807.4409088\n",
      "Tile (16, 45) Mean Intensity: 8783.2707944\n",
      "Tile (16, 46) Mean Intensity: 8859.84718528\n",
      "Tile (16, 47) Mean Intensity: 8592.1025752\n",
      "Tile (16, 48) Mean Intensity: 8813.30335344\n",
      "Tile (16, 49) Mean Intensity: 9433.559552\n",
      "Tile (16, 50) Mean Intensity: 7999.08940144\n",
      "Tile (16, 51) Mean Intensity: 4152.02051888\n",
      "Tile (16, 52) Mean Intensity: 1253.84087744\n",
      "Tile (16, 53) Mean Intensity: 362.46194352\n",
      "Tile (17, 0) Mean Intensity: 332.81683568\n",
      "Tile (17, 1) Mean Intensity: 1040.77064608\n",
      "Tile (17, 2) Mean Intensity: 4287.77581712\n",
      "Tile (17, 3) Mean Intensity: 6848.24320016\n",
      "Tile (17, 4) Mean Intensity: 8045.5558\n",
      "Tile (17, 5) Mean Intensity: 9434.53122928\n",
      "Tile (17, 6) Mean Intensity: 10272.66826368\n",
      "Tile (17, 7) Mean Intensity: 10472.34324944\n",
      "Tile (17, 8) Mean Intensity: 10452.91133136\n",
      "Tile (17, 9) Mean Intensity: 9836.36184832\n",
      "Tile (17, 10) Mean Intensity: 8966.24732608\n",
      "Tile (17, 11) Mean Intensity: 8912.5698176\n",
      "Tile (17, 12) Mean Intensity: 8636.05282736\n",
      "Tile (17, 13) Mean Intensity: 8439.79476336\n",
      "Tile (17, 14) Mean Intensity: 8389.24135168\n",
      "Tile (17, 15) Mean Intensity: 7731.60078416\n",
      "Tile (17, 16) Mean Intensity: 7157.49348928\n",
      "Tile (17, 17) Mean Intensity: 6867.06182528\n",
      "Tile (17, 18) Mean Intensity: 7171.94877024\n",
      "Tile (17, 19) Mean Intensity: 8859.7664104\n",
      "Tile (17, 20) Mean Intensity: 9051.2385544\n",
      "Tile (17, 21) Mean Intensity: 9030.53563328\n",
      "Tile (17, 22) Mean Intensity: 10258.30509232\n",
      "Tile (17, 23) Mean Intensity: 9479.70638448\n",
      "Tile (17, 24) Mean Intensity: 9698.30088432\n",
      "Tile (17, 25) Mean Intensity: 8917.19196192\n",
      "Tile (17, 26) Mean Intensity: 8130.6953192\n",
      "Tile (17, 27) Mean Intensity: 7674.777808\n",
      "Tile (17, 28) Mean Intensity: 5371.36887328\n",
      "Tile (17, 29) Mean Intensity: 4062.17673072\n",
      "Tile (17, 30) Mean Intensity: 3876.83923344\n",
      "Tile (17, 31) Mean Intensity: 4476.65067104\n",
      "Tile (17, 32) Mean Intensity: 5008.34381072\n",
      "Tile (17, 33) Mean Intensity: 6444.96755568\n",
      "Tile (17, 34) Mean Intensity: 7896.52723152\n",
      "Tile (17, 35) Mean Intensity: 7868.89486624\n",
      "Tile (17, 36) Mean Intensity: 7505.14665552\n",
      "Tile (17, 37) Mean Intensity: 8475.66762848\n",
      "Tile (17, 38) Mean Intensity: 8633.6168176\n",
      "Tile (17, 39) Mean Intensity: 8848.2841032\n",
      "Tile (17, 40) Mean Intensity: 9322.234844\n",
      "Tile (17, 41) Mean Intensity: 8447.63351952\n",
      "Tile (17, 42) Mean Intensity: 8507.30824464\n",
      "Tile (17, 43) Mean Intensity: 9168.140836\n",
      "Tile (17, 44) Mean Intensity: 8651.60352992\n",
      "Tile (17, 45) Mean Intensity: 8568.66469376\n",
      "Tile (17, 46) Mean Intensity: 8680.87307024\n",
      "Tile (17, 47) Mean Intensity: 8215.7216496\n",
      "Tile (17, 48) Mean Intensity: 8634.73949584\n",
      "Tile (17, 49) Mean Intensity: 8748.434752\n",
      "Tile (17, 50) Mean Intensity: 6362.9400288\n",
      "Tile (17, 51) Mean Intensity: 2616.1676656\n",
      "Tile (17, 52) Mean Intensity: 457.22364576\n",
      "Tile (17, 53) Mean Intensity: 350.60286672\n",
      "Tile (18, 0) Mean Intensity: 331.62085824\n",
      "Tile (18, 1) Mean Intensity: 411.34786128\n",
      "Tile (18, 2) Mean Intensity: 1701.0938056\n",
      "Tile (18, 3) Mean Intensity: 4551.00189856\n",
      "Tile (18, 4) Mean Intensity: 6883.7818288\n",
      "Tile (18, 5) Mean Intensity: 8463.07377488\n",
      "Tile (18, 6) Mean Intensity: 9482.27917008\n",
      "Tile (18, 7) Mean Intensity: 9613.79379568\n",
      "Tile (18, 8) Mean Intensity: 10302.78960848\n",
      "Tile (18, 9) Mean Intensity: 10240.75193392\n",
      "Tile (18, 10) Mean Intensity: 9840.68140496\n",
      "Tile (18, 11) Mean Intensity: 9817.4888344\n",
      "Tile (18, 12) Mean Intensity: 9127.42973504\n",
      "Tile (18, 13) Mean Intensity: 8395.53390192\n",
      "Tile (18, 14) Mean Intensity: 8405.93261312\n",
      "Tile (18, 15) Mean Intensity: 7949.4739496\n",
      "Tile (18, 16) Mean Intensity: 8033.41427488\n",
      "Tile (18, 17) Mean Intensity: 8677.59587472\n",
      "Tile (18, 18) Mean Intensity: 8197.26526032\n",
      "Tile (18, 19) Mean Intensity: 8488.4605928\n",
      "Tile (18, 20) Mean Intensity: 8971.94765312\n",
      "Tile (18, 21) Mean Intensity: 9081.91250576\n",
      "Tile (18, 22) Mean Intensity: 9904.48002576\n",
      "Tile (18, 23) Mean Intensity: 10292.70919456\n",
      "Tile (18, 24) Mean Intensity: 9993.78297152\n",
      "Tile (18, 25) Mean Intensity: 7415.99958176\n",
      "Tile (18, 26) Mean Intensity: 6515.67235488\n",
      "Tile (18, 27) Mean Intensity: 7021.37089616\n",
      "Tile (18, 28) Mean Intensity: 5469.38458576\n",
      "Tile (18, 29) Mean Intensity: 4441.59735552\n",
      "Tile (18, 30) Mean Intensity: 4648.76985184\n",
      "Tile (18, 31) Mean Intensity: 5281.06441584\n",
      "Tile (18, 32) Mean Intensity: 5381.91573872\n",
      "Tile (18, 33) Mean Intensity: 7196.72092832\n",
      "Tile (18, 34) Mean Intensity: 9029.0178448\n",
      "Tile (18, 35) Mean Intensity: 9088.31928\n",
      "Tile (18, 36) Mean Intensity: 8041.11389728\n",
      "Tile (18, 37) Mean Intensity: 7454.37482096\n",
      "Tile (18, 38) Mean Intensity: 7622.59436208\n",
      "Tile (18, 39) Mean Intensity: 8053.18399824\n",
      "Tile (18, 40) Mean Intensity: 8817.54216416\n",
      "Tile (18, 41) Mean Intensity: 8284.73614\n",
      "Tile (18, 42) Mean Intensity: 7968.02786096\n",
      "Tile (18, 43) Mean Intensity: 8293.64223648\n",
      "Tile (18, 44) Mean Intensity: 7829.45228672\n",
      "Tile (18, 45) Mean Intensity: 7770.28749344\n",
      "Tile (18, 46) Mean Intensity: 8835.02493904\n",
      "Tile (18, 47) Mean Intensity: 9458.40496288\n",
      "Tile (18, 48) Mean Intensity: 9435.61796944\n",
      "Tile (18, 49) Mean Intensity: 9200.95969536\n",
      "Tile (18, 50) Mean Intensity: 5914.85866128\n",
      "Tile (18, 51) Mean Intensity: 1930.29045248\n",
      "Tile (18, 52) Mean Intensity: 430.31990032\n",
      "Tile (18, 53) Mean Intensity: 344.09956784\n",
      "Tile (19, 0) Mean Intensity: 331.71254144\n",
      "Tile (19, 1) Mean Intensity: 359.994448\n",
      "Tile (19, 2) Mean Intensity: 428.54562304\n",
      "Tile (19, 3) Mean Intensity: 2071.43665168\n",
      "Tile (19, 4) Mean Intensity: 5150.95902672\n",
      "Tile (19, 5) Mean Intensity: 7485.16402272\n",
      "Tile (19, 6) Mean Intensity: 7915.18236512\n",
      "Tile (19, 7) Mean Intensity: 8915.68119408\n",
      "Tile (19, 8) Mean Intensity: 10219.50654128\n",
      "Tile (19, 9) Mean Intensity: 10286.315088\n",
      "Tile (19, 10) Mean Intensity: 10212.81467936\n",
      "Tile (19, 11) Mean Intensity: 9335.81537984\n",
      "Tile (19, 12) Mean Intensity: 9128.43541904\n",
      "Tile (19, 13) Mean Intensity: 9538.64278688\n",
      "Tile (19, 14) Mean Intensity: 9012.6601056\n",
      "Tile (19, 15) Mean Intensity: 8315.92469856\n",
      "Tile (19, 16) Mean Intensity: 9165.25012176\n",
      "Tile (19, 17) Mean Intensity: 9948.186836\n",
      "Tile (19, 18) Mean Intensity: 8551.11510768\n",
      "Tile (19, 19) Mean Intensity: 8022.88681168\n",
      "Tile (19, 20) Mean Intensity: 9381.36168256\n",
      "Tile (19, 21) Mean Intensity: 9225.32617952\n",
      "Tile (19, 22) Mean Intensity: 8653.54090864\n",
      "Tile (19, 23) Mean Intensity: 10034.1444464\n",
      "Tile (19, 24) Mean Intensity: 9289.14741344\n",
      "Tile (19, 25) Mean Intensity: 5209.42211584\n",
      "Tile (19, 26) Mean Intensity: 3721.73079376\n",
      "Tile (19, 27) Mean Intensity: 5531.50756048\n",
      "Tile (19, 28) Mean Intensity: 5804.0976464\n",
      "Tile (19, 29) Mean Intensity: 4947.31839632\n",
      "Tile (19, 30) Mean Intensity: 5206.65363488\n",
      "Tile (19, 31) Mean Intensity: 5766.21626832\n",
      "Tile (19, 32) Mean Intensity: 5911.19079024\n",
      "Tile (19, 33) Mean Intensity: 7544.757012\n",
      "Tile (19, 34) Mean Intensity: 8603.4991032\n",
      "Tile (19, 35) Mean Intensity: 8226.02315568\n",
      "Tile (19, 36) Mean Intensity: 7805.25831968\n",
      "Tile (19, 37) Mean Intensity: 7424.46226624\n",
      "Tile (19, 38) Mean Intensity: 7955.1587224\n",
      "Tile (19, 39) Mean Intensity: 8110.78355776\n",
      "Tile (19, 40) Mean Intensity: 8610.66934832\n",
      "Tile (19, 41) Mean Intensity: 8982.21097344\n",
      "Tile (19, 42) Mean Intensity: 8678.9162816\n",
      "Tile (19, 43) Mean Intensity: 7858.68417056\n",
      "Tile (19, 44) Mean Intensity: 6450.9842832\n",
      "Tile (19, 45) Mean Intensity: 6034.76477312\n",
      "Tile (19, 46) Mean Intensity: 7796.7804544\n",
      "Tile (19, 47) Mean Intensity: 10308.50489968\n",
      "Tile (19, 48) Mean Intensity: 10178.01637408\n",
      "Tile (19, 49) Mean Intensity: 9083.06293968\n",
      "Tile (19, 50) Mean Intensity: 7153.94777088\n",
      "Tile (19, 51) Mean Intensity: 3105.39298272\n",
      "Tile (19, 52) Mean Intensity: 482.26355296\n",
      "Tile (19, 53) Mean Intensity: 342.18833552\n",
      "Tile (20, 0) Mean Intensity: 332.45916784\n",
      "Tile (20, 1) Mean Intensity: 335.62643328\n",
      "Tile (20, 2) Mean Intensity: 341.73320848\n",
      "Tile (20, 3) Mean Intensity: 482.66220736\n",
      "Tile (20, 4) Mean Intensity: 1924.14920368\n",
      "Tile (20, 5) Mean Intensity: 4161.68909616\n",
      "Tile (20, 6) Mean Intensity: 5770.94606416\n",
      "Tile (20, 7) Mean Intensity: 7772.7686184\n",
      "Tile (20, 8) Mean Intensity: 9024.45725872\n",
      "Tile (20, 9) Mean Intensity: 9315.8250144\n",
      "Tile (20, 10) Mean Intensity: 9625.3171944\n",
      "Tile (20, 11) Mean Intensity: 9405.0059688\n",
      "Tile (20, 12) Mean Intensity: 9670.76529216\n",
      "Tile (20, 13) Mean Intensity: 10051.32651536\n",
      "Tile (20, 14) Mean Intensity: 9316.28529664\n",
      "Tile (20, 15) Mean Intensity: 8813.38908624\n",
      "Tile (20, 16) Mean Intensity: 8746.1132888\n",
      "Tile (20, 17) Mean Intensity: 8904.85328048\n",
      "Tile (20, 18) Mean Intensity: 8524.57152208\n",
      "Tile (20, 19) Mean Intensity: 8655.65971424\n",
      "Tile (20, 20) Mean Intensity: 10282.51688096\n",
      "Tile (20, 21) Mean Intensity: 10116.64245728\n",
      "Tile (20, 22) Mean Intensity: 8348.5047272\n",
      "Tile (20, 23) Mean Intensity: 8591.51386832\n",
      "Tile (20, 24) Mean Intensity: 9109.45773952\n",
      "Tile (20, 25) Mean Intensity: 6064.05431344\n",
      "Tile (20, 26) Mean Intensity: 3254.5121152\n",
      "Tile (20, 27) Mean Intensity: 4943.57581216\n",
      "Tile (20, 28) Mean Intensity: 6249.06191856\n",
      "Tile (20, 29) Mean Intensity: 6282.2116104\n",
      "Tile (20, 30) Mean Intensity: 7183.73618816\n",
      "Tile (20, 31) Mean Intensity: 7530.59559472\n",
      "Tile (20, 32) Mean Intensity: 7631.22104672\n",
      "Tile (20, 33) Mean Intensity: 7467.30764688\n",
      "Tile (20, 34) Mean Intensity: 6982.304796\n",
      "Tile (20, 35) Mean Intensity: 7229.63551776\n",
      "Tile (20, 36) Mean Intensity: 7699.50510144\n",
      "Tile (20, 37) Mean Intensity: 7853.75499504\n",
      "Tile (20, 38) Mean Intensity: 8317.00348288\n",
      "Tile (20, 39) Mean Intensity: 8452.66686736\n",
      "Tile (20, 40) Mean Intensity: 8842.01635024\n",
      "Tile (20, 41) Mean Intensity: 9256.10983472\n",
      "Tile (20, 42) Mean Intensity: 9379.28993696\n",
      "Tile (20, 43) Mean Intensity: 8276.85053152\n",
      "Tile (20, 44) Mean Intensity: 6428.35072096\n",
      "Tile (20, 45) Mean Intensity: 5885.13279472\n",
      "Tile (20, 46) Mean Intensity: 7723.86378592\n",
      "Tile (20, 47) Mean Intensity: 10437.10222048\n",
      "Tile (20, 48) Mean Intensity: 10822.8643048\n",
      "Tile (20, 49) Mean Intensity: 9421.50286912\n",
      "Tile (20, 50) Mean Intensity: 8649.63794048\n",
      "Tile (20, 51) Mean Intensity: 4747.61056016\n",
      "Tile (20, 52) Mean Intensity: 682.74387936\n",
      "Tile (20, 53) Mean Intensity: 339.2300104\n",
      "Tile (21, 0) Mean Intensity: 332.48846912\n",
      "Tile (21, 1) Mean Intensity: 332.25320016\n",
      "Tile (21, 2) Mean Intensity: 333.37493952\n",
      "Tile (21, 3) Mean Intensity: 355.94693776\n",
      "Tile (21, 4) Mean Intensity: 402.02200784\n",
      "Tile (21, 5) Mean Intensity: 1060.3096664\n",
      "Tile (21, 6) Mean Intensity: 2631.25111504\n",
      "Tile (21, 7) Mean Intensity: 4248.07470576\n",
      "Tile (21, 8) Mean Intensity: 5511.35131424\n",
      "Tile (21, 9) Mean Intensity: 7123.93314368\n",
      "Tile (21, 10) Mean Intensity: 8215.61916784\n",
      "Tile (21, 11) Mean Intensity: 9338.20833296\n",
      "Tile (21, 12) Mean Intensity: 9703.69127104\n",
      "Tile (21, 13) Mean Intensity: 9217.81653952\n",
      "Tile (21, 14) Mean Intensity: 9370.21063424\n",
      "Tile (21, 15) Mean Intensity: 9305.13061216\n",
      "Tile (21, 16) Mean Intensity: 8207.41602944\n",
      "Tile (21, 17) Mean Intensity: 8079.58025424\n",
      "Tile (21, 18) Mean Intensity: 8903.9795496\n",
      "Tile (21, 19) Mean Intensity: 9843.11657632\n",
      "Tile (21, 20) Mean Intensity: 10811.863844\n",
      "Tile (21, 21) Mean Intensity: 9998.18924\n",
      "Tile (21, 22) Mean Intensity: 8366.9370624\n",
      "Tile (21, 23) Mean Intensity: 7424.43141072\n",
      "Tile (21, 24) Mean Intensity: 8213.32929376\n",
      "Tile (21, 25) Mean Intensity: 7238.20448192\n",
      "Tile (21, 26) Mean Intensity: 5028.65294656\n",
      "Tile (21, 27) Mean Intensity: 5645.71668896\n",
      "Tile (21, 28) Mean Intensity: 6389.19543616\n",
      "Tile (21, 29) Mean Intensity: 7710.48460448\n",
      "Tile (21, 30) Mean Intensity: 9720.6668504\n",
      "Tile (21, 31) Mean Intensity: 10302.06727216\n",
      "Tile (21, 32) Mean Intensity: 8988.4545304\n",
      "Tile (21, 33) Mean Intensity: 6988.7409784\n",
      "Tile (21, 34) Mean Intensity: 6090.38049616\n",
      "Tile (21, 35) Mean Intensity: 7262.9099016\n",
      "Tile (21, 36) Mean Intensity: 8092.20848704\n",
      "Tile (21, 37) Mean Intensity: 7481.31434352\n",
      "Tile (21, 38) Mean Intensity: 7817.94163328\n",
      "Tile (21, 39) Mean Intensity: 8299.68388064\n",
      "Tile (21, 40) Mean Intensity: 8576.87682032\n",
      "Tile (21, 41) Mean Intensity: 8697.45120288\n",
      "Tile (21, 42) Mean Intensity: 9150.49120848\n",
      "Tile (21, 43) Mean Intensity: 8481.35928352\n",
      "Tile (21, 44) Mean Intensity: 6887.26539232\n",
      "Tile (21, 45) Mean Intensity: 7042.77997536\n",
      "Tile (21, 46) Mean Intensity: 8585.1838048\n",
      "Tile (21, 47) Mean Intensity: 10184.82319952\n",
      "Tile (21, 48) Mean Intensity: 10962.50134064\n",
      "Tile (21, 49) Mean Intensity: 10449.55578304\n",
      "Tile (21, 50) Mean Intensity: 9424.25505904\n",
      "Tile (21, 51) Mean Intensity: 5105.91195904\n",
      "Tile (21, 52) Mean Intensity: 1018.77436736\n",
      "Tile (21, 53) Mean Intensity: 340.1385752\n",
      "Tile (22, 0) Mean Intensity: 330.40502368\n",
      "Tile (22, 1) Mean Intensity: 330.87606848\n",
      "Tile (22, 2) Mean Intensity: 332.74843264\n",
      "Tile (22, 3) Mean Intensity: 339.55759504\n",
      "Tile (22, 4) Mean Intensity: 344.792564\n",
      "Tile (22, 5) Mean Intensity: 377.63323328\n",
      "Tile (22, 6) Mean Intensity: 458.63198368\n",
      "Tile (22, 7) Mean Intensity: 933.48957664\n",
      "Tile (22, 8) Mean Intensity: 2253.40054576\n",
      "Tile (22, 9) Mean Intensity: 4404.35444288\n",
      "Tile (22, 10) Mean Intensity: 6510.75088944\n",
      "Tile (22, 11) Mean Intensity: 7764.77963184\n",
      "Tile (22, 12) Mean Intensity: 7772.34849136\n",
      "Tile (22, 13) Mean Intensity: 7898.66590576\n",
      "Tile (22, 14) Mean Intensity: 8690.70730384\n",
      "Tile (22, 15) Mean Intensity: 9023.56974112\n",
      "Tile (22, 16) Mean Intensity: 7982.6752432\n",
      "Tile (22, 17) Mean Intensity: 8240.69015376\n",
      "Tile (22, 18) Mean Intensity: 9113.3812552\n",
      "Tile (22, 19) Mean Intensity: 9166.91539792\n",
      "Tile (22, 20) Mean Intensity: 9141.6208208\n",
      "Tile (22, 21) Mean Intensity: 8095.25232352\n",
      "Tile (22, 22) Mean Intensity: 6888.35707776\n",
      "Tile (22, 23) Mean Intensity: 6207.93715696\n",
      "Tile (22, 24) Mean Intensity: 6740.67640272\n",
      "Tile (22, 25) Mean Intensity: 7009.96669376\n",
      "Tile (22, 26) Mean Intensity: 6576.1349016\n",
      "Tile (22, 27) Mean Intensity: 7563.51975296\n",
      "Tile (22, 28) Mean Intensity: 8283.95689408\n",
      "Tile (22, 29) Mean Intensity: 8705.3374448\n",
      "Tile (22, 30) Mean Intensity: 9566.98778144\n",
      "Tile (22, 31) Mean Intensity: 10070.01439616\n",
      "Tile (22, 32) Mean Intensity: 8621.54638416\n",
      "Tile (22, 33) Mean Intensity: 7495.47521792\n",
      "Tile (22, 34) Mean Intensity: 7677.60545664\n",
      "Tile (22, 35) Mean Intensity: 8327.15725888\n",
      "Tile (22, 36) Mean Intensity: 8419.25871968\n",
      "Tile (22, 37) Mean Intensity: 7361.6581856\n",
      "Tile (22, 38) Mean Intensity: 7805.74957584\n",
      "Tile (22, 39) Mean Intensity: 8307.35264336\n",
      "Tile (22, 40) Mean Intensity: 8577.35065104\n",
      "Tile (22, 41) Mean Intensity: 9033.37067568\n",
      "Tile (22, 42) Mean Intensity: 9092.09942528\n",
      "Tile (22, 43) Mean Intensity: 8699.64646944\n",
      "Tile (22, 44) Mean Intensity: 8293.42894736\n",
      "Tile (22, 45) Mean Intensity: 8953.2238232\n",
      "Tile (22, 46) Mean Intensity: 9008.31501168\n",
      "Tile (22, 47) Mean Intensity: 9127.92909456\n",
      "Tile (22, 48) Mean Intensity: 9815.61462528\n",
      "Tile (22, 49) Mean Intensity: 9340.64259744\n",
      "Tile (22, 50) Mean Intensity: 8019.70701168\n",
      "Tile (22, 51) Mean Intensity: 4196.43501952\n",
      "Tile (22, 52) Mean Intensity: 898.07119568\n",
      "Tile (22, 53) Mean Intensity: 341.02283104\n",
      "Tile (23, 0) Mean Intensity: 328.5077224\n",
      "Tile (23, 1) Mean Intensity: 329.17526688\n",
      "Tile (23, 2) Mean Intensity: 331.45275456\n",
      "Tile (23, 3) Mean Intensity: 336.04789104\n",
      "Tile (23, 4) Mean Intensity: 336.62896432\n",
      "Tile (23, 5) Mean Intensity: 333.75131056\n",
      "Tile (23, 6) Mean Intensity: 333.12963504\n",
      "Tile (23, 7) Mean Intensity: 355.41451888\n",
      "Tile (23, 8) Mean Intensity: 743.23875792\n",
      "Tile (23, 9) Mean Intensity: 1792.70086592\n",
      "Tile (23, 10) Mean Intensity: 3562.36897744\n",
      "Tile (23, 11) Mean Intensity: 4626.06696128\n",
      "Tile (23, 12) Mean Intensity: 5053.17057136\n",
      "Tile (23, 13) Mean Intensity: 6398.20687952\n",
      "Tile (23, 14) Mean Intensity: 7440.57601984\n",
      "Tile (23, 15) Mean Intensity: 7870.60545248\n",
      "Tile (23, 16) Mean Intensity: 7766.84881216\n",
      "Tile (23, 17) Mean Intensity: 8112.94763232\n",
      "Tile (23, 18) Mean Intensity: 8594.625404\n",
      "Tile (23, 19) Mean Intensity: 8662.9598408\n",
      "Tile (23, 20) Mean Intensity: 7910.79894976\n",
      "Tile (23, 21) Mean Intensity: 6925.47259632\n",
      "Tile (23, 22) Mean Intensity: 6143.94471488\n",
      "Tile (23, 23) Mean Intensity: 5386.77680512\n",
      "Tile (23, 24) Mean Intensity: 5662.23579216\n",
      "Tile (23, 25) Mean Intensity: 7227.60553888\n",
      "Tile (23, 26) Mean Intensity: 8585.0089472\n",
      "Tile (23, 27) Mean Intensity: 9412.07286192\n",
      "Tile (23, 28) Mean Intensity: 9565.69051728\n",
      "Tile (23, 29) Mean Intensity: 8365.9540336\n",
      "Tile (23, 30) Mean Intensity: 7859.27786288\n",
      "Tile (23, 31) Mean Intensity: 7931.1485264\n",
      "Tile (23, 32) Mean Intensity: 8095.80678416\n",
      "Tile (23, 33) Mean Intensity: 8759.38261088\n",
      "Tile (23, 34) Mean Intensity: 9198.4769608\n",
      "Tile (23, 35) Mean Intensity: 8942.77742048\n",
      "Tile (23, 36) Mean Intensity: 8249.36147056\n",
      "Tile (23, 37) Mean Intensity: 7833.90162736\n",
      "Tile (23, 38) Mean Intensity: 8227.6774992\n",
      "Tile (23, 39) Mean Intensity: 8516.22802848\n",
      "Tile (23, 40) Mean Intensity: 8709.28042352\n",
      "Tile (23, 41) Mean Intensity: 8923.31549632\n",
      "Tile (23, 42) Mean Intensity: 8568.47644592\n",
      "Tile (23, 43) Mean Intensity: 8484.97524352\n",
      "Tile (23, 44) Mean Intensity: 9077.187768\n",
      "Tile (23, 45) Mean Intensity: 9524.99108192\n",
      "Tile (23, 46) Mean Intensity: 9052.35164192\n",
      "Tile (23, 47) Mean Intensity: 9089.75313968\n",
      "Tile (23, 48) Mean Intensity: 8795.54422592\n",
      "Tile (23, 49) Mean Intensity: 7238.6439416\n",
      "Tile (23, 50) Mean Intensity: 5577.63723024\n",
      "Tile (23, 51) Mean Intensity: 2746.40360736\n",
      "Tile (23, 52) Mean Intensity: 503.15089328\n",
      "Tile (23, 53) Mean Intensity: 337.09697248\n",
      "Tile (24, 0) Mean Intensity: 326.90281904\n",
      "Tile (24, 1) Mean Intensity: 327.16184592\n",
      "Tile (24, 2) Mean Intensity: 328.97605104\n",
      "Tile (24, 3) Mean Intensity: 333.56787424\n",
      "Tile (24, 4) Mean Intensity: 335.29195504\n",
      "Tile (24, 5) Mean Intensity: 332.55313744\n",
      "Tile (24, 6) Mean Intensity: 331.05760528\n",
      "Tile (24, 7) Mean Intensity: 339.89102224\n",
      "Tile (24, 8) Mean Intensity: 356.28315216\n",
      "Tile (24, 9) Mean Intensity: 442.34692528\n",
      "Tile (24, 10) Mean Intensity: 946.28622704\n",
      "Tile (24, 11) Mean Intensity: 1607.91936176\n",
      "Tile (24, 12) Mean Intensity: 2491.4196024\n",
      "Tile (24, 13) Mean Intensity: 4242.35681808\n",
      "Tile (24, 14) Mean Intensity: 5460.82506528\n",
      "Tile (24, 15) Mean Intensity: 6044.388988\n",
      "Tile (24, 16) Mean Intensity: 6571.82922\n",
      "Tile (24, 17) Mean Intensity: 6675.2077808\n",
      "Tile (24, 18) Mean Intensity: 6925.54616544\n",
      "Tile (24, 19) Mean Intensity: 7695.91533248\n",
      "Tile (24, 20) Mean Intensity: 7662.907264\n",
      "Tile (24, 21) Mean Intensity: 6856.77280224\n",
      "Tile (24, 22) Mean Intensity: 6427.5408584\n",
      "Tile (24, 23) Mean Intensity: 6173.7402024\n",
      "Tile (24, 24) Mean Intensity: 6443.709116\n",
      "Tile (24, 25) Mean Intensity: 8028.97181568\n",
      "Tile (24, 26) Mean Intensity: 9469.37071232\n",
      "Tile (24, 27) Mean Intensity: 9037.94695248\n",
      "Tile (24, 28) Mean Intensity: 7770.67211536\n",
      "Tile (24, 29) Mean Intensity: 7058.42320208\n",
      "Tile (24, 30) Mean Intensity: 7118.20353728\n",
      "Tile (24, 31) Mean Intensity: 6800.3020768\n",
      "Tile (24, 32) Mean Intensity: 7274.46499552\n",
      "Tile (24, 33) Mean Intensity: 8719.49639632\n",
      "Tile (24, 34) Mean Intensity: 9099.494512\n",
      "Tile (24, 35) Mean Intensity: 8998.43944272\n",
      "Tile (24, 36) Mean Intensity: 8386.52519216\n",
      "Tile (24, 37) Mean Intensity: 7994.43205024\n",
      "Tile (24, 38) Mean Intensity: 8378.40959776\n",
      "Tile (24, 39) Mean Intensity: 8490.86931824\n",
      "Tile (24, 40) Mean Intensity: 8830.9635968\n",
      "Tile (24, 41) Mean Intensity: 8764.6238344\n",
      "Tile (24, 42) Mean Intensity: 8790.6431992\n",
      "Tile (24, 43) Mean Intensity: 8838.1432552\n",
      "Tile (24, 44) Mean Intensity: 8022.32958128\n",
      "Tile (24, 45) Mean Intensity: 7324.83957968\n",
      "Tile (24, 46) Mean Intensity: 7101.25519008\n",
      "Tile (24, 47) Mean Intensity: 7742.8042632\n",
      "Tile (24, 48) Mean Intensity: 7715.72415168\n",
      "Tile (24, 49) Mean Intensity: 5482.98949344\n",
      "Tile (24, 50) Mean Intensity: 2821.81206928\n",
      "Tile (24, 51) Mean Intensity: 1097.19227184\n",
      "Tile (24, 52) Mean Intensity: 380.68816624\n",
      "Tile (24, 53) Mean Intensity: 352.84017552\n",
      "Tile (25, 0) Mean Intensity: 326.69402816\n",
      "Tile (25, 1) Mean Intensity: 325.89166592\n",
      "Tile (25, 2) Mean Intensity: 327.40196704\n",
      "Tile (25, 3) Mean Intensity: 330.38727424\n",
      "Tile (25, 4) Mean Intensity: 333.08269744\n",
      "Tile (25, 5) Mean Intensity: 332.88052944\n",
      "Tile (25, 6) Mean Intensity: 331.83158784\n",
      "Tile (25, 7) Mean Intensity: 331.32705584\n",
      "Tile (25, 8) Mean Intensity: 336.0747096\n",
      "Tile (25, 9) Mean Intensity: 350.34214688\n",
      "Tile (25, 10) Mean Intensity: 369.62145616\n",
      "Tile (25, 11) Mean Intensity: 589.31310096\n",
      "Tile (25, 12) Mean Intensity: 1028.60391632\n",
      "Tile (25, 13) Mean Intensity: 1988.76862096\n",
      "Tile (25, 14) Mean Intensity: 2642.66968048\n",
      "Tile (25, 15) Mean Intensity: 2782.37805696\n",
      "Tile (25, 16) Mean Intensity: 3292.30092992\n",
      "Tile (25, 17) Mean Intensity: 4119.29226464\n",
      "Tile (25, 18) Mean Intensity: 4877.96864\n",
      "Tile (25, 19) Mean Intensity: 6227.00039168\n",
      "Tile (25, 20) Mean Intensity: 7246.62477616\n",
      "Tile (25, 21) Mean Intensity: 7322.71977392\n",
      "Tile (25, 22) Mean Intensity: 7611.83596352\n",
      "Tile (25, 23) Mean Intensity: 7386.81001728\n",
      "Tile (25, 24) Mean Intensity: 7315.57156064\n",
      "Tile (25, 25) Mean Intensity: 7315.90227824\n",
      "Tile (25, 26) Mean Intensity: 6855.30062368\n",
      "Tile (25, 27) Mean Intensity: 6616.48131136\n",
      "Tile (25, 28) Mean Intensity: 6052.0965024\n",
      "Tile (25, 29) Mean Intensity: 6153.60592656\n",
      "Tile (25, 30) Mean Intensity: 6489.6313744\n",
      "Tile (25, 31) Mean Intensity: 5619.28961792\n",
      "Tile (25, 32) Mean Intensity: 5330.56214992\n",
      "Tile (25, 33) Mean Intensity: 6817.3019944\n",
      "Tile (25, 34) Mean Intensity: 8066.97603968\n",
      "Tile (25, 35) Mean Intensity: 8765.74725664\n",
      "Tile (25, 36) Mean Intensity: 8743.93041152\n",
      "Tile (25, 37) Mean Intensity: 8060.90559248\n",
      "Tile (25, 38) Mean Intensity: 8168.504596\n",
      "Tile (25, 39) Mean Intensity: 9113.61829968\n",
      "Tile (25, 40) Mean Intensity: 9281.43388688\n",
      "Tile (25, 41) Mean Intensity: 8723.4465816\n",
      "Tile (25, 42) Mean Intensity: 9250.17956176\n",
      "Tile (25, 43) Mean Intensity: 9607.1552288\n",
      "Tile (25, 44) Mean Intensity: 7612.70399024\n",
      "Tile (25, 45) Mean Intensity: 5537.05866848\n",
      "Tile (25, 46) Mean Intensity: 5442.57906144\n",
      "Tile (25, 47) Mean Intensity: 5971.67630496\n",
      "Tile (25, 48) Mean Intensity: 5279.82476576\n",
      "Tile (25, 49) Mean Intensity: 2850.5904176\n",
      "Tile (25, 50) Mean Intensity: 891.23912912\n",
      "Tile (25, 51) Mean Intensity: 356.94732864\n",
      "Tile (25, 52) Mean Intensity: 345.63885584\n",
      "Tile (25, 53) Mean Intensity: 352.9752864\n",
      "Tile (26, 0) Mean Intensity: 328.2532392\n",
      "Tile (26, 1) Mean Intensity: 326.72335856\n",
      "Tile (26, 2) Mean Intensity: 327.7467776\n",
      "Tile (26, 3) Mean Intensity: 329.95965568\n",
      "Tile (26, 4) Mean Intensity: 332.87902976\n",
      "Tile (26, 5) Mean Intensity: 333.31681072\n",
      "Tile (26, 6) Mean Intensity: 332.7937168\n",
      "Tile (26, 7) Mean Intensity: 331.84340544\n",
      "Tile (26, 8) Mean Intensity: 333.11120384\n",
      "Tile (26, 9) Mean Intensity: 340.322928\n",
      "Tile (26, 10) Mean Intensity: 345.82895568\n",
      "Tile (26, 11) Mean Intensity: 355.9551264\n",
      "Tile (26, 12) Mean Intensity: 369.6155272\n",
      "Tile (26, 13) Mean Intensity: 384.2690408\n",
      "Tile (26, 14) Mean Intensity: 399.28883232\n",
      "Tile (26, 15) Mean Intensity: 520.21836048\n",
      "Tile (26, 16) Mean Intensity: 856.52463536\n",
      "Tile (26, 17) Mean Intensity: 1420.22633232\n",
      "Tile (26, 18) Mean Intensity: 2151.34003616\n",
      "Tile (26, 19) Mean Intensity: 3268.06472048\n",
      "Tile (26, 20) Mean Intensity: 4088.21418768\n",
      "Tile (26, 21) Mean Intensity: 4899.63722144\n",
      "Tile (26, 22) Mean Intensity: 5926.13986784\n",
      "Tile (26, 23) Mean Intensity: 5896.22247856\n",
      "Tile (26, 24) Mean Intensity: 5896.8032544\n",
      "Tile (26, 25) Mean Intensity: 5934.49020688\n",
      "Tile (26, 26) Mean Intensity: 5794.13796528\n",
      "Tile (26, 27) Mean Intensity: 6612.5798912\n",
      "Tile (26, 28) Mean Intensity: 6609.69649824\n",
      "Tile (26, 29) Mean Intensity: 5597.12496896\n",
      "Tile (26, 30) Mean Intensity: 4175.38916656\n",
      "Tile (26, 31) Mean Intensity: 3035.75759616\n",
      "Tile (26, 32) Mean Intensity: 3715.5179176\n",
      "Tile (26, 33) Mean Intensity: 5659.37139616\n",
      "Tile (26, 34) Mean Intensity: 7491.779312\n",
      "Tile (26, 35) Mean Intensity: 8670.8032376\n",
      "Tile (26, 36) Mean Intensity: 8225.86217152\n",
      "Tile (26, 37) Mean Intensity: 8128.60344256\n",
      "Tile (26, 38) Mean Intensity: 8566.76255488\n",
      "Tile (26, 39) Mean Intensity: 9480.59751504\n",
      "Tile (26, 40) Mean Intensity: 9541.89565984\n",
      "Tile (26, 41) Mean Intensity: 8004.264124\n",
      "Tile (26, 42) Mean Intensity: 7380.1876016\n",
      "Tile (26, 43) Mean Intensity: 7802.69908352\n",
      "Tile (26, 44) Mean Intensity: 7058.20048432\n",
      "Tile (26, 45) Mean Intensity: 5584.850132\n",
      "Tile (26, 46) Mean Intensity: 5262.85275216\n",
      "Tile (26, 47) Mean Intensity: 4217.18229152\n",
      "Tile (26, 48) Mean Intensity: 2145.37827296\n",
      "Tile (26, 49) Mean Intensity: 882.87326864\n",
      "Tile (26, 50) Mean Intensity: 379.24545824\n",
      "Tile (26, 51) Mean Intensity: 340.11829152\n",
      "Tile (26, 52) Mean Intensity: 338.86988928\n",
      "Tile (26, 53) Mean Intensity: 340.18411744\n",
      "Tile (27, 0) Mean Intensity: 328.96955104\n",
      "Tile (27, 1) Mean Intensity: 327.9697328\n",
      "Tile (27, 2) Mean Intensity: 327.34610944\n",
      "Tile (27, 3) Mean Intensity: 328.58351984\n",
      "Tile (27, 4) Mean Intensity: 331.14464112\n",
      "Tile (27, 5) Mean Intensity: 332.3029584\n",
      "Tile (27, 6) Mean Intensity: 332.3660856\n",
      "Tile (27, 7) Mean Intensity: 331.09129568\n",
      "Tile (27, 8) Mean Intensity: 330.5011656\n",
      "Tile (27, 9) Mean Intensity: 334.32207008\n",
      "Tile (27, 10) Mean Intensity: 339.08485536\n",
      "Tile (27, 11) Mean Intensity: 341.11171728\n",
      "Tile (27, 12) Mean Intensity: 341.8420704\n",
      "Tile (27, 13) Mean Intensity: 340.54054512\n",
      "Tile (27, 14) Mean Intensity: 338.52432416\n",
      "Tile (27, 15) Mean Intensity: 343.8547624\n",
      "Tile (27, 16) Mean Intensity: 351.98838864\n",
      "Tile (27, 17) Mean Intensity: 370.7967184\n",
      "Tile (27, 18) Mean Intensity: 402.0126624\n",
      "Tile (27, 19) Mean Intensity: 490.08646864\n",
      "Tile (27, 20) Mean Intensity: 760.2242056\n",
      "Tile (27, 21) Mean Intensity: 1301.77143184\n",
      "Tile (27, 22) Mean Intensity: 1868.77904224\n",
      "Tile (27, 23) Mean Intensity: 2364.24558912\n",
      "Tile (27, 24) Mean Intensity: 2763.49214096\n",
      "Tile (27, 25) Mean Intensity: 3294.41507664\n",
      "Tile (27, 26) Mean Intensity: 4312.18067552\n",
      "Tile (27, 27) Mean Intensity: 5043.69625904\n",
      "Tile (27, 28) Mean Intensity: 4439.618556\n",
      "Tile (27, 29) Mean Intensity: 2968.38896576\n",
      "Tile (27, 30) Mean Intensity: 1322.28783552\n",
      "Tile (27, 31) Mean Intensity: 691.0688328\n",
      "Tile (27, 32) Mean Intensity: 1728.35079712\n",
      "Tile (27, 33) Mean Intensity: 3556.54948\n",
      "Tile (27, 34) Mean Intensity: 5492.583924\n",
      "Tile (27, 35) Mean Intensity: 6269.84184304\n",
      "Tile (27, 36) Mean Intensity: 5634.32859168\n",
      "Tile (27, 37) Mean Intensity: 6368.15187168\n",
      "Tile (27, 38) Mean Intensity: 7912.85700576\n",
      "Tile (27, 39) Mean Intensity: 8524.30010352\n",
      "Tile (27, 40) Mean Intensity: 7641.8545456\n",
      "Tile (27, 41) Mean Intensity: 5717.05330448\n",
      "Tile (27, 42) Mean Intensity: 4797.4416704\n",
      "Tile (27, 43) Mean Intensity: 4738.5457816\n",
      "Tile (27, 44) Mean Intensity: 4970.2262792\n",
      "Tile (27, 45) Mean Intensity: 5193.85916096\n",
      "Tile (27, 46) Mean Intensity: 3954.93987056\n",
      "Tile (27, 47) Mean Intensity: 1829.56928656\n",
      "Tile (27, 48) Mean Intensity: 555.73096048\n",
      "Tile (27, 49) Mean Intensity: 347.58390032\n",
      "Tile (27, 50) Mean Intensity: 337.28373296\n",
      "Tile (27, 51) Mean Intensity: 331.6913624\n",
      "Tile (27, 52) Mean Intensity: 336.06542\n",
      "Tile (27, 53) Mean Intensity: 342.04186848\n",
      "Tile (28, 0) Mean Intensity: 326.75107712\n",
      "Tile (28, 1) Mean Intensity: 326.16502064\n",
      "Tile (28, 2) Mean Intensity: 325.3253216\n",
      "Tile (28, 3) Mean Intensity: 326.41236816\n",
      "Tile (28, 4) Mean Intensity: 328.30689312\n",
      "Tile (28, 5) Mean Intensity: 329.94399168\n",
      "Tile (28, 6) Mean Intensity: 332.85713616\n",
      "Tile (28, 7) Mean Intensity: 332.11273552\n",
      "Tile (28, 8) Mean Intensity: 329.28142896\n",
      "Tile (28, 9) Mean Intensity: 332.95077936\n",
      "Tile (28, 10) Mean Intensity: 340.00401968\n",
      "Tile (28, 11) Mean Intensity: 341.80942432\n",
      "Tile (28, 12) Mean Intensity: 339.5667368\n",
      "Tile (28, 13) Mean Intensity: 337.717592\n",
      "Tile (28, 14) Mean Intensity: 336.79708864\n",
      "Tile (28, 15) Mean Intensity: 337.66111776\n",
      "Tile (28, 16) Mean Intensity: 339.56626816\n",
      "Tile (28, 17) Mean Intensity: 343.52021328\n",
      "Tile (28, 18) Mean Intensity: 348.3580992\n",
      "Tile (28, 19) Mean Intensity: 358.49141856\n",
      "Tile (28, 20) Mean Intensity: 370.0080904\n",
      "Tile (28, 21) Mean Intensity: 383.23594256\n",
      "Tile (28, 22) Mean Intensity: 397.1362976\n",
      "Tile (28, 23) Mean Intensity: 402.61236832\n",
      "Tile (28, 24) Mean Intensity: 407.02896432\n",
      "Tile (28, 25) Mean Intensity: 621.18609344\n",
      "Tile (28, 26) Mean Intensity: 1338.33479024\n",
      "Tile (28, 27) Mean Intensity: 1670.89602384\n",
      "Tile (28, 28) Mean Intensity: 1136.69227104\n",
      "Tile (28, 29) Mean Intensity: 601.64817872\n",
      "Tile (28, 30) Mean Intensity: 384.69836656\n",
      "Tile (28, 31) Mean Intensity: 370.01462768\n",
      "Tile (28, 32) Mean Intensity: 430.97714048\n",
      "Tile (28, 33) Mean Intensity: 968.57774448\n",
      "Tile (28, 34) Mean Intensity: 1983.82995088\n",
      "Tile (28, 35) Mean Intensity: 2570.8356152\n",
      "Tile (28, 36) Mean Intensity: 2464.1914144\n",
      "Tile (28, 37) Mean Intensity: 2672.24502528\n",
      "Tile (28, 38) Mean Intensity: 3970.68767072\n",
      "Tile (28, 39) Mean Intensity: 4758.23716336\n",
      "Tile (28, 40) Mean Intensity: 3655.13539888\n",
      "Tile (28, 41) Mean Intensity: 2340.76785184\n",
      "Tile (28, 42) Mean Intensity: 2250.49739776\n",
      "Tile (28, 43) Mean Intensity: 2172.1274528\n",
      "Tile (28, 44) Mean Intensity: 2511.15675456\n",
      "Tile (28, 45) Mean Intensity: 3374.51564816\n",
      "Tile (28, 46) Mean Intensity: 2105.53474864\n",
      "Tile (28, 47) Mean Intensity: 470.04872304\n",
      "Tile (28, 48) Mean Intensity: 357.32028992\n",
      "Tile (28, 49) Mean Intensity: 331.1570688\n",
      "Tile (28, 50) Mean Intensity: 330.47548704\n",
      "Tile (28, 51) Mean Intensity: 332.23764048\n",
      "Tile (28, 52) Mean Intensity: 337.61594352\n",
      "Tile (28, 53) Mean Intensity: 342.822544\n"
     ]
    },
    {
     "data": {
      "image/png": "[encoded data removed]",
      "text/plain": [
       "<Figure size 800x400 with 1 Axes>"
      ]
     },
     "metadata": {},
     "output_type": "display_data"
    },
    {
     "name": "stderr",
     "output_type": "stream",
     "text": [
      "INFO:root:Converting image dtype to float\n"
     ]
    },
    {
     "name": "stdout",
     "output_type": "stream",
     "text": [
      "Tile (0, 32) Processing Time: 8.49 seconds\n"
     ]
    },
    {
     "name": "stderr",
     "output_type": "stream",
     "text": [
      "INFO:root:Converting image dtype to float\n"
     ]
    },
    {
     "name": "stdout",
     "output_type": "stream",
     "text": [
      "Tile (0, 33) Processing Time: 7.42 seconds\n"
     ]
    },
    {
     "name": "stderr",
     "output_type": "stream",
     "text": [
      "INFO:root:Converting image dtype to float\n"
     ]
    },
    {
     "name": "stdout",
     "output_type": "stream",
     "text": [
      "Tile (0, 34) Processing Time: 7.58 seconds\n"
     ]
    },
    {
     "name": "stderr",
     "output_type": "stream",
     "text": [
      "INFO:root:Converting image dtype to float\n"
     ]
    },
    {
     "name": "stdout",
     "output_type": "stream",
     "text": [
      "Tile (0, 35) Processing Time: 7.65 seconds\n"
     ]
    },
    {
     "name": "stderr",
     "output_type": "stream",
     "text": [
      "INFO:root:Converting image dtype to float\n"
     ]
    },
    {
     "name": "stdout",
     "output_type": "stream",
     "text": [
      "Tile (0, 36) Processing Time: 7.41 seconds\n"
     ]
    },
    {
     "name": "stderr",
     "output_type": "stream",
     "text": [
      "INFO:root:Converting image dtype to float\n"
     ]
    },
    {
     "name": "stdout",
     "output_type": "stream",
     "text": [
      "Tile (0, 37) Processing Time: 7.45 seconds\n"
     ]
    },
    {
     "name": "stderr",
     "output_type": "stream",
     "text": [
      "INFO:root:Converting image dtype to float\n"
     ]
    },
    {
     "name": "stdout",
     "output_type": "stream",
     "text": [
      "Tile (0, 38) Processing Time: 7.57 seconds\n"
     ]
    },
    {
     "name": "stderr",
     "output_type": "stream",
     "text": [
      "INFO:root:Converting image dtype to float\n"
     ]
    },
    {
     "name": "stdout",
     "output_type": "stream",
     "text": [
      "Tile (1, 30) Processing Time: 7.44 seconds\n"
     ]
    },
    {
     "name": "stderr",
     "output_type": "stream",
     "text": [
      "INFO:root:Converting image dtype to float\n"
     ]
    },
    {
     "name": "stdout",
     "output_type": "stream",
     "text": [
      "Tile (1, 31) Processing Time: 7.57 seconds\n"
     ]
    },
    {
     "name": "stderr",
     "output_type": "stream",
     "text": [
      "INFO:root:Converting image dtype to float\n"
     ]
    },
    {
     "name": "stdout",
     "output_type": "stream",
     "text": [
      "Tile (1, 32) Processing Time: 7.62 seconds\n"
     ]
    },
    {
     "name": "stderr",
     "output_type": "stream",
     "text": [
      "INFO:root:Converting image dtype to float\n"
     ]
    },
    {
     "name": "stdout",
     "output_type": "stream",
     "text": [
      "Tile (1, 33) Processing Time: 7.85 seconds\n"
     ]
    },
    {
     "name": "stderr",
     "output_type": "stream",
     "text": [
      "INFO:root:Converting image dtype to float\n"
     ]
    },
    {
     "name": "stdout",
     "output_type": "stream",
     "text": [
      "Tile (1, 34) Processing Time: 8.40 seconds\n"
     ]
    },
    {
     "name": "stderr",
     "output_type": "stream",
     "text": [
      "INFO:root:Converting image dtype to float\n"
     ]
    },
    {
     "name": "stdout",
     "output_type": "stream",
     "text": [
      "Tile (1, 35) Processing Time: 8.18 seconds\n"
     ]
    },
    {
     "name": "stderr",
     "output_type": "stream",
     "text": [
      "INFO:root:Converting image dtype to float\n"
     ]
    },
    {
     "name": "stdout",
     "output_type": "stream",
     "text": [
      "Tile (1, 36) Processing Time: 8.00 seconds\n"
     ]
    },
    {
     "name": "stderr",
     "output_type": "stream",
     "text": [
      "INFO:root:Converting image dtype to float\n"
     ]
    },
    {
     "name": "stdout",
     "output_type": "stream",
     "text": [
      "Tile (1, 37) Processing Time: 7.75 seconds\n"
     ]
    },
    {
     "name": "stderr",
     "output_type": "stream",
     "text": [
      "INFO:root:Converting image dtype to float\n"
     ]
    },
    {
     "name": "stdout",
     "output_type": "stream",
     "text": [
      "Tile (1, 38) Processing Time: 7.71 seconds\n"
     ]
    },
    {
     "name": "stderr",
     "output_type": "stream",
     "text": [
      "INFO:root:Converting image dtype to float\n"
     ]
    },
    {
     "name": "stdout",
     "output_type": "stream",
     "text": [
      "Tile (2, 29) Processing Time: 7.54 seconds\n"
     ]
    },
    {
     "name": "stderr",
     "output_type": "stream",
     "text": [
      "INFO:root:Converting image dtype to float\n"
     ]
    },
    {
     "name": "stdout",
     "output_type": "stream",
     "text": [
      "Tile (2, 30) Processing Time: 7.56 seconds\n"
     ]
    },
    {
     "name": "stderr",
     "output_type": "stream",
     "text": [
      "INFO:root:Converting image dtype to float\n"
     ]
    },
    {
     "name": "stdout",
     "output_type": "stream",
     "text": [
      "Tile (2, 31) Processing Time: 7.82 seconds\n"
     ]
    },
    {
     "name": "stderr",
     "output_type": "stream",
     "text": [
      "INFO:root:Converting image dtype to float\n"
     ]
    },
    {
     "name": "stdout",
     "output_type": "stream",
     "text": [
      "Tile (2, 32) Processing Time: 7.97 seconds\n"
     ]
    },
    {
     "name": "stderr",
     "output_type": "stream",
     "text": [
      "INFO:root:Converting image dtype to float\n"
     ]
    },
    {
     "name": "stdout",
     "output_type": "stream",
     "text": [
      "Tile (2, 33) Processing Time: 8.64 seconds\n"
     ]
    },
    {
     "name": "stderr",
     "output_type": "stream",
     "text": [
      "INFO:root:Converting image dtype to float\n"
     ]
    },
    {
     "name": "stdout",
     "output_type": "stream",
     "text": [
      "Tile (2, 34) Processing Time: 8.40 seconds\n"
     ]
    },
    {
     "name": "stderr",
     "output_type": "stream",
     "text": [
      "INFO:root:Converting image dtype to float\n"
     ]
    },
    {
     "name": "stdout",
     "output_type": "stream",
     "text": [
      "Tile (2, 35) Processing Time: 8.62 seconds\n"
     ]
    },
    {
     "name": "stderr",
     "output_type": "stream",
     "text": [
      "INFO:root:Converting image dtype to float\n"
     ]
    },
    {
     "name": "stdout",
     "output_type": "stream",
     "text": [
      "Tile (2, 36) Processing Time: 8.67 seconds\n"
     ]
    },
    {
     "name": "stderr",
     "output_type": "stream",
     "text": [
      "INFO:root:Converting image dtype to float\n"
     ]
    },
    {
     "name": "stdout",
     "output_type": "stream",
     "text": [
      "Tile (2, 37) Processing Time: 8.14 seconds\n"
     ]
    },
    {
     "name": "stderr",
     "output_type": "stream",
     "text": [
      "INFO:root:Converting image dtype to float\n"
     ]
    },
    {
     "name": "stdout",
     "output_type": "stream",
     "text": [
      "Tile (2, 38) Processing Time: 7.64 seconds\n"
     ]
    },
    {
     "name": "stderr",
     "output_type": "stream",
     "text": [
      "INFO:root:Converting image dtype to float\n"
     ]
    },
    {
     "name": "stdout",
     "output_type": "stream",
     "text": [
      "Tile (2, 39) Processing Time: 7.50 seconds\n"
     ]
    },
    {
     "name": "stderr",
     "output_type": "stream",
     "text": [
      "INFO:root:Converting image dtype to float\n"
     ]
    },
    {
     "name": "stdout",
     "output_type": "stream",
     "text": [
      "Tile (2, 40) Processing Time: 7.56 seconds\n"
     ]
    },
    {
     "name": "stderr",
     "output_type": "stream",
     "text": [
      "INFO:root:Converting image dtype to float\n"
     ]
    },
    {
     "name": "stdout",
     "output_type": "stream",
     "text": [
      "Tile (2, 41) Processing Time: 7.69 seconds\n"
     ]
    },
    {
     "name": "stderr",
     "output_type": "stream",
     "text": [
      "INFO:root:Converting image dtype to float\n"
     ]
    },
    {
     "name": "stdout",
     "output_type": "stream",
     "text": [
      "Tile (2, 42) Processing Time: 7.59 seconds\n"
     ]
    },
    {
     "name": "stderr",
     "output_type": "stream",
     "text": [
      "INFO:root:Converting image dtype to float\n"
     ]
    },
    {
     "name": "stdout",
     "output_type": "stream",
     "text": [
      "Tile (2, 43) Processing Time: 7.63 seconds\n"
     ]
    },
    {
     "name": "stderr",
     "output_type": "stream",
     "text": [
      "INFO:root:Converting image dtype to float\n"
     ]
    },
    {
     "name": "stdout",
     "output_type": "stream",
     "text": [
      "Tile (2, 44) Processing Time: 7.67 seconds\n"
     ]
    },
    {
     "name": "stderr",
     "output_type": "stream",
     "text": [
      "INFO:root:Converting image dtype to float\n"
     ]
    },
    {
     "name": "stdout",
     "output_type": "stream",
     "text": [
      "Tile (2, 45) Processing Time: 7.71 seconds\n"
     ]
    },
    {
     "name": "stderr",
     "output_type": "stream",
     "text": [
      "INFO:root:Converting image dtype to float\n"
     ]
    },
    {
     "name": "stdout",
     "output_type": "stream",
     "text": [
      "Tile (2, 46) Processing Time: 7.49 seconds\n"
     ]
    },
    {
     "name": "stderr",
     "output_type": "stream",
     "text": [
      "INFO:root:Converting image dtype to float\n"
     ]
    },
    {
     "name": "stdout",
     "output_type": "stream",
     "text": [
      "Tile (3, 28) Processing Time: 7.46 seconds\n"
     ]
    },
    {
     "name": "stderr",
     "output_type": "stream",
     "text": [
      "INFO:root:Converting image dtype to float\n"
     ]
    },
    {
     "name": "stdout",
     "output_type": "stream",
     "text": [
      "Tile (3, 29) Processing Time: 7.43 seconds\n"
     ]
    },
    {
     "name": "stderr",
     "output_type": "stream",
     "text": [
      "INFO:root:Converting image dtype to float\n"
     ]
    },
    {
     "name": "stdout",
     "output_type": "stream",
     "text": [
      "Tile (3, 30) Processing Time: 7.88 seconds\n"
     ]
    },
    {
     "name": "stderr",
     "output_type": "stream",
     "text": [
      "INFO:root:Converting image dtype to float\n"
     ]
    },
    {
     "name": "stdout",
     "output_type": "stream",
     "text": [
      "Tile (3, 31) Processing Time: 8.01 seconds\n"
     ]
    },
    {
     "name": "stderr",
     "output_type": "stream",
     "text": [
      "INFO:root:Converting image dtype to float\n"
     ]
    },
    {
     "name": "stdout",
     "output_type": "stream",
     "text": [
      "Tile (3, 32) Processing Time: 8.18 seconds\n"
     ]
    },
    {
     "name": "stderr",
     "output_type": "stream",
     "text": [
      "INFO:root:Converting image dtype to float\n"
     ]
    },
    {
     "name": "stdout",
     "output_type": "stream",
     "text": [
      "Tile (3, 33) Processing Time: 8.57 seconds\n"
     ]
    },
    {
     "name": "stderr",
     "output_type": "stream",
     "text": [
      "INFO:root:Converting image dtype to float\n"
     ]
    },
    {
     "name": "stdout",
     "output_type": "stream",
     "text": [
      "Tile (3, 34) Processing Time: 8.58 seconds\n"
     ]
    },
    {
     "name": "stderr",
     "output_type": "stream",
     "text": [
      "INFO:root:Converting image dtype to float\n"
     ]
    },
    {
     "name": "stdout",
     "output_type": "stream",
     "text": [
      "Tile (3, 35) Processing Time: 8.64 seconds\n"
     ]
    },
    {
     "name": "stderr",
     "output_type": "stream",
     "text": [
      "INFO:root:Converting image dtype to float\n"
     ]
    },
    {
     "name": "stdout",
     "output_type": "stream",
     "text": [
      "Tile (3, 36) Processing Time: 8.64 seconds\n"
     ]
    },
    {
     "name": "stderr",
     "output_type": "stream",
     "text": [
      "INFO:root:Converting image dtype to float\n"
     ]
    },
    {
     "name": "stdout",
     "output_type": "stream",
     "text": [
      "Tile (3, 37) Processing Time: 8.55 seconds\n"
     ]
    },
    {
     "name": "stderr",
     "output_type": "stream",
     "text": [
      "INFO:root:Converting image dtype to float\n"
     ]
    },
    {
     "name": "stdout",
     "output_type": "stream",
     "text": [
      "Tile (3, 38) Processing Time: 8.43 seconds\n"
     ]
    },
    {
     "name": "stderr",
     "output_type": "stream",
     "text": [
      "INFO:root:Converting image dtype to float\n"
     ]
    },
    {
     "name": "stdout",
     "output_type": "stream",
     "text": [
      "Tile (3, 39) Processing Time: 7.86 seconds\n"
     ]
    },
    {
     "name": "stderr",
     "output_type": "stream",
     "text": [
      "INFO:root:Converting image dtype to float\n"
     ]
    },
    {
     "name": "stdout",
     "output_type": "stream",
     "text": [
      "Tile (3, 40) Processing Time: 7.83 seconds\n"
     ]
    },
    {
     "name": "stderr",
     "output_type": "stream",
     "text": [
      "INFO:root:Converting image dtype to float\n"
     ]
    },
    {
     "name": "stdout",
     "output_type": "stream",
     "text": [
      "Tile (3, 41) Processing Time: 7.76 seconds\n"
     ]
    },
    {
     "name": "stderr",
     "output_type": "stream",
     "text": [
      "INFO:root:Converting image dtype to float\n"
     ]
    },
    {
     "name": "stdout",
     "output_type": "stream",
     "text": [
      "Tile (3, 42) Processing Time: 7.87 seconds\n"
     ]
    },
    {
     "name": "stderr",
     "output_type": "stream",
     "text": [
      "INFO:root:Converting image dtype to float\n"
     ]
    },
    {
     "name": "stdout",
     "output_type": "stream",
     "text": [
      "Tile (3, 43) Processing Time: 8.05 seconds\n"
     ]
    },
    {
     "name": "stderr",
     "output_type": "stream",
     "text": [
      "INFO:root:Converting image dtype to float\n"
     ]
    },
    {
     "name": "stdout",
     "output_type": "stream",
     "text": [
      "Tile (3, 44) Processing Time: 7.70 seconds\n"
     ]
    },
    {
     "name": "stderr",
     "output_type": "stream",
     "text": [
      "INFO:root:Converting image dtype to float\n"
     ]
    },
    {
     "name": "stdout",
     "output_type": "stream",
     "text": [
      "Tile (3, 45) Processing Time: 7.73 seconds\n"
     ]
    },
    {
     "name": "stderr",
     "output_type": "stream",
     "text": [
      "INFO:root:Converting image dtype to float\n"
     ]
    },
    {
     "name": "stdout",
     "output_type": "stream",
     "text": [
      "Tile (3, 46) Processing Time: 7.61 seconds\n"
     ]
    },
    {
     "name": "stderr",
     "output_type": "stream",
     "text": [
      "INFO:root:Converting image dtype to float\n"
     ]
    },
    {
     "name": "stdout",
     "output_type": "stream",
     "text": [
      "Tile (3, 47) Processing Time: 7.54 seconds\n"
     ]
    },
    {
     "name": "stderr",
     "output_type": "stream",
     "text": [
      "INFO:root:Converting image dtype to float\n"
     ]
    },
    {
     "name": "stdout",
     "output_type": "stream",
     "text": [
      "Tile (3, 48) Processing Time: 7.49 seconds\n"
     ]
    },
    {
     "name": "stderr",
     "output_type": "stream",
     "text": [
      "INFO:root:Converting image dtype to float\n"
     ]
    },
    {
     "name": "stdout",
     "output_type": "stream",
     "text": [
      "Tile (3, 49) Processing Time: 7.40 seconds\n"
     ]
    },
    {
     "name": "stderr",
     "output_type": "stream",
     "text": [
      "INFO:root:Converting image dtype to float\n"
     ]
    },
    {
     "name": "stdout",
     "output_type": "stream",
     "text": [
      "Tile (4, 20) Processing Time: 7.35 seconds\n"
     ]
    },
    {
     "name": "stderr",
     "output_type": "stream",
     "text": [
      "INFO:root:Converting image dtype to float\n"
     ]
    },
    {
     "name": "stdout",
     "output_type": "stream",
     "text": [
      "Tile (4, 21) Processing Time: 7.34 seconds\n"
     ]
    },
    {
     "name": "stderr",
     "output_type": "stream",
     "text": [
      "INFO:root:Converting image dtype to float\n"
     ]
    },
    {
     "name": "stdout",
     "output_type": "stream",
     "text": [
      "Tile (4, 25) Processing Time: 7.46 seconds\n"
     ]
    },
    {
     "name": "stderr",
     "output_type": "stream",
     "text": [
      "INFO:root:Converting image dtype to float\n"
     ]
    },
    {
     "name": "stdout",
     "output_type": "stream",
     "text": [
      "Tile (4, 26) Processing Time: 7.64 seconds\n"
     ]
    },
    {
     "name": "stderr",
     "output_type": "stream",
     "text": [
      "INFO:root:Converting image dtype to float\n"
     ]
    },
    {
     "name": "stdout",
     "output_type": "stream",
     "text": [
      "Tile (4, 27) Processing Time: 7.45 seconds\n"
     ]
    },
    {
     "name": "stderr",
     "output_type": "stream",
     "text": [
      "INFO:root:Converting image dtype to float\n"
     ]
    },
    {
     "name": "stdout",
     "output_type": "stream",
     "text": [
      "Tile (4, 28) Processing Time: 7.41 seconds\n"
     ]
    },
    {
     "name": "stderr",
     "output_type": "stream",
     "text": [
      "INFO:root:Converting image dtype to float\n"
     ]
    },
    {
     "name": "stdout",
     "output_type": "stream",
     "text": [
      "Tile (4, 29) Processing Time: 7.57 seconds\n"
     ]
    },
    {
     "name": "stderr",
     "output_type": "stream",
     "text": [
      "INFO:root:Converting image dtype to float\n"
     ]
    },
    {
     "name": "stdout",
     "output_type": "stream",
     "text": [
      "Tile (4, 30) Processing Time: 8.21 seconds\n"
     ]
    },
    {
     "name": "stderr",
     "output_type": "stream",
     "text": [
      "INFO:root:Converting image dtype to float\n"
     ]
    },
    {
     "name": "stdout",
     "output_type": "stream",
     "text": [
      "Tile (4, 31) Processing Time: 8.39 seconds\n"
     ]
    },
    {
     "name": "stderr",
     "output_type": "stream",
     "text": [
      "INFO:root:Converting image dtype to float\n"
     ]
    },
    {
     "name": "stdout",
     "output_type": "stream",
     "text": [
      "Tile (4, 32) Processing Time: 8.28 seconds\n"
     ]
    },
    {
     "name": "stderr",
     "output_type": "stream",
     "text": [
      "INFO:root:Converting image dtype to float\n"
     ]
    },
    {
     "name": "stdout",
     "output_type": "stream",
     "text": [
      "Tile (4, 33) Processing Time: 8.47 seconds\n"
     ]
    },
    {
     "name": "stderr",
     "output_type": "stream",
     "text": [
      "INFO:root:Converting image dtype to float\n"
     ]
    },
    {
     "name": "stdout",
     "output_type": "stream",
     "text": [
      "Tile (4, 34) Processing Time: 8.53 seconds\n"
     ]
    },
    {
     "name": "stderr",
     "output_type": "stream",
     "text": [
      "INFO:root:Converting image dtype to float\n"
     ]
    },
    {
     "name": "stdout",
     "output_type": "stream",
     "text": [
      "Tile (4, 35) Processing Time: 8.97 seconds\n"
     ]
    },
    {
     "name": "stderr",
     "output_type": "stream",
     "text": [
      "INFO:root:Converting image dtype to float\n"
     ]
    },
    {
     "name": "stdout",
     "output_type": "stream",
     "text": [
      "Tile (4, 36) Processing Time: 8.84 seconds\n"
     ]
    },
    {
     "name": "stderr",
     "output_type": "stream",
     "text": [
      "INFO:root:Converting image dtype to float\n"
     ]
    },
    {
     "name": "stdout",
     "output_type": "stream",
     "text": [
      "Tile (4, 37) Processing Time: 8.98 seconds\n"
     ]
    },
    {
     "name": "stderr",
     "output_type": "stream",
     "text": [
      "INFO:root:Converting image dtype to float\n"
     ]
    },
    {
     "name": "stdout",
     "output_type": "stream",
     "text": [
      "Tile (4, 38) Processing Time: 8.98 seconds\n"
     ]
    },
    {
     "name": "stderr",
     "output_type": "stream",
     "text": [
      "INFO:root:Converting image dtype to float\n"
     ]
    },
    {
     "name": "stdout",
     "output_type": "stream",
     "text": [
      "Tile (4, 39) Processing Time: 8.61 seconds\n"
     ]
    },
    {
     "name": "stderr",
     "output_type": "stream",
     "text": [
      "INFO:root:Converting image dtype to float\n"
     ]
    },
    {
     "name": "stdout",
     "output_type": "stream",
     "text": [
      "Tile (4, 40) Processing Time: 8.71 seconds\n"
     ]
    },
    {
     "name": "stderr",
     "output_type": "stream",
     "text": [
      "INFO:root:Converting image dtype to float\n"
     ]
    },
    {
     "name": "stdout",
     "output_type": "stream",
     "text": [
      "Tile (4, 41) Processing Time: 8.41 seconds\n"
     ]
    },
    {
     "name": "stderr",
     "output_type": "stream",
     "text": [
      "INFO:root:Converting image dtype to float\n"
     ]
    },
    {
     "name": "stdout",
     "output_type": "stream",
     "text": [
      "Tile (4, 42) Processing Time: 8.03 seconds\n"
     ]
    },
    {
     "name": "stderr",
     "output_type": "stream",
     "text": [
      "INFO:root:Converting image dtype to float\n"
     ]
    },
    {
     "name": "stdout",
     "output_type": "stream",
     "text": [
      "Tile (4, 43) Processing Time: 8.09 seconds\n"
     ]
    },
    {
     "name": "stderr",
     "output_type": "stream",
     "text": [
      "INFO:root:Converting image dtype to float\n"
     ]
    },
    {
     "name": "stdout",
     "output_type": "stream",
     "text": [
      "Tile (4, 44) Processing Time: 8.08 seconds\n"
     ]
    },
    {
     "name": "stderr",
     "output_type": "stream",
     "text": [
      "INFO:root:Converting image dtype to float\n"
     ]
    },
    {
     "name": "stdout",
     "output_type": "stream",
     "text": [
      "Tile (4, 45) Processing Time: 8.04 seconds\n"
     ]
    },
    {
     "name": "stderr",
     "output_type": "stream",
     "text": [
      "INFO:root:Converting image dtype to float\n"
     ]
    },
    {
     "name": "stdout",
     "output_type": "stream",
     "text": [
      "Tile (4, 46) Processing Time: 7.96 seconds\n"
     ]
    },
    {
     "name": "stderr",
     "output_type": "stream",
     "text": [
      "INFO:root:Converting image dtype to float\n"
     ]
    },
    {
     "name": "stdout",
     "output_type": "stream",
     "text": [
      "Tile (4, 47) Processing Time: 8.03 seconds\n"
     ]
    },
    {
     "name": "stderr",
     "output_type": "stream",
     "text": [
      "INFO:root:Converting image dtype to float\n"
     ]
    },
    {
     "name": "stdout",
     "output_type": "stream",
     "text": [
      "Tile (4, 48) Processing Time: 7.85 seconds\n"
     ]
    },
    {
     "name": "stderr",
     "output_type": "stream",
     "text": [
      "INFO:root:Converting image dtype to float\n"
     ]
    },
    {
     "name": "stdout",
     "output_type": "stream",
     "text": [
      "Tile (4, 49) Processing Time: 7.77 seconds\n"
     ]
    },
    {
     "name": "stderr",
     "output_type": "stream",
     "text": [
      "INFO:root:Converting image dtype to float\n"
     ]
    },
    {
     "name": "stdout",
     "output_type": "stream",
     "text": [
      "Tile (4, 50) Processing Time: 7.62 seconds\n"
     ]
    },
    {
     "name": "stderr",
     "output_type": "stream",
     "text": [
      "INFO:root:Converting image dtype to float\n"
     ]
    },
    {
     "name": "stdout",
     "output_type": "stream",
     "text": [
      "Tile (4, 51) Processing Time: 7.42 seconds\n"
     ]
    },
    {
     "name": "stderr",
     "output_type": "stream",
     "text": [
      "INFO:root:Converting image dtype to float\n"
     ]
    },
    {
     "name": "stdout",
     "output_type": "stream",
     "text": [
      "Tile (4, 52) Processing Time: 7.44 seconds\n"
     ]
    },
    {
     "name": "stderr",
     "output_type": "stream",
     "text": [
      "INFO:root:Converting image dtype to float\n"
     ]
    },
    {
     "name": "stdout",
     "output_type": "stream",
     "text": [
      "Tile (5, 12) Processing Time: 7.56 seconds\n"
     ]
    },
    {
     "name": "stderr",
     "output_type": "stream",
     "text": [
      "INFO:root:Converting image dtype to float\n"
     ]
    },
    {
     "name": "stdout",
     "output_type": "stream",
     "text": [
      "Tile (5, 13) Processing Time: 7.38 seconds\n"
     ]
    },
    {
     "name": "stderr",
     "output_type": "stream",
     "text": [
      "INFO:root:Converting image dtype to float\n"
     ]
    },
    {
     "name": "stdout",
     "output_type": "stream",
     "text": [
      "Tile (5, 14) Processing Time: 7.51 seconds\n"
     ]
    },
    {
     "name": "stderr",
     "output_type": "stream",
     "text": [
      "INFO:root:Converting image dtype to float\n"
     ]
    },
    {
     "name": "stdout",
     "output_type": "stream",
     "text": [
      "Tile (5, 15) Processing Time: 7.57 seconds\n"
     ]
    },
    {
     "name": "stderr",
     "output_type": "stream",
     "text": [
      "INFO:root:Converting image dtype to float\n"
     ]
    },
    {
     "name": "stdout",
     "output_type": "stream",
     "text": [
      "Tile (5, 16) Processing Time: 7.49 seconds\n"
     ]
    },
    {
     "name": "stderr",
     "output_type": "stream",
     "text": [
      "INFO:root:Converting image dtype to float\n"
     ]
    },
    {
     "name": "stdout",
     "output_type": "stream",
     "text": [
      "Tile (5, 17) Processing Time: 7.51 seconds\n"
     ]
    },
    {
     "name": "stderr",
     "output_type": "stream",
     "text": [
      "INFO:root:Converting image dtype to float\n"
     ]
    },
    {
     "name": "stdout",
     "output_type": "stream",
     "text": [
      "Tile (5, 18) Processing Time: 7.45 seconds\n"
     ]
    },
    {
     "name": "stderr",
     "output_type": "stream",
     "text": [
      "INFO:root:Converting image dtype to float\n"
     ]
    },
    {
     "name": "stdout",
     "output_type": "stream",
     "text": [
      "Tile (5, 19) Processing Time: 7.33 seconds\n"
     ]
    },
    {
     "name": "stderr",
     "output_type": "stream",
     "text": [
      "INFO:root:Converting image dtype to float\n"
     ]
    },
    {
     "name": "stdout",
     "output_type": "stream",
     "text": [
      "Tile (5, 20) Processing Time: 7.55 seconds\n"
     ]
    },
    {
     "name": "stderr",
     "output_type": "stream",
     "text": [
      "INFO:root:Converting image dtype to float\n"
     ]
    },
    {
     "name": "stdout",
     "output_type": "stream",
     "text": [
      "Tile (5, 21) Processing Time: 7.56 seconds\n"
     ]
    },
    {
     "name": "stderr",
     "output_type": "stream",
     "text": [
      "INFO:root:Converting image dtype to float\n"
     ]
    },
    {
     "name": "stdout",
     "output_type": "stream",
     "text": [
      "Tile (5, 22) Processing Time: 7.63 seconds\n"
     ]
    },
    {
     "name": "stderr",
     "output_type": "stream",
     "text": [
      "INFO:root:Converting image dtype to float\n"
     ]
    },
    {
     "name": "stdout",
     "output_type": "stream",
     "text": [
      "Tile (5, 23) Processing Time: 7.48 seconds\n"
     ]
    },
    {
     "name": "stderr",
     "output_type": "stream",
     "text": [
      "INFO:root:Converting image dtype to float\n"
     ]
    },
    {
     "name": "stdout",
     "output_type": "stream",
     "text": [
      "Tile (5, 24) Processing Time: 7.43 seconds\n"
     ]
    },
    {
     "name": "stderr",
     "output_type": "stream",
     "text": [
      "INFO:root:Converting image dtype to float\n"
     ]
    },
    {
     "name": "stdout",
     "output_type": "stream",
     "text": [
      "Tile (5, 25) Processing Time: 7.58 seconds\n"
     ]
    },
    {
     "name": "stderr",
     "output_type": "stream",
     "text": [
      "INFO:root:Converting image dtype to float\n"
     ]
    },
    {
     "name": "stdout",
     "output_type": "stream",
     "text": [
      "Tile (5, 26) Processing Time: 7.91 seconds\n"
     ]
    },
    {
     "name": "stderr",
     "output_type": "stream",
     "text": [
      "INFO:root:Converting image dtype to float\n"
     ]
    },
    {
     "name": "stdout",
     "output_type": "stream",
     "text": [
      "Tile (5, 27) Processing Time: 7.86 seconds\n"
     ]
    },
    {
     "name": "stderr",
     "output_type": "stream",
     "text": [
      "INFO:root:Converting image dtype to float\n"
     ]
    },
    {
     "name": "stdout",
     "output_type": "stream",
     "text": [
      "Tile (5, 28) Processing Time: 7.73 seconds\n"
     ]
    },
    {
     "name": "stderr",
     "output_type": "stream",
     "text": [
      "INFO:root:Converting image dtype to float\n"
     ]
    },
    {
     "name": "stdout",
     "output_type": "stream",
     "text": [
      "Tile (5, 29) Processing Time: 8.04 seconds\n"
     ]
    },
    {
     "name": "stderr",
     "output_type": "stream",
     "text": [
      "INFO:root:Converting image dtype to float\n"
     ]
    },
    {
     "name": "stdout",
     "output_type": "stream",
     "text": [
      "Tile (5, 30) Processing Time: 8.75 seconds\n"
     ]
    },
    {
     "name": "stderr",
     "output_type": "stream",
     "text": [
      "INFO:root:Converting image dtype to float\n"
     ]
    },
    {
     "name": "stdout",
     "output_type": "stream",
     "text": [
      "Tile (5, 31) Processing Time: 8.64 seconds\n"
     ]
    },
    {
     "name": "stderr",
     "output_type": "stream",
     "text": [
      "INFO:root:Converting image dtype to float\n"
     ]
    },
    {
     "name": "stdout",
     "output_type": "stream",
     "text": [
      "Tile (5, 32) Processing Time: 8.74 seconds\n"
     ]
    },
    {
     "name": "stderr",
     "output_type": "stream",
     "text": [
      "INFO:root:Converting image dtype to float\n"
     ]
    },
    {
     "name": "stdout",
     "output_type": "stream",
     "text": [
      "Tile (5, 33) Processing Time: 8.76 seconds\n"
     ]
    },
    {
     "name": "stderr",
     "output_type": "stream",
     "text": [
      "INFO:root:Converting image dtype to float\n"
     ]
    },
    {
     "name": "stdout",
     "output_type": "stream",
     "text": [
      "Tile (5, 34) Processing Time: 8.98 seconds\n"
     ]
    },
    {
     "name": "stderr",
     "output_type": "stream",
     "text": [
      "INFO:root:Converting image dtype to float\n"
     ]
    },
    {
     "name": "stdout",
     "output_type": "stream",
     "text": [
      "Tile (5, 35) Processing Time: 8.82 seconds\n"
     ]
    },
    {
     "name": "stderr",
     "output_type": "stream",
     "text": [
      "INFO:root:Converting image dtype to float\n"
     ]
    },
    {
     "name": "stdout",
     "output_type": "stream",
     "text": [
      "Tile (5, 36) Processing Time: 9.04 seconds\n"
     ]
    },
    {
     "name": "stderr",
     "output_type": "stream",
     "text": [
      "INFO:root:Converting image dtype to float\n"
     ]
    },
    {
     "name": "stdout",
     "output_type": "stream",
     "text": [
      "Tile (5, 37) Processing Time: 8.85 seconds\n"
     ]
    },
    {
     "name": "stderr",
     "output_type": "stream",
     "text": [
      "INFO:root:Converting image dtype to float\n"
     ]
    },
    {
     "name": "stdout",
     "output_type": "stream",
     "text": [
      "Tile (5, 38) Processing Time: 8.81 seconds\n"
     ]
    },
    {
     "name": "stderr",
     "output_type": "stream",
     "text": [
      "INFO:root:Converting image dtype to float\n"
     ]
    },
    {
     "name": "stdout",
     "output_type": "stream",
     "text": [
      "Tile (5, 39) Processing Time: 9.01 seconds\n"
     ]
    },
    {
     "name": "stderr",
     "output_type": "stream",
     "text": [
      "INFO:root:Converting image dtype to float\n"
     ]
    },
    {
     "name": "stdout",
     "output_type": "stream",
     "text": [
      "Tile (5, 40) Processing Time: 9.06 seconds\n"
     ]
    },
    {
     "name": "stderr",
     "output_type": "stream",
     "text": [
      "INFO:root:Converting image dtype to float\n"
     ]
    },
    {
     "name": "stdout",
     "output_type": "stream",
     "text": [
      "Tile (5, 41) Processing Time: 8.57 seconds\n"
     ]
    },
    {
     "name": "stderr",
     "output_type": "stream",
     "text": [
      "INFO:root:Converting image dtype to float\n"
     ]
    },
    {
     "name": "stdout",
     "output_type": "stream",
     "text": [
      "Tile (5, 42) Processing Time: 8.28 seconds\n"
     ]
    },
    {
     "name": "stderr",
     "output_type": "stream",
     "text": [
      "INFO:root:Converting image dtype to float\n"
     ]
    },
    {
     "name": "stdout",
     "output_type": "stream",
     "text": [
      "Tile (5, 43) Processing Time: 8.03 seconds\n"
     ]
    },
    {
     "name": "stderr",
     "output_type": "stream",
     "text": [
      "INFO:root:Converting image dtype to float\n"
     ]
    },
    {
     "name": "stdout",
     "output_type": "stream",
     "text": [
      "Tile (5, 44) Processing Time: 7.94 seconds\n"
     ]
    },
    {
     "name": "stderr",
     "output_type": "stream",
     "text": [
      "INFO:root:Converting image dtype to float\n"
     ]
    },
    {
     "name": "stdout",
     "output_type": "stream",
     "text": [
      "Tile (5, 45) Processing Time: 7.86 seconds\n"
     ]
    },
    {
     "name": "stderr",
     "output_type": "stream",
     "text": [
      "INFO:root:Converting image dtype to float\n"
     ]
    },
    {
     "name": "stdout",
     "output_type": "stream",
     "text": [
      "Tile (5, 46) Processing Time: 8.35 seconds\n"
     ]
    },
    {
     "name": "stderr",
     "output_type": "stream",
     "text": [
      "INFO:root:Converting image dtype to float\n"
     ]
    },
    {
     "name": "stdout",
     "output_type": "stream",
     "text": [
      "Tile (5, 47) Processing Time: 8.56 seconds\n"
     ]
    },
    {
     "name": "stderr",
     "output_type": "stream",
     "text": [
      "INFO:root:Converting image dtype to float\n"
     ]
    },
    {
     "name": "stdout",
     "output_type": "stream",
     "text": [
      "Tile (5, 48) Processing Time: 8.89 seconds\n"
     ]
    },
    {
     "name": "stderr",
     "output_type": "stream",
     "text": [
      "INFO:root:Converting image dtype to float\n"
     ]
    },
    {
     "name": "stdout",
     "output_type": "stream",
     "text": [
      "Tile (5, 49) Processing Time: 8.60 seconds\n"
     ]
    },
    {
     "name": "stderr",
     "output_type": "stream",
     "text": [
      "INFO:root:Converting image dtype to float\n"
     ]
    },
    {
     "name": "stdout",
     "output_type": "stream",
     "text": [
      "Tile (5, 50) Processing Time: 8.34 seconds\n"
     ]
    },
    {
     "name": "stderr",
     "output_type": "stream",
     "text": [
      "INFO:root:Converting image dtype to float\n"
     ]
    },
    {
     "name": "stdout",
     "output_type": "stream",
     "text": [
      "Tile (5, 51) Processing Time: 8.14 seconds\n"
     ]
    },
    {
     "name": "stderr",
     "output_type": "stream",
     "text": [
      "INFO:root:Converting image dtype to float\n"
     ]
    },
    {
     "name": "stdout",
     "output_type": "stream",
     "text": [
      "Tile (5, 52) Processing Time: 7.63 seconds\n"
     ]
    },
    {
     "name": "stderr",
     "output_type": "stream",
     "text": [
      "INFO:root:Converting image dtype to float\n"
     ]
    },
    {
     "name": "stdout",
     "output_type": "stream",
     "text": [
      "Tile (5, 53) Processing Time: 7.70 seconds\n"
     ]
    },
    {
     "name": "stderr",
     "output_type": "stream",
     "text": [
      "INFO:root:Converting image dtype to float\n"
     ]
    },
    {
     "name": "stdout",
     "output_type": "stream",
     "text": [
      "Tile (6, 10) Processing Time: 7.40 seconds\n"
     ]
    },
    {
     "name": "stderr",
     "output_type": "stream",
     "text": [
      "INFO:root:Converting image dtype to float\n"
     ]
    },
    {
     "name": "stdout",
     "output_type": "stream",
     "text": [
      "Tile (6, 11) Processing Time: 7.56 seconds\n"
     ]
    },
    {
     "name": "stderr",
     "output_type": "stream",
     "text": [
      "INFO:root:Converting image dtype to float\n"
     ]
    },
    {
     "name": "stdout",
     "output_type": "stream",
     "text": [
      "Tile (6, 12) Processing Time: 7.43 seconds\n"
     ]
    },
    {
     "name": "stderr",
     "output_type": "stream",
     "text": [
      "INFO:root:Converting image dtype to float\n"
     ]
    },
    {
     "name": "stdout",
     "output_type": "stream",
     "text": [
      "Tile (6, 13) Processing Time: 7.76 seconds\n"
     ]
    },
    {
     "name": "stderr",
     "output_type": "stream",
     "text": [
      "INFO:root:Converting image dtype to float\n"
     ]
    },
    {
     "name": "stdout",
     "output_type": "stream",
     "text": [
      "Tile (6, 14) Processing Time: 7.76 seconds\n"
     ]
    },
    {
     "name": "stderr",
     "output_type": "stream",
     "text": [
      "INFO:root:Converting image dtype to float\n"
     ]
    },
    {
     "name": "stdout",
     "output_type": "stream",
     "text": [
      "Tile (6, 15) Processing Time: 7.87 seconds\n"
     ]
    },
    {
     "name": "stderr",
     "output_type": "stream",
     "text": [
      "INFO:root:Converting image dtype to float\n"
     ]
    },
    {
     "name": "stdout",
     "output_type": "stream",
     "text": [
      "Tile (6, 16) Processing Time: 7.88 seconds\n"
     ]
    },
    {
     "name": "stderr",
     "output_type": "stream",
     "text": [
      "INFO:root:Converting image dtype to float\n"
     ]
    },
    {
     "name": "stdout",
     "output_type": "stream",
     "text": [
      "Tile (6, 17) Processing Time: 7.99 seconds\n"
     ]
    },
    {
     "name": "stderr",
     "output_type": "stream",
     "text": [
      "INFO:root:Converting image dtype to float\n"
     ]
    },
    {
     "name": "stdout",
     "output_type": "stream",
     "text": [
      "Tile (6, 18) Processing Time: 7.85 seconds\n"
     ]
    },
    {
     "name": "stderr",
     "output_type": "stream",
     "text": [
      "INFO:root:Converting image dtype to float\n"
     ]
    },
    {
     "name": "stdout",
     "output_type": "stream",
     "text": [
      "Tile (6, 19) Processing Time: 7.62 seconds\n"
     ]
    },
    {
     "name": "stderr",
     "output_type": "stream",
     "text": [
      "INFO:root:Converting image dtype to float\n"
     ]
    },
    {
     "name": "stdout",
     "output_type": "stream",
     "text": [
      "Tile (6, 20) Processing Time: 8.13 seconds\n"
     ]
    },
    {
     "name": "stderr",
     "output_type": "stream",
     "text": [
      "INFO:root:Converting image dtype to float\n"
     ]
    },
    {
     "name": "stdout",
     "output_type": "stream",
     "text": [
      "Tile (6, 21) Processing Time: 8.16 seconds\n"
     ]
    },
    {
     "name": "stderr",
     "output_type": "stream",
     "text": [
      "INFO:root:Converting image dtype to float\n"
     ]
    },
    {
     "name": "stdout",
     "output_type": "stream",
     "text": [
      "Tile (6, 22) Processing Time: 7.91 seconds\n"
     ]
    },
    {
     "name": "stderr",
     "output_type": "stream",
     "text": [
      "INFO:root:Converting image dtype to float\n"
     ]
    },
    {
     "name": "stdout",
     "output_type": "stream",
     "text": [
      "Tile (6, 23) Processing Time: 7.35 seconds\n"
     ]
    },
    {
     "name": "stderr",
     "output_type": "stream",
     "text": [
      "INFO:root:Converting image dtype to float\n"
     ]
    },
    {
     "name": "stdout",
     "output_type": "stream",
     "text": [
      "Tile (6, 24) Processing Time: 7.39 seconds\n"
     ]
    },
    {
     "name": "stderr",
     "output_type": "stream",
     "text": [
      "INFO:root:Converting image dtype to float\n"
     ]
    },
    {
     "name": "stdout",
     "output_type": "stream",
     "text": [
      "Tile (6, 25) Processing Time: 7.95 seconds\n"
     ]
    },
    {
     "name": "stderr",
     "output_type": "stream",
     "text": [
      "INFO:root:Converting image dtype to float\n"
     ]
    },
    {
     "name": "stdout",
     "output_type": "stream",
     "text": [
      "Tile (6, 26) Processing Time: 8.53 seconds\n"
     ]
    },
    {
     "name": "stderr",
     "output_type": "stream",
     "text": [
      "INFO:root:Converting image dtype to float\n"
     ]
    },
    {
     "name": "stdout",
     "output_type": "stream",
     "text": [
      "Tile (6, 27) Processing Time: 8.41 seconds\n"
     ]
    },
    {
     "name": "stderr",
     "output_type": "stream",
     "text": [
      "INFO:root:Converting image dtype to float\n"
     ]
    },
    {
     "name": "stdout",
     "output_type": "stream",
     "text": [
      "Tile (6, 28) Processing Time: 8.47 seconds\n"
     ]
    },
    {
     "name": "stderr",
     "output_type": "stream",
     "text": [
      "INFO:root:Converting image dtype to float\n"
     ]
    },
    {
     "name": "stdout",
     "output_type": "stream",
     "text": [
      "Tile (6, 29) Processing Time: 8.43 seconds\n"
     ]
    },
    {
     "name": "stderr",
     "output_type": "stream",
     "text": [
      "INFO:root:Converting image dtype to float\n"
     ]
    },
    {
     "name": "stdout",
     "output_type": "stream",
     "text": [
      "Tile (6, 30) Processing Time: 8.82 seconds\n"
     ]
    },
    {
     "name": "stderr",
     "output_type": "stream",
     "text": [
      "INFO:root:Converting image dtype to float\n"
     ]
    },
    {
     "name": "stdout",
     "output_type": "stream",
     "text": [
      "Tile (6, 31) Processing Time: 8.72 seconds\n"
     ]
    },
    {
     "name": "stderr",
     "output_type": "stream",
     "text": [
      "INFO:root:Converting image dtype to float\n"
     ]
    },
    {
     "name": "stdout",
     "output_type": "stream",
     "text": [
      "Tile (6, 32) Processing Time: 8.73 seconds\n"
     ]
    },
    {
     "name": "stderr",
     "output_type": "stream",
     "text": [
      "INFO:root:Converting image dtype to float\n"
     ]
    },
    {
     "name": "stdout",
     "output_type": "stream",
     "text": [
      "Tile (6, 33) Processing Time: 8.65 seconds\n"
     ]
    },
    {
     "name": "stderr",
     "output_type": "stream",
     "text": [
      "INFO:root:Converting image dtype to float\n"
     ]
    },
    {
     "name": "stdout",
     "output_type": "stream",
     "text": [
      "Tile (6, 34) Processing Time: 8.71 seconds\n"
     ]
    },
    {
     "name": "stderr",
     "output_type": "stream",
     "text": [
      "INFO:root:Converting image dtype to float\n"
     ]
    },
    {
     "name": "stdout",
     "output_type": "stream",
     "text": [
      "Tile (6, 35) Processing Time: 8.80 seconds\n"
     ]
    },
    {
     "name": "stderr",
     "output_type": "stream",
     "text": [
      "INFO:root:Converting image dtype to float\n"
     ]
    },
    {
     "name": "stdout",
     "output_type": "stream",
     "text": [
      "Tile (6, 36) Processing Time: 8.86 seconds\n"
     ]
    },
    {
     "name": "stderr",
     "output_type": "stream",
     "text": [
      "INFO:root:Converting image dtype to float\n"
     ]
    },
    {
     "name": "stdout",
     "output_type": "stream",
     "text": [
      "Tile (6, 37) Processing Time: 9.19 seconds\n"
     ]
    },
    {
     "name": "stderr",
     "output_type": "stream",
     "text": [
      "INFO:root:Converting image dtype to float\n"
     ]
    },
    {
     "name": "stdout",
     "output_type": "stream",
     "text": [
      "Tile (6, 38) Processing Time: 9.19 seconds\n"
     ]
    },
    {
     "name": "stderr",
     "output_type": "stream",
     "text": [
      "INFO:root:Converting image dtype to float\n"
     ]
    },
    {
     "name": "stdout",
     "output_type": "stream",
     "text": [
      "Tile (6, 39) Processing Time: 9.17 seconds\n"
     ]
    },
    {
     "name": "stderr",
     "output_type": "stream",
     "text": [
      "INFO:root:Converting image dtype to float\n"
     ]
    },
    {
     "name": "stdout",
     "output_type": "stream",
     "text": [
      "Tile (6, 40) Processing Time: 9.04 seconds\n"
     ]
    },
    {
     "name": "stderr",
     "output_type": "stream",
     "text": [
      "INFO:root:Converting image dtype to float\n"
     ]
    },
    {
     "name": "stdout",
     "output_type": "stream",
     "text": [
      "Tile (6, 41) Processing Time: 9.01 seconds\n"
     ]
    },
    {
     "name": "stderr",
     "output_type": "stream",
     "text": [
      "INFO:root:Converting image dtype to float\n"
     ]
    },
    {
     "name": "stdout",
     "output_type": "stream",
     "text": [
      "Tile (6, 42) Processing Time: 9.06 seconds\n"
     ]
    },
    {
     "name": "stderr",
     "output_type": "stream",
     "text": [
      "INFO:root:Converting image dtype to float\n"
     ]
    },
    {
     "name": "stdout",
     "output_type": "stream",
     "text": [
      "Tile (6, 43) Processing Time: 8.35 seconds\n"
     ]
    },
    {
     "name": "stderr",
     "output_type": "stream",
     "text": [
      "INFO:root:Converting image dtype to float\n"
     ]
    },
    {
     "name": "stdout",
     "output_type": "stream",
     "text": [
      "Tile (6, 44) Processing Time: 8.10 seconds\n"
     ]
    },
    {
     "name": "stderr",
     "output_type": "stream",
     "text": [
      "INFO:root:Converting image dtype to float\n"
     ]
    },
    {
     "name": "stdout",
     "output_type": "stream",
     "text": [
      "Tile (6, 45) Processing Time: 8.28 seconds\n"
     ]
    },
    {
     "name": "stderr",
     "output_type": "stream",
     "text": [
      "INFO:root:Converting image dtype to float\n"
     ]
    },
    {
     "name": "stdout",
     "output_type": "stream",
     "text": [
      "Tile (6, 46) Processing Time: 8.42 seconds\n"
     ]
    },
    {
     "name": "stderr",
     "output_type": "stream",
     "text": [
      "INFO:root:Converting image dtype to float\n"
     ]
    },
    {
     "name": "stdout",
     "output_type": "stream",
     "text": [
      "Tile (6, 47) Processing Time: 8.62 seconds\n"
     ]
    },
    {
     "name": "stderr",
     "output_type": "stream",
     "text": [
      "INFO:root:Converting image dtype to float\n"
     ]
    },
    {
     "name": "stdout",
     "output_type": "stream",
     "text": [
      "Tile (6, 48) Processing Time: 8.71 seconds\n"
     ]
    },
    {
     "name": "stderr",
     "output_type": "stream",
     "text": [
      "INFO:root:Converting image dtype to float\n"
     ]
    },
    {
     "name": "stdout",
     "output_type": "stream",
     "text": [
      "Tile (6, 49) Processing Time: 8.49 seconds\n"
     ]
    },
    {
     "name": "stderr",
     "output_type": "stream",
     "text": [
      "INFO:root:Converting image dtype to float\n"
     ]
    },
    {
     "name": "stdout",
     "output_type": "stream",
     "text": [
      "Tile (6, 50) Processing Time: 8.79 seconds\n"
     ]
    },
    {
     "name": "stderr",
     "output_type": "stream",
     "text": [
      "INFO:root:Converting image dtype to float\n"
     ]
    },
    {
     "name": "stdout",
     "output_type": "stream",
     "text": [
      "Tile (6, 51) Processing Time: 8.79 seconds\n"
     ]
    },
    {
     "name": "stderr",
     "output_type": "stream",
     "text": [
      "INFO:root:Converting image dtype to float\n"
     ]
    },
    {
     "name": "stdout",
     "output_type": "stream",
     "text": [
      "Tile (6, 52) Processing Time: 8.13 seconds\n"
     ]
    },
    {
     "name": "stderr",
     "output_type": "stream",
     "text": [
      "INFO:root:Converting image dtype to float\n"
     ]
    },
    {
     "name": "stdout",
     "output_type": "stream",
     "text": [
      "Tile (6, 53) Processing Time: 7.51 seconds\n"
     ]
    },
    {
     "name": "stderr",
     "output_type": "stream",
     "text": [
      "INFO:root:Converting image dtype to float\n"
     ]
    },
    {
     "name": "stdout",
     "output_type": "stream",
     "text": [
      "Tile (7, 9) Processing Time: 7.46 seconds\n"
     ]
    },
    {
     "name": "stderr",
     "output_type": "stream",
     "text": [
      "INFO:root:Converting image dtype to float\n"
     ]
    },
    {
     "name": "stdout",
     "output_type": "stream",
     "text": [
      "Tile (7, 10) Processing Time: 7.69 seconds\n"
     ]
    },
    {
     "name": "stderr",
     "output_type": "stream",
     "text": [
      "INFO:root:Converting image dtype to float\n"
     ]
    },
    {
     "name": "stdout",
     "output_type": "stream",
     "text": [
      "Tile (7, 11) Processing Time: 7.66 seconds\n"
     ]
    },
    {
     "name": "stderr",
     "output_type": "stream",
     "text": [
      "INFO:root:Converting image dtype to float\n"
     ]
    },
    {
     "name": "stdout",
     "output_type": "stream",
     "text": [
      "Tile (7, 12) Processing Time: 7.80 seconds\n"
     ]
    },
    {
     "name": "stderr",
     "output_type": "stream",
     "text": [
      "INFO:root:Converting image dtype to float\n"
     ]
    },
    {
     "name": "stdout",
     "output_type": "stream",
     "text": [
      "Tile (7, 13) Processing Time: 8.12 seconds\n"
     ]
    },
    {
     "name": "stderr",
     "output_type": "stream",
     "text": [
      "INFO:root:Converting image dtype to float\n"
     ]
    },
    {
     "name": "stdout",
     "output_type": "stream",
     "text": [
      "Tile (7, 14) Processing Time: 8.57 seconds\n"
     ]
    },
    {
     "name": "stderr",
     "output_type": "stream",
     "text": [
      "INFO:root:Converting image dtype to float\n"
     ]
    },
    {
     "name": "stdout",
     "output_type": "stream",
     "text": [
      "Tile (7, 15) Processing Time: 8.37 seconds\n"
     ]
    },
    {
     "name": "stderr",
     "output_type": "stream",
     "text": [
      "INFO:root:Converting image dtype to float\n"
     ]
    },
    {
     "name": "stdout",
     "output_type": "stream",
     "text": [
      "Tile (7, 16) Processing Time: 8.28 seconds\n"
     ]
    },
    {
     "name": "stderr",
     "output_type": "stream",
     "text": [
      "INFO:root:Converting image dtype to float\n"
     ]
    },
    {
     "name": "stdout",
     "output_type": "stream",
     "text": [
      "Tile (7, 17) Processing Time: 8.55 seconds\n"
     ]
    },
    {
     "name": "stderr",
     "output_type": "stream",
     "text": [
      "INFO:root:Converting image dtype to float\n"
     ]
    },
    {
     "name": "stdout",
     "output_type": "stream",
     "text": [
      "Tile (7, 18) Processing Time: 8.18 seconds\n"
     ]
    },
    {
     "name": "stderr",
     "output_type": "stream",
     "text": [
      "INFO:root:Converting image dtype to float\n"
     ]
    },
    {
     "name": "stdout",
     "output_type": "stream",
     "text": [
      "Tile (7, 19) Processing Time: 8.17 seconds\n"
     ]
    },
    {
     "name": "stderr",
     "output_type": "stream",
     "text": [
      "INFO:root:Converting image dtype to float\n"
     ]
    },
    {
     "name": "stdout",
     "output_type": "stream",
     "text": [
      "Tile (7, 20) Processing Time: 8.12 seconds\n"
     ]
    },
    {
     "name": "stderr",
     "output_type": "stream",
     "text": [
      "INFO:root:Converting image dtype to float\n"
     ]
    },
    {
     "name": "stdout",
     "output_type": "stream",
     "text": [
      "Tile (7, 21) Processing Time: 8.28 seconds\n"
     ]
    },
    {
     "name": "stderr",
     "output_type": "stream",
     "text": [
      "INFO:root:Converting image dtype to float\n"
     ]
    },
    {
     "name": "stdout",
     "output_type": "stream",
     "text": [
      "Tile (7, 22) Processing Time: 8.09 seconds\n"
     ]
    },
    {
     "name": "stderr",
     "output_type": "stream",
     "text": [
      "INFO:root:Converting image dtype to float\n"
     ]
    },
    {
     "name": "stdout",
     "output_type": "stream",
     "text": [
      "Tile (7, 23) Processing Time: 7.80 seconds\n"
     ]
    },
    {
     "name": "stderr",
     "output_type": "stream",
     "text": [
      "INFO:root:Converting image dtype to float\n"
     ]
    },
    {
     "name": "stdout",
     "output_type": "stream",
     "text": [
      "Tile (7, 24) Processing Time: 7.80 seconds\n"
     ]
    },
    {
     "name": "stderr",
     "output_type": "stream",
     "text": [
      "INFO:root:Converting image dtype to float\n"
     ]
    },
    {
     "name": "stdout",
     "output_type": "stream",
     "text": [
      "Tile (7, 25) Processing Time: 8.26 seconds\n"
     ]
    },
    {
     "name": "stderr",
     "output_type": "stream",
     "text": [
      "INFO:root:Converting image dtype to float\n"
     ]
    },
    {
     "name": "stdout",
     "output_type": "stream",
     "text": [
      "Tile (7, 26) Processing Time: 8.86 seconds\n"
     ]
    },
    {
     "name": "stderr",
     "output_type": "stream",
     "text": [
      "INFO:root:Converting image dtype to float\n"
     ]
    },
    {
     "name": "stdout",
     "output_type": "stream",
     "text": [
      "Tile (7, 27) Processing Time: 8.82 seconds\n"
     ]
    },
    {
     "name": "stderr",
     "output_type": "stream",
     "text": [
      "INFO:root:Converting image dtype to float\n"
     ]
    },
    {
     "name": "stdout",
     "output_type": "stream",
     "text": [
      "Tile (7, 28) Processing Time: 8.91 seconds\n"
     ]
    },
    {
     "name": "stderr",
     "output_type": "stream",
     "text": [
      "INFO:root:Converting image dtype to float\n"
     ]
    },
    {
     "name": "stdout",
     "output_type": "stream",
     "text": [
      "Tile (7, 29) Processing Time: 8.83 seconds\n"
     ]
    },
    {
     "name": "stderr",
     "output_type": "stream",
     "text": [
      "INFO:root:Converting image dtype to float\n"
     ]
    },
    {
     "name": "stdout",
     "output_type": "stream",
     "text": [
      "Tile (7, 30) Processing Time: 8.41 seconds\n"
     ]
    },
    {
     "name": "stderr",
     "output_type": "stream",
     "text": [
      "INFO:root:Converting image dtype to float\n"
     ]
    },
    {
     "name": "stdout",
     "output_type": "stream",
     "text": [
      "Tile (7, 31) Processing Time: 8.52 seconds\n"
     ]
    },
    {
     "name": "stderr",
     "output_type": "stream",
     "text": [
      "INFO:root:Converting image dtype to float\n"
     ]
    },
    {
     "name": "stdout",
     "output_type": "stream",
     "text": [
      "Tile (7, 32) Processing Time: 9.02 seconds\n"
     ]
    },
    {
     "name": "stderr",
     "output_type": "stream",
     "text": [
      "INFO:root:Converting image dtype to float\n"
     ]
    },
    {
     "name": "stdout",
     "output_type": "stream",
     "text": [
      "Tile (7, 33) Processing Time: 8.83 seconds\n"
     ]
    },
    {
     "name": "stderr",
     "output_type": "stream",
     "text": [
      "INFO:root:Converting image dtype to float\n"
     ]
    },
    {
     "name": "stdout",
     "output_type": "stream",
     "text": [
      "Tile (7, 34) Processing Time: 8.94 seconds\n"
     ]
    },
    {
     "name": "stderr",
     "output_type": "stream",
     "text": [
      "INFO:root:Converting image dtype to float\n"
     ]
    },
    {
     "name": "stdout",
     "output_type": "stream",
     "text": [
      "Tile (7, 35) Processing Time: 9.00 seconds\n"
     ]
    },
    {
     "name": "stderr",
     "output_type": "stream",
     "text": [
      "INFO:root:Converting image dtype to float\n"
     ]
    },
    {
     "name": "stdout",
     "output_type": "stream",
     "text": [
      "Tile (7, 36) Processing Time: 8.81 seconds\n"
     ]
    },
    {
     "name": "stderr",
     "output_type": "stream",
     "text": [
      "INFO:root:Converting image dtype to float\n"
     ]
    },
    {
     "name": "stdout",
     "output_type": "stream",
     "text": [
      "Tile (7, 37) Processing Time: 9.04 seconds\n"
     ]
    },
    {
     "name": "stderr",
     "output_type": "stream",
     "text": [
      "INFO:root:Converting image dtype to float\n"
     ]
    },
    {
     "name": "stdout",
     "output_type": "stream",
     "text": [
      "Tile (7, 38) Processing Time: 9.38 seconds\n"
     ]
    },
    {
     "name": "stderr",
     "output_type": "stream",
     "text": [
      "INFO:root:Converting image dtype to float\n"
     ]
    },
    {
     "name": "stdout",
     "output_type": "stream",
     "text": [
      "Tile (7, 39) Processing Time: 9.35 seconds\n"
     ]
    },
    {
     "name": "stderr",
     "output_type": "stream",
     "text": [
      "INFO:root:Converting image dtype to float\n"
     ]
    },
    {
     "name": "stdout",
     "output_type": "stream",
     "text": [
      "Tile (7, 40) Processing Time: 9.21 seconds\n"
     ]
    },
    {
     "name": "stderr",
     "output_type": "stream",
     "text": [
      "INFO:root:Converting image dtype to float\n"
     ]
    },
    {
     "name": "stdout",
     "output_type": "stream",
     "text": [
      "Tile (7, 41) Processing Time: 8.98 seconds\n"
     ]
    },
    {
     "name": "stderr",
     "output_type": "stream",
     "text": [
      "INFO:root:Converting image dtype to float\n"
     ]
    },
    {
     "name": "stdout",
     "output_type": "stream",
     "text": [
      "Tile (7, 42) Processing Time: 8.73 seconds\n"
     ]
    },
    {
     "name": "stderr",
     "output_type": "stream",
     "text": [
      "INFO:root:Converting image dtype to float\n"
     ]
    },
    {
     "name": "stdout",
     "output_type": "stream",
     "text": [
      "Tile (7, 43) Processing Time: 8.60 seconds\n"
     ]
    },
    {
     "name": "stderr",
     "output_type": "stream",
     "text": [
      "INFO:root:Converting image dtype to float\n"
     ]
    },
    {
     "name": "stdout",
     "output_type": "stream",
     "text": [
      "Tile (7, 44) Processing Time: 8.63 seconds\n"
     ]
    },
    {
     "name": "stderr",
     "output_type": "stream",
     "text": [
      "INFO:root:Converting image dtype to float\n"
     ]
    },
    {
     "name": "stdout",
     "output_type": "stream",
     "text": [
      "Tile (7, 45) Processing Time: 8.84 seconds\n"
     ]
    },
    {
     "name": "stderr",
     "output_type": "stream",
     "text": [
      "INFO:root:Converting image dtype to float\n"
     ]
    },
    {
     "name": "stdout",
     "output_type": "stream",
     "text": [
      "Tile (7, 46) Processing Time: 8.67 seconds\n"
     ]
    },
    {
     "name": "stderr",
     "output_type": "stream",
     "text": [
      "INFO:root:Converting image dtype to float\n"
     ]
    },
    {
     "name": "stdout",
     "output_type": "stream",
     "text": [
      "Tile (7, 47) Processing Time: 8.68 seconds\n"
     ]
    },
    {
     "name": "stderr",
     "output_type": "stream",
     "text": [
      "INFO:root:Converting image dtype to float\n"
     ]
    },
    {
     "name": "stdout",
     "output_type": "stream",
     "text": [
      "Tile (7, 48) Processing Time: 8.39 seconds\n"
     ]
    },
    {
     "name": "stderr",
     "output_type": "stream",
     "text": [
      "INFO:root:Converting image dtype to float\n"
     ]
    },
    {
     "name": "stdout",
     "output_type": "stream",
     "text": [
      "Tile (7, 49) Processing Time: 8.51 seconds\n"
     ]
    },
    {
     "name": "stderr",
     "output_type": "stream",
     "text": [
      "INFO:root:Converting image dtype to float\n"
     ]
    },
    {
     "name": "stdout",
     "output_type": "stream",
     "text": [
      "Tile (7, 50) Processing Time: 8.49 seconds\n"
     ]
    },
    {
     "name": "stderr",
     "output_type": "stream",
     "text": [
      "INFO:root:Converting image dtype to float\n"
     ]
    },
    {
     "name": "stdout",
     "output_type": "stream",
     "text": [
      "Tile (7, 51) Processing Time: 9.08 seconds\n"
     ]
    },
    {
     "name": "stderr",
     "output_type": "stream",
     "text": [
      "INFO:root:Converting image dtype to float\n"
     ]
    },
    {
     "name": "stdout",
     "output_type": "stream",
     "text": [
      "Tile (7, 52) Processing Time: 8.79 seconds\n"
     ]
    },
    {
     "name": "stderr",
     "output_type": "stream",
     "text": [
      "INFO:root:Converting image dtype to float\n"
     ]
    },
    {
     "name": "stdout",
     "output_type": "stream",
     "text": [
      "Tile (7, 53) Processing Time: 7.62 seconds\n"
     ]
    },
    {
     "name": "stderr",
     "output_type": "stream",
     "text": [
      "INFO:root:Converting image dtype to float\n"
     ]
    },
    {
     "name": "stdout",
     "output_type": "stream",
     "text": [
      "Tile (8, 7) Processing Time: 7.36 seconds\n"
     ]
    },
    {
     "name": "stderr",
     "output_type": "stream",
     "text": [
      "INFO:root:Converting image dtype to float\n"
     ]
    },
    {
     "name": "stdout",
     "output_type": "stream",
     "text": [
      "Tile (8, 8) Processing Time: 7.59 seconds\n"
     ]
    },
    {
     "name": "stderr",
     "output_type": "stream",
     "text": [
      "INFO:root:Converting image dtype to float\n"
     ]
    },
    {
     "name": "stdout",
     "output_type": "stream",
     "text": [
      "Tile (8, 9) Processing Time: 7.52 seconds\n"
     ]
    },
    {
     "name": "stderr",
     "output_type": "stream",
     "text": [
      "INFO:root:Converting image dtype to float\n"
     ]
    },
    {
     "name": "stdout",
     "output_type": "stream",
     "text": [
      "Tile (8, 10) Processing Time: 7.93 seconds\n"
     ]
    },
    {
     "name": "stderr",
     "output_type": "stream",
     "text": [
      "INFO:root:Converting image dtype to float\n"
     ]
    },
    {
     "name": "stdout",
     "output_type": "stream",
     "text": [
      "Tile (8, 11) Processing Time: 7.93 seconds\n"
     ]
    },
    {
     "name": "stderr",
     "output_type": "stream",
     "text": [
      "INFO:root:Converting image dtype to float\n"
     ]
    },
    {
     "name": "stdout",
     "output_type": "stream",
     "text": [
      "Tile (8, 12) Processing Time: 8.04 seconds\n"
     ]
    },
    {
     "name": "stderr",
     "output_type": "stream",
     "text": [
      "INFO:root:Converting image dtype to float\n"
     ]
    },
    {
     "name": "stdout",
     "output_type": "stream",
     "text": [
      "Tile (8, 13) Processing Time: 8.46 seconds\n"
     ]
    },
    {
     "name": "stderr",
     "output_type": "stream",
     "text": [
      "INFO:root:Converting image dtype to float\n"
     ]
    },
    {
     "name": "stdout",
     "output_type": "stream",
     "text": [
      "Tile (8, 14) Processing Time: 8.99 seconds\n"
     ]
    },
    {
     "name": "stderr",
     "output_type": "stream",
     "text": [
      "INFO:root:Converting image dtype to float\n"
     ]
    },
    {
     "name": "stdout",
     "output_type": "stream",
     "text": [
      "Tile (8, 15) Processing Time: 8.81 seconds\n"
     ]
    },
    {
     "name": "stderr",
     "output_type": "stream",
     "text": [
      "INFO:root:Converting image dtype to float\n"
     ]
    },
    {
     "name": "stdout",
     "output_type": "stream",
     "text": [
      "Tile (8, 16) Processing Time: 8.70 seconds\n"
     ]
    },
    {
     "name": "stderr",
     "output_type": "stream",
     "text": [
      "INFO:root:Converting image dtype to float\n"
     ]
    },
    {
     "name": "stdout",
     "output_type": "stream",
     "text": [
      "Tile (8, 17) Processing Time: 8.49 seconds\n"
     ]
    },
    {
     "name": "stderr",
     "output_type": "stream",
     "text": [
      "INFO:root:Converting image dtype to float\n"
     ]
    },
    {
     "name": "stdout",
     "output_type": "stream",
     "text": [
      "Tile (8, 18) Processing Time: 8.52 seconds\n"
     ]
    },
    {
     "name": "stderr",
     "output_type": "stream",
     "text": [
      "INFO:root:Converting image dtype to float\n"
     ]
    },
    {
     "name": "stdout",
     "output_type": "stream",
     "text": [
      "Tile (8, 19) Processing Time: 8.56 seconds\n"
     ]
    },
    {
     "name": "stderr",
     "output_type": "stream",
     "text": [
      "INFO:root:Converting image dtype to float\n"
     ]
    },
    {
     "name": "stdout",
     "output_type": "stream",
     "text": [
      "Tile (8, 20) Processing Time: 8.51 seconds\n"
     ]
    },
    {
     "name": "stderr",
     "output_type": "stream",
     "text": [
      "INFO:root:Converting image dtype to float\n"
     ]
    },
    {
     "name": "stdout",
     "output_type": "stream",
     "text": [
      "Tile (8, 21) Processing Time: 8.16 seconds\n"
     ]
    },
    {
     "name": "stderr",
     "output_type": "stream",
     "text": [
      "INFO:root:Converting image dtype to float\n"
     ]
    },
    {
     "name": "stdout",
     "output_type": "stream",
     "text": [
      "Tile (8, 22) Processing Time: 8.14 seconds\n"
     ]
    },
    {
     "name": "stderr",
     "output_type": "stream",
     "text": [
      "INFO:root:Converting image dtype to float\n"
     ]
    },
    {
     "name": "stdout",
     "output_type": "stream",
     "text": [
      "Tile (8, 23) Processing Time: 8.21 seconds\n"
     ]
    },
    {
     "name": "stderr",
     "output_type": "stream",
     "text": [
      "INFO:root:Converting image dtype to float\n"
     ]
    },
    {
     "name": "stdout",
     "output_type": "stream",
     "text": [
      "Tile (8, 24) Processing Time: 8.57 seconds\n"
     ]
    },
    {
     "name": "stderr",
     "output_type": "stream",
     "text": [
      "INFO:root:Converting image dtype to float\n"
     ]
    },
    {
     "name": "stdout",
     "output_type": "stream",
     "text": [
      "Tile (8, 25) Processing Time: 8.69 seconds\n"
     ]
    },
    {
     "name": "stderr",
     "output_type": "stream",
     "text": [
      "INFO:root:Converting image dtype to float\n"
     ]
    },
    {
     "name": "stdout",
     "output_type": "stream",
     "text": [
      "Tile (8, 26) Processing Time: 8.90 seconds\n"
     ]
    },
    {
     "name": "stderr",
     "output_type": "stream",
     "text": [
      "INFO:root:Converting image dtype to float\n"
     ]
    },
    {
     "name": "stdout",
     "output_type": "stream",
     "text": [
      "Tile (8, 27) Processing Time: 8.94 seconds\n"
     ]
    },
    {
     "name": "stderr",
     "output_type": "stream",
     "text": [
      "INFO:root:Converting image dtype to float\n"
     ]
    },
    {
     "name": "stdout",
     "output_type": "stream",
     "text": [
      "Tile (8, 28) Processing Time: 8.88 seconds\n"
     ]
    },
    {
     "name": "stderr",
     "output_type": "stream",
     "text": [
      "INFO:root:Converting image dtype to float\n"
     ]
    },
    {
     "name": "stdout",
     "output_type": "stream",
     "text": [
      "Tile (8, 29) Processing Time: 8.72 seconds\n"
     ]
    },
    {
     "name": "stderr",
     "output_type": "stream",
     "text": [
      "INFO:root:Converting image dtype to float\n"
     ]
    },
    {
     "name": "stdout",
     "output_type": "stream",
     "text": [
      "Tile (8, 30) Processing Time: 8.68 seconds\n"
     ]
    },
    {
     "name": "stderr",
     "output_type": "stream",
     "text": [
      "INFO:root:Converting image dtype to float\n"
     ]
    },
    {
     "name": "stdout",
     "output_type": "stream",
     "text": [
      "Tile (8, 31) Processing Time: 8.56 seconds\n"
     ]
    },
    {
     "name": "stderr",
     "output_type": "stream",
     "text": [
      "INFO:root:Converting image dtype to float\n"
     ]
    },
    {
     "name": "stdout",
     "output_type": "stream",
     "text": [
      "Tile (8, 32) Processing Time: 8.83 seconds\n"
     ]
    },
    {
     "name": "stderr",
     "output_type": "stream",
     "text": [
      "INFO:root:Converting image dtype to float\n"
     ]
    },
    {
     "name": "stdout",
     "output_type": "stream",
     "text": [
      "Tile (8, 33) Processing Time: 9.10 seconds\n"
     ]
    },
    {
     "name": "stderr",
     "output_type": "stream",
     "text": [
      "INFO:root:Converting image dtype to float\n"
     ]
    },
    {
     "name": "stdout",
     "output_type": "stream",
     "text": [
      "Tile (8, 34) Processing Time: 8.92 seconds\n"
     ]
    },
    {
     "name": "stderr",
     "output_type": "stream",
     "text": [
      "INFO:root:Converting image dtype to float\n"
     ]
    },
    {
     "name": "stdout",
     "output_type": "stream",
     "text": [
      "Tile (8, 35) Processing Time: 9.10 seconds\n"
     ]
    },
    {
     "name": "stderr",
     "output_type": "stream",
     "text": [
      "INFO:root:Converting image dtype to float\n"
     ]
    },
    {
     "name": "stdout",
     "output_type": "stream",
     "text": [
      "Tile (8, 36) Processing Time: 9.04 seconds\n"
     ]
    },
    {
     "name": "stderr",
     "output_type": "stream",
     "text": [
      "INFO:root:Converting image dtype to float\n"
     ]
    },
    {
     "name": "stdout",
     "output_type": "stream",
     "text": [
      "Tile (8, 37) Processing Time: 9.19 seconds\n"
     ]
    },
    {
     "name": "stderr",
     "output_type": "stream",
     "text": [
      "INFO:root:Converting image dtype to float\n"
     ]
    },
    {
     "name": "stdout",
     "output_type": "stream",
     "text": [
      "Tile (8, 38) Processing Time: 9.12 seconds\n"
     ]
    },
    {
     "name": "stderr",
     "output_type": "stream",
     "text": [
      "INFO:root:Converting image dtype to float\n"
     ]
    },
    {
     "name": "stdout",
     "output_type": "stream",
     "text": [
      "Tile (8, 39) Processing Time: 9.15 seconds\n"
     ]
    },
    {
     "name": "stderr",
     "output_type": "stream",
     "text": [
      "INFO:root:Converting image dtype to float\n"
     ]
    },
    {
     "name": "stdout",
     "output_type": "stream",
     "text": [
      "Tile (8, 40) Processing Time: 9.07 seconds\n"
     ]
    },
    {
     "name": "stderr",
     "output_type": "stream",
     "text": [
      "INFO:root:Converting image dtype to float\n"
     ]
    },
    {
     "name": "stdout",
     "output_type": "stream",
     "text": [
      "Tile (8, 41) Processing Time: 9.06 seconds\n"
     ]
    },
    {
     "name": "stderr",
     "output_type": "stream",
     "text": [
      "INFO:root:Converting image dtype to float\n"
     ]
    },
    {
     "name": "stdout",
     "output_type": "stream",
     "text": [
      "Tile (8, 42) Processing Time: 8.74 seconds\n"
     ]
    },
    {
     "name": "stderr",
     "output_type": "stream",
     "text": [
      "INFO:root:Converting image dtype to float\n"
     ]
    },
    {
     "name": "stdout",
     "output_type": "stream",
     "text": [
      "Tile (8, 43) Processing Time: 8.79 seconds\n"
     ]
    },
    {
     "name": "stderr",
     "output_type": "stream",
     "text": [
      "INFO:root:Converting image dtype to float\n"
     ]
    },
    {
     "name": "stdout",
     "output_type": "stream",
     "text": [
      "Tile (8, 44) Processing Time: 9.03 seconds\n"
     ]
    },
    {
     "name": "stderr",
     "output_type": "stream",
     "text": [
      "INFO:root:Converting image dtype to float\n"
     ]
    },
    {
     "name": "stdout",
     "output_type": "stream",
     "text": [
      "Tile (8, 45) Processing Time: 8.81 seconds\n"
     ]
    },
    {
     "name": "stderr",
     "output_type": "stream",
     "text": [
      "INFO:root:Converting image dtype to float\n"
     ]
    },
    {
     "name": "stdout",
     "output_type": "stream",
     "text": [
      "Tile (8, 46) Processing Time: 8.89 seconds\n"
     ]
    },
    {
     "name": "stderr",
     "output_type": "stream",
     "text": [
      "INFO:root:Converting image dtype to float\n"
     ]
    },
    {
     "name": "stdout",
     "output_type": "stream",
     "text": [
      "Tile (8, 47) Processing Time: 8.78 seconds\n"
     ]
    },
    {
     "name": "stderr",
     "output_type": "stream",
     "text": [
      "INFO:root:Converting image dtype to float\n"
     ]
    },
    {
     "name": "stdout",
     "output_type": "stream",
     "text": [
      "Tile (8, 48) Processing Time: 8.56 seconds\n"
     ]
    },
    {
     "name": "stderr",
     "output_type": "stream",
     "text": [
      "INFO:root:Converting image dtype to float\n"
     ]
    },
    {
     "name": "stdout",
     "output_type": "stream",
     "text": [
      "Tile (8, 49) Processing Time: 8.60 seconds\n"
     ]
    },
    {
     "name": "stderr",
     "output_type": "stream",
     "text": [
      "INFO:root:Converting image dtype to float\n"
     ]
    },
    {
     "name": "stdout",
     "output_type": "stream",
     "text": [
      "Tile (8, 50) Processing Time: 9.06 seconds\n"
     ]
    },
    {
     "name": "stderr",
     "output_type": "stream",
     "text": [
      "INFO:root:Converting image dtype to float\n"
     ]
    },
    {
     "name": "stdout",
     "output_type": "stream",
     "text": [
      "Tile (8, 51) Processing Time: 9.00 seconds\n"
     ]
    },
    {
     "name": "stderr",
     "output_type": "stream",
     "text": [
      "INFO:root:Converting image dtype to float\n"
     ]
    },
    {
     "name": "stdout",
     "output_type": "stream",
     "text": [
      "Tile (8, 52) Processing Time: 8.66 seconds\n"
     ]
    },
    {
     "name": "stderr",
     "output_type": "stream",
     "text": [
      "INFO:root:Converting image dtype to float\n"
     ]
    },
    {
     "name": "stdout",
     "output_type": "stream",
     "text": [
      "Tile (8, 53) Processing Time: 8.01 seconds\n"
     ]
    },
    {
     "name": "stderr",
     "output_type": "stream",
     "text": [
      "INFO:root:Converting image dtype to float\n"
     ]
    },
    {
     "name": "stdout",
     "output_type": "stream",
     "text": [
      "Tile (9, 3) Processing Time: 7.48 seconds\n"
     ]
    },
    {
     "name": "stderr",
     "output_type": "stream",
     "text": [
      "INFO:root:Converting image dtype to float\n"
     ]
    },
    {
     "name": "stdout",
     "output_type": "stream",
     "text": [
      "Tile (9, 4) Processing Time: 7.44 seconds\n"
     ]
    },
    {
     "name": "stderr",
     "output_type": "stream",
     "text": [
      "INFO:root:Converting image dtype to float\n"
     ]
    },
    {
     "name": "stdout",
     "output_type": "stream",
     "text": [
      "Tile (9, 5) Processing Time: 7.46 seconds\n"
     ]
    },
    {
     "name": "stderr",
     "output_type": "stream",
     "text": [
      "INFO:root:Converting image dtype to float\n"
     ]
    },
    {
     "name": "stdout",
     "output_type": "stream",
     "text": [
      "Tile (9, 6) Processing Time: 7.59 seconds\n"
     ]
    },
    {
     "name": "stderr",
     "output_type": "stream",
     "text": [
      "INFO:root:Converting image dtype to float\n"
     ]
    },
    {
     "name": "stdout",
     "output_type": "stream",
     "text": [
      "Tile (9, 7) Processing Time: 7.73 seconds\n"
     ]
    },
    {
     "name": "stderr",
     "output_type": "stream",
     "text": [
      "INFO:root:Converting image dtype to float\n"
     ]
    },
    {
     "name": "stdout",
     "output_type": "stream",
     "text": [
      "Tile (9, 8) Processing Time: 7.60 seconds\n"
     ]
    },
    {
     "name": "stderr",
     "output_type": "stream",
     "text": [
      "INFO:root:Converting image dtype to float\n"
     ]
    },
    {
     "name": "stdout",
     "output_type": "stream",
     "text": [
      "Tile (9, 9) Processing Time: 7.86 seconds\n"
     ]
    },
    {
     "name": "stderr",
     "output_type": "stream",
     "text": [
      "INFO:root:Converting image dtype to float\n"
     ]
    },
    {
     "name": "stdout",
     "output_type": "stream",
     "text": [
      "Tile (9, 10) Processing Time: 8.08 seconds\n"
     ]
    },
    {
     "name": "stderr",
     "output_type": "stream",
     "text": [
      "INFO:root:Converting image dtype to float\n"
     ]
    },
    {
     "name": "stdout",
     "output_type": "stream",
     "text": [
      "Tile (9, 11) Processing Time: 8.26 seconds\n"
     ]
    },
    {
     "name": "stderr",
     "output_type": "stream",
     "text": [
      "INFO:root:Converting image dtype to float\n"
     ]
    },
    {
     "name": "stdout",
     "output_type": "stream",
     "text": [
      "Tile (9, 12) Processing Time: 8.64 seconds\n"
     ]
    },
    {
     "name": "stderr",
     "output_type": "stream",
     "text": [
      "INFO:root:Converting image dtype to float\n"
     ]
    },
    {
     "name": "stdout",
     "output_type": "stream",
     "text": [
      "Tile (9, 13) Processing Time: 8.77 seconds\n"
     ]
    },
    {
     "name": "stderr",
     "output_type": "stream",
     "text": [
      "INFO:root:Converting image dtype to float\n"
     ]
    },
    {
     "name": "stdout",
     "output_type": "stream",
     "text": [
      "Tile (9, 14) Processing Time: 9.02 seconds\n"
     ]
    },
    {
     "name": "stderr",
     "output_type": "stream",
     "text": [
      "INFO:root:Converting image dtype to float\n"
     ]
    },
    {
     "name": "stdout",
     "output_type": "stream",
     "text": [
      "Tile (9, 15) Processing Time: 9.00 seconds\n"
     ]
    },
    {
     "name": "stderr",
     "output_type": "stream",
     "text": [
      "INFO:root:Converting image dtype to float\n"
     ]
    },
    {
     "name": "stdout",
     "output_type": "stream",
     "text": [
      "Tile (9, 16) Processing Time: 8.52 seconds\n"
     ]
    },
    {
     "name": "stderr",
     "output_type": "stream",
     "text": [
      "INFO:root:Converting image dtype to float\n"
     ]
    },
    {
     "name": "stdout",
     "output_type": "stream",
     "text": [
      "Tile (9, 17) Processing Time: 8.56 seconds\n"
     ]
    },
    {
     "name": "stderr",
     "output_type": "stream",
     "text": [
      "INFO:root:Converting image dtype to float\n"
     ]
    },
    {
     "name": "stdout",
     "output_type": "stream",
     "text": [
      "Tile (9, 18) Processing Time: 8.52 seconds\n"
     ]
    },
    {
     "name": "stderr",
     "output_type": "stream",
     "text": [
      "INFO:root:Converting image dtype to float\n"
     ]
    },
    {
     "name": "stdout",
     "output_type": "stream",
     "text": [
      "Tile (9, 19) Processing Time: 8.53 seconds\n"
     ]
    },
    {
     "name": "stderr",
     "output_type": "stream",
     "text": [
      "INFO:root:Converting image dtype to float\n"
     ]
    },
    {
     "name": "stdout",
     "output_type": "stream",
     "text": [
      "Tile (9, 20) Processing Time: 8.28 seconds\n"
     ]
    },
    {
     "name": "stderr",
     "output_type": "stream",
     "text": [
      "INFO:root:Converting image dtype to float\n"
     ]
    },
    {
     "name": "stdout",
     "output_type": "stream",
     "text": [
      "Tile (9, 21) Processing Time: 8.38 seconds\n"
     ]
    },
    {
     "name": "stderr",
     "output_type": "stream",
     "text": [
      "INFO:root:Converting image dtype to float\n"
     ]
    },
    {
     "name": "stdout",
     "output_type": "stream",
     "text": [
      "Tile (9, 22) Processing Time: 8.38 seconds\n"
     ]
    },
    {
     "name": "stderr",
     "output_type": "stream",
     "text": [
      "INFO:root:Converting image dtype to float\n"
     ]
    },
    {
     "name": "stdout",
     "output_type": "stream",
     "text": [
      "Tile (9, 23) Processing Time: 8.59 seconds\n"
     ]
    },
    {
     "name": "stderr",
     "output_type": "stream",
     "text": [
      "INFO:root:Converting image dtype to float\n"
     ]
    },
    {
     "name": "stdout",
     "output_type": "stream",
     "text": [
      "Tile (9, 24) Processing Time: 8.49 seconds\n"
     ]
    },
    {
     "name": "stderr",
     "output_type": "stream",
     "text": [
      "INFO:root:Converting image dtype to float\n"
     ]
    },
    {
     "name": "stdout",
     "output_type": "stream",
     "text": [
      "Tile (9, 25) Processing Time: 8.96 seconds\n"
     ]
    },
    {
     "name": "stderr",
     "output_type": "stream",
     "text": [
      "INFO:root:Converting image dtype to float\n"
     ]
    },
    {
     "name": "stdout",
     "output_type": "stream",
     "text": [
      "Tile (9, 26) Processing Time: 8.93 seconds\n"
     ]
    },
    {
     "name": "stderr",
     "output_type": "stream",
     "text": [
      "INFO:root:Converting image dtype to float\n"
     ]
    },
    {
     "name": "stdout",
     "output_type": "stream",
     "text": [
      "Tile (9, 27) Processing Time: 9.24 seconds\n"
     ]
    },
    {
     "name": "stderr",
     "output_type": "stream",
     "text": [
      "INFO:root:Converting image dtype to float\n"
     ]
    },
    {
     "name": "stdout",
     "output_type": "stream",
     "text": [
      "Tile (9, 28) Processing Time: 8.93 seconds\n"
     ]
    },
    {
     "name": "stderr",
     "output_type": "stream",
     "text": [
      "INFO:root:Converting image dtype to float\n"
     ]
    },
    {
     "name": "stdout",
     "output_type": "stream",
     "text": [
      "Tile (9, 29) Processing Time: 8.84 seconds\n"
     ]
    },
    {
     "name": "stderr",
     "output_type": "stream",
     "text": [
      "INFO:root:Converting image dtype to float\n"
     ]
    },
    {
     "name": "stdout",
     "output_type": "stream",
     "text": [
      "Tile (9, 30) Processing Time: 8.80 seconds\n"
     ]
    },
    {
     "name": "stderr",
     "output_type": "stream",
     "text": [
      "INFO:root:Converting image dtype to float\n"
     ]
    },
    {
     "name": "stdout",
     "output_type": "stream",
     "text": [
      "Tile (9, 31) Processing Time: 8.72 seconds\n"
     ]
    },
    {
     "name": "stderr",
     "output_type": "stream",
     "text": [
      "INFO:root:Converting image dtype to float\n"
     ]
    },
    {
     "name": "stdout",
     "output_type": "stream",
     "text": [
      "Tile (9, 32) Processing Time: 8.70 seconds\n"
     ]
    },
    {
     "name": "stderr",
     "output_type": "stream",
     "text": [
      "INFO:root:Converting image dtype to float\n"
     ]
    },
    {
     "name": "stdout",
     "output_type": "stream",
     "text": [
      "Tile (9, 33) Processing Time: 9.13 seconds\n"
     ]
    },
    {
     "name": "stderr",
     "output_type": "stream",
     "text": [
      "INFO:root:Converting image dtype to float\n"
     ]
    },
    {
     "name": "stdout",
     "output_type": "stream",
     "text": [
      "Tile (9, 34) Processing Time: 9.31 seconds\n"
     ]
    },
    {
     "name": "stderr",
     "output_type": "stream",
     "text": [
      "INFO:root:Converting image dtype to float\n"
     ]
    },
    {
     "name": "stdout",
     "output_type": "stream",
     "text": [
      "Tile (9, 35) Processing Time: 8.95 seconds\n"
     ]
    },
    {
     "name": "stderr",
     "output_type": "stream",
     "text": [
      "INFO:root:Converting image dtype to float\n"
     ]
    },
    {
     "name": "stdout",
     "output_type": "stream",
     "text": [
      "Tile (9, 36) Processing Time: 8.85 seconds\n"
     ]
    },
    {
     "name": "stderr",
     "output_type": "stream",
     "text": [
      "INFO:root:Converting image dtype to float\n"
     ]
    },
    {
     "name": "stdout",
     "output_type": "stream",
     "text": [
      "Tile (9, 37) Processing Time: 9.17 seconds\n"
     ]
    },
    {
     "name": "stderr",
     "output_type": "stream",
     "text": [
      "INFO:root:Converting image dtype to float\n"
     ]
    },
    {
     "name": "stdout",
     "output_type": "stream",
     "text": [
      "Tile (9, 38) Processing Time: 9.20 seconds\n"
     ]
    },
    {
     "name": "stderr",
     "output_type": "stream",
     "text": [
      "INFO:root:Converting image dtype to float\n"
     ]
    },
    {
     "name": "stdout",
     "output_type": "stream",
     "text": [
      "Tile (9, 39) Processing Time: 9.21 seconds\n"
     ]
    },
    {
     "name": "stderr",
     "output_type": "stream",
     "text": [
      "INFO:root:Converting image dtype to float\n"
     ]
    },
    {
     "name": "stdout",
     "output_type": "stream",
     "text": [
      "Tile (9, 40) Processing Time: 9.21 seconds\n"
     ]
    },
    {
     "name": "stderr",
     "output_type": "stream",
     "text": [
      "INFO:root:Converting image dtype to float\n"
     ]
    },
    {
     "name": "stdout",
     "output_type": "stream",
     "text": [
      "Tile (9, 41) Processing Time: 8.93 seconds\n"
     ]
    },
    {
     "name": "stderr",
     "output_type": "stream",
     "text": [
      "INFO:root:Converting image dtype to float\n"
     ]
    },
    {
     "name": "stdout",
     "output_type": "stream",
     "text": [
      "Tile (9, 42) Processing Time: 8.63 seconds\n"
     ]
    },
    {
     "name": "stderr",
     "output_type": "stream",
     "text": [
      "INFO:root:Converting image dtype to float\n"
     ]
    },
    {
     "name": "stdout",
     "output_type": "stream",
     "text": [
      "Tile (9, 43) Processing Time: 8.94 seconds\n"
     ]
    },
    {
     "name": "stderr",
     "output_type": "stream",
     "text": [
      "INFO:root:Converting image dtype to float\n"
     ]
    },
    {
     "name": "stdout",
     "output_type": "stream",
     "text": [
      "Tile (9, 44) Processing Time: 9.07 seconds\n"
     ]
    },
    {
     "name": "stderr",
     "output_type": "stream",
     "text": [
      "INFO:root:Converting image dtype to float\n"
     ]
    },
    {
     "name": "stdout",
     "output_type": "stream",
     "text": [
      "Tile (9, 45) Processing Time: 8.86 seconds\n"
     ]
    },
    {
     "name": "stderr",
     "output_type": "stream",
     "text": [
      "INFO:root:Converting image dtype to float\n"
     ]
    },
    {
     "name": "stdout",
     "output_type": "stream",
     "text": [
      "Tile (9, 46) Processing Time: 8.95 seconds\n"
     ]
    },
    {
     "name": "stderr",
     "output_type": "stream",
     "text": [
      "INFO:root:Converting image dtype to float\n"
     ]
    },
    {
     "name": "stdout",
     "output_type": "stream",
     "text": [
      "Tile (9, 47) Processing Time: 9.13 seconds\n"
     ]
    },
    {
     "name": "stderr",
     "output_type": "stream",
     "text": [
      "INFO:root:Converting image dtype to float\n"
     ]
    },
    {
     "name": "stdout",
     "output_type": "stream",
     "text": [
      "Tile (9, 48) Processing Time: 9.00 seconds\n"
     ]
    },
    {
     "name": "stderr",
     "output_type": "stream",
     "text": [
      "INFO:root:Converting image dtype to float\n"
     ]
    },
    {
     "name": "stdout",
     "output_type": "stream",
     "text": [
      "Tile (9, 49) Processing Time: 8.78 seconds\n"
     ]
    },
    {
     "name": "stderr",
     "output_type": "stream",
     "text": [
      "INFO:root:Converting image dtype to float\n"
     ]
    },
    {
     "name": "stdout",
     "output_type": "stream",
     "text": [
      "Tile (9, 50) Processing Time: 8.71 seconds\n"
     ]
    },
    {
     "name": "stderr",
     "output_type": "stream",
     "text": [
      "INFO:root:Converting image dtype to float\n"
     ]
    },
    {
     "name": "stdout",
     "output_type": "stream",
     "text": [
      "Tile (9, 51) Processing Time: 8.89 seconds\n"
     ]
    },
    {
     "name": "stderr",
     "output_type": "stream",
     "text": [
      "INFO:root:Converting image dtype to float\n"
     ]
    },
    {
     "name": "stdout",
     "output_type": "stream",
     "text": [
      "Tile (9, 52) Processing Time: 8.66 seconds\n"
     ]
    },
    {
     "name": "stderr",
     "output_type": "stream",
     "text": [
      "INFO:root:Converting image dtype to float\n"
     ]
    },
    {
     "name": "stdout",
     "output_type": "stream",
     "text": [
      "Tile (9, 53) Processing Time: 7.75 seconds\n"
     ]
    },
    {
     "name": "stderr",
     "output_type": "stream",
     "text": [
      "INFO:root:Converting image dtype to float\n"
     ]
    },
    {
     "name": "stdout",
     "output_type": "stream",
     "text": [
      "Tile (10, 3) Processing Time: 7.66 seconds\n"
     ]
    },
    {
     "name": "stderr",
     "output_type": "stream",
     "text": [
      "INFO:root:Converting image dtype to float\n"
     ]
    },
    {
     "name": "stdout",
     "output_type": "stream",
     "text": [
      "Tile (10, 4) Processing Time: 7.81 seconds\n"
     ]
    },
    {
     "name": "stderr",
     "output_type": "stream",
     "text": [
      "INFO:root:Converting image dtype to float\n"
     ]
    },
    {
     "name": "stdout",
     "output_type": "stream",
     "text": [
      "Tile (10, 5) Processing Time: 7.74 seconds\n"
     ]
    },
    {
     "name": "stderr",
     "output_type": "stream",
     "text": [
      "INFO:root:Converting image dtype to float\n"
     ]
    },
    {
     "name": "stdout",
     "output_type": "stream",
     "text": [
      "Tile (10, 6) Processing Time: 7.90 seconds\n"
     ]
    },
    {
     "name": "stderr",
     "output_type": "stream",
     "text": [
      "INFO:root:Converting image dtype to float\n"
     ]
    },
    {
     "name": "stdout",
     "output_type": "stream",
     "text": [
      "Tile (10, 7) Processing Time: 8.05 seconds\n"
     ]
    },
    {
     "name": "stderr",
     "output_type": "stream",
     "text": [
      "INFO:root:Converting image dtype to float\n"
     ]
    },
    {
     "name": "stdout",
     "output_type": "stream",
     "text": [
      "Tile (10, 8) Processing Time: 8.30 seconds\n"
     ]
    },
    {
     "name": "stderr",
     "output_type": "stream",
     "text": [
      "INFO:root:Converting image dtype to float\n"
     ]
    },
    {
     "name": "stdout",
     "output_type": "stream",
     "text": [
      "Tile (10, 9) Processing Time: 8.09 seconds\n"
     ]
    },
    {
     "name": "stderr",
     "output_type": "stream",
     "text": [
      "INFO:root:Converting image dtype to float\n"
     ]
    },
    {
     "name": "stdout",
     "output_type": "stream",
     "text": [
      "Tile (10, 10) Processing Time: 8.51 seconds\n"
     ]
    },
    {
     "name": "stderr",
     "output_type": "stream",
     "text": [
      "INFO:root:Converting image dtype to float\n"
     ]
    },
    {
     "name": "stdout",
     "output_type": "stream",
     "text": [
      "Tile (10, 11) Processing Time: 8.64 seconds\n"
     ]
    },
    {
     "name": "stderr",
     "output_type": "stream",
     "text": [
      "INFO:root:Converting image dtype to float\n"
     ]
    },
    {
     "name": "stdout",
     "output_type": "stream",
     "text": [
      "Tile (10, 12) Processing Time: 8.68 seconds\n"
     ]
    },
    {
     "name": "stderr",
     "output_type": "stream",
     "text": [
      "INFO:root:Converting image dtype to float\n"
     ]
    },
    {
     "name": "stdout",
     "output_type": "stream",
     "text": [
      "Tile (10, 13) Processing Time: 8.56 seconds\n"
     ]
    },
    {
     "name": "stderr",
     "output_type": "stream",
     "text": [
      "INFO:root:Converting image dtype to float\n"
     ]
    },
    {
     "name": "stdout",
     "output_type": "stream",
     "text": [
      "Tile (10, 14) Processing Time: 8.88 seconds\n"
     ]
    },
    {
     "name": "stderr",
     "output_type": "stream",
     "text": [
      "INFO:root:Converting image dtype to float\n"
     ]
    },
    {
     "name": "stdout",
     "output_type": "stream",
     "text": [
      "Tile (10, 15) Processing Time: 8.96 seconds\n"
     ]
    },
    {
     "name": "stderr",
     "output_type": "stream",
     "text": [
      "INFO:root:Converting image dtype to float\n"
     ]
    },
    {
     "name": "stdout",
     "output_type": "stream",
     "text": [
      "Tile (10, 16) Processing Time: 8.94 seconds\n"
     ]
    },
    {
     "name": "stderr",
     "output_type": "stream",
     "text": [
      "INFO:root:Converting image dtype to float\n"
     ]
    },
    {
     "name": "stdout",
     "output_type": "stream",
     "text": [
      "Tile (10, 17) Processing Time: 8.58 seconds\n"
     ]
    },
    {
     "name": "stderr",
     "output_type": "stream",
     "text": [
      "INFO:root:Converting image dtype to float\n"
     ]
    },
    {
     "name": "stdout",
     "output_type": "stream",
     "text": [
      "Tile (10, 18) Processing Time: 8.29 seconds\n"
     ]
    },
    {
     "name": "stderr",
     "output_type": "stream",
     "text": [
      "INFO:root:Converting image dtype to float\n"
     ]
    },
    {
     "name": "stdout",
     "output_type": "stream",
     "text": [
      "Tile (10, 19) Processing Time: 8.26 seconds\n"
     ]
    },
    {
     "name": "stderr",
     "output_type": "stream",
     "text": [
      "INFO:root:Converting image dtype to float\n"
     ]
    },
    {
     "name": "stdout",
     "output_type": "stream",
     "text": [
      "Tile (10, 20) Processing Time: 8.63 seconds\n"
     ]
    },
    {
     "name": "stderr",
     "output_type": "stream",
     "text": [
      "INFO:root:Converting image dtype to float\n"
     ]
    },
    {
     "name": "stdout",
     "output_type": "stream",
     "text": [
      "Tile (10, 21) Processing Time: 8.34 seconds\n"
     ]
    },
    {
     "name": "stderr",
     "output_type": "stream",
     "text": [
      "INFO:root:Converting image dtype to float\n"
     ]
    },
    {
     "name": "stdout",
     "output_type": "stream",
     "text": [
      "Tile (10, 22) Processing Time: 8.48 seconds\n"
     ]
    },
    {
     "name": "stderr",
     "output_type": "stream",
     "text": [
      "INFO:root:Converting image dtype to float\n"
     ]
    },
    {
     "name": "stdout",
     "output_type": "stream",
     "text": [
      "Tile (10, 23) Processing Time: 8.86 seconds\n"
     ]
    },
    {
     "name": "stderr",
     "output_type": "stream",
     "text": [
      "INFO:root:Converting image dtype to float\n"
     ]
    },
    {
     "name": "stdout",
     "output_type": "stream",
     "text": [
      "Tile (10, 24) Processing Time: 9.06 seconds\n"
     ]
    },
    {
     "name": "stderr",
     "output_type": "stream",
     "text": [
      "INFO:root:Converting image dtype to float\n"
     ]
    },
    {
     "name": "stdout",
     "output_type": "stream",
     "text": [
      "Tile (10, 25) Processing Time: 8.84 seconds\n"
     ]
    },
    {
     "name": "stderr",
     "output_type": "stream",
     "text": [
      "INFO:root:Converting image dtype to float\n"
     ]
    },
    {
     "name": "stdout",
     "output_type": "stream",
     "text": [
      "Tile (10, 26) Processing Time: 9.01 seconds\n"
     ]
    },
    {
     "name": "stderr",
     "output_type": "stream",
     "text": [
      "INFO:root:Converting image dtype to float\n"
     ]
    },
    {
     "name": "stdout",
     "output_type": "stream",
     "text": [
      "Tile (10, 27) Processing Time: 9.22 seconds\n"
     ]
    },
    {
     "name": "stderr",
     "output_type": "stream",
     "text": [
      "INFO:root:Converting image dtype to float\n"
     ]
    },
    {
     "name": "stdout",
     "output_type": "stream",
     "text": [
      "Tile (10, 28) Processing Time: 9.02 seconds\n"
     ]
    },
    {
     "name": "stderr",
     "output_type": "stream",
     "text": [
      "INFO:root:Converting image dtype to float\n"
     ]
    },
    {
     "name": "stdout",
     "output_type": "stream",
     "text": [
      "Tile (10, 29) Processing Time: 8.76 seconds\n"
     ]
    },
    {
     "name": "stderr",
     "output_type": "stream",
     "text": [
      "INFO:root:Converting image dtype to float\n"
     ]
    },
    {
     "name": "stdout",
     "output_type": "stream",
     "text": [
      "Tile (10, 30) Processing Time: 8.95 seconds\n"
     ]
    },
    {
     "name": "stderr",
     "output_type": "stream",
     "text": [
      "INFO:root:Converting image dtype to float\n"
     ]
    },
    {
     "name": "stdout",
     "output_type": "stream",
     "text": [
      "Tile (10, 31) Processing Time: 9.17 seconds\n"
     ]
    },
    {
     "name": "stderr",
     "output_type": "stream",
     "text": [
      "INFO:root:Converting image dtype to float\n"
     ]
    },
    {
     "name": "stdout",
     "output_type": "stream",
     "text": [
      "Tile (10, 32) Processing Time: 8.82 seconds\n"
     ]
    },
    {
     "name": "stderr",
     "output_type": "stream",
     "text": [
      "INFO:root:Converting image dtype to float\n"
     ]
    },
    {
     "name": "stdout",
     "output_type": "stream",
     "text": [
      "Tile (10, 33) Processing Time: 8.96 seconds\n"
     ]
    },
    {
     "name": "stderr",
     "output_type": "stream",
     "text": [
      "INFO:root:Converting image dtype to float\n"
     ]
    },
    {
     "name": "stdout",
     "output_type": "stream",
     "text": [
      "Tile (10, 34) Processing Time: 9.37 seconds\n"
     ]
    },
    {
     "name": "stderr",
     "output_type": "stream",
     "text": [
      "INFO:root:Converting image dtype to float\n"
     ]
    },
    {
     "name": "stdout",
     "output_type": "stream",
     "text": [
      "Tile (10, 35) Processing Time: 8.84 seconds\n"
     ]
    },
    {
     "name": "stderr",
     "output_type": "stream",
     "text": [
      "INFO:root:Converting image dtype to float\n"
     ]
    },
    {
     "name": "stdout",
     "output_type": "stream",
     "text": [
      "Tile (10, 36) Processing Time: 8.88 seconds\n"
     ]
    },
    {
     "name": "stderr",
     "output_type": "stream",
     "text": [
      "INFO:root:Converting image dtype to float\n"
     ]
    },
    {
     "name": "stdout",
     "output_type": "stream",
     "text": [
      "Tile (10, 37) Processing Time: 9.10 seconds\n"
     ]
    },
    {
     "name": "stderr",
     "output_type": "stream",
     "text": [
      "INFO:root:Converting image dtype to float\n"
     ]
    },
    {
     "name": "stdout",
     "output_type": "stream",
     "text": [
      "Tile (10, 38) Processing Time: 9.14 seconds\n"
     ]
    },
    {
     "name": "stderr",
     "output_type": "stream",
     "text": [
      "INFO:root:Converting image dtype to float\n"
     ]
    },
    {
     "name": "stdout",
     "output_type": "stream",
     "text": [
      "Tile (10, 39) Processing Time: 9.03 seconds\n"
     ]
    },
    {
     "name": "stderr",
     "output_type": "stream",
     "text": [
      "INFO:root:Converting image dtype to float\n"
     ]
    },
    {
     "name": "stdout",
     "output_type": "stream",
     "text": [
      "Tile (10, 40) Processing Time: 9.24 seconds\n"
     ]
    },
    {
     "name": "stderr",
     "output_type": "stream",
     "text": [
      "INFO:root:Converting image dtype to float\n"
     ]
    },
    {
     "name": "stdout",
     "output_type": "stream",
     "text": [
      "Tile (10, 41) Processing Time: 8.94 seconds\n"
     ]
    },
    {
     "name": "stderr",
     "output_type": "stream",
     "text": [
      "INFO:root:Converting image dtype to float\n"
     ]
    },
    {
     "name": "stdout",
     "output_type": "stream",
     "text": [
      "Tile (10, 42) Processing Time: 8.83 seconds\n"
     ]
    },
    {
     "name": "stderr",
     "output_type": "stream",
     "text": [
      "INFO:root:Converting image dtype to float\n"
     ]
    },
    {
     "name": "stdout",
     "output_type": "stream",
     "text": [
      "Tile (10, 43) Processing Time: 9.15 seconds\n"
     ]
    },
    {
     "name": "stderr",
     "output_type": "stream",
     "text": [
      "INFO:root:Converting image dtype to float\n"
     ]
    },
    {
     "name": "stdout",
     "output_type": "stream",
     "text": [
      "Tile (10, 44) Processing Time: 9.05 seconds\n"
     ]
    },
    {
     "name": "stderr",
     "output_type": "stream",
     "text": [
      "INFO:root:Converting image dtype to float\n"
     ]
    },
    {
     "name": "stdout",
     "output_type": "stream",
     "text": [
      "Tile (10, 45) Processing Time: 9.29 seconds\n"
     ]
    },
    {
     "name": "stderr",
     "output_type": "stream",
     "text": [
      "INFO:root:Converting image dtype to float\n"
     ]
    },
    {
     "name": "stdout",
     "output_type": "stream",
     "text": [
      "Tile (10, 46) Processing Time: 9.30 seconds\n"
     ]
    },
    {
     "name": "stderr",
     "output_type": "stream",
     "text": [
      "INFO:root:Converting image dtype to float\n"
     ]
    },
    {
     "name": "stdout",
     "output_type": "stream",
     "text": [
      "Tile (10, 47) Processing Time: 9.18 seconds\n"
     ]
    },
    {
     "name": "stderr",
     "output_type": "stream",
     "text": [
      "INFO:root:Converting image dtype to float\n"
     ]
    },
    {
     "name": "stdout",
     "output_type": "stream",
     "text": [
      "Tile (10, 48) Processing Time: 8.75 seconds\n"
     ]
    },
    {
     "name": "stderr",
     "output_type": "stream",
     "text": [
      "INFO:root:Converting image dtype to float\n"
     ]
    },
    {
     "name": "stdout",
     "output_type": "stream",
     "text": [
      "Tile (10, 49) Processing Time: 8.68 seconds\n"
     ]
    },
    {
     "name": "stderr",
     "output_type": "stream",
     "text": [
      "INFO:root:Converting image dtype to float\n"
     ]
    },
    {
     "name": "stdout",
     "output_type": "stream",
     "text": [
      "Tile (10, 50) Processing Time: 8.76 seconds\n"
     ]
    },
    {
     "name": "stderr",
     "output_type": "stream",
     "text": [
      "INFO:root:Converting image dtype to float\n"
     ]
    },
    {
     "name": "stdout",
     "output_type": "stream",
     "text": [
      "Tile (10, 51) Processing Time: 8.40 seconds\n"
     ]
    },
    {
     "name": "stderr",
     "output_type": "stream",
     "text": [
      "INFO:root:Converting image dtype to float\n"
     ]
    },
    {
     "name": "stdout",
     "output_type": "stream",
     "text": [
      "Tile (10, 52) Processing Time: 8.21 seconds\n"
     ]
    },
    {
     "name": "stderr",
     "output_type": "stream",
     "text": [
      "INFO:root:Converting image dtype to float\n"
     ]
    },
    {
     "name": "stdout",
     "output_type": "stream",
     "text": [
      "Tile (10, 53) Processing Time: 7.58 seconds\n"
     ]
    },
    {
     "name": "stderr",
     "output_type": "stream",
     "text": [
      "INFO:root:Converting image dtype to float\n"
     ]
    },
    {
     "name": "stdout",
     "output_type": "stream",
     "text": [
      "Tile (11, 2) Processing Time: 7.56 seconds\n"
     ]
    },
    {
     "name": "stderr",
     "output_type": "stream",
     "text": [
      "INFO:root:Converting image dtype to float\n"
     ]
    },
    {
     "name": "stdout",
     "output_type": "stream",
     "text": [
      "Tile (11, 3) Processing Time: 7.81 seconds\n"
     ]
    },
    {
     "name": "stderr",
     "output_type": "stream",
     "text": [
      "INFO:root:Converting image dtype to float\n"
     ]
    },
    {
     "name": "stdout",
     "output_type": "stream",
     "text": [
      "Tile (11, 4) Processing Time: 8.57 seconds\n"
     ]
    },
    {
     "name": "stderr",
     "output_type": "stream",
     "text": [
      "INFO:root:Converting image dtype to float\n"
     ]
    },
    {
     "name": "stdout",
     "output_type": "stream",
     "text": [
      "Tile (11, 5) Processing Time: 8.60 seconds\n"
     ]
    },
    {
     "name": "stderr",
     "output_type": "stream",
     "text": [
      "INFO:root:Converting image dtype to float\n"
     ]
    },
    {
     "name": "stdout",
     "output_type": "stream",
     "text": [
      "Tile (11, 6) Processing Time: 8.50 seconds\n"
     ]
    },
    {
     "name": "stderr",
     "output_type": "stream",
     "text": [
      "INFO:root:Converting image dtype to float\n"
     ]
    },
    {
     "name": "stdout",
     "output_type": "stream",
     "text": [
      "Tile (11, 7) Processing Time: 8.38 seconds\n"
     ]
    },
    {
     "name": "stderr",
     "output_type": "stream",
     "text": [
      "INFO:root:Converting image dtype to float\n"
     ]
    },
    {
     "name": "stdout",
     "output_type": "stream",
     "text": [
      "Tile (11, 8) Processing Time: 8.51 seconds\n"
     ]
    },
    {
     "name": "stderr",
     "output_type": "stream",
     "text": [
      "INFO:root:Converting image dtype to float\n"
     ]
    },
    {
     "name": "stdout",
     "output_type": "stream",
     "text": [
      "Tile (11, 9) Processing Time: 8.68 seconds\n"
     ]
    },
    {
     "name": "stderr",
     "output_type": "stream",
     "text": [
      "INFO:root:Converting image dtype to float\n"
     ]
    },
    {
     "name": "stdout",
     "output_type": "stream",
     "text": [
      "Tile (11, 10) Processing Time: 8.77 seconds\n"
     ]
    },
    {
     "name": "stderr",
     "output_type": "stream",
     "text": [
      "INFO:root:Converting image dtype to float\n"
     ]
    },
    {
     "name": "stdout",
     "output_type": "stream",
     "text": [
      "Tile (11, 11) Processing Time: 8.94 seconds\n"
     ]
    },
    {
     "name": "stderr",
     "output_type": "stream",
     "text": [
      "INFO:root:Converting image dtype to float\n"
     ]
    },
    {
     "name": "stdout",
     "output_type": "stream",
     "text": [
      "Tile (11, 12) Processing Time: 8.67 seconds\n"
     ]
    },
    {
     "name": "stderr",
     "output_type": "stream",
     "text": [
      "INFO:root:Converting image dtype to float\n"
     ]
    },
    {
     "name": "stdout",
     "output_type": "stream",
     "text": [
      "Tile (11, 13) Processing Time: 8.62 seconds\n"
     ]
    },
    {
     "name": "stderr",
     "output_type": "stream",
     "text": [
      "INFO:root:Converting image dtype to float\n"
     ]
    },
    {
     "name": "stdout",
     "output_type": "stream",
     "text": [
      "Tile (11, 14) Processing Time: 8.52 seconds\n"
     ]
    },
    {
     "name": "stderr",
     "output_type": "stream",
     "text": [
      "INFO:root:Converting image dtype to float\n"
     ]
    },
    {
     "name": "stdout",
     "output_type": "stream",
     "text": [
      "Tile (11, 15) Processing Time: 8.77 seconds\n"
     ]
    },
    {
     "name": "stderr",
     "output_type": "stream",
     "text": [
      "INFO:root:Converting image dtype to float\n"
     ]
    },
    {
     "name": "stdout",
     "output_type": "stream",
     "text": [
      "Tile (11, 16) Processing Time: 8.79 seconds\n"
     ]
    },
    {
     "name": "stderr",
     "output_type": "stream",
     "text": [
      "INFO:root:Converting image dtype to float\n"
     ]
    },
    {
     "name": "stdout",
     "output_type": "stream",
     "text": [
      "Tile (11, 17) Processing Time: 8.61 seconds\n"
     ]
    },
    {
     "name": "stderr",
     "output_type": "stream",
     "text": [
      "INFO:root:Converting image dtype to float\n"
     ]
    },
    {
     "name": "stdout",
     "output_type": "stream",
     "text": [
      "Tile (11, 18) Processing Time: 8.24 seconds\n"
     ]
    },
    {
     "name": "stderr",
     "output_type": "stream",
     "text": [
      "INFO:root:Converting image dtype to float\n"
     ]
    },
    {
     "name": "stdout",
     "output_type": "stream",
     "text": [
      "Tile (11, 19) Processing Time: 8.15 seconds\n"
     ]
    },
    {
     "name": "stderr",
     "output_type": "stream",
     "text": [
      "INFO:root:Converting image dtype to float\n"
     ]
    },
    {
     "name": "stdout",
     "output_type": "stream",
     "text": [
      "Tile (11, 20) Processing Time: 8.43 seconds\n"
     ]
    },
    {
     "name": "stderr",
     "output_type": "stream",
     "text": [
      "INFO:root:Converting image dtype to float\n"
     ]
    },
    {
     "name": "stdout",
     "output_type": "stream",
     "text": [
      "Tile (11, 21) Processing Time: 8.26 seconds\n"
     ]
    },
    {
     "name": "stderr",
     "output_type": "stream",
     "text": [
      "INFO:root:Converting image dtype to float\n"
     ]
    },
    {
     "name": "stdout",
     "output_type": "stream",
     "text": [
      "Tile (11, 22) Processing Time: 8.39 seconds\n"
     ]
    },
    {
     "name": "stderr",
     "output_type": "stream",
     "text": [
      "INFO:root:Converting image dtype to float\n"
     ]
    },
    {
     "name": "stdout",
     "output_type": "stream",
     "text": [
      "Tile (11, 23) Processing Time: 9.00 seconds\n"
     ]
    },
    {
     "name": "stderr",
     "output_type": "stream",
     "text": [
      "INFO:root:Converting image dtype to float\n"
     ]
    },
    {
     "name": "stdout",
     "output_type": "stream",
     "text": [
      "Tile (11, 24) Processing Time: 8.99 seconds\n"
     ]
    },
    {
     "name": "stderr",
     "output_type": "stream",
     "text": [
      "INFO:root:Converting image dtype to float\n"
     ]
    },
    {
     "name": "stdout",
     "output_type": "stream",
     "text": [
      "Tile (11, 25) Processing Time: 8.84 seconds\n"
     ]
    },
    {
     "name": "stderr",
     "output_type": "stream",
     "text": [
      "INFO:root:Converting image dtype to float\n"
     ]
    },
    {
     "name": "stdout",
     "output_type": "stream",
     "text": [
      "Tile (11, 26) Processing Time: 8.82 seconds\n"
     ]
    },
    {
     "name": "stderr",
     "output_type": "stream",
     "text": [
      "INFO:root:Converting image dtype to float\n"
     ]
    },
    {
     "name": "stdout",
     "output_type": "stream",
     "text": [
      "Tile (11, 27) Processing Time: 8.93 seconds\n"
     ]
    },
    {
     "name": "stderr",
     "output_type": "stream",
     "text": [
      "INFO:root:Converting image dtype to float\n"
     ]
    },
    {
     "name": "stdout",
     "output_type": "stream",
     "text": [
      "Tile (11, 28) Processing Time: 9.04 seconds\n"
     ]
    },
    {
     "name": "stderr",
     "output_type": "stream",
     "text": [
      "INFO:root:Converting image dtype to float\n"
     ]
    },
    {
     "name": "stdout",
     "output_type": "stream",
     "text": [
      "Tile (11, 29) Processing Time: 8.87 seconds\n"
     ]
    },
    {
     "name": "stderr",
     "output_type": "stream",
     "text": [
      "INFO:root:Converting image dtype to float\n"
     ]
    },
    {
     "name": "stdout",
     "output_type": "stream",
     "text": [
      "Tile (11, 30) Processing Time: 8.75 seconds\n"
     ]
    },
    {
     "name": "stderr",
     "output_type": "stream",
     "text": [
      "INFO:root:Converting image dtype to float\n"
     ]
    },
    {
     "name": "stdout",
     "output_type": "stream",
     "text": [
      "Tile (11, 31) Processing Time: 8.87 seconds\n"
     ]
    },
    {
     "name": "stderr",
     "output_type": "stream",
     "text": [
      "INFO:root:Converting image dtype to float\n"
     ]
    },
    {
     "name": "stdout",
     "output_type": "stream",
     "text": [
      "Tile (11, 32) Processing Time: 8.79 seconds\n"
     ]
    },
    {
     "name": "stderr",
     "output_type": "stream",
     "text": [
      "INFO:root:Converting image dtype to float\n"
     ]
    },
    {
     "name": "stdout",
     "output_type": "stream",
     "text": [
      "Tile (11, 33) Processing Time: 9.02 seconds\n"
     ]
    },
    {
     "name": "stderr",
     "output_type": "stream",
     "text": [
      "INFO:root:Converting image dtype to float\n"
     ]
    },
    {
     "name": "stdout",
     "output_type": "stream",
     "text": [
      "Tile (11, 34) Processing Time: 8.93 seconds\n"
     ]
    },
    {
     "name": "stderr",
     "output_type": "stream",
     "text": [
      "INFO:root:Converting image dtype to float\n"
     ]
    },
    {
     "name": "stdout",
     "output_type": "stream",
     "text": [
      "Tile (11, 35) Processing Time: 9.27 seconds\n"
     ]
    },
    {
     "name": "stderr",
     "output_type": "stream",
     "text": [
      "INFO:root:Converting image dtype to float\n"
     ]
    },
    {
     "name": "stdout",
     "output_type": "stream",
     "text": [
      "Tile (11, 36) Processing Time: 8.87 seconds\n"
     ]
    },
    {
     "name": "stderr",
     "output_type": "stream",
     "text": [
      "INFO:root:Converting image dtype to float\n"
     ]
    },
    {
     "name": "stdout",
     "output_type": "stream",
     "text": [
      "Tile (11, 37) Processing Time: 8.57 seconds\n"
     ]
    },
    {
     "name": "stderr",
     "output_type": "stream",
     "text": [
      "INFO:root:Converting image dtype to float\n"
     ]
    },
    {
     "name": "stdout",
     "output_type": "stream",
     "text": [
      "Tile (11, 38) Processing Time: 8.84 seconds\n"
     ]
    },
    {
     "name": "stderr",
     "output_type": "stream",
     "text": [
      "INFO:root:Converting image dtype to float\n"
     ]
    },
    {
     "name": "stdout",
     "output_type": "stream",
     "text": [
      "Tile (11, 39) Processing Time: 8.94 seconds\n"
     ]
    },
    {
     "name": "stderr",
     "output_type": "stream",
     "text": [
      "INFO:root:Converting image dtype to float\n"
     ]
    },
    {
     "name": "stdout",
     "output_type": "stream",
     "text": [
      "Tile (11, 40) Processing Time: 8.90 seconds\n"
     ]
    },
    {
     "name": "stderr",
     "output_type": "stream",
     "text": [
      "INFO:root:Converting image dtype to float\n"
     ]
    },
    {
     "name": "stdout",
     "output_type": "stream",
     "text": [
      "Tile (11, 41) Processing Time: 8.87 seconds\n"
     ]
    },
    {
     "name": "stderr",
     "output_type": "stream",
     "text": [
      "INFO:root:Converting image dtype to float\n"
     ]
    },
    {
     "name": "stdout",
     "output_type": "stream",
     "text": [
      "Tile (11, 42) Processing Time: 9.07 seconds\n"
     ]
    },
    {
     "name": "stderr",
     "output_type": "stream",
     "text": [
      "INFO:root:Converting image dtype to float\n"
     ]
    },
    {
     "name": "stdout",
     "output_type": "stream",
     "text": [
      "Tile (11, 43) Processing Time: 8.90 seconds\n"
     ]
    },
    {
     "name": "stderr",
     "output_type": "stream",
     "text": [
      "INFO:root:Converting image dtype to float\n"
     ]
    },
    {
     "name": "stdout",
     "output_type": "stream",
     "text": [
      "Tile (11, 44) Processing Time: 9.09 seconds\n"
     ]
    },
    {
     "name": "stderr",
     "output_type": "stream",
     "text": [
      "INFO:root:Converting image dtype to float\n"
     ]
    },
    {
     "name": "stdout",
     "output_type": "stream",
     "text": [
      "Tile (11, 45) Processing Time: 9.27 seconds\n"
     ]
    },
    {
     "name": "stderr",
     "output_type": "stream",
     "text": [
      "INFO:root:Converting image dtype to float\n"
     ]
    },
    {
     "name": "stdout",
     "output_type": "stream",
     "text": [
      "Tile (11, 46) Processing Time: 9.09 seconds\n"
     ]
    },
    {
     "name": "stderr",
     "output_type": "stream",
     "text": [
      "INFO:root:Converting image dtype to float\n"
     ]
    },
    {
     "name": "stdout",
     "output_type": "stream",
     "text": [
      "Tile (11, 47) Processing Time: 8.99 seconds\n"
     ]
    },
    {
     "name": "stderr",
     "output_type": "stream",
     "text": [
      "INFO:root:Converting image dtype to float\n"
     ]
    },
    {
     "name": "stdout",
     "output_type": "stream",
     "text": [
      "Tile (11, 48) Processing Time: 8.95 seconds\n"
     ]
    },
    {
     "name": "stderr",
     "output_type": "stream",
     "text": [
      "INFO:root:Converting image dtype to float\n"
     ]
    },
    {
     "name": "stdout",
     "output_type": "stream",
     "text": [
      "Tile (11, 49) Processing Time: 8.71 seconds\n"
     ]
    },
    {
     "name": "stderr",
     "output_type": "stream",
     "text": [
      "INFO:root:Converting image dtype to float\n"
     ]
    },
    {
     "name": "stdout",
     "output_type": "stream",
     "text": [
      "Tile (11, 50) Processing Time: 8.77 seconds\n"
     ]
    },
    {
     "name": "stderr",
     "output_type": "stream",
     "text": [
      "INFO:root:Converting image dtype to float\n"
     ]
    },
    {
     "name": "stdout",
     "output_type": "stream",
     "text": [
      "Tile (11, 51) Processing Time: 8.49 seconds\n"
     ]
    },
    {
     "name": "stderr",
     "output_type": "stream",
     "text": [
      "INFO:root:Converting image dtype to float\n"
     ]
    },
    {
     "name": "stdout",
     "output_type": "stream",
     "text": [
      "Tile (11, 52) Processing Time: 8.29 seconds\n"
     ]
    },
    {
     "name": "stderr",
     "output_type": "stream",
     "text": [
      "INFO:root:Converting image dtype to float\n"
     ]
    },
    {
     "name": "stdout",
     "output_type": "stream",
     "text": [
      "Tile (11, 53) Processing Time: 7.61 seconds\n"
     ]
    },
    {
     "name": "stderr",
     "output_type": "stream",
     "text": [
      "INFO:root:Converting image dtype to float\n"
     ]
    },
    {
     "name": "stdout",
     "output_type": "stream",
     "text": [
      "Tile (12, 2) Processing Time: 7.60 seconds\n"
     ]
    },
    {
     "name": "stderr",
     "output_type": "stream",
     "text": [
      "INFO:root:Converting image dtype to float\n"
     ]
    },
    {
     "name": "stdout",
     "output_type": "stream",
     "text": [
      "Tile (12, 3) Processing Time: 7.87 seconds\n"
     ]
    },
    {
     "name": "stderr",
     "output_type": "stream",
     "text": [
      "INFO:root:Converting image dtype to float\n"
     ]
    },
    {
     "name": "stdout",
     "output_type": "stream",
     "text": [
      "Tile (12, 4) Processing Time: 8.64 seconds\n"
     ]
    },
    {
     "name": "stderr",
     "output_type": "stream",
     "text": [
      "INFO:root:Converting image dtype to float\n"
     ]
    },
    {
     "name": "stdout",
     "output_type": "stream",
     "text": [
      "Tile (12, 5) Processing Time: 8.88 seconds\n"
     ]
    },
    {
     "name": "stderr",
     "output_type": "stream",
     "text": [
      "INFO:root:Converting image dtype to float\n"
     ]
    },
    {
     "name": "stdout",
     "output_type": "stream",
     "text": [
      "Tile (12, 6) Processing Time: 9.15 seconds\n"
     ]
    },
    {
     "name": "stderr",
     "output_type": "stream",
     "text": [
      "INFO:root:Converting image dtype to float\n"
     ]
    },
    {
     "name": "stdout",
     "output_type": "stream",
     "text": [
      "Tile (12, 7) Processing Time: 8.76 seconds\n"
     ]
    },
    {
     "name": "stderr",
     "output_type": "stream",
     "text": [
      "INFO:root:Converting image dtype to float\n"
     ]
    },
    {
     "name": "stdout",
     "output_type": "stream",
     "text": [
      "Tile (12, 8) Processing Time: 8.75 seconds\n"
     ]
    },
    {
     "name": "stderr",
     "output_type": "stream",
     "text": [
      "INFO:root:Converting image dtype to float\n"
     ]
    },
    {
     "name": "stdout",
     "output_type": "stream",
     "text": [
      "Tile (12, 9) Processing Time: 8.67 seconds\n"
     ]
    },
    {
     "name": "stderr",
     "output_type": "stream",
     "text": [
      "INFO:root:Converting image dtype to float\n"
     ]
    },
    {
     "name": "stdout",
     "output_type": "stream",
     "text": [
      "Tile (12, 10) Processing Time: 8.61 seconds\n"
     ]
    },
    {
     "name": "stderr",
     "output_type": "stream",
     "text": [
      "INFO:root:Converting image dtype to float\n"
     ]
    },
    {
     "name": "stdout",
     "output_type": "stream",
     "text": [
      "Tile (12, 11) Processing Time: 8.48 seconds\n"
     ]
    },
    {
     "name": "stderr",
     "output_type": "stream",
     "text": [
      "INFO:root:Converting image dtype to float\n"
     ]
    },
    {
     "name": "stdout",
     "output_type": "stream",
     "text": [
      "Tile (12, 12) Processing Time: 8.52 seconds\n"
     ]
    },
    {
     "name": "stderr",
     "output_type": "stream",
     "text": [
      "INFO:root:Converting image dtype to float\n"
     ]
    },
    {
     "name": "stdout",
     "output_type": "stream",
     "text": [
      "Tile (12, 13) Processing Time: 8.52 seconds\n"
     ]
    },
    {
     "name": "stderr",
     "output_type": "stream",
     "text": [
      "INFO:root:Converting image dtype to float\n"
     ]
    },
    {
     "name": "stdout",
     "output_type": "stream",
     "text": [
      "Tile (12, 14) Processing Time: 8.35 seconds\n"
     ]
    },
    {
     "name": "stderr",
     "output_type": "stream",
     "text": [
      "INFO:root:Converting image dtype to float\n"
     ]
    },
    {
     "name": "stdout",
     "output_type": "stream",
     "text": [
      "Tile (12, 15) Processing Time: 8.46 seconds\n"
     ]
    },
    {
     "name": "stderr",
     "output_type": "stream",
     "text": [
      "INFO:root:Converting image dtype to float\n"
     ]
    },
    {
     "name": "stdout",
     "output_type": "stream",
     "text": [
      "Tile (12, 16) Processing Time: 8.35 seconds\n"
     ]
    },
    {
     "name": "stderr",
     "output_type": "stream",
     "text": [
      "INFO:root:Converting image dtype to float\n"
     ]
    },
    {
     "name": "stdout",
     "output_type": "stream",
     "text": [
      "Tile (12, 17) Processing Time: 8.40 seconds\n"
     ]
    },
    {
     "name": "stderr",
     "output_type": "stream",
     "text": [
      "INFO:root:Converting image dtype to float\n"
     ]
    },
    {
     "name": "stdout",
     "output_type": "stream",
     "text": [
      "Tile (12, 18) Processing Time: 8.32 seconds\n"
     ]
    },
    {
     "name": "stderr",
     "output_type": "stream",
     "text": [
      "INFO:root:Converting image dtype to float\n"
     ]
    },
    {
     "name": "stdout",
     "output_type": "stream",
     "text": [
      "Tile (12, 19) Processing Time: 8.04 seconds\n"
     ]
    },
    {
     "name": "stderr",
     "output_type": "stream",
     "text": [
      "INFO:root:Converting image dtype to float\n"
     ]
    },
    {
     "name": "stdout",
     "output_type": "stream",
     "text": [
      "Tile (12, 20) Processing Time: 8.08 seconds\n"
     ]
    },
    {
     "name": "stderr",
     "output_type": "stream",
     "text": [
      "INFO:root:Converting image dtype to float\n"
     ]
    },
    {
     "name": "stdout",
     "output_type": "stream",
     "text": [
      "Tile (12, 21) Processing Time: 8.13 seconds\n"
     ]
    },
    {
     "name": "stderr",
     "output_type": "stream",
     "text": [
      "INFO:root:Converting image dtype to float\n"
     ]
    },
    {
     "name": "stdout",
     "output_type": "stream",
     "text": [
      "Tile (12, 22) Processing Time: 8.74 seconds\n"
     ]
    },
    {
     "name": "stderr",
     "output_type": "stream",
     "text": [
      "INFO:root:Converting image dtype to float\n"
     ]
    },
    {
     "name": "stdout",
     "output_type": "stream",
     "text": [
      "Tile (12, 23) Processing Time: 8.97 seconds\n"
     ]
    },
    {
     "name": "stderr",
     "output_type": "stream",
     "text": [
      "INFO:root:Converting image dtype to float\n"
     ]
    },
    {
     "name": "stdout",
     "output_type": "stream",
     "text": [
      "Tile (12, 24) Processing Time: 9.00 seconds\n"
     ]
    },
    {
     "name": "stderr",
     "output_type": "stream",
     "text": [
      "INFO:root:Converting image dtype to float\n"
     ]
    },
    {
     "name": "stdout",
     "output_type": "stream",
     "text": [
      "Tile (12, 25) Processing Time: 8.90 seconds\n"
     ]
    },
    {
     "name": "stderr",
     "output_type": "stream",
     "text": [
      "INFO:root:Converting image dtype to float\n"
     ]
    },
    {
     "name": "stdout",
     "output_type": "stream",
     "text": [
      "Tile (12, 26) Processing Time: 8.95 seconds\n"
     ]
    },
    {
     "name": "stderr",
     "output_type": "stream",
     "text": [
      "INFO:root:Converting image dtype to float\n"
     ]
    },
    {
     "name": "stdout",
     "output_type": "stream",
     "text": [
      "Tile (12, 27) Processing Time: 8.72 seconds\n"
     ]
    },
    {
     "name": "stderr",
     "output_type": "stream",
     "text": [
      "INFO:root:Converting image dtype to float\n"
     ]
    },
    {
     "name": "stdout",
     "output_type": "stream",
     "text": [
      "Tile (12, 28) Processing Time: 8.77 seconds\n"
     ]
    },
    {
     "name": "stderr",
     "output_type": "stream",
     "text": [
      "INFO:root:Converting image dtype to float\n"
     ]
    },
    {
     "name": "stdout",
     "output_type": "stream",
     "text": [
      "Tile (12, 29) Processing Time: 8.74 seconds\n"
     ]
    },
    {
     "name": "stderr",
     "output_type": "stream",
     "text": [
      "INFO:root:Converting image dtype to float\n"
     ]
    },
    {
     "name": "stdout",
     "output_type": "stream",
     "text": [
      "Tile (12, 30) Processing Time: 8.89 seconds\n"
     ]
    },
    {
     "name": "stderr",
     "output_type": "stream",
     "text": [
      "INFO:root:Converting image dtype to float\n"
     ]
    },
    {
     "name": "stdout",
     "output_type": "stream",
     "text": [
      "Tile (12, 31) Processing Time: 8.66 seconds\n"
     ]
    },
    {
     "name": "stderr",
     "output_type": "stream",
     "text": [
      "INFO:root:Converting image dtype to float\n"
     ]
    },
    {
     "name": "stdout",
     "output_type": "stream",
     "text": [
      "Tile (12, 32) Processing Time: 8.80 seconds\n"
     ]
    },
    {
     "name": "stderr",
     "output_type": "stream",
     "text": [
      "INFO:root:Converting image dtype to float\n"
     ]
    },
    {
     "name": "stdout",
     "output_type": "stream",
     "text": [
      "Tile (12, 33) Processing Time: 9.11 seconds\n"
     ]
    },
    {
     "name": "stderr",
     "output_type": "stream",
     "text": [
      "INFO:root:Converting image dtype to float\n"
     ]
    },
    {
     "name": "stdout",
     "output_type": "stream",
     "text": [
      "Tile (12, 34) Processing Time: 9.00 seconds\n"
     ]
    },
    {
     "name": "stderr",
     "output_type": "stream",
     "text": [
      "INFO:root:Converting image dtype to float\n"
     ]
    },
    {
     "name": "stdout",
     "output_type": "stream",
     "text": [
      "Tile (12, 35) Processing Time: 8.81 seconds\n"
     ]
    },
    {
     "name": "stderr",
     "output_type": "stream",
     "text": [
      "INFO:root:Converting image dtype to float\n"
     ]
    },
    {
     "name": "stdout",
     "output_type": "stream",
     "text": [
      "Tile (12, 36) Processing Time: 8.93 seconds\n"
     ]
    },
    {
     "name": "stderr",
     "output_type": "stream",
     "text": [
      "INFO:root:Converting image dtype to float\n"
     ]
    },
    {
     "name": "stdout",
     "output_type": "stream",
     "text": [
      "Tile (12, 37) Processing Time: 8.92 seconds\n"
     ]
    },
    {
     "name": "stderr",
     "output_type": "stream",
     "text": [
      "INFO:root:Converting image dtype to float\n"
     ]
    },
    {
     "name": "stdout",
     "output_type": "stream",
     "text": [
      "Tile (12, 38) Processing Time: 8.63 seconds\n"
     ]
    },
    {
     "name": "stderr",
     "output_type": "stream",
     "text": [
      "INFO:root:Converting image dtype to float\n"
     ]
    },
    {
     "name": "stdout",
     "output_type": "stream",
     "text": [
      "Tile (12, 39) Processing Time: 8.84 seconds\n"
     ]
    },
    {
     "name": "stderr",
     "output_type": "stream",
     "text": [
      "INFO:root:Converting image dtype to float\n"
     ]
    },
    {
     "name": "stdout",
     "output_type": "stream",
     "text": [
      "Tile (12, 40) Processing Time: 8.90 seconds\n"
     ]
    },
    {
     "name": "stderr",
     "output_type": "stream",
     "text": [
      "INFO:root:Converting image dtype to float\n"
     ]
    },
    {
     "name": "stdout",
     "output_type": "stream",
     "text": [
      "Tile (12, 41) Processing Time: 9.08 seconds\n"
     ]
    },
    {
     "name": "stderr",
     "output_type": "stream",
     "text": [
      "INFO:root:Converting image dtype to float\n"
     ]
    },
    {
     "name": "stdout",
     "output_type": "stream",
     "text": [
      "Tile (12, 42) Processing Time: 9.07 seconds\n"
     ]
    },
    {
     "name": "stderr",
     "output_type": "stream",
     "text": [
      "INFO:root:Converting image dtype to float\n"
     ]
    },
    {
     "name": "stdout",
     "output_type": "stream",
     "text": [
      "Tile (12, 43) Processing Time: 9.16 seconds\n"
     ]
    },
    {
     "name": "stderr",
     "output_type": "stream",
     "text": [
      "INFO:root:Converting image dtype to float\n"
     ]
    },
    {
     "name": "stdout",
     "output_type": "stream",
     "text": [
      "Tile (12, 44) Processing Time: 9.40 seconds\n"
     ]
    },
    {
     "name": "stderr",
     "output_type": "stream",
     "text": [
      "INFO:root:Converting image dtype to float\n"
     ]
    },
    {
     "name": "stdout",
     "output_type": "stream",
     "text": [
      "Tile (12, 45) Processing Time: 9.10 seconds\n"
     ]
    },
    {
     "name": "stderr",
     "output_type": "stream",
     "text": [
      "INFO:root:Converting image dtype to float\n"
     ]
    },
    {
     "name": "stdout",
     "output_type": "stream",
     "text": [
      "Tile (12, 46) Processing Time: 9.04 seconds\n"
     ]
    },
    {
     "name": "stderr",
     "output_type": "stream",
     "text": [
      "INFO:root:Converting image dtype to float\n"
     ]
    },
    {
     "name": "stdout",
     "output_type": "stream",
     "text": [
      "Tile (12, 47) Processing Time: 9.04 seconds\n"
     ]
    },
    {
     "name": "stderr",
     "output_type": "stream",
     "text": [
      "INFO:root:Converting image dtype to float\n"
     ]
    },
    {
     "name": "stdout",
     "output_type": "stream",
     "text": [
      "Tile (12, 48) Processing Time: 8.69 seconds\n"
     ]
    },
    {
     "name": "stderr",
     "output_type": "stream",
     "text": [
      "INFO:root:Converting image dtype to float\n"
     ]
    },
    {
     "name": "stdout",
     "output_type": "stream",
     "text": [
      "Tile (12, 49) Processing Time: 8.62 seconds\n"
     ]
    },
    {
     "name": "stderr",
     "output_type": "stream",
     "text": [
      "INFO:root:Converting image dtype to float\n"
     ]
    },
    {
     "name": "stdout",
     "output_type": "stream",
     "text": [
      "Tile (12, 50) Processing Time: 8.92 seconds\n"
     ]
    },
    {
     "name": "stderr",
     "output_type": "stream",
     "text": [
      "INFO:root:Converting image dtype to float\n"
     ]
    },
    {
     "name": "stdout",
     "output_type": "stream",
     "text": [
      "Tile (12, 51) Processing Time: 8.82 seconds\n"
     ]
    },
    {
     "name": "stderr",
     "output_type": "stream",
     "text": [
      "INFO:root:Converting image dtype to float\n"
     ]
    },
    {
     "name": "stdout",
     "output_type": "stream",
     "text": [
      "Tile (12, 52) Processing Time: 8.24 seconds\n"
     ]
    },
    {
     "name": "stderr",
     "output_type": "stream",
     "text": [
      "INFO:root:Converting image dtype to float\n"
     ]
    },
    {
     "name": "stdout",
     "output_type": "stream",
     "text": [
      "Tile (12, 53) Processing Time: 7.65 seconds\n"
     ]
    },
    {
     "name": "stderr",
     "output_type": "stream",
     "text": [
      "INFO:root:Converting image dtype to float\n"
     ]
    },
    {
     "name": "stdout",
     "output_type": "stream",
     "text": [
      "Tile (13, 1) Processing Time: 7.46 seconds\n"
     ]
    },
    {
     "name": "stderr",
     "output_type": "stream",
     "text": [
      "INFO:root:Converting image dtype to float\n"
     ]
    },
    {
     "name": "stdout",
     "output_type": "stream",
     "text": [
      "Tile (13, 2) Processing Time: 7.58 seconds\n"
     ]
    },
    {
     "name": "stderr",
     "output_type": "stream",
     "text": [
      "INFO:root:Converting image dtype to float\n"
     ]
    },
    {
     "name": "stdout",
     "output_type": "stream",
     "text": [
      "Tile (13, 3) Processing Time: 7.74 seconds\n"
     ]
    },
    {
     "name": "stderr",
     "output_type": "stream",
     "text": [
      "INFO:root:Converting image dtype to float\n"
     ]
    },
    {
     "name": "stdout",
     "output_type": "stream",
     "text": [
      "Tile (13, 4) Processing Time: 8.45 seconds\n"
     ]
    },
    {
     "name": "stderr",
     "output_type": "stream",
     "text": [
      "INFO:root:Converting image dtype to float\n"
     ]
    },
    {
     "name": "stdout",
     "output_type": "stream",
     "text": [
      "Tile (13, 5) Processing Time: 9.15 seconds\n"
     ]
    },
    {
     "name": "stderr",
     "output_type": "stream",
     "text": [
      "INFO:root:Converting image dtype to float\n"
     ]
    },
    {
     "name": "stdout",
     "output_type": "stream",
     "text": [
      "Tile (13, 6) Processing Time: 9.26 seconds\n"
     ]
    },
    {
     "name": "stderr",
     "output_type": "stream",
     "text": [
      "INFO:root:Converting image dtype to float\n"
     ]
    },
    {
     "name": "stdout",
     "output_type": "stream",
     "text": [
      "Tile (13, 7) Processing Time: 9.20 seconds\n"
     ]
    },
    {
     "name": "stderr",
     "output_type": "stream",
     "text": [
      "INFO:root:Converting image dtype to float\n"
     ]
    },
    {
     "name": "stdout",
     "output_type": "stream",
     "text": [
      "Tile (13, 8) Processing Time: 8.65 seconds\n"
     ]
    },
    {
     "name": "stderr",
     "output_type": "stream",
     "text": [
      "INFO:root:Converting image dtype to float\n"
     ]
    },
    {
     "name": "stdout",
     "output_type": "stream",
     "text": [
      "Tile (13, 9) Processing Time: 8.60 seconds\n"
     ]
    },
    {
     "name": "stderr",
     "output_type": "stream",
     "text": [
      "INFO:root:Converting image dtype to float\n"
     ]
    },
    {
     "name": "stdout",
     "output_type": "stream",
     "text": [
      "Tile (13, 10) Processing Time: 8.69 seconds\n"
     ]
    },
    {
     "name": "stderr",
     "output_type": "stream",
     "text": [
      "INFO:root:Converting image dtype to float\n"
     ]
    },
    {
     "name": "stdout",
     "output_type": "stream",
     "text": [
      "Tile (13, 11) Processing Time: 8.57 seconds\n"
     ]
    },
    {
     "name": "stderr",
     "output_type": "stream",
     "text": [
      "INFO:root:Converting image dtype to float\n"
     ]
    },
    {
     "name": "stdout",
     "output_type": "stream",
     "text": [
      "Tile (13, 12) Processing Time: 8.12 seconds\n"
     ]
    },
    {
     "name": "stderr",
     "output_type": "stream",
     "text": [
      "INFO:root:Converting image dtype to float\n"
     ]
    },
    {
     "name": "stdout",
     "output_type": "stream",
     "text": [
      "Tile (13, 13) Processing Time: 8.03 seconds\n"
     ]
    },
    {
     "name": "stderr",
     "output_type": "stream",
     "text": [
      "INFO:root:Converting image dtype to float\n"
     ]
    },
    {
     "name": "stdout",
     "output_type": "stream",
     "text": [
      "Tile (13, 14) Processing Time: 8.37 seconds\n"
     ]
    },
    {
     "name": "stderr",
     "output_type": "stream",
     "text": [
      "INFO:root:Converting image dtype to float\n"
     ]
    },
    {
     "name": "stdout",
     "output_type": "stream",
     "text": [
      "Tile (13, 15) Processing Time: 8.87 seconds\n"
     ]
    },
    {
     "name": "stderr",
     "output_type": "stream",
     "text": [
      "INFO:root:Converting image dtype to float\n"
     ]
    },
    {
     "name": "stdout",
     "output_type": "stream",
     "text": [
      "Tile (13, 16) Processing Time: 8.71 seconds\n"
     ]
    },
    {
     "name": "stderr",
     "output_type": "stream",
     "text": [
      "INFO:root:Converting image dtype to float\n"
     ]
    },
    {
     "name": "stdout",
     "output_type": "stream",
     "text": [
      "Tile (13, 17) Processing Time: 8.75 seconds\n"
     ]
    },
    {
     "name": "stderr",
     "output_type": "stream",
     "text": [
      "INFO:root:Converting image dtype to float\n"
     ]
    },
    {
     "name": "stdout",
     "output_type": "stream",
     "text": [
      "Tile (13, 18) Processing Time: 8.51 seconds\n"
     ]
    },
    {
     "name": "stderr",
     "output_type": "stream",
     "text": [
      "INFO:root:Converting image dtype to float\n"
     ]
    },
    {
     "name": "stdout",
     "output_type": "stream",
     "text": [
      "Tile (13, 19) Processing Time: 8.28 seconds\n"
     ]
    },
    {
     "name": "stderr",
     "output_type": "stream",
     "text": [
      "INFO:root:Converting image dtype to float\n"
     ]
    },
    {
     "name": "stdout",
     "output_type": "stream",
     "text": [
      "Tile (13, 20) Processing Time: 8.28 seconds\n"
     ]
    },
    {
     "name": "stderr",
     "output_type": "stream",
     "text": [
      "INFO:root:Converting image dtype to float\n"
     ]
    },
    {
     "name": "stdout",
     "output_type": "stream",
     "text": [
      "Tile (13, 21) Processing Time: 8.35 seconds\n"
     ]
    },
    {
     "name": "stderr",
     "output_type": "stream",
     "text": [
      "INFO:root:Converting image dtype to float\n"
     ]
    },
    {
     "name": "stdout",
     "output_type": "stream",
     "text": [
      "Tile (13, 22) Processing Time: 8.58 seconds\n"
     ]
    },
    {
     "name": "stderr",
     "output_type": "stream",
     "text": [
      "INFO:root:Converting image dtype to float\n"
     ]
    },
    {
     "name": "stdout",
     "output_type": "stream",
     "text": [
      "Tile (13, 23) Processing Time: 8.74 seconds\n"
     ]
    },
    {
     "name": "stderr",
     "output_type": "stream",
     "text": [
      "INFO:root:Converting image dtype to float\n"
     ]
    },
    {
     "name": "stdout",
     "output_type": "stream",
     "text": [
      "Tile (13, 24) Processing Time: 8.85 seconds\n"
     ]
    },
    {
     "name": "stderr",
     "output_type": "stream",
     "text": [
      "INFO:root:Converting image dtype to float\n"
     ]
    },
    {
     "name": "stdout",
     "output_type": "stream",
     "text": [
      "Tile (13, 25) Processing Time: 8.94 seconds\n"
     ]
    },
    {
     "name": "stderr",
     "output_type": "stream",
     "text": [
      "INFO:root:Converting image dtype to float\n"
     ]
    },
    {
     "name": "stdout",
     "output_type": "stream",
     "text": [
      "Tile (13, 26) Processing Time: 8.92 seconds\n"
     ]
    },
    {
     "name": "stderr",
     "output_type": "stream",
     "text": [
      "INFO:root:Converting image dtype to float\n"
     ]
    },
    {
     "name": "stdout",
     "output_type": "stream",
     "text": [
      "Tile (13, 27) Processing Time: 8.65 seconds\n"
     ]
    },
    {
     "name": "stderr",
     "output_type": "stream",
     "text": [
      "INFO:root:Converting image dtype to float\n"
     ]
    },
    {
     "name": "stdout",
     "output_type": "stream",
     "text": [
      "Tile (13, 28) Processing Time: 8.63 seconds\n"
     ]
    },
    {
     "name": "stderr",
     "output_type": "stream",
     "text": [
      "INFO:root:Converting image dtype to float\n"
     ]
    },
    {
     "name": "stdout",
     "output_type": "stream",
     "text": [
      "Tile (13, 29) Processing Time: 8.52 seconds\n"
     ]
    },
    {
     "name": "stderr",
     "output_type": "stream",
     "text": [
      "INFO:root:Converting image dtype to float\n"
     ]
    },
    {
     "name": "stdout",
     "output_type": "stream",
     "text": [
      "Tile (13, 30) Processing Time: 8.55 seconds\n"
     ]
    },
    {
     "name": "stderr",
     "output_type": "stream",
     "text": [
      "INFO:root:Converting image dtype to float\n"
     ]
    },
    {
     "name": "stdout",
     "output_type": "stream",
     "text": [
      "Tile (13, 31) Processing Time: 8.57 seconds\n"
     ]
    },
    {
     "name": "stderr",
     "output_type": "stream",
     "text": [
      "INFO:root:Converting image dtype to float\n"
     ]
    },
    {
     "name": "stdout",
     "output_type": "stream",
     "text": [
      "Tile (13, 32) Processing Time: 8.87 seconds\n"
     ]
    },
    {
     "name": "stderr",
     "output_type": "stream",
     "text": [
      "INFO:root:Converting image dtype to float\n"
     ]
    },
    {
     "name": "stdout",
     "output_type": "stream",
     "text": [
      "Tile (13, 33) Processing Time: 9.03 seconds\n"
     ]
    },
    {
     "name": "stderr",
     "output_type": "stream",
     "text": [
      "INFO:root:Converting image dtype to float\n"
     ]
    },
    {
     "name": "stdout",
     "output_type": "stream",
     "text": [
      "Tile (13, 34) Processing Time: 9.09 seconds\n"
     ]
    },
    {
     "name": "stderr",
     "output_type": "stream",
     "text": [
      "INFO:root:Converting image dtype to float\n"
     ]
    },
    {
     "name": "stdout",
     "output_type": "stream",
     "text": [
      "Tile (13, 35) Processing Time: 8.81 seconds\n"
     ]
    },
    {
     "name": "stderr",
     "output_type": "stream",
     "text": [
      "INFO:root:Converting image dtype to float\n"
     ]
    },
    {
     "name": "stdout",
     "output_type": "stream",
     "text": [
      "Tile (13, 36) Processing Time: 8.79 seconds\n"
     ]
    },
    {
     "name": "stderr",
     "output_type": "stream",
     "text": [
      "INFO:root:Converting image dtype to float\n"
     ]
    },
    {
     "name": "stdout",
     "output_type": "stream",
     "text": [
      "Tile (13, 37) Processing Time: 8.84 seconds\n"
     ]
    },
    {
     "name": "stderr",
     "output_type": "stream",
     "text": [
      "INFO:root:Converting image dtype to float\n"
     ]
    },
    {
     "name": "stdout",
     "output_type": "stream",
     "text": [
      "Tile (13, 38) Processing Time: 8.82 seconds\n"
     ]
    },
    {
     "name": "stderr",
     "output_type": "stream",
     "text": [
      "INFO:root:Converting image dtype to float\n"
     ]
    },
    {
     "name": "stdout",
     "output_type": "stream",
     "text": [
      "Tile (13, 39) Processing Time: 9.00 seconds\n"
     ]
    },
    {
     "name": "stderr",
     "output_type": "stream",
     "text": [
      "INFO:root:Converting image dtype to float\n"
     ]
    },
    {
     "name": "stdout",
     "output_type": "stream",
     "text": [
      "Tile (13, 40) Processing Time: 9.10 seconds\n"
     ]
    },
    {
     "name": "stderr",
     "output_type": "stream",
     "text": [
      "INFO:root:Converting image dtype to float\n"
     ]
    },
    {
     "name": "stdout",
     "output_type": "stream",
     "text": [
      "Tile (13, 41) Processing Time: 9.08 seconds\n"
     ]
    },
    {
     "name": "stderr",
     "output_type": "stream",
     "text": [
      "INFO:root:Converting image dtype to float\n"
     ]
    },
    {
     "name": "stdout",
     "output_type": "stream",
     "text": [
      "Tile (13, 42) Processing Time: 9.03 seconds\n"
     ]
    },
    {
     "name": "stderr",
     "output_type": "stream",
     "text": [
      "INFO:root:Converting image dtype to float\n"
     ]
    },
    {
     "name": "stdout",
     "output_type": "stream",
     "text": [
      "Tile (13, 43) Processing Time: 8.94 seconds\n"
     ]
    },
    {
     "name": "stderr",
     "output_type": "stream",
     "text": [
      "INFO:root:Converting image dtype to float\n"
     ]
    },
    {
     "name": "stdout",
     "output_type": "stream",
     "text": [
      "Tile (13, 44) Processing Time: 8.99 seconds\n"
     ]
    },
    {
     "name": "stderr",
     "output_type": "stream",
     "text": [
      "INFO:root:Converting image dtype to float\n"
     ]
    },
    {
     "name": "stdout",
     "output_type": "stream",
     "text": [
      "Tile (13, 45) Processing Time: 9.32 seconds\n"
     ]
    },
    {
     "name": "stderr",
     "output_type": "stream",
     "text": [
      "INFO:root:Converting image dtype to float\n"
     ]
    },
    {
     "name": "stdout",
     "output_type": "stream",
     "text": [
      "Tile (13, 46) Processing Time: 8.98 seconds\n"
     ]
    },
    {
     "name": "stderr",
     "output_type": "stream",
     "text": [
      "INFO:root:Converting image dtype to float\n"
     ]
    },
    {
     "name": "stdout",
     "output_type": "stream",
     "text": [
      "Tile (13, 47) Processing Time: 8.67 seconds\n"
     ]
    },
    {
     "name": "stderr",
     "output_type": "stream",
     "text": [
      "INFO:root:Converting image dtype to float\n"
     ]
    },
    {
     "name": "stdout",
     "output_type": "stream",
     "text": [
      "Tile (13, 48) Processing Time: 8.63 seconds\n"
     ]
    },
    {
     "name": "stderr",
     "output_type": "stream",
     "text": [
      "INFO:root:Converting image dtype to float\n"
     ]
    },
    {
     "name": "stdout",
     "output_type": "stream",
     "text": [
      "Tile (13, 49) Processing Time: 8.61 seconds\n"
     ]
    },
    {
     "name": "stderr",
     "output_type": "stream",
     "text": [
      "INFO:root:Converting image dtype to float\n"
     ]
    },
    {
     "name": "stdout",
     "output_type": "stream",
     "text": [
      "Tile (13, 50) Processing Time: 8.55 seconds\n"
     ]
    },
    {
     "name": "stderr",
     "output_type": "stream",
     "text": [
      "INFO:root:Converting image dtype to float\n"
     ]
    },
    {
     "name": "stdout",
     "output_type": "stream",
     "text": [
      "Tile (13, 51) Processing Time: 8.78 seconds\n"
     ]
    },
    {
     "name": "stderr",
     "output_type": "stream",
     "text": [
      "INFO:root:Converting image dtype to float\n"
     ]
    },
    {
     "name": "stdout",
     "output_type": "stream",
     "text": [
      "Tile (13, 52) Processing Time: 7.95 seconds\n"
     ]
    },
    {
     "name": "stderr",
     "output_type": "stream",
     "text": [
      "INFO:root:Converting image dtype to float\n"
     ]
    },
    {
     "name": "stdout",
     "output_type": "stream",
     "text": [
      "Tile (13, 53) Processing Time: 7.54 seconds\n"
     ]
    },
    {
     "name": "stderr",
     "output_type": "stream",
     "text": [
      "INFO:root:Converting image dtype to float\n"
     ]
    },
    {
     "name": "stdout",
     "output_type": "stream",
     "text": [
      "Tile (14, 1) Processing Time: 7.59 seconds\n"
     ]
    },
    {
     "name": "stderr",
     "output_type": "stream",
     "text": [
      "INFO:root:Converting image dtype to float\n"
     ]
    },
    {
     "name": "stdout",
     "output_type": "stream",
     "text": [
      "Tile (14, 2) Processing Time: 8.20 seconds\n"
     ]
    },
    {
     "name": "stderr",
     "output_type": "stream",
     "text": [
      "INFO:root:Converting image dtype to float\n"
     ]
    },
    {
     "name": "stdout",
     "output_type": "stream",
     "text": [
      "Tile (14, 3) Processing Time: 8.36 seconds\n"
     ]
    },
    {
     "name": "stderr",
     "output_type": "stream",
     "text": [
      "INFO:root:Converting image dtype to float\n"
     ]
    },
    {
     "name": "stdout",
     "output_type": "stream",
     "text": [
      "Tile (14, 4) Processing Time: 8.90 seconds\n"
     ]
    },
    {
     "name": "stderr",
     "output_type": "stream",
     "text": [
      "INFO:root:Converting image dtype to float\n"
     ]
    },
    {
     "name": "stdout",
     "output_type": "stream",
     "text": [
      "Tile (14, 5) Processing Time: 9.16 seconds\n"
     ]
    },
    {
     "name": "stderr",
     "output_type": "stream",
     "text": [
      "INFO:root:Converting image dtype to float\n"
     ]
    },
    {
     "name": "stdout",
     "output_type": "stream",
     "text": [
      "Tile (14, 6) Processing Time: 9.07 seconds\n"
     ]
    },
    {
     "name": "stderr",
     "output_type": "stream",
     "text": [
      "INFO:root:Converting image dtype to float\n"
     ]
    },
    {
     "name": "stdout",
     "output_type": "stream",
     "text": [
      "Tile (14, 7) Processing Time: 9.16 seconds\n"
     ]
    },
    {
     "name": "stderr",
     "output_type": "stream",
     "text": [
      "INFO:root:Converting image dtype to float\n"
     ]
    },
    {
     "name": "stdout",
     "output_type": "stream",
     "text": [
      "Tile (14, 8) Processing Time: 8.84 seconds\n"
     ]
    },
    {
     "name": "stderr",
     "output_type": "stream",
     "text": [
      "INFO:root:Converting image dtype to float\n"
     ]
    },
    {
     "name": "stdout",
     "output_type": "stream",
     "text": [
      "Tile (14, 9) Processing Time: 9.01 seconds\n"
     ]
    },
    {
     "name": "stderr",
     "output_type": "stream",
     "text": [
      "INFO:root:Converting image dtype to float\n"
     ]
    },
    {
     "name": "stdout",
     "output_type": "stream",
     "text": [
      "Tile (14, 10) Processing Time: 8.89 seconds\n"
     ]
    },
    {
     "name": "stderr",
     "output_type": "stream",
     "text": [
      "INFO:root:Converting image dtype to float\n"
     ]
    },
    {
     "name": "stdout",
     "output_type": "stream",
     "text": [
      "Tile (14, 11) Processing Time: 8.53 seconds\n"
     ]
    },
    {
     "name": "stderr",
     "output_type": "stream",
     "text": [
      "INFO:root:Converting image dtype to float\n"
     ]
    },
    {
     "name": "stdout",
     "output_type": "stream",
     "text": [
      "Tile (14, 12) Processing Time: 8.30 seconds\n"
     ]
    },
    {
     "name": "stderr",
     "output_type": "stream",
     "text": [
      "INFO:root:Converting image dtype to float\n"
     ]
    },
    {
     "name": "stdout",
     "output_type": "stream",
     "text": [
      "Tile (14, 13) Processing Time: 8.29 seconds\n"
     ]
    },
    {
     "name": "stderr",
     "output_type": "stream",
     "text": [
      "INFO:root:Converting image dtype to float\n"
     ]
    },
    {
     "name": "stdout",
     "output_type": "stream",
     "text": [
      "Tile (14, 14) Processing Time: 8.78 seconds\n"
     ]
    },
    {
     "name": "stderr",
     "output_type": "stream",
     "text": [
      "INFO:root:Converting image dtype to float\n"
     ]
    },
    {
     "name": "stdout",
     "output_type": "stream",
     "text": [
      "Tile (14, 15) Processing Time: 8.68 seconds\n"
     ]
    },
    {
     "name": "stderr",
     "output_type": "stream",
     "text": [
      "INFO:root:Converting image dtype to float\n"
     ]
    },
    {
     "name": "stdout",
     "output_type": "stream",
     "text": [
      "Tile (14, 16) Processing Time: 8.65 seconds\n"
     ]
    },
    {
     "name": "stderr",
     "output_type": "stream",
     "text": [
      "INFO:root:Converting image dtype to float\n"
     ]
    },
    {
     "name": "stdout",
     "output_type": "stream",
     "text": [
      "Tile (14, 17) Processing Time: 9.02 seconds\n"
     ]
    },
    {
     "name": "stderr",
     "output_type": "stream",
     "text": [
      "INFO:root:Converting image dtype to float\n"
     ]
    },
    {
     "name": "stdout",
     "output_type": "stream",
     "text": [
      "Tile (14, 18) Processing Time: 8.92 seconds\n"
     ]
    },
    {
     "name": "stderr",
     "output_type": "stream",
     "text": [
      "INFO:root:Converting image dtype to float\n"
     ]
    },
    {
     "name": "stdout",
     "output_type": "stream",
     "text": [
      "Tile (14, 19) Processing Time: 8.67 seconds\n"
     ]
    },
    {
     "name": "stderr",
     "output_type": "stream",
     "text": [
      "INFO:root:Converting image dtype to float\n"
     ]
    },
    {
     "name": "stdout",
     "output_type": "stream",
     "text": [
      "Tile (14, 20) Processing Time: 8.50 seconds\n"
     ]
    },
    {
     "name": "stderr",
     "output_type": "stream",
     "text": [
      "INFO:root:Converting image dtype to float\n"
     ]
    },
    {
     "name": "stdout",
     "output_type": "stream",
     "text": [
      "Tile (14, 21) Processing Time: 8.67 seconds\n"
     ]
    },
    {
     "name": "stderr",
     "output_type": "stream",
     "text": [
      "INFO:root:Converting image dtype to float\n"
     ]
    },
    {
     "name": "stdout",
     "output_type": "stream",
     "text": [
      "Tile (14, 22) Processing Time: 8.84 seconds\n"
     ]
    },
    {
     "name": "stderr",
     "output_type": "stream",
     "text": [
      "INFO:root:Converting image dtype to float\n"
     ]
    },
    {
     "name": "stdout",
     "output_type": "stream",
     "text": [
      "Tile (14, 23) Processing Time: 8.50 seconds\n"
     ]
    },
    {
     "name": "stderr",
     "output_type": "stream",
     "text": [
      "INFO:root:Converting image dtype to float\n"
     ]
    },
    {
     "name": "stdout",
     "output_type": "stream",
     "text": [
      "Tile (14, 24) Processing Time: 8.37 seconds\n"
     ]
    },
    {
     "name": "stderr",
     "output_type": "stream",
     "text": [
      "INFO:root:Converting image dtype to float\n"
     ]
    },
    {
     "name": "stdout",
     "output_type": "stream",
     "text": [
      "Tile (14, 25) Processing Time: 9.18 seconds\n"
     ]
    },
    {
     "name": "stderr",
     "output_type": "stream",
     "text": [
      "INFO:root:Converting image dtype to float\n"
     ]
    },
    {
     "name": "stdout",
     "output_type": "stream",
     "text": [
      "Tile (14, 26) Processing Time: 9.02 seconds\n"
     ]
    },
    {
     "name": "stderr",
     "output_type": "stream",
     "text": [
      "INFO:root:Converting image dtype to float\n"
     ]
    },
    {
     "name": "stdout",
     "output_type": "stream",
     "text": [
      "Tile (14, 27) Processing Time: 8.68 seconds\n"
     ]
    },
    {
     "name": "stderr",
     "output_type": "stream",
     "text": [
      "INFO:root:Converting image dtype to float\n"
     ]
    },
    {
     "name": "stdout",
     "output_type": "stream",
     "text": [
      "Tile (14, 28) Processing Time: 8.32 seconds\n"
     ]
    },
    {
     "name": "stderr",
     "output_type": "stream",
     "text": [
      "INFO:root:Converting image dtype to float\n"
     ]
    },
    {
     "name": "stdout",
     "output_type": "stream",
     "text": [
      "Tile (14, 29) Processing Time: 8.30 seconds\n"
     ]
    },
    {
     "name": "stderr",
     "output_type": "stream",
     "text": [
      "INFO:root:Converting image dtype to float\n"
     ]
    },
    {
     "name": "stdout",
     "output_type": "stream",
     "text": [
      "Tile (14, 30) Processing Time: 8.29 seconds\n"
     ]
    },
    {
     "name": "stderr",
     "output_type": "stream",
     "text": [
      "INFO:root:Converting image dtype to float\n"
     ]
    },
    {
     "name": "stdout",
     "output_type": "stream",
     "text": [
      "Tile (14, 31) Processing Time: 8.32 seconds\n"
     ]
    },
    {
     "name": "stderr",
     "output_type": "stream",
     "text": [
      "INFO:root:Converting image dtype to float\n"
     ]
    },
    {
     "name": "stdout",
     "output_type": "stream",
     "text": [
      "Tile (14, 32) Processing Time: 8.44 seconds\n"
     ]
    },
    {
     "name": "stderr",
     "output_type": "stream",
     "text": [
      "INFO:root:Converting image dtype to float\n"
     ]
    },
    {
     "name": "stdout",
     "output_type": "stream",
     "text": [
      "Tile (14, 33) Processing Time: 8.79 seconds\n"
     ]
    },
    {
     "name": "stderr",
     "output_type": "stream",
     "text": [
      "INFO:root:Converting image dtype to float\n"
     ]
    },
    {
     "name": "stdout",
     "output_type": "stream",
     "text": [
      "Tile (14, 34) Processing Time: 8.98 seconds\n"
     ]
    },
    {
     "name": "stderr",
     "output_type": "stream",
     "text": [
      "INFO:root:Converting image dtype to float\n"
     ]
    },
    {
     "name": "stdout",
     "output_type": "stream",
     "text": [
      "Tile (14, 35) Processing Time: 9.04 seconds\n"
     ]
    },
    {
     "name": "stderr",
     "output_type": "stream",
     "text": [
      "INFO:root:Converting image dtype to float\n"
     ]
    },
    {
     "name": "stdout",
     "output_type": "stream",
     "text": [
      "Tile (14, 36) Processing Time: 8.99 seconds\n"
     ]
    },
    {
     "name": "stderr",
     "output_type": "stream",
     "text": [
      "INFO:root:Converting image dtype to float\n"
     ]
    },
    {
     "name": "stdout",
     "output_type": "stream",
     "text": [
      "Tile (14, 37) Processing Time: 9.03 seconds\n"
     ]
    },
    {
     "name": "stderr",
     "output_type": "stream",
     "text": [
      "INFO:root:Converting image dtype to float\n"
     ]
    },
    {
     "name": "stdout",
     "output_type": "stream",
     "text": [
      "Tile (14, 38) Processing Time: 9.09 seconds\n"
     ]
    },
    {
     "name": "stderr",
     "output_type": "stream",
     "text": [
      "INFO:root:Converting image dtype to float\n"
     ]
    },
    {
     "name": "stdout",
     "output_type": "stream",
     "text": [
      "Tile (14, 39) Processing Time: 8.91 seconds\n"
     ]
    },
    {
     "name": "stderr",
     "output_type": "stream",
     "text": [
      "INFO:root:Converting image dtype to float\n"
     ]
    },
    {
     "name": "stdout",
     "output_type": "stream",
     "text": [
      "Tile (14, 40) Processing Time: 9.26 seconds\n"
     ]
    },
    {
     "name": "stderr",
     "output_type": "stream",
     "text": [
      "INFO:root:Converting image dtype to float\n"
     ]
    },
    {
     "name": "stdout",
     "output_type": "stream",
     "text": [
      "Tile (14, 41) Processing Time: 9.12 seconds\n"
     ]
    },
    {
     "name": "stderr",
     "output_type": "stream",
     "text": [
      "INFO:root:Converting image dtype to float\n"
     ]
    },
    {
     "name": "stdout",
     "output_type": "stream",
     "text": [
      "Tile (14, 42) Processing Time: 8.76 seconds\n"
     ]
    },
    {
     "name": "stderr",
     "output_type": "stream",
     "text": [
      "INFO:root:Converting image dtype to float\n"
     ]
    },
    {
     "name": "stdout",
     "output_type": "stream",
     "text": [
      "Tile (14, 43) Processing Time: 9.04 seconds\n"
     ]
    },
    {
     "name": "stderr",
     "output_type": "stream",
     "text": [
      "INFO:root:Converting image dtype to float\n"
     ]
    },
    {
     "name": "stdout",
     "output_type": "stream",
     "text": [
      "Tile (14, 44) Processing Time: 9.12 seconds\n"
     ]
    },
    {
     "name": "stderr",
     "output_type": "stream",
     "text": [
      "INFO:root:Converting image dtype to float\n"
     ]
    },
    {
     "name": "stdout",
     "output_type": "stream",
     "text": [
      "Tile (14, 45) Processing Time: 8.73 seconds\n"
     ]
    },
    {
     "name": "stderr",
     "output_type": "stream",
     "text": [
      "INFO:root:Converting image dtype to float\n"
     ]
    },
    {
     "name": "stdout",
     "output_type": "stream",
     "text": [
      "Tile (14, 46) Processing Time: 8.97 seconds\n"
     ]
    },
    {
     "name": "stderr",
     "output_type": "stream",
     "text": [
      "INFO:root:Converting image dtype to float\n"
     ]
    },
    {
     "name": "stdout",
     "output_type": "stream",
     "text": [
      "Tile (14, 47) Processing Time: 8.91 seconds\n"
     ]
    },
    {
     "name": "stderr",
     "output_type": "stream",
     "text": [
      "INFO:root:Converting image dtype to float\n"
     ]
    },
    {
     "name": "stdout",
     "output_type": "stream",
     "text": [
      "Tile (14, 48) Processing Time: 8.58 seconds\n"
     ]
    },
    {
     "name": "stderr",
     "output_type": "stream",
     "text": [
      "INFO:root:Converting image dtype to float\n"
     ]
    },
    {
     "name": "stdout",
     "output_type": "stream",
     "text": [
      "Tile (14, 49) Processing Time: 8.70 seconds\n"
     ]
    },
    {
     "name": "stderr",
     "output_type": "stream",
     "text": [
      "INFO:root:Converting image dtype to float\n"
     ]
    },
    {
     "name": "stdout",
     "output_type": "stream",
     "text": [
      "Tile (14, 50) Processing Time: 8.35 seconds\n"
     ]
    },
    {
     "name": "stderr",
     "output_type": "stream",
     "text": [
      "INFO:root:Converting image dtype to float\n"
     ]
    },
    {
     "name": "stdout",
     "output_type": "stream",
     "text": [
      "Tile (14, 51) Processing Time: 8.36 seconds\n"
     ]
    },
    {
     "name": "stderr",
     "output_type": "stream",
     "text": [
      "INFO:root:Converting image dtype to float\n"
     ]
    },
    {
     "name": "stdout",
     "output_type": "stream",
     "text": [
      "Tile (14, 52) Processing Time: 7.87 seconds\n"
     ]
    },
    {
     "name": "stderr",
     "output_type": "stream",
     "text": [
      "INFO:root:Converting image dtype to float\n"
     ]
    },
    {
     "name": "stdout",
     "output_type": "stream",
     "text": [
      "Tile (14, 53) Processing Time: 7.48 seconds\n"
     ]
    },
    {
     "name": "stderr",
     "output_type": "stream",
     "text": [
      "INFO:root:Converting image dtype to float\n"
     ]
    },
    {
     "name": "stdout",
     "output_type": "stream",
     "text": [
      "Tile (15, 1) Processing Time: 7.54 seconds\n"
     ]
    },
    {
     "name": "stderr",
     "output_type": "stream",
     "text": [
      "INFO:root:Converting image dtype to float\n"
     ]
    },
    {
     "name": "stdout",
     "output_type": "stream",
     "text": [
      "Tile (15, 2) Processing Time: 8.11 seconds\n"
     ]
    },
    {
     "name": "stderr",
     "output_type": "stream",
     "text": [
      "INFO:root:Converting image dtype to float\n"
     ]
    },
    {
     "name": "stdout",
     "output_type": "stream",
     "text": [
      "Tile (15, 3) Processing Time: 8.89 seconds\n"
     ]
    },
    {
     "name": "stderr",
     "output_type": "stream",
     "text": [
      "INFO:root:Converting image dtype to float\n"
     ]
    },
    {
     "name": "stdout",
     "output_type": "stream",
     "text": [
      "Tile (15, 4) Processing Time: 9.04 seconds\n"
     ]
    },
    {
     "name": "stderr",
     "output_type": "stream",
     "text": [
      "INFO:root:Converting image dtype to float\n"
     ]
    },
    {
     "name": "stdout",
     "output_type": "stream",
     "text": [
      "Tile (15, 5) Processing Time: 8.88 seconds\n"
     ]
    },
    {
     "name": "stderr",
     "output_type": "stream",
     "text": [
      "INFO:root:Converting image dtype to float\n"
     ]
    },
    {
     "name": "stdout",
     "output_type": "stream",
     "text": [
      "Tile (15, 6) Processing Time: 8.89 seconds\n"
     ]
    },
    {
     "name": "stderr",
     "output_type": "stream",
     "text": [
      "INFO:root:Converting image dtype to float\n"
     ]
    },
    {
     "name": "stdout",
     "output_type": "stream",
     "text": [
      "Tile (15, 7) Processing Time: 9.11 seconds\n"
     ]
    },
    {
     "name": "stderr",
     "output_type": "stream",
     "text": [
      "INFO:root:Converting image dtype to float\n"
     ]
    },
    {
     "name": "stdout",
     "output_type": "stream",
     "text": [
      "Tile (15, 8) Processing Time: 9.09 seconds\n"
     ]
    },
    {
     "name": "stderr",
     "output_type": "stream",
     "text": [
      "INFO:root:Converting image dtype to float\n"
     ]
    },
    {
     "name": "stdout",
     "output_type": "stream",
     "text": [
      "Tile (15, 9) Processing Time: 8.86 seconds\n"
     ]
    },
    {
     "name": "stderr",
     "output_type": "stream",
     "text": [
      "INFO:root:Converting image dtype to float\n"
     ]
    },
    {
     "name": "stdout",
     "output_type": "stream",
     "text": [
      "Tile (15, 10) Processing Time: 8.75 seconds\n"
     ]
    },
    {
     "name": "stderr",
     "output_type": "stream",
     "text": [
      "INFO:root:Converting image dtype to float\n"
     ]
    },
    {
     "name": "stdout",
     "output_type": "stream",
     "text": [
      "Tile (15, 11) Processing Time: 8.57 seconds\n"
     ]
    },
    {
     "name": "stderr",
     "output_type": "stream",
     "text": [
      "INFO:root:Converting image dtype to float\n"
     ]
    },
    {
     "name": "stdout",
     "output_type": "stream",
     "text": [
      "Tile (15, 12) Processing Time: 8.54 seconds\n"
     ]
    },
    {
     "name": "stderr",
     "output_type": "stream",
     "text": [
      "INFO:root:Converting image dtype to float\n"
     ]
    },
    {
     "name": "stdout",
     "output_type": "stream",
     "text": [
      "Tile (15, 13) Processing Time: 8.72 seconds\n"
     ]
    },
    {
     "name": "stderr",
     "output_type": "stream",
     "text": [
      "INFO:root:Converting image dtype to float\n"
     ]
    },
    {
     "name": "stdout",
     "output_type": "stream",
     "text": [
      "Tile (15, 14) Processing Time: 8.91 seconds\n"
     ]
    },
    {
     "name": "stderr",
     "output_type": "stream",
     "text": [
      "INFO:root:Converting image dtype to float\n"
     ]
    },
    {
     "name": "stdout",
     "output_type": "stream",
     "text": [
      "Tile (15, 15) Processing Time: 8.64 seconds\n"
     ]
    },
    {
     "name": "stderr",
     "output_type": "stream",
     "text": [
      "INFO:root:Converting image dtype to float\n"
     ]
    },
    {
     "name": "stdout",
     "output_type": "stream",
     "text": [
      "Tile (15, 16) Processing Time: 8.75 seconds\n"
     ]
    },
    {
     "name": "stderr",
     "output_type": "stream",
     "text": [
      "INFO:root:Converting image dtype to float\n"
     ]
    },
    {
     "name": "stdout",
     "output_type": "stream",
     "text": [
      "Tile (15, 17) Processing Time: 8.74 seconds\n"
     ]
    },
    {
     "name": "stderr",
     "output_type": "stream",
     "text": [
      "INFO:root:Converting image dtype to float\n"
     ]
    },
    {
     "name": "stdout",
     "output_type": "stream",
     "text": [
      "Tile (15, 18) Processing Time: 8.87 seconds\n"
     ]
    },
    {
     "name": "stderr",
     "output_type": "stream",
     "text": [
      "INFO:root:Converting image dtype to float\n"
     ]
    },
    {
     "name": "stdout",
     "output_type": "stream",
     "text": [
      "Tile (15, 19) Processing Time: 8.94 seconds\n"
     ]
    },
    {
     "name": "stderr",
     "output_type": "stream",
     "text": [
      "INFO:root:Converting image dtype to float\n"
     ]
    },
    {
     "name": "stdout",
     "output_type": "stream",
     "text": [
      "Tile (15, 20) Processing Time: 8.47 seconds\n"
     ]
    },
    {
     "name": "stderr",
     "output_type": "stream",
     "text": [
      "INFO:root:Converting image dtype to float\n"
     ]
    },
    {
     "name": "stdout",
     "output_type": "stream",
     "text": [
      "Tile (15, 21) Processing Time: 8.87 seconds\n"
     ]
    },
    {
     "name": "stderr",
     "output_type": "stream",
     "text": [
      "INFO:root:Converting image dtype to float\n"
     ]
    },
    {
     "name": "stdout",
     "output_type": "stream",
     "text": [
      "Tile (15, 22) Processing Time: 9.01 seconds\n"
     ]
    },
    {
     "name": "stderr",
     "output_type": "stream",
     "text": [
      "INFO:root:Converting image dtype to float\n"
     ]
    },
    {
     "name": "stdout",
     "output_type": "stream",
     "text": [
      "Tile (15, 23) Processing Time: 8.77 seconds\n"
     ]
    },
    {
     "name": "stderr",
     "output_type": "stream",
     "text": [
      "INFO:root:Converting image dtype to float\n"
     ]
    },
    {
     "name": "stdout",
     "output_type": "stream",
     "text": [
      "Tile (15, 24) Processing Time: 8.50 seconds\n"
     ]
    },
    {
     "name": "stderr",
     "output_type": "stream",
     "text": [
      "INFO:root:Converting image dtype to float\n"
     ]
    },
    {
     "name": "stdout",
     "output_type": "stream",
     "text": [
      "Tile (15, 25) Processing Time: 8.62 seconds\n"
     ]
    },
    {
     "name": "stderr",
     "output_type": "stream",
     "text": [
      "INFO:root:Converting image dtype to float\n"
     ]
    },
    {
     "name": "stdout",
     "output_type": "stream",
     "text": [
      "Tile (15, 26) Processing Time: 8.93 seconds\n"
     ]
    },
    {
     "name": "stderr",
     "output_type": "stream",
     "text": [
      "INFO:root:Converting image dtype to float\n"
     ]
    },
    {
     "name": "stdout",
     "output_type": "stream",
     "text": [
      "Tile (15, 27) Processing Time: 8.88 seconds\n"
     ]
    },
    {
     "name": "stderr",
     "output_type": "stream",
     "text": [
      "INFO:root:Converting image dtype to float\n"
     ]
    },
    {
     "name": "stdout",
     "output_type": "stream",
     "text": [
      "Tile (15, 28) Processing Time: 8.33 seconds\n"
     ]
    },
    {
     "name": "stderr",
     "output_type": "stream",
     "text": [
      "INFO:root:Converting image dtype to float\n"
     ]
    },
    {
     "name": "stdout",
     "output_type": "stream",
     "text": [
      "Tile (15, 29) Processing Time: 8.09 seconds\n"
     ]
    },
    {
     "name": "stderr",
     "output_type": "stream",
     "text": [
      "INFO:root:Converting image dtype to float\n"
     ]
    },
    {
     "name": "stdout",
     "output_type": "stream",
     "text": [
      "Tile (15, 30) Processing Time: 8.15 seconds\n"
     ]
    },
    {
     "name": "stderr",
     "output_type": "stream",
     "text": [
      "INFO:root:Converting image dtype to float\n"
     ]
    },
    {
     "name": "stdout",
     "output_type": "stream",
     "text": [
      "Tile (15, 31) Processing Time: 8.21 seconds\n"
     ]
    },
    {
     "name": "stderr",
     "output_type": "stream",
     "text": [
      "INFO:root:Converting image dtype to float\n"
     ]
    },
    {
     "name": "stdout",
     "output_type": "stream",
     "text": [
      "Tile (15, 32) Processing Time: 8.20 seconds\n"
     ]
    },
    {
     "name": "stderr",
     "output_type": "stream",
     "text": [
      "INFO:root:Converting image dtype to float\n"
     ]
    },
    {
     "name": "stdout",
     "output_type": "stream",
     "text": [
      "Tile (15, 33) Processing Time: 8.50 seconds\n"
     ]
    },
    {
     "name": "stderr",
     "output_type": "stream",
     "text": [
      "INFO:root:Converting image dtype to float\n"
     ]
    },
    {
     "name": "stdout",
     "output_type": "stream",
     "text": [
      "Tile (15, 34) Processing Time: 8.65 seconds\n"
     ]
    },
    {
     "name": "stderr",
     "output_type": "stream",
     "text": [
      "INFO:root:Converting image dtype to float\n"
     ]
    },
    {
     "name": "stdout",
     "output_type": "stream",
     "text": [
      "Tile (15, 35) Processing Time: 8.98 seconds\n"
     ]
    },
    {
     "name": "stderr",
     "output_type": "stream",
     "text": [
      "INFO:root:Converting image dtype to float\n"
     ]
    },
    {
     "name": "stdout",
     "output_type": "stream",
     "text": [
      "Tile (15, 36) Processing Time: 9.40 seconds\n"
     ]
    },
    {
     "name": "stderr",
     "output_type": "stream",
     "text": [
      "INFO:root:Converting image dtype to float\n"
     ]
    },
    {
     "name": "stdout",
     "output_type": "stream",
     "text": [
      "Tile (15, 37) Processing Time: 8.99 seconds\n"
     ]
    },
    {
     "name": "stderr",
     "output_type": "stream",
     "text": [
      "INFO:root:Converting image dtype to float\n"
     ]
    },
    {
     "name": "stdout",
     "output_type": "stream",
     "text": [
      "Tile (15, 38) Processing Time: 9.14 seconds\n"
     ]
    },
    {
     "name": "stderr",
     "output_type": "stream",
     "text": [
      "INFO:root:Converting image dtype to float\n"
     ]
    },
    {
     "name": "stdout",
     "output_type": "stream",
     "text": [
      "Tile (15, 39) Processing Time: 8.91 seconds\n"
     ]
    },
    {
     "name": "stderr",
     "output_type": "stream",
     "text": [
      "INFO:root:Converting image dtype to float\n"
     ]
    },
    {
     "name": "stdout",
     "output_type": "stream",
     "text": [
      "Tile (15, 40) Processing Time: 9.06 seconds\n"
     ]
    },
    {
     "name": "stderr",
     "output_type": "stream",
     "text": [
      "INFO:root:Converting image dtype to float\n"
     ]
    },
    {
     "name": "stdout",
     "output_type": "stream",
     "text": [
      "Tile (15, 41) Processing Time: 8.98 seconds\n"
     ]
    },
    {
     "name": "stderr",
     "output_type": "stream",
     "text": [
      "INFO:root:Converting image dtype to float\n"
     ]
    },
    {
     "name": "stdout",
     "output_type": "stream",
     "text": [
      "Tile (15, 42) Processing Time: 9.18 seconds\n"
     ]
    },
    {
     "name": "stderr",
     "output_type": "stream",
     "text": [
      "INFO:root:Converting image dtype to float\n"
     ]
    },
    {
     "name": "stdout",
     "output_type": "stream",
     "text": [
      "Tile (15, 43) Processing Time: 8.99 seconds\n"
     ]
    },
    {
     "name": "stderr",
     "output_type": "stream",
     "text": [
      "INFO:root:Converting image dtype to float\n"
     ]
    },
    {
     "name": "stdout",
     "output_type": "stream",
     "text": [
      "Tile (15, 44) Processing Time: 8.82 seconds\n"
     ]
    },
    {
     "name": "stderr",
     "output_type": "stream",
     "text": [
      "INFO:root:Converting image dtype to float\n"
     ]
    },
    {
     "name": "stdout",
     "output_type": "stream",
     "text": [
      "Tile (15, 45) Processing Time: 8.87 seconds\n"
     ]
    },
    {
     "name": "stderr",
     "output_type": "stream",
     "text": [
      "INFO:root:Converting image dtype to float\n"
     ]
    },
    {
     "name": "stdout",
     "output_type": "stream",
     "text": [
      "Tile (15, 46) Processing Time: 8.88 seconds\n"
     ]
    },
    {
     "name": "stderr",
     "output_type": "stream",
     "text": [
      "INFO:root:Converting image dtype to float\n"
     ]
    },
    {
     "name": "stdout",
     "output_type": "stream",
     "text": [
      "Tile (15, 47) Processing Time: 8.88 seconds\n"
     ]
    },
    {
     "name": "stderr",
     "output_type": "stream",
     "text": [
      "INFO:root:Converting image dtype to float\n"
     ]
    },
    {
     "name": "stdout",
     "output_type": "stream",
     "text": [
      "Tile (15, 48) Processing Time: 8.71 seconds\n"
     ]
    },
    {
     "name": "stderr",
     "output_type": "stream",
     "text": [
      "INFO:root:Converting image dtype to float\n"
     ]
    },
    {
     "name": "stdout",
     "output_type": "stream",
     "text": [
      "Tile (15, 49) Processing Time: 8.90 seconds\n"
     ]
    },
    {
     "name": "stderr",
     "output_type": "stream",
     "text": [
      "INFO:root:Converting image dtype to float\n"
     ]
    },
    {
     "name": "stdout",
     "output_type": "stream",
     "text": [
      "Tile (15, 50) Processing Time: 8.53 seconds\n"
     ]
    },
    {
     "name": "stderr",
     "output_type": "stream",
     "text": [
      "INFO:root:Converting image dtype to float\n"
     ]
    },
    {
     "name": "stdout",
     "output_type": "stream",
     "text": [
      "Tile (15, 51) Processing Time: 8.19 seconds\n"
     ]
    },
    {
     "name": "stderr",
     "output_type": "stream",
     "text": [
      "INFO:root:Converting image dtype to float\n"
     ]
    },
    {
     "name": "stdout",
     "output_type": "stream",
     "text": [
      "Tile (15, 52) Processing Time: 7.67 seconds\n"
     ]
    },
    {
     "name": "stderr",
     "output_type": "stream",
     "text": [
      "INFO:root:Converting image dtype to float\n"
     ]
    },
    {
     "name": "stdout",
     "output_type": "stream",
     "text": [
      "Tile (16, 1) Processing Time: 7.45 seconds\n"
     ]
    },
    {
     "name": "stderr",
     "output_type": "stream",
     "text": [
      "INFO:root:Converting image dtype to float\n"
     ]
    },
    {
     "name": "stdout",
     "output_type": "stream",
     "text": [
      "Tile (16, 2) Processing Time: 8.20 seconds\n"
     ]
    },
    {
     "name": "stderr",
     "output_type": "stream",
     "text": [
      "INFO:root:Converting image dtype to float\n"
     ]
    },
    {
     "name": "stdout",
     "output_type": "stream",
     "text": [
      "Tile (16, 3) Processing Time: 8.84 seconds\n"
     ]
    },
    {
     "name": "stderr",
     "output_type": "stream",
     "text": [
      "INFO:root:Converting image dtype to float\n"
     ]
    },
    {
     "name": "stdout",
     "output_type": "stream",
     "text": [
      "Tile (16, 4) Processing Time: 8.87 seconds\n"
     ]
    },
    {
     "name": "stderr",
     "output_type": "stream",
     "text": [
      "INFO:root:Converting image dtype to float\n"
     ]
    },
    {
     "name": "stdout",
     "output_type": "stream",
     "text": [
      "Tile (16, 5) Processing Time: 9.01 seconds\n"
     ]
    },
    {
     "name": "stderr",
     "output_type": "stream",
     "text": [
      "INFO:root:Converting image dtype to float\n"
     ]
    },
    {
     "name": "stdout",
     "output_type": "stream",
     "text": [
      "Tile (16, 6) Processing Time: 9.35 seconds\n"
     ]
    },
    {
     "name": "stderr",
     "output_type": "stream",
     "text": [
      "INFO:root:Converting image dtype to float\n"
     ]
    },
    {
     "name": "stdout",
     "output_type": "stream",
     "text": [
      "Tile (16, 7) Processing Time: 9.09 seconds\n"
     ]
    },
    {
     "name": "stderr",
     "output_type": "stream",
     "text": [
      "INFO:root:Converting image dtype to float\n"
     ]
    },
    {
     "name": "stdout",
     "output_type": "stream",
     "text": [
      "Tile (16, 8) Processing Time: 9.20 seconds\n"
     ]
    },
    {
     "name": "stderr",
     "output_type": "stream",
     "text": [
      "INFO:root:Converting image dtype to float\n"
     ]
    },
    {
     "name": "stdout",
     "output_type": "stream",
     "text": [
      "Tile (16, 9) Processing Time: 9.05 seconds\n"
     ]
    },
    {
     "name": "stderr",
     "output_type": "stream",
     "text": [
      "INFO:root:Converting image dtype to float\n"
     ]
    },
    {
     "name": "stdout",
     "output_type": "stream",
     "text": [
      "Tile (16, 10) Processing Time: 8.91 seconds\n"
     ]
    },
    {
     "name": "stderr",
     "output_type": "stream",
     "text": [
      "INFO:root:Converting image dtype to float\n"
     ]
    },
    {
     "name": "stdout",
     "output_type": "stream",
     "text": [
      "Tile (16, 11) Processing Time: 8.80 seconds\n"
     ]
    },
    {
     "name": "stderr",
     "output_type": "stream",
     "text": [
      "INFO:root:Converting image dtype to float\n"
     ]
    },
    {
     "name": "stdout",
     "output_type": "stream",
     "text": [
      "Tile (16, 12) Processing Time: 8.77 seconds\n"
     ]
    },
    {
     "name": "stderr",
     "output_type": "stream",
     "text": [
      "INFO:root:Converting image dtype to float\n"
     ]
    },
    {
     "name": "stdout",
     "output_type": "stream",
     "text": [
      "Tile (16, 13) Processing Time: 9.19 seconds\n"
     ]
    },
    {
     "name": "stderr",
     "output_type": "stream",
     "text": [
      "INFO:root:Converting image dtype to float\n"
     ]
    },
    {
     "name": "stdout",
     "output_type": "stream",
     "text": [
      "Tile (16, 14) Processing Time: 8.86 seconds\n"
     ]
    },
    {
     "name": "stderr",
     "output_type": "stream",
     "text": [
      "INFO:root:Converting image dtype to float\n"
     ]
    },
    {
     "name": "stdout",
     "output_type": "stream",
     "text": [
      "Tile (16, 15) Processing Time: 8.79 seconds\n"
     ]
    },
    {
     "name": "stderr",
     "output_type": "stream",
     "text": [
      "INFO:root:Converting image dtype to float\n"
     ]
    },
    {
     "name": "stdout",
     "output_type": "stream",
     "text": [
      "Tile (16, 16) Processing Time: 8.58 seconds\n"
     ]
    },
    {
     "name": "stderr",
     "output_type": "stream",
     "text": [
      "INFO:root:Converting image dtype to float\n"
     ]
    },
    {
     "name": "stdout",
     "output_type": "stream",
     "text": [
      "Tile (16, 17) Processing Time: 8.44 seconds\n"
     ]
    },
    {
     "name": "stderr",
     "output_type": "stream",
     "text": [
      "INFO:root:Converting image dtype to float\n"
     ]
    },
    {
     "name": "stdout",
     "output_type": "stream",
     "text": [
      "Tile (16, 18) Processing Time: 8.54 seconds\n"
     ]
    },
    {
     "name": "stderr",
     "output_type": "stream",
     "text": [
      "INFO:root:Converting image dtype to float\n"
     ]
    },
    {
     "name": "stdout",
     "output_type": "stream",
     "text": [
      "Tile (16, 19) Processing Time: 8.79 seconds\n"
     ]
    },
    {
     "name": "stderr",
     "output_type": "stream",
     "text": [
      "INFO:root:Converting image dtype to float\n"
     ]
    },
    {
     "name": "stdout",
     "output_type": "stream",
     "text": [
      "Tile (16, 20) Processing Time: 8.82 seconds\n"
     ]
    },
    {
     "name": "stderr",
     "output_type": "stream",
     "text": [
      "INFO:root:Converting image dtype to float\n"
     ]
    },
    {
     "name": "stdout",
     "output_type": "stream",
     "text": [
      "Tile (16, 21) Processing Time: 9.17 seconds\n"
     ]
    },
    {
     "name": "stderr",
     "output_type": "stream",
     "text": [
      "INFO:root:Converting image dtype to float\n"
     ]
    },
    {
     "name": "stdout",
     "output_type": "stream",
     "text": [
      "Tile (16, 22) Processing Time: 9.47 seconds\n"
     ]
    },
    {
     "name": "stderr",
     "output_type": "stream",
     "text": [
      "INFO:root:Converting image dtype to float\n"
     ]
    },
    {
     "name": "stdout",
     "output_type": "stream",
     "text": [
      "Tile (16, 23) Processing Time: 8.82 seconds\n"
     ]
    },
    {
     "name": "stderr",
     "output_type": "stream",
     "text": [
      "INFO:root:Converting image dtype to float\n"
     ]
    },
    {
     "name": "stdout",
     "output_type": "stream",
     "text": [
      "Tile (16, 24) Processing Time: 8.51 seconds\n"
     ]
    },
    {
     "name": "stderr",
     "output_type": "stream",
     "text": [
      "INFO:root:Converting image dtype to float\n"
     ]
    },
    {
     "name": "stdout",
     "output_type": "stream",
     "text": [
      "Tile (16, 25) Processing Time: 8.60 seconds\n"
     ]
    },
    {
     "name": "stderr",
     "output_type": "stream",
     "text": [
      "INFO:root:Converting image dtype to float\n"
     ]
    },
    {
     "name": "stdout",
     "output_type": "stream",
     "text": [
      "Tile (16, 26) Processing Time: 8.78 seconds\n"
     ]
    },
    {
     "name": "stderr",
     "output_type": "stream",
     "text": [
      "INFO:root:Converting image dtype to float\n"
     ]
    },
    {
     "name": "stdout",
     "output_type": "stream",
     "text": [
      "Tile (16, 27) Processing Time: 8.55 seconds\n"
     ]
    },
    {
     "name": "stderr",
     "output_type": "stream",
     "text": [
      "INFO:root:Converting image dtype to float\n"
     ]
    },
    {
     "name": "stdout",
     "output_type": "stream",
     "text": [
      "Tile (16, 28) Processing Time: 8.08 seconds\n"
     ]
    },
    {
     "name": "stderr",
     "output_type": "stream",
     "text": [
      "INFO:root:Converting image dtype to float\n"
     ]
    },
    {
     "name": "stdout",
     "output_type": "stream",
     "text": [
      "Tile (16, 29) Processing Time: 7.88 seconds\n"
     ]
    },
    {
     "name": "stderr",
     "output_type": "stream",
     "text": [
      "INFO:root:Converting image dtype to float\n"
     ]
    },
    {
     "name": "stdout",
     "output_type": "stream",
     "text": [
      "Tile (16, 30) Processing Time: 8.17 seconds\n"
     ]
    },
    {
     "name": "stderr",
     "output_type": "stream",
     "text": [
      "INFO:root:Converting image dtype to float\n"
     ]
    },
    {
     "name": "stdout",
     "output_type": "stream",
     "text": [
      "Tile (16, 31) Processing Time: 7.96 seconds\n"
     ]
    },
    {
     "name": "stderr",
     "output_type": "stream",
     "text": [
      "INFO:root:Converting image dtype to float\n"
     ]
    },
    {
     "name": "stdout",
     "output_type": "stream",
     "text": [
      "Tile (16, 32) Processing Time: 7.90 seconds\n"
     ]
    },
    {
     "name": "stderr",
     "output_type": "stream",
     "text": [
      "INFO:root:Converting image dtype to float\n"
     ]
    },
    {
     "name": "stdout",
     "output_type": "stream",
     "text": [
      "Tile (16, 33) Processing Time: 8.32 seconds\n"
     ]
    },
    {
     "name": "stderr",
     "output_type": "stream",
     "text": [
      "INFO:root:Converting image dtype to float\n"
     ]
    },
    {
     "name": "stdout",
     "output_type": "stream",
     "text": [
      "Tile (16, 34) Processing Time: 8.71 seconds\n"
     ]
    },
    {
     "name": "stderr",
     "output_type": "stream",
     "text": [
      "INFO:root:Converting image dtype to float\n"
     ]
    },
    {
     "name": "stdout",
     "output_type": "stream",
     "text": [
      "Tile (16, 35) Processing Time: 8.65 seconds\n"
     ]
    },
    {
     "name": "stderr",
     "output_type": "stream",
     "text": [
      "INFO:root:Converting image dtype to float\n"
     ]
    },
    {
     "name": "stdout",
     "output_type": "stream",
     "text": [
      "Tile (16, 36) Processing Time: 9.02 seconds\n"
     ]
    },
    {
     "name": "stderr",
     "output_type": "stream",
     "text": [
      "INFO:root:Converting image dtype to float\n"
     ]
    },
    {
     "name": "stdout",
     "output_type": "stream",
     "text": [
      "Tile (16, 37) Processing Time: 8.96 seconds\n"
     ]
    },
    {
     "name": "stderr",
     "output_type": "stream",
     "text": [
      "INFO:root:Converting image dtype to float\n"
     ]
    },
    {
     "name": "stdout",
     "output_type": "stream",
     "text": [
      "Tile (16, 38) Processing Time: 8.99 seconds\n"
     ]
    },
    {
     "name": "stderr",
     "output_type": "stream",
     "text": [
      "INFO:root:Converting image dtype to float\n"
     ]
    },
    {
     "name": "stdout",
     "output_type": "stream",
     "text": [
      "Tile (16, 39) Processing Time: 9.25 seconds\n"
     ]
    },
    {
     "name": "stderr",
     "output_type": "stream",
     "text": [
      "INFO:root:Converting image dtype to float\n"
     ]
    },
    {
     "name": "stdout",
     "output_type": "stream",
     "text": [
      "Tile (16, 40) Processing Time: 9.33 seconds\n"
     ]
    },
    {
     "name": "stderr",
     "output_type": "stream",
     "text": [
      "INFO:root:Converting image dtype to float\n"
     ]
    },
    {
     "name": "stdout",
     "output_type": "stream",
     "text": [
      "Tile (16, 41) Processing Time: 9.15 seconds\n"
     ]
    },
    {
     "name": "stderr",
     "output_type": "stream",
     "text": [
      "INFO:root:Converting image dtype to float\n"
     ]
    },
    {
     "name": "stdout",
     "output_type": "stream",
     "text": [
      "Tile (16, 42) Processing Time: 9.01 seconds\n"
     ]
    },
    {
     "name": "stderr",
     "output_type": "stream",
     "text": [
      "INFO:root:Converting image dtype to float\n"
     ]
    },
    {
     "name": "stdout",
     "output_type": "stream",
     "text": [
      "Tile (16, 43) Processing Time: 9.11 seconds\n"
     ]
    },
    {
     "name": "stderr",
     "output_type": "stream",
     "text": [
      "INFO:root:Converting image dtype to float\n"
     ]
    },
    {
     "name": "stdout",
     "output_type": "stream",
     "text": [
      "Tile (16, 44) Processing Time: 9.42 seconds\n"
     ]
    },
    {
     "name": "stderr",
     "output_type": "stream",
     "text": [
      "INFO:root:Converting image dtype to float\n"
     ]
    },
    {
     "name": "stdout",
     "output_type": "stream",
     "text": [
      "Tile (16, 45) Processing Time: 8.81 seconds\n"
     ]
    },
    {
     "name": "stderr",
     "output_type": "stream",
     "text": [
      "INFO:root:Converting image dtype to float\n"
     ]
    },
    {
     "name": "stdout",
     "output_type": "stream",
     "text": [
      "Tile (16, 46) Processing Time: 8.90 seconds\n"
     ]
    },
    {
     "name": "stderr",
     "output_type": "stream",
     "text": [
      "INFO:root:Converting image dtype to float\n"
     ]
    },
    {
     "name": "stdout",
     "output_type": "stream",
     "text": [
      "Tile (16, 47) Processing Time: 8.68 seconds\n"
     ]
    },
    {
     "name": "stderr",
     "output_type": "stream",
     "text": [
      "INFO:root:Converting image dtype to float\n"
     ]
    },
    {
     "name": "stdout",
     "output_type": "stream",
     "text": [
      "Tile (16, 48) Processing Time: 8.75 seconds\n"
     ]
    },
    {
     "name": "stderr",
     "output_type": "stream",
     "text": [
      "INFO:root:Converting image dtype to float\n"
     ]
    },
    {
     "name": "stdout",
     "output_type": "stream",
     "text": [
      "Tile (16, 49) Processing Time: 8.58 seconds\n"
     ]
    },
    {
     "name": "stderr",
     "output_type": "stream",
     "text": [
      "INFO:root:Converting image dtype to float\n"
     ]
    },
    {
     "name": "stdout",
     "output_type": "stream",
     "text": [
      "Tile (16, 50) Processing Time: 8.26 seconds\n"
     ]
    },
    {
     "name": "stderr",
     "output_type": "stream",
     "text": [
      "INFO:root:Converting image dtype to float\n"
     ]
    },
    {
     "name": "stdout",
     "output_type": "stream",
     "text": [
      "Tile (16, 51) Processing Time: 7.65 seconds\n"
     ]
    },
    {
     "name": "stderr",
     "output_type": "stream",
     "text": [
      "INFO:root:Converting image dtype to float\n"
     ]
    },
    {
     "name": "stdout",
     "output_type": "stream",
     "text": [
      "Tile (16, 52) Processing Time: 7.68 seconds\n"
     ]
    },
    {
     "name": "stderr",
     "output_type": "stream",
     "text": [
      "INFO:root:Converting image dtype to float\n"
     ]
    },
    {
     "name": "stdout",
     "output_type": "stream",
     "text": [
      "Tile (17, 1) Processing Time: 7.76 seconds\n"
     ]
    },
    {
     "name": "stderr",
     "output_type": "stream",
     "text": [
      "INFO:root:Converting image dtype to float\n"
     ]
    },
    {
     "name": "stdout",
     "output_type": "stream",
     "text": [
      "Tile (17, 2) Processing Time: 7.95 seconds\n"
     ]
    },
    {
     "name": "stderr",
     "output_type": "stream",
     "text": [
      "INFO:root:Converting image dtype to float\n"
     ]
    },
    {
     "name": "stdout",
     "output_type": "stream",
     "text": [
      "Tile (17, 3) Processing Time: 8.22 seconds\n"
     ]
    },
    {
     "name": "stderr",
     "output_type": "stream",
     "text": [
      "INFO:root:Converting image dtype to float\n"
     ]
    },
    {
     "name": "stdout",
     "output_type": "stream",
     "text": [
      "Tile (17, 4) Processing Time: 8.53 seconds\n"
     ]
    },
    {
     "name": "stderr",
     "output_type": "stream",
     "text": [
      "INFO:root:Converting image dtype to float\n"
     ]
    },
    {
     "name": "stdout",
     "output_type": "stream",
     "text": [
      "Tile (17, 5) Processing Time: 8.89 seconds\n"
     ]
    },
    {
     "name": "stderr",
     "output_type": "stream",
     "text": [
      "INFO:root:Converting image dtype to float\n"
     ]
    },
    {
     "name": "stdout",
     "output_type": "stream",
     "text": [
      "Tile (17, 6) Processing Time: 9.16 seconds\n"
     ]
    },
    {
     "name": "stderr",
     "output_type": "stream",
     "text": [
      "INFO:root:Converting image dtype to float\n"
     ]
    },
    {
     "name": "stdout",
     "output_type": "stream",
     "text": [
      "Tile (17, 7) Processing Time: 9.19 seconds\n"
     ]
    },
    {
     "name": "stderr",
     "output_type": "stream",
     "text": [
      "INFO:root:Converting image dtype to float\n"
     ]
    },
    {
     "name": "stdout",
     "output_type": "stream",
     "text": [
      "Tile (17, 8) Processing Time: 9.05 seconds\n"
     ]
    },
    {
     "name": "stderr",
     "output_type": "stream",
     "text": [
      "INFO:root:Converting image dtype to float\n"
     ]
    },
    {
     "name": "stdout",
     "output_type": "stream",
     "text": [
      "Tile (17, 9) Processing Time: 9.21 seconds\n"
     ]
    },
    {
     "name": "stderr",
     "output_type": "stream",
     "text": [
      "INFO:root:Converting image dtype to float\n"
     ]
    },
    {
     "name": "stdout",
     "output_type": "stream",
     "text": [
      "Tile (17, 10) Processing Time: 9.09 seconds\n"
     ]
    },
    {
     "name": "stderr",
     "output_type": "stream",
     "text": [
      "INFO:root:Converting image dtype to float\n"
     ]
    },
    {
     "name": "stdout",
     "output_type": "stream",
     "text": [
      "Tile (17, 11) Processing Time: 9.03 seconds\n"
     ]
    },
    {
     "name": "stderr",
     "output_type": "stream",
     "text": [
      "INFO:root:Converting image dtype to float\n"
     ]
    },
    {
     "name": "stdout",
     "output_type": "stream",
     "text": [
      "Tile (17, 12) Processing Time: 8.97 seconds\n"
     ]
    },
    {
     "name": "stderr",
     "output_type": "stream",
     "text": [
      "INFO:root:Converting image dtype to float\n"
     ]
    },
    {
     "name": "stdout",
     "output_type": "stream",
     "text": [
      "Tile (17, 13) Processing Time: 8.82 seconds\n"
     ]
    },
    {
     "name": "stderr",
     "output_type": "stream",
     "text": [
      "INFO:root:Converting image dtype to float\n"
     ]
    },
    {
     "name": "stdout",
     "output_type": "stream",
     "text": [
      "Tile (17, 14) Processing Time: 9.03 seconds\n"
     ]
    },
    {
     "name": "stderr",
     "output_type": "stream",
     "text": [
      "INFO:root:Converting image dtype to float\n"
     ]
    },
    {
     "name": "stdout",
     "output_type": "stream",
     "text": [
      "Tile (17, 15) Processing Time: 8.77 seconds\n"
     ]
    },
    {
     "name": "stderr",
     "output_type": "stream",
     "text": [
      "INFO:root:Converting image dtype to float\n"
     ]
    },
    {
     "name": "stdout",
     "output_type": "stream",
     "text": [
      "Tile (17, 16) Processing Time: 8.71 seconds\n"
     ]
    },
    {
     "name": "stderr",
     "output_type": "stream",
     "text": [
      "INFO:root:Converting image dtype to float\n"
     ]
    },
    {
     "name": "stdout",
     "output_type": "stream",
     "text": [
      "Tile (17, 17) Processing Time: 8.55 seconds\n"
     ]
    },
    {
     "name": "stderr",
     "output_type": "stream",
     "text": [
      "INFO:root:Converting image dtype to float\n"
     ]
    },
    {
     "name": "stdout",
     "output_type": "stream",
     "text": [
      "Tile (17, 18) Processing Time: 8.53 seconds\n"
     ]
    },
    {
     "name": "stderr",
     "output_type": "stream",
     "text": [
      "INFO:root:Converting image dtype to float\n"
     ]
    },
    {
     "name": "stdout",
     "output_type": "stream",
     "text": [
      "Tile (17, 19) Processing Time: 8.76 seconds\n"
     ]
    },
    {
     "name": "stderr",
     "output_type": "stream",
     "text": [
      "INFO:root:Converting image dtype to float\n"
     ]
    },
    {
     "name": "stdout",
     "output_type": "stream",
     "text": [
      "Tile (17, 20) Processing Time: 8.90 seconds\n"
     ]
    },
    {
     "name": "stderr",
     "output_type": "stream",
     "text": [
      "INFO:root:Converting image dtype to float\n"
     ]
    },
    {
     "name": "stdout",
     "output_type": "stream",
     "text": [
      "Tile (17, 21) Processing Time: 9.02 seconds\n"
     ]
    },
    {
     "name": "stderr",
     "output_type": "stream",
     "text": [
      "INFO:root:Converting image dtype to float\n"
     ]
    },
    {
     "name": "stdout",
     "output_type": "stream",
     "text": [
      "Tile (17, 22) Processing Time: 9.16 seconds\n"
     ]
    },
    {
     "name": "stderr",
     "output_type": "stream",
     "text": [
      "INFO:root:Converting image dtype to float\n"
     ]
    },
    {
     "name": "stdout",
     "output_type": "stream",
     "text": [
      "Tile (17, 23) Processing Time: 9.03 seconds\n"
     ]
    },
    {
     "name": "stderr",
     "output_type": "stream",
     "text": [
      "INFO:root:Converting image dtype to float\n"
     ]
    },
    {
     "name": "stdout",
     "output_type": "stream",
     "text": [
      "Tile (17, 24) Processing Time: 9.14 seconds\n"
     ]
    },
    {
     "name": "stderr",
     "output_type": "stream",
     "text": [
      "INFO:root:Converting image dtype to float\n"
     ]
    },
    {
     "name": "stdout",
     "output_type": "stream",
     "text": [
      "Tile (17, 25) Processing Time: 8.71 seconds\n"
     ]
    },
    {
     "name": "stderr",
     "output_type": "stream",
     "text": [
      "INFO:root:Converting image dtype to float\n"
     ]
    },
    {
     "name": "stdout",
     "output_type": "stream",
     "text": [
      "Tile (17, 26) Processing Time: 8.59 seconds\n"
     ]
    },
    {
     "name": "stderr",
     "output_type": "stream",
     "text": [
      "INFO:root:Converting image dtype to float\n"
     ]
    },
    {
     "name": "stdout",
     "output_type": "stream",
     "text": [
      "Tile (17, 27) Processing Time: 8.50 seconds\n"
     ]
    },
    {
     "name": "stderr",
     "output_type": "stream",
     "text": [
      "INFO:root:Converting image dtype to float\n"
     ]
    },
    {
     "name": "stdout",
     "output_type": "stream",
     "text": [
      "Tile (17, 28) Processing Time: 8.29 seconds\n"
     ]
    },
    {
     "name": "stderr",
     "output_type": "stream",
     "text": [
      "INFO:root:Converting image dtype to float\n"
     ]
    },
    {
     "name": "stdout",
     "output_type": "stream",
     "text": [
      "Tile (17, 29) Processing Time: 7.94 seconds\n"
     ]
    },
    {
     "name": "stderr",
     "output_type": "stream",
     "text": [
      "INFO:root:Converting image dtype to float\n"
     ]
    },
    {
     "name": "stdout",
     "output_type": "stream",
     "text": [
      "Tile (17, 30) Processing Time: 7.92 seconds\n"
     ]
    },
    {
     "name": "stderr",
     "output_type": "stream",
     "text": [
      "INFO:root:Converting image dtype to float\n"
     ]
    },
    {
     "name": "stdout",
     "output_type": "stream",
     "text": [
      "Tile (17, 31) Processing Time: 7.86 seconds\n"
     ]
    },
    {
     "name": "stderr",
     "output_type": "stream",
     "text": [
      "INFO:root:Converting image dtype to float\n"
     ]
    },
    {
     "name": "stdout",
     "output_type": "stream",
     "text": [
      "Tile (17, 32) Processing Time: 7.95 seconds\n"
     ]
    },
    {
     "name": "stderr",
     "output_type": "stream",
     "text": [
      "INFO:root:Converting image dtype to float\n"
     ]
    },
    {
     "name": "stdout",
     "output_type": "stream",
     "text": [
      "Tile (17, 33) Processing Time: 8.30 seconds\n"
     ]
    },
    {
     "name": "stderr",
     "output_type": "stream",
     "text": [
      "INFO:root:Converting image dtype to float\n"
     ]
    },
    {
     "name": "stdout",
     "output_type": "stream",
     "text": [
      "Tile (17, 34) Processing Time: 8.98 seconds\n"
     ]
    },
    {
     "name": "stderr",
     "output_type": "stream",
     "text": [
      "INFO:root:Converting image dtype to float\n"
     ]
    },
    {
     "name": "stdout",
     "output_type": "stream",
     "text": [
      "Tile (17, 35) Processing Time: 8.76 seconds\n"
     ]
    },
    {
     "name": "stderr",
     "output_type": "stream",
     "text": [
      "INFO:root:Converting image dtype to float\n"
     ]
    },
    {
     "name": "stdout",
     "output_type": "stream",
     "text": [
      "Tile (17, 36) Processing Time: 8.80 seconds\n"
     ]
    },
    {
     "name": "stderr",
     "output_type": "stream",
     "text": [
      "INFO:root:Converting image dtype to float\n"
     ]
    },
    {
     "name": "stdout",
     "output_type": "stream",
     "text": [
      "Tile (17, 37) Processing Time: 9.01 seconds\n"
     ]
    },
    {
     "name": "stderr",
     "output_type": "stream",
     "text": [
      "INFO:root:Converting image dtype to float\n"
     ]
    },
    {
     "name": "stdout",
     "output_type": "stream",
     "text": [
      "Tile (17, 38) Processing Time: 9.10 seconds\n"
     ]
    },
    {
     "name": "stderr",
     "output_type": "stream",
     "text": [
      "INFO:root:Converting image dtype to float\n"
     ]
    },
    {
     "name": "stdout",
     "output_type": "stream",
     "text": [
      "Tile (17, 39) Processing Time: 8.99 seconds\n"
     ]
    },
    {
     "name": "stderr",
     "output_type": "stream",
     "text": [
      "INFO:root:Converting image dtype to float\n"
     ]
    },
    {
     "name": "stdout",
     "output_type": "stream",
     "text": [
      "Tile (17, 40) Processing Time: 9.25 seconds\n"
     ]
    },
    {
     "name": "stderr",
     "output_type": "stream",
     "text": [
      "INFO:root:Converting image dtype to float\n"
     ]
    },
    {
     "name": "stdout",
     "output_type": "stream",
     "text": [
      "Tile (17, 41) Processing Time: 9.13 seconds\n"
     ]
    },
    {
     "name": "stderr",
     "output_type": "stream",
     "text": [
      "INFO:root:Converting image dtype to float\n"
     ]
    },
    {
     "name": "stdout",
     "output_type": "stream",
     "text": [
      "Tile (17, 42) Processing Time: 8.86 seconds\n"
     ]
    },
    {
     "name": "stderr",
     "output_type": "stream",
     "text": [
      "INFO:root:Converting image dtype to float\n"
     ]
    },
    {
     "name": "stdout",
     "output_type": "stream",
     "text": [
      "Tile (17, 43) Processing Time: 8.97 seconds\n"
     ]
    },
    {
     "name": "stderr",
     "output_type": "stream",
     "text": [
      "INFO:root:Converting image dtype to float\n"
     ]
    },
    {
     "name": "stdout",
     "output_type": "stream",
     "text": [
      "Tile (17, 44) Processing Time: 8.98 seconds\n"
     ]
    },
    {
     "name": "stderr",
     "output_type": "stream",
     "text": [
      "INFO:root:Converting image dtype to float\n"
     ]
    },
    {
     "name": "stdout",
     "output_type": "stream",
     "text": [
      "Tile (17, 45) Processing Time: 8.82 seconds\n"
     ]
    },
    {
     "name": "stderr",
     "output_type": "stream",
     "text": [
      "INFO:root:Converting image dtype to float\n"
     ]
    },
    {
     "name": "stdout",
     "output_type": "stream",
     "text": [
      "Tile (17, 46) Processing Time: 8.67 seconds\n"
     ]
    },
    {
     "name": "stderr",
     "output_type": "stream",
     "text": [
      "INFO:root:Converting image dtype to float\n"
     ]
    },
    {
     "name": "stdout",
     "output_type": "stream",
     "text": [
      "Tile (17, 47) Processing Time: 8.39 seconds\n"
     ]
    },
    {
     "name": "stderr",
     "output_type": "stream",
     "text": [
      "INFO:root:Converting image dtype to float\n"
     ]
    },
    {
     "name": "stdout",
     "output_type": "stream",
     "text": [
      "Tile (17, 48) Processing Time: 8.71 seconds\n"
     ]
    },
    {
     "name": "stderr",
     "output_type": "stream",
     "text": [
      "INFO:root:Converting image dtype to float\n"
     ]
    },
    {
     "name": "stdout",
     "output_type": "stream",
     "text": [
      "Tile (17, 49) Processing Time: 8.56 seconds\n"
     ]
    },
    {
     "name": "stderr",
     "output_type": "stream",
     "text": [
      "INFO:root:Converting image dtype to float\n"
     ]
    },
    {
     "name": "stdout",
     "output_type": "stream",
     "text": [
      "Tile (17, 50) Processing Time: 8.11 seconds\n"
     ]
    },
    {
     "name": "stderr",
     "output_type": "stream",
     "text": [
      "INFO:root:Converting image dtype to float\n"
     ]
    },
    {
     "name": "stdout",
     "output_type": "stream",
     "text": [
      "Tile (17, 51) Processing Time: 7.61 seconds\n"
     ]
    },
    {
     "name": "stderr",
     "output_type": "stream",
     "text": [
      "INFO:root:Converting image dtype to float\n"
     ]
    },
    {
     "name": "stdout",
     "output_type": "stream",
     "text": [
      "Tile (17, 52) Processing Time: 7.57 seconds\n"
     ]
    },
    {
     "name": "stderr",
     "output_type": "stream",
     "text": [
      "INFO:root:Converting image dtype to float\n"
     ]
    },
    {
     "name": "stdout",
     "output_type": "stream",
     "text": [
      "Tile (18, 1) Processing Time: 7.36 seconds\n"
     ]
    },
    {
     "name": "stderr",
     "output_type": "stream",
     "text": [
      "INFO:root:Converting image dtype to float\n"
     ]
    },
    {
     "name": "stdout",
     "output_type": "stream",
     "text": [
      "Tile (18, 2) Processing Time: 7.55 seconds\n"
     ]
    },
    {
     "name": "stderr",
     "output_type": "stream",
     "text": [
      "INFO:root:Converting image dtype to float\n"
     ]
    },
    {
     "name": "stdout",
     "output_type": "stream",
     "text": [
      "Tile (18, 3) Processing Time: 7.99 seconds\n"
     ]
    },
    {
     "name": "stderr",
     "output_type": "stream",
     "text": [
      "INFO:root:Converting image dtype to float\n"
     ]
    },
    {
     "name": "stdout",
     "output_type": "stream",
     "text": [
      "Tile (18, 4) Processing Time: 8.20 seconds\n"
     ]
    },
    {
     "name": "stderr",
     "output_type": "stream",
     "text": [
      "INFO:root:Converting image dtype to float\n"
     ]
    },
    {
     "name": "stdout",
     "output_type": "stream",
     "text": [
      "Tile (18, 5) Processing Time: 8.61 seconds\n"
     ]
    },
    {
     "name": "stderr",
     "output_type": "stream",
     "text": [
      "INFO:root:Converting image dtype to float\n"
     ]
    },
    {
     "name": "stdout",
     "output_type": "stream",
     "text": [
      "Tile (18, 6) Processing Time: 8.98 seconds\n"
     ]
    },
    {
     "name": "stderr",
     "output_type": "stream",
     "text": [
      "INFO:root:Converting image dtype to float\n"
     ]
    },
    {
     "name": "stdout",
     "output_type": "stream",
     "text": [
      "Tile (18, 7) Processing Time: 9.11 seconds\n"
     ]
    },
    {
     "name": "stderr",
     "output_type": "stream",
     "text": [
      "INFO:root:Converting image dtype to float\n"
     ]
    },
    {
     "name": "stdout",
     "output_type": "stream",
     "text": [
      "Tile (18, 8) Processing Time: 9.05 seconds\n"
     ]
    },
    {
     "name": "stderr",
     "output_type": "stream",
     "text": [
      "INFO:root:Converting image dtype to float\n"
     ]
    },
    {
     "name": "stdout",
     "output_type": "stream",
     "text": [
      "Tile (18, 9) Processing Time: 9.05 seconds\n"
     ]
    },
    {
     "name": "stderr",
     "output_type": "stream",
     "text": [
      "INFO:root:Converting image dtype to float\n"
     ]
    },
    {
     "name": "stdout",
     "output_type": "stream",
     "text": [
      "Tile (18, 10) Processing Time: 8.99 seconds\n"
     ]
    },
    {
     "name": "stderr",
     "output_type": "stream",
     "text": [
      "INFO:root:Converting image dtype to float\n"
     ]
    },
    {
     "name": "stdout",
     "output_type": "stream",
     "text": [
      "Tile (18, 11) Processing Time: 9.14 seconds\n"
     ]
    },
    {
     "name": "stderr",
     "output_type": "stream",
     "text": [
      "INFO:root:Converting image dtype to float\n"
     ]
    },
    {
     "name": "stdout",
     "output_type": "stream",
     "text": [
      "Tile (18, 12) Processing Time: 8.77 seconds\n"
     ]
    },
    {
     "name": "stderr",
     "output_type": "stream",
     "text": [
      "INFO:root:Converting image dtype to float\n"
     ]
    },
    {
     "name": "stdout",
     "output_type": "stream",
     "text": [
      "Tile (18, 13) Processing Time: 9.13 seconds\n"
     ]
    },
    {
     "name": "stderr",
     "output_type": "stream",
     "text": [
      "INFO:root:Converting image dtype to float\n"
     ]
    },
    {
     "name": "stdout",
     "output_type": "stream",
     "text": [
      "Tile (18, 14) Processing Time: 8.80 seconds\n"
     ]
    },
    {
     "name": "stderr",
     "output_type": "stream",
     "text": [
      "INFO:root:Converting image dtype to float\n"
     ]
    },
    {
     "name": "stdout",
     "output_type": "stream",
     "text": [
      "Tile (18, 15) Processing Time: 8.70 seconds\n"
     ]
    },
    {
     "name": "stderr",
     "output_type": "stream",
     "text": [
      "INFO:root:Converting image dtype to float\n"
     ]
    },
    {
     "name": "stdout",
     "output_type": "stream",
     "text": [
      "Tile (18, 16) Processing Time: 8.71 seconds\n"
     ]
    },
    {
     "name": "stderr",
     "output_type": "stream",
     "text": [
      "INFO:root:Converting image dtype to float\n"
     ]
    },
    {
     "name": "stdout",
     "output_type": "stream",
     "text": [
      "Tile (18, 17) Processing Time: 8.76 seconds\n"
     ]
    },
    {
     "name": "stderr",
     "output_type": "stream",
     "text": [
      "INFO:root:Converting image dtype to float\n"
     ]
    },
    {
     "name": "stdout",
     "output_type": "stream",
     "text": [
      "Tile (18, 18) Processing Time: 8.71 seconds\n"
     ]
    },
    {
     "name": "stderr",
     "output_type": "stream",
     "text": [
      "INFO:root:Converting image dtype to float\n"
     ]
    },
    {
     "name": "stdout",
     "output_type": "stream",
     "text": [
      "Tile (18, 19) Processing Time: 8.79 seconds\n"
     ]
    },
    {
     "name": "stderr",
     "output_type": "stream",
     "text": [
      "INFO:root:Converting image dtype to float\n"
     ]
    },
    {
     "name": "stdout",
     "output_type": "stream",
     "text": [
      "Tile (18, 20) Processing Time: 9.04 seconds\n"
     ]
    },
    {
     "name": "stderr",
     "output_type": "stream",
     "text": [
      "INFO:root:Converting image dtype to float\n"
     ]
    },
    {
     "name": "stdout",
     "output_type": "stream",
     "text": [
      "Tile (18, 21) Processing Time: 9.21 seconds\n"
     ]
    },
    {
     "name": "stderr",
     "output_type": "stream",
     "text": [
      "INFO:root:Converting image dtype to float\n"
     ]
    },
    {
     "name": "stdout",
     "output_type": "stream",
     "text": [
      "Tile (18, 22) Processing Time: 9.07 seconds\n"
     ]
    },
    {
     "name": "stderr",
     "output_type": "stream",
     "text": [
      "INFO:root:Converting image dtype to float\n"
     ]
    },
    {
     "name": "stdout",
     "output_type": "stream",
     "text": [
      "Tile (18, 23) Processing Time: 9.26 seconds\n"
     ]
    },
    {
     "name": "stderr",
     "output_type": "stream",
     "text": [
      "INFO:root:Converting image dtype to float\n"
     ]
    },
    {
     "name": "stdout",
     "output_type": "stream",
     "text": [
      "Tile (18, 24) Processing Time: 9.03 seconds\n"
     ]
    },
    {
     "name": "stderr",
     "output_type": "stream",
     "text": [
      "INFO:root:Converting image dtype to float\n"
     ]
    },
    {
     "name": "stdout",
     "output_type": "stream",
     "text": [
      "Tile (18, 25) Processing Time: 8.42 seconds\n"
     ]
    },
    {
     "name": "stderr",
     "output_type": "stream",
     "text": [
      "INFO:root:Converting image dtype to float\n"
     ]
    },
    {
     "name": "stdout",
     "output_type": "stream",
     "text": [
      "Tile (18, 26) Processing Time: 8.24 seconds\n"
     ]
    },
    {
     "name": "stderr",
     "output_type": "stream",
     "text": [
      "INFO:root:Converting image dtype to float\n"
     ]
    },
    {
     "name": "stdout",
     "output_type": "stream",
     "text": [
      "Tile (18, 27) Processing Time: 8.46 seconds\n"
     ]
    },
    {
     "name": "stderr",
     "output_type": "stream",
     "text": [
      "INFO:root:Converting image dtype to float\n"
     ]
    },
    {
     "name": "stdout",
     "output_type": "stream",
     "text": [
      "Tile (18, 28) Processing Time: 8.13 seconds\n"
     ]
    },
    {
     "name": "stderr",
     "output_type": "stream",
     "text": [
      "INFO:root:Converting image dtype to float\n"
     ]
    },
    {
     "name": "stdout",
     "output_type": "stream",
     "text": [
      "Tile (18, 29) Processing Time: 7.94 seconds\n"
     ]
    },
    {
     "name": "stderr",
     "output_type": "stream",
     "text": [
      "INFO:root:Converting image dtype to float\n"
     ]
    },
    {
     "name": "stdout",
     "output_type": "stream",
     "text": [
      "Tile (18, 30) Processing Time: 8.13 seconds\n"
     ]
    },
    {
     "name": "stderr",
     "output_type": "stream",
     "text": [
      "INFO:root:Converting image dtype to float\n"
     ]
    },
    {
     "name": "stdout",
     "output_type": "stream",
     "text": [
      "Tile (18, 31) Processing Time: 8.06 seconds\n"
     ]
    },
    {
     "name": "stderr",
     "output_type": "stream",
     "text": [
      "INFO:root:Converting image dtype to float\n"
     ]
    },
    {
     "name": "stdout",
     "output_type": "stream",
     "text": [
      "Tile (18, 32) Processing Time: 8.08 seconds\n"
     ]
    },
    {
     "name": "stderr",
     "output_type": "stream",
     "text": [
      "INFO:root:Converting image dtype to float\n"
     ]
    },
    {
     "name": "stdout",
     "output_type": "stream",
     "text": [
      "Tile (18, 33) Processing Time: 8.47 seconds\n"
     ]
    },
    {
     "name": "stderr",
     "output_type": "stream",
     "text": [
      "INFO:root:Converting image dtype to float\n"
     ]
    },
    {
     "name": "stdout",
     "output_type": "stream",
     "text": [
      "Tile (18, 34) Processing Time: 8.92 seconds\n"
     ]
    },
    {
     "name": "stderr",
     "output_type": "stream",
     "text": [
      "INFO:root:Converting image dtype to float\n"
     ]
    },
    {
     "name": "stdout",
     "output_type": "stream",
     "text": [
      "Tile (18, 35) Processing Time: 8.89 seconds\n"
     ]
    },
    {
     "name": "stderr",
     "output_type": "stream",
     "text": [
      "INFO:root:Converting image dtype to float\n"
     ]
    },
    {
     "name": "stdout",
     "output_type": "stream",
     "text": [
      "Tile (18, 36) Processing Time: 8.87 seconds\n"
     ]
    },
    {
     "name": "stderr",
     "output_type": "stream",
     "text": [
      "INFO:root:Converting image dtype to float\n"
     ]
    },
    {
     "name": "stdout",
     "output_type": "stream",
     "text": [
      "Tile (18, 37) Processing Time: 8.82 seconds\n"
     ]
    },
    {
     "name": "stderr",
     "output_type": "stream",
     "text": [
      "INFO:root:Converting image dtype to float\n"
     ]
    },
    {
     "name": "stdout",
     "output_type": "stream",
     "text": [
      "Tile (18, 38) Processing Time: 8.96 seconds\n"
     ]
    },
    {
     "name": "stderr",
     "output_type": "stream",
     "text": [
      "INFO:root:Converting image dtype to float\n"
     ]
    },
    {
     "name": "stdout",
     "output_type": "stream",
     "text": [
      "Tile (18, 39) Processing Time: 8.95 seconds\n"
     ]
    },
    {
     "name": "stderr",
     "output_type": "stream",
     "text": [
      "INFO:root:Converting image dtype to float\n"
     ]
    },
    {
     "name": "stdout",
     "output_type": "stream",
     "text": [
      "Tile (18, 40) Processing Time: 8.93 seconds\n"
     ]
    },
    {
     "name": "stderr",
     "output_type": "stream",
     "text": [
      "INFO:root:Converting image dtype to float\n"
     ]
    },
    {
     "name": "stdout",
     "output_type": "stream",
     "text": [
      "Tile (18, 41) Processing Time: 8.91 seconds\n"
     ]
    },
    {
     "name": "stderr",
     "output_type": "stream",
     "text": [
      "INFO:root:Converting image dtype to float\n"
     ]
    },
    {
     "name": "stdout",
     "output_type": "stream",
     "text": [
      "Tile (18, 42) Processing Time: 8.69 seconds\n"
     ]
    },
    {
     "name": "stderr",
     "output_type": "stream",
     "text": [
      "INFO:root:Converting image dtype to float\n"
     ]
    },
    {
     "name": "stdout",
     "output_type": "stream",
     "text": [
      "Tile (18, 43) Processing Time: 8.68 seconds\n"
     ]
    },
    {
     "name": "stderr",
     "output_type": "stream",
     "text": [
      "INFO:root:Converting image dtype to float\n"
     ]
    },
    {
     "name": "stdout",
     "output_type": "stream",
     "text": [
      "Tile (18, 44) Processing Time: 8.71 seconds\n"
     ]
    },
    {
     "name": "stderr",
     "output_type": "stream",
     "text": [
      "INFO:root:Converting image dtype to float\n"
     ]
    },
    {
     "name": "stdout",
     "output_type": "stream",
     "text": [
      "Tile (18, 45) Processing Time: 8.73 seconds\n"
     ]
    },
    {
     "name": "stderr",
     "output_type": "stream",
     "text": [
      "INFO:root:Converting image dtype to float\n"
     ]
    },
    {
     "name": "stdout",
     "output_type": "stream",
     "text": [
      "Tile (18, 46) Processing Time: 8.62 seconds\n"
     ]
    },
    {
     "name": "stderr",
     "output_type": "stream",
     "text": [
      "INFO:root:Converting image dtype to float\n"
     ]
    },
    {
     "name": "stdout",
     "output_type": "stream",
     "text": [
      "Tile (18, 47) Processing Time: 8.75 seconds\n"
     ]
    },
    {
     "name": "stderr",
     "output_type": "stream",
     "text": [
      "INFO:root:Converting image dtype to float\n"
     ]
    },
    {
     "name": "stdout",
     "output_type": "stream",
     "text": [
      "Tile (18, 48) Processing Time: 8.88 seconds\n"
     ]
    },
    {
     "name": "stderr",
     "output_type": "stream",
     "text": [
      "INFO:root:Converting image dtype to float\n"
     ]
    },
    {
     "name": "stdout",
     "output_type": "stream",
     "text": [
      "Tile (18, 49) Processing Time: 8.77 seconds\n"
     ]
    },
    {
     "name": "stderr",
     "output_type": "stream",
     "text": [
      "INFO:root:Converting image dtype to float\n"
     ]
    },
    {
     "name": "stdout",
     "output_type": "stream",
     "text": [
      "Tile (18, 50) Processing Time: 8.02 seconds\n"
     ]
    },
    {
     "name": "stderr",
     "output_type": "stream",
     "text": [
      "INFO:root:Converting image dtype to float\n"
     ]
    },
    {
     "name": "stdout",
     "output_type": "stream",
     "text": [
      "Tile (18, 51) Processing Time: 7.62 seconds\n"
     ]
    },
    {
     "name": "stderr",
     "output_type": "stream",
     "text": [
      "INFO:root:Converting image dtype to float\n"
     ]
    },
    {
     "name": "stdout",
     "output_type": "stream",
     "text": [
      "Tile (18, 52) Processing Time: 7.43 seconds\n"
     ]
    },
    {
     "name": "stderr",
     "output_type": "stream",
     "text": [
      "INFO:root:Converting image dtype to float\n"
     ]
    },
    {
     "name": "stdout",
     "output_type": "stream",
     "text": [
      "Tile (19, 2) Processing Time: 7.47 seconds\n"
     ]
    },
    {
     "name": "stderr",
     "output_type": "stream",
     "text": [
      "INFO:root:Converting image dtype to float\n"
     ]
    },
    {
     "name": "stdout",
     "output_type": "stream",
     "text": [
      "Tile (19, 3) Processing Time: 7.31 seconds\n"
     ]
    },
    {
     "name": "stderr",
     "output_type": "stream",
     "text": [
      "INFO:root:Converting image dtype to float\n"
     ]
    },
    {
     "name": "stdout",
     "output_type": "stream",
     "text": [
      "Tile (19, 4) Processing Time: 7.87 seconds\n"
     ]
    },
    {
     "name": "stderr",
     "output_type": "stream",
     "text": [
      "INFO:root:Converting image dtype to float\n"
     ]
    },
    {
     "name": "stdout",
     "output_type": "stream",
     "text": [
      "Tile (19, 5) Processing Time: 8.18 seconds\n"
     ]
    },
    {
     "name": "stderr",
     "output_type": "stream",
     "text": [
      "INFO:root:Converting image dtype to float\n"
     ]
    },
    {
     "name": "stdout",
     "output_type": "stream",
     "text": [
      "Tile (19, 6) Processing Time: 8.64 seconds\n"
     ]
    },
    {
     "name": "stderr",
     "output_type": "stream",
     "text": [
      "INFO:root:Converting image dtype to float\n"
     ]
    },
    {
     "name": "stdout",
     "output_type": "stream",
     "text": [
      "Tile (19, 7) Processing Time: 8.65 seconds\n"
     ]
    },
    {
     "name": "stderr",
     "output_type": "stream",
     "text": [
      "INFO:root:Converting image dtype to float\n"
     ]
    },
    {
     "name": "stdout",
     "output_type": "stream",
     "text": [
      "Tile (19, 8) Processing Time: 9.12 seconds\n"
     ]
    },
    {
     "name": "stderr",
     "output_type": "stream",
     "text": [
      "INFO:root:Converting image dtype to float\n"
     ]
    },
    {
     "name": "stdout",
     "output_type": "stream",
     "text": [
      "Tile (19, 9) Processing Time: 9.06 seconds\n"
     ]
    },
    {
     "name": "stderr",
     "output_type": "stream",
     "text": [
      "INFO:root:Converting image dtype to float\n"
     ]
    },
    {
     "name": "stdout",
     "output_type": "stream",
     "text": [
      "Tile (19, 10) Processing Time: 9.11 seconds\n"
     ]
    },
    {
     "name": "stderr",
     "output_type": "stream",
     "text": [
      "INFO:root:Converting image dtype to float\n"
     ]
    },
    {
     "name": "stdout",
     "output_type": "stream",
     "text": [
      "Tile (19, 11) Processing Time: 8.91 seconds\n"
     ]
    },
    {
     "name": "stderr",
     "output_type": "stream",
     "text": [
      "INFO:root:Converting image dtype to float\n"
     ]
    },
    {
     "name": "stdout",
     "output_type": "stream",
     "text": [
      "Tile (19, 12) Processing Time: 9.14 seconds\n"
     ]
    },
    {
     "name": "stderr",
     "output_type": "stream",
     "text": [
      "INFO:root:Converting image dtype to float\n"
     ]
    },
    {
     "name": "stdout",
     "output_type": "stream",
     "text": [
      "Tile (19, 13) Processing Time: 8.97 seconds\n"
     ]
    },
    {
     "name": "stderr",
     "output_type": "stream",
     "text": [
      "INFO:root:Converting image dtype to float\n"
     ]
    },
    {
     "name": "stdout",
     "output_type": "stream",
     "text": [
      "Tile (19, 14) Processing Time: 8.86 seconds\n"
     ]
    },
    {
     "name": "stderr",
     "output_type": "stream",
     "text": [
      "INFO:root:Converting image dtype to float\n"
     ]
    },
    {
     "name": "stdout",
     "output_type": "stream",
     "text": [
      "Tile (19, 15) Processing Time: 8.71 seconds\n"
     ]
    },
    {
     "name": "stderr",
     "output_type": "stream",
     "text": [
      "INFO:root:Converting image dtype to float\n"
     ]
    },
    {
     "name": "stdout",
     "output_type": "stream",
     "text": [
      "Tile (19, 16) Processing Time: 9.06 seconds\n"
     ]
    },
    {
     "name": "stderr",
     "output_type": "stream",
     "text": [
      "INFO:root:Converting image dtype to float\n"
     ]
    },
    {
     "name": "stdout",
     "output_type": "stream",
     "text": [
      "Tile (19, 17) Processing Time: 8.95 seconds\n"
     ]
    },
    {
     "name": "stderr",
     "output_type": "stream",
     "text": [
      "INFO:root:Converting image dtype to float\n"
     ]
    },
    {
     "name": "stdout",
     "output_type": "stream",
     "text": [
      "Tile (19, 18) Processing Time: 8.73 seconds\n"
     ]
    },
    {
     "name": "stderr",
     "output_type": "stream",
     "text": [
      "INFO:root:Converting image dtype to float\n"
     ]
    },
    {
     "name": "stdout",
     "output_type": "stream",
     "text": [
      "Tile (19, 19) Processing Time: 9.03 seconds\n"
     ]
    },
    {
     "name": "stderr",
     "output_type": "stream",
     "text": [
      "INFO:root:Converting image dtype to float\n"
     ]
    },
    {
     "name": "stdout",
     "output_type": "stream",
     "text": [
      "Tile (19, 20) Processing Time: 9.04 seconds\n"
     ]
    },
    {
     "name": "stderr",
     "output_type": "stream",
     "text": [
      "INFO:root:Converting image dtype to float\n"
     ]
    },
    {
     "name": "stdout",
     "output_type": "stream",
     "text": [
      "Tile (19, 21) Processing Time: 8.90 seconds\n"
     ]
    },
    {
     "name": "stderr",
     "output_type": "stream",
     "text": [
      "INFO:root:Converting image dtype to float\n"
     ]
    },
    {
     "name": "stdout",
     "output_type": "stream",
     "text": [
      "Tile (19, 22) Processing Time: 8.91 seconds\n"
     ]
    },
    {
     "name": "stderr",
     "output_type": "stream",
     "text": [
      "INFO:root:Converting image dtype to float\n"
     ]
    },
    {
     "name": "stdout",
     "output_type": "stream",
     "text": [
      "Tile (19, 23) Processing Time: 9.05 seconds\n"
     ]
    },
    {
     "name": "stderr",
     "output_type": "stream",
     "text": [
      "INFO:root:Converting image dtype to float\n"
     ]
    },
    {
     "name": "stdout",
     "output_type": "stream",
     "text": [
      "Tile (19, 24) Processing Time: 9.11 seconds\n"
     ]
    },
    {
     "name": "stderr",
     "output_type": "stream",
     "text": [
      "INFO:root:Converting image dtype to float\n"
     ]
    },
    {
     "name": "stdout",
     "output_type": "stream",
     "text": [
      "Tile (19, 25) Processing Time: 8.32 seconds\n"
     ]
    },
    {
     "name": "stderr",
     "output_type": "stream",
     "text": [
      "INFO:root:Converting image dtype to float\n"
     ]
    },
    {
     "name": "stdout",
     "output_type": "stream",
     "text": [
      "Tile (19, 26) Processing Time: 7.77 seconds\n"
     ]
    },
    {
     "name": "stderr",
     "output_type": "stream",
     "text": [
      "INFO:root:Converting image dtype to float\n"
     ]
    },
    {
     "name": "stdout",
     "output_type": "stream",
     "text": [
      "Tile (19, 27) Processing Time: 8.16 seconds\n"
     ]
    },
    {
     "name": "stderr",
     "output_type": "stream",
     "text": [
      "INFO:root:Converting image dtype to float\n"
     ]
    },
    {
     "name": "stdout",
     "output_type": "stream",
     "text": [
      "Tile (19, 28) Processing Time: 8.31 seconds\n"
     ]
    },
    {
     "name": "stderr",
     "output_type": "stream",
     "text": [
      "INFO:root:Converting image dtype to float\n"
     ]
    },
    {
     "name": "stdout",
     "output_type": "stream",
     "text": [
      "Tile (19, 29) Processing Time: 8.00 seconds\n"
     ]
    },
    {
     "name": "stderr",
     "output_type": "stream",
     "text": [
      "INFO:root:Converting image dtype to float\n"
     ]
    },
    {
     "name": "stdout",
     "output_type": "stream",
     "text": [
      "Tile (19, 30) Processing Time: 8.14 seconds\n"
     ]
    },
    {
     "name": "stderr",
     "output_type": "stream",
     "text": [
      "INFO:root:Converting image dtype to float\n"
     ]
    },
    {
     "name": "stdout",
     "output_type": "stream",
     "text": [
      "Tile (19, 31) Processing Time: 8.21 seconds\n"
     ]
    },
    {
     "name": "stderr",
     "output_type": "stream",
     "text": [
      "INFO:root:Converting image dtype to float\n"
     ]
    },
    {
     "name": "stdout",
     "output_type": "stream",
     "text": [
      "Tile (19, 32) Processing Time: 8.29 seconds\n"
     ]
    },
    {
     "name": "stderr",
     "output_type": "stream",
     "text": [
      "INFO:root:Converting image dtype to float\n"
     ]
    },
    {
     "name": "stdout",
     "output_type": "stream",
     "text": [
      "Tile (19, 33) Processing Time: 8.51 seconds\n"
     ]
    },
    {
     "name": "stderr",
     "output_type": "stream",
     "text": [
      "INFO:root:Converting image dtype to float\n"
     ]
    },
    {
     "name": "stdout",
     "output_type": "stream",
     "text": [
      "Tile (19, 34) Processing Time: 8.66 seconds\n"
     ]
    },
    {
     "name": "stderr",
     "output_type": "stream",
     "text": [
      "INFO:root:Converting image dtype to float\n"
     ]
    },
    {
     "name": "stdout",
     "output_type": "stream",
     "text": [
      "Tile (19, 35) Processing Time: 8.78 seconds\n"
     ]
    },
    {
     "name": "stderr",
     "output_type": "stream",
     "text": [
      "INFO:root:Converting image dtype to float\n"
     ]
    },
    {
     "name": "stdout",
     "output_type": "stream",
     "text": [
      "Tile (19, 36) Processing Time: 8.65 seconds\n"
     ]
    },
    {
     "name": "stderr",
     "output_type": "stream",
     "text": [
      "INFO:root:Converting image dtype to float\n"
     ]
    },
    {
     "name": "stdout",
     "output_type": "stream",
     "text": [
      "Tile (19, 37) Processing Time: 8.88 seconds\n"
     ]
    },
    {
     "name": "stderr",
     "output_type": "stream",
     "text": [
      "INFO:root:Converting image dtype to float\n"
     ]
    },
    {
     "name": "stdout",
     "output_type": "stream",
     "text": [
      "Tile (19, 38) Processing Time: 8.77 seconds\n"
     ]
    },
    {
     "name": "stderr",
     "output_type": "stream",
     "text": [
      "INFO:root:Converting image dtype to float\n"
     ]
    },
    {
     "name": "stdout",
     "output_type": "stream",
     "text": [
      "Tile (19, 39) Processing Time: 8.83 seconds\n"
     ]
    },
    {
     "name": "stderr",
     "output_type": "stream",
     "text": [
      "INFO:root:Converting image dtype to float\n"
     ]
    },
    {
     "name": "stdout",
     "output_type": "stream",
     "text": [
      "Tile (19, 40) Processing Time: 8.95 seconds\n"
     ]
    },
    {
     "name": "stderr",
     "output_type": "stream",
     "text": [
      "INFO:root:Converting image dtype to float\n"
     ]
    },
    {
     "name": "stdout",
     "output_type": "stream",
     "text": [
      "Tile (19, 41) Processing Time: 8.99 seconds\n"
     ]
    },
    {
     "name": "stderr",
     "output_type": "stream",
     "text": [
      "INFO:root:Converting image dtype to float\n"
     ]
    },
    {
     "name": "stdout",
     "output_type": "stream",
     "text": [
      "Tile (19, 42) Processing Time: 8.80 seconds\n"
     ]
    },
    {
     "name": "stderr",
     "output_type": "stream",
     "text": [
      "INFO:root:Converting image dtype to float\n"
     ]
    },
    {
     "name": "stdout",
     "output_type": "stream",
     "text": [
      "Tile (19, 43) Processing Time: 8.50 seconds\n"
     ]
    },
    {
     "name": "stderr",
     "output_type": "stream",
     "text": [
      "INFO:root:Converting image dtype to float\n"
     ]
    },
    {
     "name": "stdout",
     "output_type": "stream",
     "text": [
      "Tile (19, 44) Processing Time: 8.47 seconds\n"
     ]
    },
    {
     "name": "stderr",
     "output_type": "stream",
     "text": [
      "INFO:root:Converting image dtype to float\n"
     ]
    },
    {
     "name": "stdout",
     "output_type": "stream",
     "text": [
      "Tile (19, 45) Processing Time: 8.15 seconds\n"
     ]
    },
    {
     "name": "stderr",
     "output_type": "stream",
     "text": [
      "INFO:root:Converting image dtype to float\n"
     ]
    },
    {
     "name": "stdout",
     "output_type": "stream",
     "text": [
      "Tile (19, 46) Processing Time: 8.37 seconds\n"
     ]
    },
    {
     "name": "stderr",
     "output_type": "stream",
     "text": [
      "INFO:root:Converting image dtype to float\n"
     ]
    },
    {
     "name": "stdout",
     "output_type": "stream",
     "text": [
      "Tile (19, 47) Processing Time: 8.81 seconds\n"
     ]
    },
    {
     "name": "stderr",
     "output_type": "stream",
     "text": [
      "INFO:root:Converting image dtype to float\n"
     ]
    },
    {
     "name": "stdout",
     "output_type": "stream",
     "text": [
      "Tile (19, 48) Processing Time: 9.22 seconds\n"
     ]
    },
    {
     "name": "stderr",
     "output_type": "stream",
     "text": [
      "INFO:root:Converting image dtype to float\n"
     ]
    },
    {
     "name": "stdout",
     "output_type": "stream",
     "text": [
      "Tile (19, 49) Processing Time: 8.62 seconds\n"
     ]
    },
    {
     "name": "stderr",
     "output_type": "stream",
     "text": [
      "INFO:root:Converting image dtype to float\n"
     ]
    },
    {
     "name": "stdout",
     "output_type": "stream",
     "text": [
      "Tile (19, 50) Processing Time: 8.41 seconds\n"
     ]
    },
    {
     "name": "stderr",
     "output_type": "stream",
     "text": [
      "INFO:root:Converting image dtype to float\n"
     ]
    },
    {
     "name": "stdout",
     "output_type": "stream",
     "text": [
      "Tile (19, 51) Processing Time: 7.64 seconds\n"
     ]
    },
    {
     "name": "stderr",
     "output_type": "stream",
     "text": [
      "INFO:root:Converting image dtype to float\n"
     ]
    },
    {
     "name": "stdout",
     "output_type": "stream",
     "text": [
      "Tile (19, 52) Processing Time: 7.38 seconds\n"
     ]
    },
    {
     "name": "stderr",
     "output_type": "stream",
     "text": [
      "INFO:root:Converting image dtype to float\n"
     ]
    },
    {
     "name": "stdout",
     "output_type": "stream",
     "text": [
      "Tile (20, 3) Processing Time: 7.52 seconds\n"
     ]
    },
    {
     "name": "stderr",
     "output_type": "stream",
     "text": [
      "INFO:root:Converting image dtype to float\n"
     ]
    },
    {
     "name": "stdout",
     "output_type": "stream",
     "text": [
      "Tile (20, 4) Processing Time: 7.44 seconds\n"
     ]
    },
    {
     "name": "stderr",
     "output_type": "stream",
     "text": [
      "INFO:root:Converting image dtype to float\n"
     ]
    },
    {
     "name": "stdout",
     "output_type": "stream",
     "text": [
      "Tile (20, 5) Processing Time: 7.80 seconds\n"
     ]
    },
    {
     "name": "stderr",
     "output_type": "stream",
     "text": [
      "INFO:root:Converting image dtype to float\n"
     ]
    },
    {
     "name": "stdout",
     "output_type": "stream",
     "text": [
      "Tile (20, 6) Processing Time: 8.37 seconds\n"
     ]
    },
    {
     "name": "stderr",
     "output_type": "stream",
     "text": [
      "INFO:root:Converting image dtype to float\n"
     ]
    },
    {
     "name": "stdout",
     "output_type": "stream",
     "text": [
      "Tile (20, 7) Processing Time: 8.54 seconds\n"
     ]
    },
    {
     "name": "stderr",
     "output_type": "stream",
     "text": [
      "INFO:root:Converting image dtype to float\n"
     ]
    },
    {
     "name": "stdout",
     "output_type": "stream",
     "text": [
      "Tile (20, 8) Processing Time: 8.83 seconds\n"
     ]
    },
    {
     "name": "stderr",
     "output_type": "stream",
     "text": [
      "INFO:root:Converting image dtype to float\n"
     ]
    },
    {
     "name": "stdout",
     "output_type": "stream",
     "text": [
      "Tile (20, 9) Processing Time: 9.08 seconds\n"
     ]
    },
    {
     "name": "stderr",
     "output_type": "stream",
     "text": [
      "INFO:root:Converting image dtype to float\n"
     ]
    },
    {
     "name": "stdout",
     "output_type": "stream",
     "text": [
      "Tile (20, 10) Processing Time: 9.17 seconds\n"
     ]
    },
    {
     "name": "stderr",
     "output_type": "stream",
     "text": [
      "INFO:root:Converting image dtype to float\n"
     ]
    },
    {
     "name": "stdout",
     "output_type": "stream",
     "text": [
      "Tile (20, 11) Processing Time: 9.29 seconds\n"
     ]
    },
    {
     "name": "stderr",
     "output_type": "stream",
     "text": [
      "INFO:root:Converting image dtype to float\n"
     ]
    },
    {
     "name": "stdout",
     "output_type": "stream",
     "text": [
      "Tile (20, 12) Processing Time: 9.09 seconds\n"
     ]
    },
    {
     "name": "stderr",
     "output_type": "stream",
     "text": [
      "INFO:root:Converting image dtype to float\n"
     ]
    },
    {
     "name": "stdout",
     "output_type": "stream",
     "text": [
      "Tile (20, 13) Processing Time: 9.40 seconds\n"
     ]
    },
    {
     "name": "stderr",
     "output_type": "stream",
     "text": [
      "INFO:root:Converting image dtype to float\n"
     ]
    },
    {
     "name": "stdout",
     "output_type": "stream",
     "text": [
      "Tile (20, 14) Processing Time: 9.17 seconds\n"
     ]
    },
    {
     "name": "stderr",
     "output_type": "stream",
     "text": [
      "INFO:root:Converting image dtype to float\n"
     ]
    },
    {
     "name": "stdout",
     "output_type": "stream",
     "text": [
      "Tile (20, 15) Processing Time: 9.05 seconds\n"
     ]
    },
    {
     "name": "stderr",
     "output_type": "stream",
     "text": [
      "INFO:root:Converting image dtype to float\n"
     ]
    },
    {
     "name": "stdout",
     "output_type": "stream",
     "text": [
      "Tile (20, 16) Processing Time: 9.05 seconds\n"
     ]
    },
    {
     "name": "stderr",
     "output_type": "stream",
     "text": [
      "INFO:root:Converting image dtype to float\n"
     ]
    },
    {
     "name": "stdout",
     "output_type": "stream",
     "text": [
      "Tile (20, 17) Processing Time: 8.80 seconds\n"
     ]
    },
    {
     "name": "stderr",
     "output_type": "stream",
     "text": [
      "INFO:root:Converting image dtype to float\n"
     ]
    },
    {
     "name": "stdout",
     "output_type": "stream",
     "text": [
      "Tile (20, 18) Processing Time: 8.85 seconds\n"
     ]
    },
    {
     "name": "stderr",
     "output_type": "stream",
     "text": [
      "INFO:root:Converting image dtype to float\n"
     ]
    },
    {
     "name": "stdout",
     "output_type": "stream",
     "text": [
      "Tile (20, 19) Processing Time: 9.07 seconds\n"
     ]
    },
    {
     "name": "stderr",
     "output_type": "stream",
     "text": [
      "INFO:root:Converting image dtype to float\n"
     ]
    },
    {
     "name": "stdout",
     "output_type": "stream",
     "text": [
      "Tile (20, 20) Processing Time: 9.08 seconds\n"
     ]
    },
    {
     "name": "stderr",
     "output_type": "stream",
     "text": [
      "INFO:root:Converting image dtype to float\n"
     ]
    },
    {
     "name": "stdout",
     "output_type": "stream",
     "text": [
      "Tile (20, 21) Processing Time: 9.08 seconds\n"
     ]
    },
    {
     "name": "stderr",
     "output_type": "stream",
     "text": [
      "INFO:root:Converting image dtype to float\n"
     ]
    },
    {
     "name": "stdout",
     "output_type": "stream",
     "text": [
      "Tile (20, 22) Processing Time: 8.76 seconds\n"
     ]
    },
    {
     "name": "stderr",
     "output_type": "stream",
     "text": [
      "INFO:root:Converting image dtype to float\n"
     ]
    },
    {
     "name": "stdout",
     "output_type": "stream",
     "text": [
      "Tile (20, 23) Processing Time: 8.69 seconds\n"
     ]
    },
    {
     "name": "stderr",
     "output_type": "stream",
     "text": [
      "INFO:root:Converting image dtype to float\n"
     ]
    },
    {
     "name": "stdout",
     "output_type": "stream",
     "text": [
      "Tile (20, 24) Processing Time: 8.75 seconds\n"
     ]
    },
    {
     "name": "stderr",
     "output_type": "stream",
     "text": [
      "INFO:root:Converting image dtype to float\n"
     ]
    },
    {
     "name": "stdout",
     "output_type": "stream",
     "text": [
      "Tile (20, 25) Processing Time: 8.17 seconds\n"
     ]
    },
    {
     "name": "stderr",
     "output_type": "stream",
     "text": [
      "INFO:root:Converting image dtype to float\n"
     ]
    },
    {
     "name": "stdout",
     "output_type": "stream",
     "text": [
      "Tile (20, 26) Processing Time: 7.82 seconds\n"
     ]
    },
    {
     "name": "stderr",
     "output_type": "stream",
     "text": [
      "INFO:root:Converting image dtype to float\n"
     ]
    },
    {
     "name": "stdout",
     "output_type": "stream",
     "text": [
      "Tile (20, 27) Processing Time: 8.05 seconds\n"
     ]
    },
    {
     "name": "stderr",
     "output_type": "stream",
     "text": [
      "INFO:root:Converting image dtype to float\n"
     ]
    },
    {
     "name": "stdout",
     "output_type": "stream",
     "text": [
      "Tile (20, 28) Processing Time: 8.52 seconds\n"
     ]
    },
    {
     "name": "stderr",
     "output_type": "stream",
     "text": [
      "INFO:root:Converting image dtype to float\n"
     ]
    },
    {
     "name": "stdout",
     "output_type": "stream",
     "text": [
      "Tile (20, 29) Processing Time: 8.42 seconds\n"
     ]
    },
    {
     "name": "stderr",
     "output_type": "stream",
     "text": [
      "INFO:root:Converting image dtype to float\n"
     ]
    },
    {
     "name": "stdout",
     "output_type": "stream",
     "text": [
      "Tile (20, 30) Processing Time: 8.50 seconds\n"
     ]
    },
    {
     "name": "stderr",
     "output_type": "stream",
     "text": [
      "INFO:root:Converting image dtype to float\n"
     ]
    },
    {
     "name": "stdout",
     "output_type": "stream",
     "text": [
      "Tile (20, 31) Processing Time: 8.50 seconds\n"
     ]
    },
    {
     "name": "stderr",
     "output_type": "stream",
     "text": [
      "INFO:root:Converting image dtype to float\n"
     ]
    },
    {
     "name": "stdout",
     "output_type": "stream",
     "text": [
      "Tile (20, 32) Processing Time: 8.60 seconds\n"
     ]
    },
    {
     "name": "stderr",
     "output_type": "stream",
     "text": [
      "INFO:root:Converting image dtype to float\n"
     ]
    },
    {
     "name": "stdout",
     "output_type": "stream",
     "text": [
      "Tile (20, 33) Processing Time: 8.64 seconds\n"
     ]
    },
    {
     "name": "stderr",
     "output_type": "stream",
     "text": [
      "INFO:root:Converting image dtype to float\n"
     ]
    },
    {
     "name": "stdout",
     "output_type": "stream",
     "text": [
      "Tile (20, 34) Processing Time: 8.70 seconds\n"
     ]
    },
    {
     "name": "stderr",
     "output_type": "stream",
     "text": [
      "INFO:root:Converting image dtype to float\n"
     ]
    },
    {
     "name": "stdout",
     "output_type": "stream",
     "text": [
      "Tile (20, 35) Processing Time: 8.55 seconds\n"
     ]
    },
    {
     "name": "stderr",
     "output_type": "stream",
     "text": [
      "INFO:root:Converting image dtype to float\n"
     ]
    },
    {
     "name": "stdout",
     "output_type": "stream",
     "text": [
      "Tile (20, 36) Processing Time: 8.71 seconds\n"
     ]
    },
    {
     "name": "stderr",
     "output_type": "stream",
     "text": [
      "INFO:root:Converting image dtype to float\n"
     ]
    },
    {
     "name": "stdout",
     "output_type": "stream",
     "text": [
      "Tile (20, 37) Processing Time: 8.81 seconds\n"
     ]
    },
    {
     "name": "stderr",
     "output_type": "stream",
     "text": [
      "INFO:root:Converting image dtype to float\n"
     ]
    },
    {
     "name": "stdout",
     "output_type": "stream",
     "text": [
      "Tile (20, 38) Processing Time: 8.77 seconds\n"
     ]
    },
    {
     "name": "stderr",
     "output_type": "stream",
     "text": [
      "INFO:root:Converting image dtype to float\n"
     ]
    },
    {
     "name": "stdout",
     "output_type": "stream",
     "text": [
      "Tile (20, 39) Processing Time: 8.95 seconds\n"
     ]
    },
    {
     "name": "stderr",
     "output_type": "stream",
     "text": [
      "INFO:root:Converting image dtype to float\n"
     ]
    },
    {
     "name": "stdout",
     "output_type": "stream",
     "text": [
      "Tile (20, 40) Processing Time: 9.03 seconds\n"
     ]
    },
    {
     "name": "stderr",
     "output_type": "stream",
     "text": [
      "INFO:root:Converting image dtype to float\n"
     ]
    },
    {
     "name": "stdout",
     "output_type": "stream",
     "text": [
      "Tile (20, 41) Processing Time: 9.15 seconds\n"
     ]
    },
    {
     "name": "stderr",
     "output_type": "stream",
     "text": [
      "INFO:root:Converting image dtype to float\n"
     ]
    },
    {
     "name": "stdout",
     "output_type": "stream",
     "text": [
      "Tile (20, 42) Processing Time: 8.97 seconds\n"
     ]
    },
    {
     "name": "stderr",
     "output_type": "stream",
     "text": [
      "INFO:root:Converting image dtype to float\n"
     ]
    },
    {
     "name": "stdout",
     "output_type": "stream",
     "text": [
      "Tile (20, 43) Processing Time: 8.84 seconds\n"
     ]
    },
    {
     "name": "stderr",
     "output_type": "stream",
     "text": [
      "INFO:root:Converting image dtype to float\n"
     ]
    },
    {
     "name": "stdout",
     "output_type": "stream",
     "text": [
      "Tile (20, 44) Processing Time: 8.36 seconds\n"
     ]
    },
    {
     "name": "stderr",
     "output_type": "stream",
     "text": [
      "INFO:root:Converting image dtype to float\n"
     ]
    },
    {
     "name": "stdout",
     "output_type": "stream",
     "text": [
      "Tile (20, 45) Processing Time: 8.01 seconds\n"
     ]
    },
    {
     "name": "stderr",
     "output_type": "stream",
     "text": [
      "INFO:root:Converting image dtype to float\n"
     ]
    },
    {
     "name": "stdout",
     "output_type": "stream",
     "text": [
      "Tile (20, 46) Processing Time: 8.33 seconds\n"
     ]
    },
    {
     "name": "stderr",
     "output_type": "stream",
     "text": [
      "INFO:root:Converting image dtype to float\n"
     ]
    },
    {
     "name": "stdout",
     "output_type": "stream",
     "text": [
      "Tile (20, 47) Processing Time: 9.00 seconds\n"
     ]
    },
    {
     "name": "stderr",
     "output_type": "stream",
     "text": [
      "INFO:root:Converting image dtype to float\n"
     ]
    },
    {
     "name": "stdout",
     "output_type": "stream",
     "text": [
      "Tile (20, 48) Processing Time: 9.03 seconds\n"
     ]
    },
    {
     "name": "stderr",
     "output_type": "stream",
     "text": [
      "INFO:root:Converting image dtype to float\n"
     ]
    },
    {
     "name": "stdout",
     "output_type": "stream",
     "text": [
      "Tile (20, 49) Processing Time: 9.00 seconds\n"
     ]
    },
    {
     "name": "stderr",
     "output_type": "stream",
     "text": [
      "INFO:root:Converting image dtype to float\n"
     ]
    },
    {
     "name": "stdout",
     "output_type": "stream",
     "text": [
      "Tile (20, 50) Processing Time: 8.68 seconds\n"
     ]
    },
    {
     "name": "stderr",
     "output_type": "stream",
     "text": [
      "INFO:root:Converting image dtype to float\n"
     ]
    },
    {
     "name": "stdout",
     "output_type": "stream",
     "text": [
      "Tile (20, 51) Processing Time: 8.32 seconds\n"
     ]
    },
    {
     "name": "stderr",
     "output_type": "stream",
     "text": [
      "INFO:root:Converting image dtype to float\n"
     ]
    },
    {
     "name": "stdout",
     "output_type": "stream",
     "text": [
      "Tile (20, 52) Processing Time: 7.51 seconds\n"
     ]
    },
    {
     "name": "stderr",
     "output_type": "stream",
     "text": [
      "INFO:root:Converting image dtype to float\n"
     ]
    },
    {
     "name": "stdout",
     "output_type": "stream",
     "text": [
      "Tile (21, 5) Processing Time: 7.65 seconds\n"
     ]
    },
    {
     "name": "stderr",
     "output_type": "stream",
     "text": [
      "INFO:root:Converting image dtype to float\n"
     ]
    },
    {
     "name": "stdout",
     "output_type": "stream",
     "text": [
      "Tile (21, 6) Processing Time: 7.73 seconds\n"
     ]
    },
    {
     "name": "stderr",
     "output_type": "stream",
     "text": [
      "INFO:root:Converting image dtype to float\n"
     ]
    },
    {
     "name": "stdout",
     "output_type": "stream",
     "text": [
      "Tile (21, 7) Processing Time: 7.90 seconds\n"
     ]
    },
    {
     "name": "stderr",
     "output_type": "stream",
     "text": [
      "INFO:root:Converting image dtype to float\n"
     ]
    },
    {
     "name": "stdout",
     "output_type": "stream",
     "text": [
      "Tile (21, 8) Processing Time: 8.21 seconds\n"
     ]
    },
    {
     "name": "stderr",
     "output_type": "stream",
     "text": [
      "INFO:root:Converting image dtype to float\n"
     ]
    },
    {
     "name": "stdout",
     "output_type": "stream",
     "text": [
      "Tile (21, 9) Processing Time: 8.40 seconds\n"
     ]
    },
    {
     "name": "stderr",
     "output_type": "stream",
     "text": [
      "INFO:root:Converting image dtype to float\n"
     ]
    },
    {
     "name": "stdout",
     "output_type": "stream",
     "text": [
      "Tile (21, 10) Processing Time: 8.73 seconds\n"
     ]
    },
    {
     "name": "stderr",
     "output_type": "stream",
     "text": [
      "INFO:root:Converting image dtype to float\n"
     ]
    },
    {
     "name": "stdout",
     "output_type": "stream",
     "text": [
      "Tile (21, 11) Processing Time: 9.27 seconds\n"
     ]
    },
    {
     "name": "stderr",
     "output_type": "stream",
     "text": [
      "INFO:root:Converting image dtype to float\n"
     ]
    },
    {
     "name": "stdout",
     "output_type": "stream",
     "text": [
      "Tile (21, 12) Processing Time: 9.23 seconds\n"
     ]
    },
    {
     "name": "stderr",
     "output_type": "stream",
     "text": [
      "INFO:root:Converting image dtype to float\n"
     ]
    },
    {
     "name": "stdout",
     "output_type": "stream",
     "text": [
      "Tile (21, 13) Processing Time: 9.36 seconds\n"
     ]
    },
    {
     "name": "stderr",
     "output_type": "stream",
     "text": [
      "INFO:root:Converting image dtype to float\n"
     ]
    },
    {
     "name": "stdout",
     "output_type": "stream",
     "text": [
      "Tile (21, 14) Processing Time: 8.94 seconds\n"
     ]
    },
    {
     "name": "stderr",
     "output_type": "stream",
     "text": [
      "INFO:root:Converting image dtype to float\n"
     ]
    },
    {
     "name": "stdout",
     "output_type": "stream",
     "text": [
      "Tile (21, 15) Processing Time: 9.27 seconds\n"
     ]
    },
    {
     "name": "stderr",
     "output_type": "stream",
     "text": [
      "INFO:root:Converting image dtype to float\n"
     ]
    },
    {
     "name": "stdout",
     "output_type": "stream",
     "text": [
      "Tile (21, 16) Processing Time: 8.78 seconds\n"
     ]
    },
    {
     "name": "stderr",
     "output_type": "stream",
     "text": [
      "INFO:root:Converting image dtype to float\n"
     ]
    },
    {
     "name": "stdout",
     "output_type": "stream",
     "text": [
      "Tile (21, 17) Processing Time: 8.74 seconds\n"
     ]
    },
    {
     "name": "stderr",
     "output_type": "stream",
     "text": [
      "INFO:root:Converting image dtype to float\n"
     ]
    },
    {
     "name": "stdout",
     "output_type": "stream",
     "text": [
      "Tile (21, 18) Processing Time: 8.93 seconds\n"
     ]
    },
    {
     "name": "stderr",
     "output_type": "stream",
     "text": [
      "INFO:root:Converting image dtype to float\n"
     ]
    },
    {
     "name": "stdout",
     "output_type": "stream",
     "text": [
      "Tile (21, 19) Processing Time: 9.18 seconds\n"
     ]
    },
    {
     "name": "stderr",
     "output_type": "stream",
     "text": [
      "INFO:root:Converting image dtype to float\n"
     ]
    },
    {
     "name": "stdout",
     "output_type": "stream",
     "text": [
      "Tile (21, 20) Processing Time: 9.21 seconds\n"
     ]
    },
    {
     "name": "stderr",
     "output_type": "stream",
     "text": [
      "INFO:root:Converting image dtype to float\n"
     ]
    },
    {
     "name": "stdout",
     "output_type": "stream",
     "text": [
      "Tile (21, 21) Processing Time: 9.11 seconds\n"
     ]
    },
    {
     "name": "stderr",
     "output_type": "stream",
     "text": [
      "INFO:root:Converting image dtype to float\n"
     ]
    },
    {
     "name": "stdout",
     "output_type": "stream",
     "text": [
      "Tile (21, 22) Processing Time: 8.76 seconds\n"
     ]
    },
    {
     "name": "stderr",
     "output_type": "stream",
     "text": [
      "INFO:root:Converting image dtype to float\n"
     ]
    },
    {
     "name": "stdout",
     "output_type": "stream",
     "text": [
      "Tile (21, 23) Processing Time: 8.56 seconds\n"
     ]
    },
    {
     "name": "stderr",
     "output_type": "stream",
     "text": [
      "INFO:root:Converting image dtype to float\n"
     ]
    },
    {
     "name": "stdout",
     "output_type": "stream",
     "text": [
      "Tile (21, 24) Processing Time: 8.62 seconds\n"
     ]
    },
    {
     "name": "stderr",
     "output_type": "stream",
     "text": [
      "INFO:root:Converting image dtype to float\n"
     ]
    },
    {
     "name": "stdout",
     "output_type": "stream",
     "text": [
      "Tile (21, 25) Processing Time: 8.47 seconds\n"
     ]
    },
    {
     "name": "stderr",
     "output_type": "stream",
     "text": [
      "INFO:root:Converting image dtype to float\n"
     ]
    },
    {
     "name": "stdout",
     "output_type": "stream",
     "text": [
      "Tile (21, 26) Processing Time: 8.09 seconds\n"
     ]
    },
    {
     "name": "stderr",
     "output_type": "stream",
     "text": [
      "INFO:root:Converting image dtype to float\n"
     ]
    },
    {
     "name": "stdout",
     "output_type": "stream",
     "text": [
      "Tile (21, 27) Processing Time: 8.22 seconds\n"
     ]
    },
    {
     "name": "stderr",
     "output_type": "stream",
     "text": [
      "INFO:root:Converting image dtype to float\n"
     ]
    },
    {
     "name": "stdout",
     "output_type": "stream",
     "text": [
      "Tile (21, 28) Processing Time: 8.63 seconds\n"
     ]
    },
    {
     "name": "stderr",
     "output_type": "stream",
     "text": [
      "INFO:root:Converting image dtype to float\n"
     ]
    },
    {
     "name": "stdout",
     "output_type": "stream",
     "text": [
      "Tile (21, 29) Processing Time: 8.61 seconds\n"
     ]
    },
    {
     "name": "stderr",
     "output_type": "stream",
     "text": [
      "INFO:root:Converting image dtype to float\n"
     ]
    },
    {
     "name": "stdout",
     "output_type": "stream",
     "text": [
      "Tile (21, 30) Processing Time: 8.81 seconds\n"
     ]
    },
    {
     "name": "stderr",
     "output_type": "stream",
     "text": [
      "INFO:root:Converting image dtype to float\n"
     ]
    },
    {
     "name": "stdout",
     "output_type": "stream",
     "text": [
      "Tile (21, 31) Processing Time: 9.10 seconds\n"
     ]
    },
    {
     "name": "stderr",
     "output_type": "stream",
     "text": [
      "INFO:root:Converting image dtype to float\n"
     ]
    },
    {
     "name": "stdout",
     "output_type": "stream",
     "text": [
      "Tile (21, 32) Processing Time: 8.81 seconds\n"
     ]
    },
    {
     "name": "stderr",
     "output_type": "stream",
     "text": [
      "INFO:root:Converting image dtype to float\n"
     ]
    },
    {
     "name": "stdout",
     "output_type": "stream",
     "text": [
      "Tile (21, 33) Processing Time: 8.38 seconds\n"
     ]
    },
    {
     "name": "stderr",
     "output_type": "stream",
     "text": [
      "INFO:root:Converting image dtype to float\n"
     ]
    },
    {
     "name": "stdout",
     "output_type": "stream",
     "text": [
      "Tile (21, 34) Processing Time: 8.30 seconds\n"
     ]
    },
    {
     "name": "stderr",
     "output_type": "stream",
     "text": [
      "INFO:root:Converting image dtype to float\n"
     ]
    },
    {
     "name": "stdout",
     "output_type": "stream",
     "text": [
      "Tile (21, 35) Processing Time: 8.44 seconds\n"
     ]
    },
    {
     "name": "stderr",
     "output_type": "stream",
     "text": [
      "INFO:root:Converting image dtype to float\n"
     ]
    },
    {
     "name": "stdout",
     "output_type": "stream",
     "text": [
      "Tile (21, 36) Processing Time: 9.00 seconds\n"
     ]
    },
    {
     "name": "stderr",
     "output_type": "stream",
     "text": [
      "INFO:root:Converting image dtype to float\n"
     ]
    },
    {
     "name": "stdout",
     "output_type": "stream",
     "text": [
      "Tile (21, 37) Processing Time: 8.93 seconds\n"
     ]
    },
    {
     "name": "stderr",
     "output_type": "stream",
     "text": [
      "INFO:root:Converting image dtype to float\n"
     ]
    },
    {
     "name": "stdout",
     "output_type": "stream",
     "text": [
      "Tile (21, 38) Processing Time: 8.70 seconds\n"
     ]
    },
    {
     "name": "stderr",
     "output_type": "stream",
     "text": [
      "INFO:root:Converting image dtype to float\n"
     ]
    },
    {
     "name": "stdout",
     "output_type": "stream",
     "text": [
      "Tile (21, 39) Processing Time: 8.85 seconds\n"
     ]
    },
    {
     "name": "stderr",
     "output_type": "stream",
     "text": [
      "INFO:root:Converting image dtype to float\n"
     ]
    },
    {
     "name": "stdout",
     "output_type": "stream",
     "text": [
      "Tile (21, 40) Processing Time: 9.05 seconds\n"
     ]
    },
    {
     "name": "stderr",
     "output_type": "stream",
     "text": [
      "INFO:root:Converting image dtype to float\n"
     ]
    },
    {
     "name": "stdout",
     "output_type": "stream",
     "text": [
      "Tile (21, 41) Processing Time: 9.04 seconds\n"
     ]
    },
    {
     "name": "stderr",
     "output_type": "stream",
     "text": [
      "INFO:root:Converting image dtype to float\n"
     ]
    },
    {
     "name": "stdout",
     "output_type": "stream",
     "text": [
      "Tile (21, 42) Processing Time: 8.83 seconds\n"
     ]
    },
    {
     "name": "stderr",
     "output_type": "stream",
     "text": [
      "INFO:root:Converting image dtype to float\n"
     ]
    },
    {
     "name": "stdout",
     "output_type": "stream",
     "text": [
      "Tile (21, 43) Processing Time: 8.98 seconds\n"
     ]
    },
    {
     "name": "stderr",
     "output_type": "stream",
     "text": [
      "INFO:root:Converting image dtype to float\n"
     ]
    },
    {
     "name": "stdout",
     "output_type": "stream",
     "text": [
      "Tile (21, 44) Processing Time: 8.51 seconds\n"
     ]
    },
    {
     "name": "stderr",
     "output_type": "stream",
     "text": [
      "INFO:root:Converting image dtype to float\n"
     ]
    },
    {
     "name": "stdout",
     "output_type": "stream",
     "text": [
      "Tile (21, 45) Processing Time: 8.27 seconds\n"
     ]
    },
    {
     "name": "stderr",
     "output_type": "stream",
     "text": [
      "INFO:root:Converting image dtype to float\n"
     ]
    },
    {
     "name": "stdout",
     "output_type": "stream",
     "text": [
      "Tile (21, 46) Processing Time: 8.54 seconds\n"
     ]
    },
    {
     "name": "stderr",
     "output_type": "stream",
     "text": [
      "INFO:root:Converting image dtype to float\n"
     ]
    },
    {
     "name": "stdout",
     "output_type": "stream",
     "text": [
      "Tile (21, 47) Processing Time: 9.10 seconds\n"
     ]
    },
    {
     "name": "stderr",
     "output_type": "stream",
     "text": [
      "INFO:root:Converting image dtype to float\n"
     ]
    },
    {
     "name": "stdout",
     "output_type": "stream",
     "text": [
      "Tile (21, 48) Processing Time: 9.35 seconds\n"
     ]
    },
    {
     "name": "stderr",
     "output_type": "stream",
     "text": [
      "INFO:root:Converting image dtype to float\n"
     ]
    },
    {
     "name": "stdout",
     "output_type": "stream",
     "text": [
      "Tile (21, 49) Processing Time: 9.24 seconds\n"
     ]
    },
    {
     "name": "stderr",
     "output_type": "stream",
     "text": [
      "INFO:root:Converting image dtype to float\n"
     ]
    },
    {
     "name": "stdout",
     "output_type": "stream",
     "text": [
      "Tile (21, 50) Processing Time: 9.05 seconds\n"
     ]
    },
    {
     "name": "stderr",
     "output_type": "stream",
     "text": [
      "INFO:root:Converting image dtype to float\n"
     ]
    },
    {
     "name": "stdout",
     "output_type": "stream",
     "text": [
      "Tile (21, 51) Processing Time: 8.09 seconds\n"
     ]
    },
    {
     "name": "stderr",
     "output_type": "stream",
     "text": [
      "INFO:root:Converting image dtype to float\n"
     ]
    },
    {
     "name": "stdout",
     "output_type": "stream",
     "text": [
      "Tile (21, 52) Processing Time: 7.57 seconds\n"
     ]
    },
    {
     "name": "stderr",
     "output_type": "stream",
     "text": [
      "INFO:root:Converting image dtype to float\n"
     ]
    },
    {
     "name": "stdout",
     "output_type": "stream",
     "text": [
      "Tile (22, 6) Processing Time: 7.46 seconds\n"
     ]
    },
    {
     "name": "stderr",
     "output_type": "stream",
     "text": [
      "INFO:root:Converting image dtype to float\n"
     ]
    },
    {
     "name": "stdout",
     "output_type": "stream",
     "text": [
      "Tile (22, 7) Processing Time: 7.46 seconds\n"
     ]
    },
    {
     "name": "stderr",
     "output_type": "stream",
     "text": [
      "INFO:root:Converting image dtype to float\n"
     ]
    },
    {
     "name": "stdout",
     "output_type": "stream",
     "text": [
      "Tile (22, 8) Processing Time: 7.94 seconds\n"
     ]
    },
    {
     "name": "stderr",
     "output_type": "stream",
     "text": [
      "INFO:root:Converting image dtype to float\n"
     ]
    },
    {
     "name": "stdout",
     "output_type": "stream",
     "text": [
      "Tile (22, 9) Processing Time: 8.08 seconds\n"
     ]
    },
    {
     "name": "stderr",
     "output_type": "stream",
     "text": [
      "INFO:root:Converting image dtype to float\n"
     ]
    },
    {
     "name": "stdout",
     "output_type": "stream",
     "text": [
      "Tile (22, 10) Processing Time: 8.35 seconds\n"
     ]
    },
    {
     "name": "stderr",
     "output_type": "stream",
     "text": [
      "INFO:root:Converting image dtype to float\n"
     ]
    },
    {
     "name": "stdout",
     "output_type": "stream",
     "text": [
      "Tile (22, 11) Processing Time: 8.61 seconds\n"
     ]
    },
    {
     "name": "stderr",
     "output_type": "stream",
     "text": [
      "INFO:root:Converting image dtype to float\n"
     ]
    },
    {
     "name": "stdout",
     "output_type": "stream",
     "text": [
      "Tile (22, 12) Processing Time: 8.94 seconds\n"
     ]
    },
    {
     "name": "stderr",
     "output_type": "stream",
     "text": [
      "INFO:root:Converting image dtype to float\n"
     ]
    },
    {
     "name": "stdout",
     "output_type": "stream",
     "text": [
      "Tile (22, 13) Processing Time: 8.89 seconds\n"
     ]
    },
    {
     "name": "stderr",
     "output_type": "stream",
     "text": [
      "INFO:root:Converting image dtype to float\n"
     ]
    },
    {
     "name": "stdout",
     "output_type": "stream",
     "text": [
      "Tile (22, 14) Processing Time: 9.28 seconds\n"
     ]
    },
    {
     "name": "stderr",
     "output_type": "stream",
     "text": [
      "INFO:root:Converting image dtype to float\n"
     ]
    },
    {
     "name": "stdout",
     "output_type": "stream",
     "text": [
      "Tile (22, 15) Processing Time: 9.06 seconds\n"
     ]
    },
    {
     "name": "stderr",
     "output_type": "stream",
     "text": [
      "INFO:root:Converting image dtype to float\n"
     ]
    },
    {
     "name": "stdout",
     "output_type": "stream",
     "text": [
      "Tile (22, 16) Processing Time: 8.88 seconds\n"
     ]
    },
    {
     "name": "stderr",
     "output_type": "stream",
     "text": [
      "INFO:root:Converting image dtype to float\n"
     ]
    },
    {
     "name": "stdout",
     "output_type": "stream",
     "text": [
      "Tile (22, 17) Processing Time: 8.94 seconds\n"
     ]
    },
    {
     "name": "stderr",
     "output_type": "stream",
     "text": [
      "INFO:root:Converting image dtype to float\n"
     ]
    },
    {
     "name": "stdout",
     "output_type": "stream",
     "text": [
      "Tile (22, 18) Processing Time: 9.07 seconds\n"
     ]
    },
    {
     "name": "stderr",
     "output_type": "stream",
     "text": [
      "INFO:root:Converting image dtype to float\n"
     ]
    },
    {
     "name": "stdout",
     "output_type": "stream",
     "text": [
      "Tile (22, 19) Processing Time: 8.91 seconds\n"
     ]
    },
    {
     "name": "stderr",
     "output_type": "stream",
     "text": [
      "INFO:root:Converting image dtype to float\n"
     ]
    },
    {
     "name": "stdout",
     "output_type": "stream",
     "text": [
      "Tile (22, 20) Processing Time: 9.14 seconds\n"
     ]
    },
    {
     "name": "stderr",
     "output_type": "stream",
     "text": [
      "INFO:root:Converting image dtype to float\n"
     ]
    },
    {
     "name": "stdout",
     "output_type": "stream",
     "text": [
      "Tile (22, 21) Processing Time: 8.68 seconds\n"
     ]
    },
    {
     "name": "stderr",
     "output_type": "stream",
     "text": [
      "INFO:root:Converting image dtype to float\n"
     ]
    },
    {
     "name": "stdout",
     "output_type": "stream",
     "text": [
      "Tile (22, 22) Processing Time: 8.50 seconds\n"
     ]
    },
    {
     "name": "stderr",
     "output_type": "stream",
     "text": [
      "INFO:root:Converting image dtype to float\n"
     ]
    },
    {
     "name": "stdout",
     "output_type": "stream",
     "text": [
      "Tile (22, 23) Processing Time: 8.30 seconds\n"
     ]
    },
    {
     "name": "stderr",
     "output_type": "stream",
     "text": [
      "INFO:root:Converting image dtype to float\n"
     ]
    },
    {
     "name": "stdout",
     "output_type": "stream",
     "text": [
      "Tile (22, 24) Processing Time: 8.53 seconds\n"
     ]
    },
    {
     "name": "stderr",
     "output_type": "stream",
     "text": [
      "INFO:root:Converting image dtype to float\n"
     ]
    },
    {
     "name": "stdout",
     "output_type": "stream",
     "text": [
      "Tile (22, 25) Processing Time: 8.34 seconds\n"
     ]
    },
    {
     "name": "stderr",
     "output_type": "stream",
     "text": [
      "INFO:root:Converting image dtype to float\n"
     ]
    },
    {
     "name": "stdout",
     "output_type": "stream",
     "text": [
      "Tile (22, 26) Processing Time: 8.40 seconds\n"
     ]
    },
    {
     "name": "stderr",
     "output_type": "stream",
     "text": [
      "INFO:root:Converting image dtype to float\n"
     ]
    },
    {
     "name": "stdout",
     "output_type": "stream",
     "text": [
      "Tile (22, 27) Processing Time: 8.44 seconds\n"
     ]
    },
    {
     "name": "stderr",
     "output_type": "stream",
     "text": [
      "INFO:root:Converting image dtype to float\n"
     ]
    },
    {
     "name": "stdout",
     "output_type": "stream",
     "text": [
      "Tile (22, 28) Processing Time: 8.79 seconds\n"
     ]
    },
    {
     "name": "stderr",
     "output_type": "stream",
     "text": [
      "INFO:root:Converting image dtype to float\n"
     ]
    },
    {
     "name": "stdout",
     "output_type": "stream",
     "text": [
      "Tile (22, 29) Processing Time: 8.93 seconds\n"
     ]
    },
    {
     "name": "stderr",
     "output_type": "stream",
     "text": [
      "INFO:root:Converting image dtype to float\n"
     ]
    },
    {
     "name": "stdout",
     "output_type": "stream",
     "text": [
      "Tile (22, 30) Processing Time: 8.83 seconds\n"
     ]
    },
    {
     "name": "stderr",
     "output_type": "stream",
     "text": [
      "INFO:root:Converting image dtype to float\n"
     ]
    },
    {
     "name": "stdout",
     "output_type": "stream",
     "text": [
      "Tile (22, 31) Processing Time: 8.93 seconds\n"
     ]
    },
    {
     "name": "stderr",
     "output_type": "stream",
     "text": [
      "INFO:root:Converting image dtype to float\n"
     ]
    },
    {
     "name": "stdout",
     "output_type": "stream",
     "text": [
      "Tile (22, 32) Processing Time: 8.83 seconds\n"
     ]
    },
    {
     "name": "stderr",
     "output_type": "stream",
     "text": [
      "INFO:root:Converting image dtype to float\n"
     ]
    },
    {
     "name": "stdout",
     "output_type": "stream",
     "text": [
      "Tile (22, 33) Processing Time: 8.53 seconds\n"
     ]
    },
    {
     "name": "stderr",
     "output_type": "stream",
     "text": [
      "INFO:root:Converting image dtype to float\n"
     ]
    },
    {
     "name": "stdout",
     "output_type": "stream",
     "text": [
      "Tile (22, 34) Processing Time: 8.68 seconds\n"
     ]
    },
    {
     "name": "stderr",
     "output_type": "stream",
     "text": [
      "INFO:root:Converting image dtype to float\n"
     ]
    },
    {
     "name": "stdout",
     "output_type": "stream",
     "text": [
      "Tile (22, 35) Processing Time: 8.65 seconds\n"
     ]
    },
    {
     "name": "stderr",
     "output_type": "stream",
     "text": [
      "INFO:root:Converting image dtype to float\n"
     ]
    },
    {
     "name": "stdout",
     "output_type": "stream",
     "text": [
      "Tile (22, 36) Processing Time: 8.94 seconds\n"
     ]
    },
    {
     "name": "stderr",
     "output_type": "stream",
     "text": [
      "INFO:root:Converting image dtype to float\n"
     ]
    },
    {
     "name": "stdout",
     "output_type": "stream",
     "text": [
      "Tile (22, 37) Processing Time: 8.62 seconds\n"
     ]
    },
    {
     "name": "stderr",
     "output_type": "stream",
     "text": [
      "INFO:root:Converting image dtype to float\n"
     ]
    },
    {
     "name": "stdout",
     "output_type": "stream",
     "text": [
      "Tile (22, 38) Processing Time: 8.78 seconds\n"
     ]
    },
    {
     "name": "stderr",
     "output_type": "stream",
     "text": [
      "INFO:root:Converting image dtype to float\n"
     ]
    },
    {
     "name": "stdout",
     "output_type": "stream",
     "text": [
      "Tile (22, 39) Processing Time: 8.75 seconds\n"
     ]
    },
    {
     "name": "stderr",
     "output_type": "stream",
     "text": [
      "INFO:root:Converting image dtype to float\n"
     ]
    },
    {
     "name": "stdout",
     "output_type": "stream",
     "text": [
      "Tile (22, 40) Processing Time: 9.08 seconds\n"
     ]
    },
    {
     "name": "stderr",
     "output_type": "stream",
     "text": [
      "INFO:root:Converting image dtype to float\n"
     ]
    },
    {
     "name": "stdout",
     "output_type": "stream",
     "text": [
      "Tile (22, 41) Processing Time: 9.03 seconds\n"
     ]
    },
    {
     "name": "stderr",
     "output_type": "stream",
     "text": [
      "INFO:root:Converting image dtype to float\n"
     ]
    },
    {
     "name": "stdout",
     "output_type": "stream",
     "text": [
      "Tile (22, 42) Processing Time: 8.89 seconds\n"
     ]
    },
    {
     "name": "stderr",
     "output_type": "stream",
     "text": [
      "INFO:root:Converting image dtype to float\n"
     ]
    },
    {
     "name": "stdout",
     "output_type": "stream",
     "text": [
      "Tile (22, 43) Processing Time: 9.08 seconds\n"
     ]
    },
    {
     "name": "stderr",
     "output_type": "stream",
     "text": [
      "INFO:root:Converting image dtype to float\n"
     ]
    },
    {
     "name": "stdout",
     "output_type": "stream",
     "text": [
      "Tile (22, 44) Processing Time: 8.79 seconds\n"
     ]
    },
    {
     "name": "stderr",
     "output_type": "stream",
     "text": [
      "INFO:root:Converting image dtype to float\n"
     ]
    },
    {
     "name": "stdout",
     "output_type": "stream",
     "text": [
      "Tile (22, 45) Processing Time: 8.88 seconds\n"
     ]
    },
    {
     "name": "stderr",
     "output_type": "stream",
     "text": [
      "INFO:root:Converting image dtype to float\n"
     ]
    },
    {
     "name": "stdout",
     "output_type": "stream",
     "text": [
      "Tile (22, 46) Processing Time: 8.71 seconds\n"
     ]
    },
    {
     "name": "stderr",
     "output_type": "stream",
     "text": [
      "INFO:root:Converting image dtype to float\n"
     ]
    },
    {
     "name": "stdout",
     "output_type": "stream",
     "text": [
      "Tile (22, 47) Processing Time: 8.83 seconds\n"
     ]
    },
    {
     "name": "stderr",
     "output_type": "stream",
     "text": [
      "INFO:root:Converting image dtype to float\n"
     ]
    },
    {
     "name": "stdout",
     "output_type": "stream",
     "text": [
      "Tile (22, 48) Processing Time: 9.02 seconds\n"
     ]
    },
    {
     "name": "stderr",
     "output_type": "stream",
     "text": [
      "INFO:root:Converting image dtype to float\n"
     ]
    },
    {
     "name": "stdout",
     "output_type": "stream",
     "text": [
      "Tile (22, 49) Processing Time: 9.38 seconds\n"
     ]
    },
    {
     "name": "stderr",
     "output_type": "stream",
     "text": [
      "INFO:root:Converting image dtype to float\n"
     ]
    },
    {
     "name": "stdout",
     "output_type": "stream",
     "text": [
      "Tile (22, 50) Processing Time: 8.80 seconds\n"
     ]
    },
    {
     "name": "stderr",
     "output_type": "stream",
     "text": [
      "INFO:root:Converting image dtype to float\n"
     ]
    },
    {
     "name": "stdout",
     "output_type": "stream",
     "text": [
      "Tile (22, 51) Processing Time: 8.04 seconds\n"
     ]
    },
    {
     "name": "stderr",
     "output_type": "stream",
     "text": [
      "INFO:root:Converting image dtype to float\n"
     ]
    },
    {
     "name": "stdout",
     "output_type": "stream",
     "text": [
      "Tile (22, 52) Processing Time: 7.81 seconds\n"
     ]
    },
    {
     "name": "stderr",
     "output_type": "stream",
     "text": [
      "INFO:root:Converting image dtype to float\n"
     ]
    },
    {
     "name": "stdout",
     "output_type": "stream",
     "text": [
      "Tile (23, 8) Processing Time: 7.59 seconds\n"
     ]
    },
    {
     "name": "stderr",
     "output_type": "stream",
     "text": [
      "INFO:root:Converting image dtype to float\n"
     ]
    },
    {
     "name": "stdout",
     "output_type": "stream",
     "text": [
      "Tile (23, 9) Processing Time: 7.58 seconds\n"
     ]
    },
    {
     "name": "stderr",
     "output_type": "stream",
     "text": [
      "INFO:root:Converting image dtype to float\n"
     ]
    },
    {
     "name": "stdout",
     "output_type": "stream",
     "text": [
      "Tile (23, 10) Processing Time: 8.04 seconds\n"
     ]
    },
    {
     "name": "stderr",
     "output_type": "stream",
     "text": [
      "INFO:root:Converting image dtype to float\n"
     ]
    },
    {
     "name": "stdout",
     "output_type": "stream",
     "text": [
      "Tile (23, 11) Processing Time: 8.13 seconds\n"
     ]
    },
    {
     "name": "stderr",
     "output_type": "stream",
     "text": [
      "INFO:root:Converting image dtype to float\n"
     ]
    },
    {
     "name": "stdout",
     "output_type": "stream",
     "text": [
      "Tile (23, 12) Processing Time: 8.17 seconds\n"
     ]
    },
    {
     "name": "stderr",
     "output_type": "stream",
     "text": [
      "INFO:root:Converting image dtype to float\n"
     ]
    },
    {
     "name": "stdout",
     "output_type": "stream",
     "text": [
      "Tile (23, 13) Processing Time: 8.62 seconds\n"
     ]
    },
    {
     "name": "stderr",
     "output_type": "stream",
     "text": [
      "INFO:root:Converting image dtype to float\n"
     ]
    },
    {
     "name": "stdout",
     "output_type": "stream",
     "text": [
      "Tile (23, 14) Processing Time: 8.84 seconds\n"
     ]
    },
    {
     "name": "stderr",
     "output_type": "stream",
     "text": [
      "INFO:root:Converting image dtype to float\n"
     ]
    },
    {
     "name": "stdout",
     "output_type": "stream",
     "text": [
      "Tile (23, 15) Processing Time: 8.98 seconds\n"
     ]
    },
    {
     "name": "stderr",
     "output_type": "stream",
     "text": [
      "INFO:root:Converting image dtype to float\n"
     ]
    },
    {
     "name": "stdout",
     "output_type": "stream",
     "text": [
      "Tile (23, 16) Processing Time: 8.85 seconds\n"
     ]
    },
    {
     "name": "stderr",
     "output_type": "stream",
     "text": [
      "INFO:root:Converting image dtype to float\n"
     ]
    },
    {
     "name": "stdout",
     "output_type": "stream",
     "text": [
      "Tile (23, 17) Processing Time: 8.84 seconds\n"
     ]
    },
    {
     "name": "stderr",
     "output_type": "stream",
     "text": [
      "INFO:root:Converting image dtype to float\n"
     ]
    },
    {
     "name": "stdout",
     "output_type": "stream",
     "text": [
      "Tile (23, 18) Processing Time: 8.99 seconds\n"
     ]
    },
    {
     "name": "stderr",
     "output_type": "stream",
     "text": [
      "INFO:root:Converting image dtype to float\n"
     ]
    },
    {
     "name": "stdout",
     "output_type": "stream",
     "text": [
      "Tile (23, 19) Processing Time: 8.96 seconds\n"
     ]
    },
    {
     "name": "stderr",
     "output_type": "stream",
     "text": [
      "INFO:root:Converting image dtype to float\n"
     ]
    },
    {
     "name": "stdout",
     "output_type": "stream",
     "text": [
      "Tile (23, 20) Processing Time: 8.78 seconds\n"
     ]
    },
    {
     "name": "stderr",
     "output_type": "stream",
     "text": [
      "INFO:root:Converting image dtype to float\n"
     ]
    },
    {
     "name": "stdout",
     "output_type": "stream",
     "text": [
      "Tile (23, 21) Processing Time: 8.46 seconds\n"
     ]
    },
    {
     "name": "stderr",
     "output_type": "stream",
     "text": [
      "INFO:root:Converting image dtype to float\n"
     ]
    },
    {
     "name": "stdout",
     "output_type": "stream",
     "text": [
      "Tile (23, 22) Processing Time: 8.15 seconds\n"
     ]
    },
    {
     "name": "stderr",
     "output_type": "stream",
     "text": [
      "INFO:root:Converting image dtype to float\n"
     ]
    },
    {
     "name": "stdout",
     "output_type": "stream",
     "text": [
      "Tile (23, 23) Processing Time: 8.33 seconds\n"
     ]
    },
    {
     "name": "stderr",
     "output_type": "stream",
     "text": [
      "INFO:root:Converting image dtype to float\n"
     ]
    },
    {
     "name": "stdout",
     "output_type": "stream",
     "text": [
      "Tile (23, 24) Processing Time: 8.27 seconds\n"
     ]
    },
    {
     "name": "stderr",
     "output_type": "stream",
     "text": [
      "INFO:root:Converting image dtype to float\n"
     ]
    },
    {
     "name": "stdout",
     "output_type": "stream",
     "text": [
      "Tile (23, 25) Processing Time: 8.65 seconds\n"
     ]
    },
    {
     "name": "stderr",
     "output_type": "stream",
     "text": [
      "INFO:root:Converting image dtype to float\n"
     ]
    },
    {
     "name": "stdout",
     "output_type": "stream",
     "text": [
      "Tile (23, 26) Processing Time: 8.55 seconds\n"
     ]
    },
    {
     "name": "stderr",
     "output_type": "stream",
     "text": [
      "INFO:root:Converting image dtype to float\n"
     ]
    },
    {
     "name": "stdout",
     "output_type": "stream",
     "text": [
      "Tile (23, 27) Processing Time: 8.95 seconds\n"
     ]
    },
    {
     "name": "stderr",
     "output_type": "stream",
     "text": [
      "INFO:root:Converting image dtype to float\n"
     ]
    },
    {
     "name": "stdout",
     "output_type": "stream",
     "text": [
      "Tile (23, 28) Processing Time: 8.92 seconds\n"
     ]
    },
    {
     "name": "stderr",
     "output_type": "stream",
     "text": [
      "INFO:root:Converting image dtype to float\n"
     ]
    },
    {
     "name": "stdout",
     "output_type": "stream",
     "text": [
      "Tile (23, 29) Processing Time: 8.74 seconds\n"
     ]
    },
    {
     "name": "stderr",
     "output_type": "stream",
     "text": [
      "INFO:root:Converting image dtype to float\n"
     ]
    },
    {
     "name": "stdout",
     "output_type": "stream",
     "text": [
      "Tile (23, 30) Processing Time: 8.60 seconds\n"
     ]
    },
    {
     "name": "stderr",
     "output_type": "stream",
     "text": [
      "INFO:root:Converting image dtype to float\n"
     ]
    },
    {
     "name": "stdout",
     "output_type": "stream",
     "text": [
      "Tile (23, 31) Processing Time: 8.94 seconds\n"
     ]
    },
    {
     "name": "stderr",
     "output_type": "stream",
     "text": [
      "INFO:root:Converting image dtype to float\n"
     ]
    },
    {
     "name": "stdout",
     "output_type": "stream",
     "text": [
      "Tile (23, 32) Processing Time: 8.62 seconds\n"
     ]
    },
    {
     "name": "stderr",
     "output_type": "stream",
     "text": [
      "INFO:root:Converting image dtype to float\n"
     ]
    },
    {
     "name": "stdout",
     "output_type": "stream",
     "text": [
      "Tile (23, 33) Processing Time: 8.98 seconds\n"
     ]
    },
    {
     "name": "stderr",
     "output_type": "stream",
     "text": [
      "INFO:root:Converting image dtype to float\n"
     ]
    },
    {
     "name": "stdout",
     "output_type": "stream",
     "text": [
      "Tile (23, 34) Processing Time: 8.85 seconds\n"
     ]
    },
    {
     "name": "stderr",
     "output_type": "stream",
     "text": [
      "INFO:root:Converting image dtype to float\n"
     ]
    },
    {
     "name": "stdout",
     "output_type": "stream",
     "text": [
      "Tile (23, 35) Processing Time: 9.00 seconds\n"
     ]
    },
    {
     "name": "stderr",
     "output_type": "stream",
     "text": [
      "INFO:root:Converting image dtype to float\n"
     ]
    },
    {
     "name": "stdout",
     "output_type": "stream",
     "text": [
      "Tile (23, 36) Processing Time: 8.77 seconds\n"
     ]
    },
    {
     "name": "stderr",
     "output_type": "stream",
     "text": [
      "INFO:root:Converting image dtype to float\n"
     ]
    },
    {
     "name": "stdout",
     "output_type": "stream",
     "text": [
      "Tile (23, 37) Processing Time: 8.49 seconds\n"
     ]
    },
    {
     "name": "stderr",
     "output_type": "stream",
     "text": [
      "INFO:root:Converting image dtype to float\n"
     ]
    },
    {
     "name": "stdout",
     "output_type": "stream",
     "text": [
      "Tile (23, 38) Processing Time: 9.23 seconds\n"
     ]
    },
    {
     "name": "stderr",
     "output_type": "stream",
     "text": [
      "INFO:root:Converting image dtype to float\n"
     ]
    },
    {
     "name": "stdout",
     "output_type": "stream",
     "text": [
      "Tile (23, 39) Processing Time: 9.18 seconds\n"
     ]
    },
    {
     "name": "stderr",
     "output_type": "stream",
     "text": [
      "INFO:root:Converting image dtype to float\n"
     ]
    },
    {
     "name": "stdout",
     "output_type": "stream",
     "text": [
      "Tile (23, 40) Processing Time: 8.79 seconds\n"
     ]
    },
    {
     "name": "stderr",
     "output_type": "stream",
     "text": [
      "INFO:root:Converting image dtype to float\n"
     ]
    },
    {
     "name": "stdout",
     "output_type": "stream",
     "text": [
      "Tile (23, 41) Processing Time: 9.01 seconds\n"
     ]
    },
    {
     "name": "stderr",
     "output_type": "stream",
     "text": [
      "INFO:root:Converting image dtype to float\n"
     ]
    },
    {
     "name": "stdout",
     "output_type": "stream",
     "text": [
      "Tile (23, 42) Processing Time: 8.84 seconds\n"
     ]
    },
    {
     "name": "stderr",
     "output_type": "stream",
     "text": [
      "INFO:root:Converting image dtype to float\n"
     ]
    },
    {
     "name": "stdout",
     "output_type": "stream",
     "text": [
      "Tile (23, 43) Processing Time: 8.67 seconds\n"
     ]
    },
    {
     "name": "stderr",
     "output_type": "stream",
     "text": [
      "INFO:root:Converting image dtype to float\n"
     ]
    },
    {
     "name": "stdout",
     "output_type": "stream",
     "text": [
      "Tile (23, 44) Processing Time: 9.04 seconds\n"
     ]
    },
    {
     "name": "stderr",
     "output_type": "stream",
     "text": [
      "INFO:root:Converting image dtype to float\n"
     ]
    },
    {
     "name": "stdout",
     "output_type": "stream",
     "text": [
      "Tile (23, 45) Processing Time: 8.77 seconds\n"
     ]
    },
    {
     "name": "stderr",
     "output_type": "stream",
     "text": [
      "INFO:root:Converting image dtype to float\n"
     ]
    },
    {
     "name": "stdout",
     "output_type": "stream",
     "text": [
      "Tile (23, 46) Processing Time: 8.81 seconds\n"
     ]
    },
    {
     "name": "stderr",
     "output_type": "stream",
     "text": [
      "INFO:root:Converting image dtype to float\n"
     ]
    },
    {
     "name": "stdout",
     "output_type": "stream",
     "text": [
      "Tile (23, 47) Processing Time: 8.83 seconds\n"
     ]
    },
    {
     "name": "stderr",
     "output_type": "stream",
     "text": [
      "INFO:root:Converting image dtype to float\n"
     ]
    },
    {
     "name": "stdout",
     "output_type": "stream",
     "text": [
      "Tile (23, 48) Processing Time: 8.79 seconds\n"
     ]
    },
    {
     "name": "stderr",
     "output_type": "stream",
     "text": [
      "INFO:root:Converting image dtype to float\n"
     ]
    },
    {
     "name": "stdout",
     "output_type": "stream",
     "text": [
      "Tile (23, 49) Processing Time: 8.66 seconds\n"
     ]
    },
    {
     "name": "stderr",
     "output_type": "stream",
     "text": [
      "INFO:root:Converting image dtype to float\n"
     ]
    },
    {
     "name": "stdout",
     "output_type": "stream",
     "text": [
      "Tile (23, 50) Processing Time: 8.15 seconds\n"
     ]
    },
    {
     "name": "stderr",
     "output_type": "stream",
     "text": [
      "INFO:root:Converting image dtype to float\n"
     ]
    },
    {
     "name": "stdout",
     "output_type": "stream",
     "text": [
      "Tile (23, 51) Processing Time: 7.90 seconds\n"
     ]
    },
    {
     "name": "stderr",
     "output_type": "stream",
     "text": [
      "INFO:root:Converting image dtype to float\n"
     ]
    },
    {
     "name": "stdout",
     "output_type": "stream",
     "text": [
      "Tile (23, 52) Processing Time: 7.40 seconds\n"
     ]
    },
    {
     "name": "stderr",
     "output_type": "stream",
     "text": [
      "INFO:root:Converting image dtype to float\n"
     ]
    },
    {
     "name": "stdout",
     "output_type": "stream",
     "text": [
      "Tile (24, 9) Processing Time: 7.46 seconds\n"
     ]
    },
    {
     "name": "stderr",
     "output_type": "stream",
     "text": [
      "INFO:root:Converting image dtype to float\n"
     ]
    },
    {
     "name": "stdout",
     "output_type": "stream",
     "text": [
      "Tile (24, 10) Processing Time: 7.67 seconds\n"
     ]
    },
    {
     "name": "stderr",
     "output_type": "stream",
     "text": [
      "INFO:root:Converting image dtype to float\n"
     ]
    },
    {
     "name": "stdout",
     "output_type": "stream",
     "text": [
      "Tile (24, 11) Processing Time: 7.83 seconds\n"
     ]
    },
    {
     "name": "stderr",
     "output_type": "stream",
     "text": [
      "INFO:root:Converting image dtype to float\n"
     ]
    },
    {
     "name": "stdout",
     "output_type": "stream",
     "text": [
      "Tile (24, 12) Processing Time: 7.89 seconds\n"
     ]
    },
    {
     "name": "stderr",
     "output_type": "stream",
     "text": [
      "INFO:root:Converting image dtype to float\n"
     ]
    },
    {
     "name": "stdout",
     "output_type": "stream",
     "text": [
      "Tile (24, 13) Processing Time: 8.31 seconds\n"
     ]
    },
    {
     "name": "stderr",
     "output_type": "stream",
     "text": [
      "INFO:root:Converting image dtype to float\n"
     ]
    },
    {
     "name": "stdout",
     "output_type": "stream",
     "text": [
      "Tile (24, 14) Processing Time: 8.47 seconds\n"
     ]
    },
    {
     "name": "stderr",
     "output_type": "stream",
     "text": [
      "INFO:root:Converting image dtype to float\n"
     ]
    },
    {
     "name": "stdout",
     "output_type": "stream",
     "text": [
      "Tile (24, 15) Processing Time: 8.43 seconds\n"
     ]
    },
    {
     "name": "stderr",
     "output_type": "stream",
     "text": [
      "INFO:root:Converting image dtype to float\n"
     ]
    },
    {
     "name": "stdout",
     "output_type": "stream",
     "text": [
      "Tile (24, 16) Processing Time: 8.55 seconds\n"
     ]
    },
    {
     "name": "stderr",
     "output_type": "stream",
     "text": [
      "INFO:root:Converting image dtype to float\n"
     ]
    },
    {
     "name": "stdout",
     "output_type": "stream",
     "text": [
      "Tile (24, 17) Processing Time: 8.56 seconds\n"
     ]
    },
    {
     "name": "stderr",
     "output_type": "stream",
     "text": [
      "INFO:root:Converting image dtype to float\n"
     ]
    },
    {
     "name": "stdout",
     "output_type": "stream",
     "text": [
      "Tile (24, 18) Processing Time: 8.60 seconds\n"
     ]
    },
    {
     "name": "stderr",
     "output_type": "stream",
     "text": [
      "INFO:root:Converting image dtype to float\n"
     ]
    },
    {
     "name": "stdout",
     "output_type": "stream",
     "text": [
      "Tile (24, 19) Processing Time: 8.78 seconds\n"
     ]
    },
    {
     "name": "stderr",
     "output_type": "stream",
     "text": [
      "INFO:root:Converting image dtype to float\n"
     ]
    },
    {
     "name": "stdout",
     "output_type": "stream",
     "text": [
      "Tile (24, 20) Processing Time: 8.91 seconds\n"
     ]
    },
    {
     "name": "stderr",
     "output_type": "stream",
     "text": [
      "INFO:root:Converting image dtype to float\n"
     ]
    },
    {
     "name": "stdout",
     "output_type": "stream",
     "text": [
      "Tile (24, 21) Processing Time: 8.49 seconds\n"
     ]
    },
    {
     "name": "stderr",
     "output_type": "stream",
     "text": [
      "INFO:root:Converting image dtype to float\n"
     ]
    },
    {
     "name": "stdout",
     "output_type": "stream",
     "text": [
      "Tile (24, 22) Processing Time: 8.34 seconds\n"
     ]
    },
    {
     "name": "stderr",
     "output_type": "stream",
     "text": [
      "INFO:root:Converting image dtype to float\n"
     ]
    },
    {
     "name": "stdout",
     "output_type": "stream",
     "text": [
      "Tile (24, 23) Processing Time: 8.35 seconds\n"
     ]
    },
    {
     "name": "stderr",
     "output_type": "stream",
     "text": [
      "INFO:root:Converting image dtype to float\n"
     ]
    },
    {
     "name": "stdout",
     "output_type": "stream",
     "text": [
      "Tile (24, 24) Processing Time: 8.44 seconds\n"
     ]
    },
    {
     "name": "stderr",
     "output_type": "stream",
     "text": [
      "INFO:root:Converting image dtype to float\n"
     ]
    },
    {
     "name": "stdout",
     "output_type": "stream",
     "text": [
      "Tile (24, 25) Processing Time: 8.55 seconds\n"
     ]
    },
    {
     "name": "stderr",
     "output_type": "stream",
     "text": [
      "INFO:root:Converting image dtype to float\n"
     ]
    },
    {
     "name": "stdout",
     "output_type": "stream",
     "text": [
      "Tile (24, 26) Processing Time: 8.76 seconds\n"
     ]
    },
    {
     "name": "stderr",
     "output_type": "stream",
     "text": [
      "INFO:root:Converting image dtype to float\n"
     ]
    },
    {
     "name": "stdout",
     "output_type": "stream",
     "text": [
      "Tile (24, 27) Processing Time: 8.85 seconds\n"
     ]
    },
    {
     "name": "stderr",
     "output_type": "stream",
     "text": [
      "INFO:root:Converting image dtype to float\n"
     ]
    },
    {
     "name": "stdout",
     "output_type": "stream",
     "text": [
      "Tile (24, 28) Processing Time: 8.76 seconds\n"
     ]
    },
    {
     "name": "stderr",
     "output_type": "stream",
     "text": [
      "INFO:root:Converting image dtype to float\n"
     ]
    },
    {
     "name": "stdout",
     "output_type": "stream",
     "text": [
      "Tile (24, 29) Processing Time: 8.61 seconds\n"
     ]
    },
    {
     "name": "stderr",
     "output_type": "stream",
     "text": [
      "INFO:root:Converting image dtype to float\n"
     ]
    },
    {
     "name": "stdout",
     "output_type": "stream",
     "text": [
      "Tile (24, 30) Processing Time: 8.48 seconds\n"
     ]
    },
    {
     "name": "stderr",
     "output_type": "stream",
     "text": [
      "INFO:root:Converting image dtype to float\n"
     ]
    },
    {
     "name": "stdout",
     "output_type": "stream",
     "text": [
      "Tile (24, 31) Processing Time: 8.57 seconds\n"
     ]
    },
    {
     "name": "stderr",
     "output_type": "stream",
     "text": [
      "INFO:root:Converting image dtype to float\n"
     ]
    },
    {
     "name": "stdout",
     "output_type": "stream",
     "text": [
      "Tile (24, 32) Processing Time: 8.53 seconds\n"
     ]
    },
    {
     "name": "stderr",
     "output_type": "stream",
     "text": [
      "INFO:root:Converting image dtype to float\n"
     ]
    },
    {
     "name": "stdout",
     "output_type": "stream",
     "text": [
      "Tile (24, 33) Processing Time: 8.93 seconds\n"
     ]
    },
    {
     "name": "stderr",
     "output_type": "stream",
     "text": [
      "INFO:root:Converting image dtype to float\n"
     ]
    },
    {
     "name": "stdout",
     "output_type": "stream",
     "text": [
      "Tile (24, 34) Processing Time: 8.96 seconds\n"
     ]
    },
    {
     "name": "stderr",
     "output_type": "stream",
     "text": [
      "INFO:root:Converting image dtype to float\n"
     ]
    },
    {
     "name": "stdout",
     "output_type": "stream",
     "text": [
      "Tile (24, 35) Processing Time: 9.12 seconds\n"
     ]
    },
    {
     "name": "stderr",
     "output_type": "stream",
     "text": [
      "INFO:root:Converting image dtype to float\n"
     ]
    },
    {
     "name": "stdout",
     "output_type": "stream",
     "text": [
      "Tile (24, 36) Processing Time: 8.80 seconds\n"
     ]
    },
    {
     "name": "stderr",
     "output_type": "stream",
     "text": [
      "INFO:root:Converting image dtype to float\n"
     ]
    },
    {
     "name": "stdout",
     "output_type": "stream",
     "text": [
      "Tile (24, 37) Processing Time: 8.59 seconds\n"
     ]
    },
    {
     "name": "stderr",
     "output_type": "stream",
     "text": [
      "INFO:root:Converting image dtype to float\n"
     ]
    },
    {
     "name": "stdout",
     "output_type": "stream",
     "text": [
      "Tile (24, 38) Processing Time: 8.69 seconds\n"
     ]
    },
    {
     "name": "stderr",
     "output_type": "stream",
     "text": [
      "INFO:root:Converting image dtype to float\n"
     ]
    },
    {
     "name": "stdout",
     "output_type": "stream",
     "text": [
      "Tile (24, 39) Processing Time: 8.81 seconds\n"
     ]
    },
    {
     "name": "stderr",
     "output_type": "stream",
     "text": [
      "INFO:root:Converting image dtype to float\n"
     ]
    },
    {
     "name": "stdout",
     "output_type": "stream",
     "text": [
      "Tile (24, 40) Processing Time: 9.01 seconds\n"
     ]
    },
    {
     "name": "stderr",
     "output_type": "stream",
     "text": [
      "INFO:root:Converting image dtype to float\n"
     ]
    },
    {
     "name": "stdout",
     "output_type": "stream",
     "text": [
      "Tile (24, 41) Processing Time: 9.01 seconds\n"
     ]
    },
    {
     "name": "stderr",
     "output_type": "stream",
     "text": [
      "INFO:root:Converting image dtype to float\n"
     ]
    },
    {
     "name": "stdout",
     "output_type": "stream",
     "text": [
      "Tile (24, 42) Processing Time: 8.84 seconds\n"
     ]
    },
    {
     "name": "stderr",
     "output_type": "stream",
     "text": [
      "INFO:root:Converting image dtype to float\n"
     ]
    },
    {
     "name": "stdout",
     "output_type": "stream",
     "text": [
      "Tile (24, 43) Processing Time: 8.96 seconds\n"
     ]
    },
    {
     "name": "stderr",
     "output_type": "stream",
     "text": [
      "INFO:root:Converting image dtype to float\n"
     ]
    },
    {
     "name": "stdout",
     "output_type": "stream",
     "text": [
      "Tile (24, 44) Processing Time: 8.51 seconds\n"
     ]
    },
    {
     "name": "stderr",
     "output_type": "stream",
     "text": [
      "INFO:root:Converting image dtype to float\n"
     ]
    },
    {
     "name": "stdout",
     "output_type": "stream",
     "text": [
      "Tile (24, 45) Processing Time: 8.46 seconds\n"
     ]
    },
    {
     "name": "stderr",
     "output_type": "stream",
     "text": [
      "INFO:root:Converting image dtype to float\n"
     ]
    },
    {
     "name": "stdout",
     "output_type": "stream",
     "text": [
      "Tile (24, 46) Processing Time: 8.29 seconds\n"
     ]
    },
    {
     "name": "stderr",
     "output_type": "stream",
     "text": [
      "INFO:root:Converting image dtype to float\n"
     ]
    },
    {
     "name": "stdout",
     "output_type": "stream",
     "text": [
      "Tile (24, 47) Processing Time: 8.73 seconds\n"
     ]
    },
    {
     "name": "stderr",
     "output_type": "stream",
     "text": [
      "INFO:root:Converting image dtype to float\n"
     ]
    },
    {
     "name": "stdout",
     "output_type": "stream",
     "text": [
      "Tile (24, 48) Processing Time: 8.78 seconds\n"
     ]
    },
    {
     "name": "stderr",
     "output_type": "stream",
     "text": [
      "INFO:root:Converting image dtype to float\n"
     ]
    },
    {
     "name": "stdout",
     "output_type": "stream",
     "text": [
      "Tile (24, 49) Processing Time: 8.22 seconds\n"
     ]
    },
    {
     "name": "stderr",
     "output_type": "stream",
     "text": [
      "INFO:root:Converting image dtype to float\n"
     ]
    },
    {
     "name": "stdout",
     "output_type": "stream",
     "text": [
      "Tile (24, 50) Processing Time: 7.73 seconds\n"
     ]
    },
    {
     "name": "stderr",
     "output_type": "stream",
     "text": [
      "INFO:root:Converting image dtype to float\n"
     ]
    },
    {
     "name": "stdout",
     "output_type": "stream",
     "text": [
      "Tile (24, 51) Processing Time: 7.67 seconds\n"
     ]
    },
    {
     "name": "stderr",
     "output_type": "stream",
     "text": [
      "INFO:root:Converting image dtype to float\n"
     ]
    },
    {
     "name": "stdout",
     "output_type": "stream",
     "text": [
      "Tile (25, 11) Processing Time: 7.42 seconds\n"
     ]
    },
    {
     "name": "stderr",
     "output_type": "stream",
     "text": [
      "INFO:root:Converting image dtype to float\n"
     ]
    },
    {
     "name": "stdout",
     "output_type": "stream",
     "text": [
      "Tile (25, 12) Processing Time: 7.49 seconds\n"
     ]
    },
    {
     "name": "stderr",
     "output_type": "stream",
     "text": [
      "INFO:root:Converting image dtype to float\n"
     ]
    },
    {
     "name": "stdout",
     "output_type": "stream",
     "text": [
      "Tile (25, 13) Processing Time: 7.60 seconds\n"
     ]
    },
    {
     "name": "stderr",
     "output_type": "stream",
     "text": [
      "INFO:root:Converting image dtype to float\n"
     ]
    },
    {
     "name": "stdout",
     "output_type": "stream",
     "text": [
      "Tile (25, 14) Processing Time: 7.76 seconds\n"
     ]
    },
    {
     "name": "stderr",
     "output_type": "stream",
     "text": [
      "INFO:root:Converting image dtype to float\n"
     ]
    },
    {
     "name": "stdout",
     "output_type": "stream",
     "text": [
      "Tile (25, 15) Processing Time: 7.88 seconds\n"
     ]
    },
    {
     "name": "stderr",
     "output_type": "stream",
     "text": [
      "INFO:root:Converting image dtype to float\n"
     ]
    },
    {
     "name": "stdout",
     "output_type": "stream",
     "text": [
      "Tile (25, 16) Processing Time: 8.02 seconds\n"
     ]
    },
    {
     "name": "stderr",
     "output_type": "stream",
     "text": [
      "INFO:root:Converting image dtype to float\n"
     ]
    },
    {
     "name": "stdout",
     "output_type": "stream",
     "text": [
      "Tile (25, 17) Processing Time: 8.24 seconds\n"
     ]
    },
    {
     "name": "stderr",
     "output_type": "stream",
     "text": [
      "INFO:root:Converting image dtype to float\n"
     ]
    },
    {
     "name": "stdout",
     "output_type": "stream",
     "text": [
      "Tile (25, 18) Processing Time: 8.39 seconds\n"
     ]
    },
    {
     "name": "stderr",
     "output_type": "stream",
     "text": [
      "INFO:root:Converting image dtype to float\n"
     ]
    },
    {
     "name": "stdout",
     "output_type": "stream",
     "text": [
      "Tile (25, 19) Processing Time: 8.62 seconds\n"
     ]
    },
    {
     "name": "stderr",
     "output_type": "stream",
     "text": [
      "INFO:root:Converting image dtype to float\n"
     ]
    },
    {
     "name": "stdout",
     "output_type": "stream",
     "text": [
      "Tile (25, 20) Processing Time: 8.71 seconds\n"
     ]
    },
    {
     "name": "stderr",
     "output_type": "stream",
     "text": [
      "INFO:root:Converting image dtype to float\n"
     ]
    },
    {
     "name": "stdout",
     "output_type": "stream",
     "text": [
      "Tile (25, 21) Processing Time: 8.92 seconds\n"
     ]
    },
    {
     "name": "stderr",
     "output_type": "stream",
     "text": [
      "INFO:root:Converting image dtype to float\n"
     ]
    },
    {
     "name": "stdout",
     "output_type": "stream",
     "text": [
      "Tile (25, 22) Processing Time: 8.71 seconds\n"
     ]
    },
    {
     "name": "stderr",
     "output_type": "stream",
     "text": [
      "INFO:root:Converting image dtype to float\n"
     ]
    },
    {
     "name": "stdout",
     "output_type": "stream",
     "text": [
      "Tile (25, 23) Processing Time: 8.59 seconds\n"
     ]
    },
    {
     "name": "stderr",
     "output_type": "stream",
     "text": [
      "INFO:root:Converting image dtype to float\n"
     ]
    },
    {
     "name": "stdout",
     "output_type": "stream",
     "text": [
      "Tile (25, 24) Processing Time: 8.84 seconds\n"
     ]
    },
    {
     "name": "stderr",
     "output_type": "stream",
     "text": [
      "INFO:root:Converting image dtype to float\n"
     ]
    },
    {
     "name": "stdout",
     "output_type": "stream",
     "text": [
      "Tile (25, 25) Processing Time: 8.60 seconds\n"
     ]
    },
    {
     "name": "stderr",
     "output_type": "stream",
     "text": [
      "INFO:root:Converting image dtype to float\n"
     ]
    },
    {
     "name": "stdout",
     "output_type": "stream",
     "text": [
      "Tile (25, 26) Processing Time: 8.55 seconds\n"
     ]
    },
    {
     "name": "stderr",
     "output_type": "stream",
     "text": [
      "INFO:root:Converting image dtype to float\n"
     ]
    },
    {
     "name": "stdout",
     "output_type": "stream",
     "text": [
      "Tile (25, 27) Processing Time: 8.51 seconds\n"
     ]
    },
    {
     "name": "stderr",
     "output_type": "stream",
     "text": [
      "INFO:root:Converting image dtype to float\n"
     ]
    },
    {
     "name": "stdout",
     "output_type": "stream",
     "text": [
      "Tile (25, 28) Processing Time: 8.79 seconds\n"
     ]
    },
    {
     "name": "stderr",
     "output_type": "stream",
     "text": [
      "INFO:root:Converting image dtype to float\n"
     ]
    },
    {
     "name": "stdout",
     "output_type": "stream",
     "text": [
      "Tile (25, 29) Processing Time: 8.43 seconds\n"
     ]
    },
    {
     "name": "stderr",
     "output_type": "stream",
     "text": [
      "INFO:root:Converting image dtype to float\n"
     ]
    },
    {
     "name": "stdout",
     "output_type": "stream",
     "text": [
      "Tile (25, 30) Processing Time: 8.35 seconds\n"
     ]
    },
    {
     "name": "stderr",
     "output_type": "stream",
     "text": [
      "INFO:root:Converting image dtype to float\n"
     ]
    },
    {
     "name": "stdout",
     "output_type": "stream",
     "text": [
      "Tile (25, 31) Processing Time: 8.26 seconds\n"
     ]
    },
    {
     "name": "stderr",
     "output_type": "stream",
     "text": [
      "INFO:root:Converting image dtype to float\n"
     ]
    },
    {
     "name": "stdout",
     "output_type": "stream",
     "text": [
      "Tile (25, 32) Processing Time: 8.16 seconds\n"
     ]
    },
    {
     "name": "stderr",
     "output_type": "stream",
     "text": [
      "INFO:root:Converting image dtype to float\n"
     ]
    },
    {
     "name": "stdout",
     "output_type": "stream",
     "text": [
      "Tile (25, 33) Processing Time: 8.41 seconds\n"
     ]
    },
    {
     "name": "stderr",
     "output_type": "stream",
     "text": [
      "INFO:root:Converting image dtype to float\n"
     ]
    },
    {
     "name": "stdout",
     "output_type": "stream",
     "text": [
      "Tile (25, 34) Processing Time: 8.59 seconds\n"
     ]
    },
    {
     "name": "stderr",
     "output_type": "stream",
     "text": [
      "INFO:root:Converting image dtype to float\n"
     ]
    },
    {
     "name": "stdout",
     "output_type": "stream",
     "text": [
      "Tile (25, 35) Processing Time: 8.85 seconds\n"
     ]
    },
    {
     "name": "stderr",
     "output_type": "stream",
     "text": [
      "INFO:root:Converting image dtype to float\n"
     ]
    },
    {
     "name": "stdout",
     "output_type": "stream",
     "text": [
      "Tile (25, 36) Processing Time: 9.09 seconds\n"
     ]
    },
    {
     "name": "stderr",
     "output_type": "stream",
     "text": [
      "INFO:root:Converting image dtype to float\n"
     ]
    },
    {
     "name": "stdout",
     "output_type": "stream",
     "text": [
      "Tile (25, 37) Processing Time: 8.79 seconds\n"
     ]
    },
    {
     "name": "stderr",
     "output_type": "stream",
     "text": [
      "INFO:root:Converting image dtype to float\n"
     ]
    },
    {
     "name": "stdout",
     "output_type": "stream",
     "text": [
      "Tile (25, 38) Processing Time: 8.60 seconds\n"
     ]
    },
    {
     "name": "stderr",
     "output_type": "stream",
     "text": [
      "INFO:root:Converting image dtype to float\n"
     ]
    },
    {
     "name": "stdout",
     "output_type": "stream",
     "text": [
      "Tile (25, 39) Processing Time: 8.92 seconds\n"
     ]
    },
    {
     "name": "stderr",
     "output_type": "stream",
     "text": [
      "INFO:root:Converting image dtype to float\n"
     ]
    },
    {
     "name": "stdout",
     "output_type": "stream",
     "text": [
      "Tile (25, 40) Processing Time: 8.95 seconds\n"
     ]
    },
    {
     "name": "stderr",
     "output_type": "stream",
     "text": [
      "INFO:root:Converting image dtype to float\n"
     ]
    },
    {
     "name": "stdout",
     "output_type": "stream",
     "text": [
      "Tile (25, 41) Processing Time: 8.78 seconds\n"
     ]
    },
    {
     "name": "stderr",
     "output_type": "stream",
     "text": [
      "INFO:root:Converting image dtype to float\n"
     ]
    },
    {
     "name": "stdout",
     "output_type": "stream",
     "text": [
      "Tile (25, 42) Processing Time: 8.89 seconds\n"
     ]
    },
    {
     "name": "stderr",
     "output_type": "stream",
     "text": [
      "INFO:root:Converting image dtype to float\n"
     ]
    },
    {
     "name": "stdout",
     "output_type": "stream",
     "text": [
      "Tile (25, 43) Processing Time: 9.07 seconds\n"
     ]
    },
    {
     "name": "stderr",
     "output_type": "stream",
     "text": [
      "INFO:root:Converting image dtype to float\n"
     ]
    },
    {
     "name": "stdout",
     "output_type": "stream",
     "text": [
      "Tile (25, 44) Processing Time: 8.36 seconds\n"
     ]
    },
    {
     "name": "stderr",
     "output_type": "stream",
     "text": [
      "INFO:root:Converting image dtype to float\n"
     ]
    },
    {
     "name": "stdout",
     "output_type": "stream",
     "text": [
      "Tile (25, 45) Processing Time: 8.20 seconds\n"
     ]
    },
    {
     "name": "stderr",
     "output_type": "stream",
     "text": [
      "INFO:root:Converting image dtype to float\n"
     ]
    },
    {
     "name": "stdout",
     "output_type": "stream",
     "text": [
      "Tile (25, 46) Processing Time: 8.23 seconds\n"
     ]
    },
    {
     "name": "stderr",
     "output_type": "stream",
     "text": [
      "INFO:root:Converting image dtype to float\n"
     ]
    },
    {
     "name": "stdout",
     "output_type": "stream",
     "text": [
      "Tile (25, 47) Processing Time: 8.19 seconds\n"
     ]
    },
    {
     "name": "stderr",
     "output_type": "stream",
     "text": [
      "INFO:root:Converting image dtype to float\n"
     ]
    },
    {
     "name": "stdout",
     "output_type": "stream",
     "text": [
      "Tile (25, 48) Processing Time: 8.20 seconds\n"
     ]
    },
    {
     "name": "stderr",
     "output_type": "stream",
     "text": [
      "INFO:root:Converting image dtype to float\n"
     ]
    },
    {
     "name": "stdout",
     "output_type": "stream",
     "text": [
      "Tile (25, 49) Processing Time: 7.84 seconds\n"
     ]
    },
    {
     "name": "stderr",
     "output_type": "stream",
     "text": [
      "INFO:root:Converting image dtype to float\n"
     ]
    },
    {
     "name": "stdout",
     "output_type": "stream",
     "text": [
      "Tile (25, 50) Processing Time: 7.66 seconds\n"
     ]
    },
    {
     "name": "stderr",
     "output_type": "stream",
     "text": [
      "INFO:root:Converting image dtype to float\n"
     ]
    },
    {
     "name": "stdout",
     "output_type": "stream",
     "text": [
      "Tile (26, 15) Processing Time: 7.63 seconds\n"
     ]
    },
    {
     "name": "stderr",
     "output_type": "stream",
     "text": [
      "INFO:root:Converting image dtype to float\n"
     ]
    },
    {
     "name": "stdout",
     "output_type": "stream",
     "text": [
      "Tile (26, 16) Processing Time: 7.58 seconds\n"
     ]
    },
    {
     "name": "stderr",
     "output_type": "stream",
     "text": [
      "INFO:root:Converting image dtype to float\n"
     ]
    },
    {
     "name": "stdout",
     "output_type": "stream",
     "text": [
      "Tile (26, 17) Processing Time: 7.57 seconds\n"
     ]
    },
    {
     "name": "stderr",
     "output_type": "stream",
     "text": [
      "INFO:root:Converting image dtype to float\n"
     ]
    },
    {
     "name": "stdout",
     "output_type": "stream",
     "text": [
      "Tile (26, 18) Processing Time: 7.77 seconds\n"
     ]
    },
    {
     "name": "stderr",
     "output_type": "stream",
     "text": [
      "INFO:root:Converting image dtype to float\n"
     ]
    },
    {
     "name": "stdout",
     "output_type": "stream",
     "text": [
      "Tile (26, 19) Processing Time: 7.82 seconds\n"
     ]
    },
    {
     "name": "stderr",
     "output_type": "stream",
     "text": [
      "INFO:root:Converting image dtype to float\n"
     ]
    },
    {
     "name": "stdout",
     "output_type": "stream",
     "text": [
      "Tile (26, 20) Processing Time: 7.95 seconds\n"
     ]
    },
    {
     "name": "stderr",
     "output_type": "stream",
     "text": [
      "INFO:root:Converting image dtype to float\n"
     ]
    },
    {
     "name": "stdout",
     "output_type": "stream",
     "text": [
      "Tile (26, 21) Processing Time: 8.40 seconds\n"
     ]
    },
    {
     "name": "stderr",
     "output_type": "stream",
     "text": [
      "INFO:root:Converting image dtype to float\n"
     ]
    },
    {
     "name": "stdout",
     "output_type": "stream",
     "text": [
      "Tile (26, 22) Processing Time: 8.38 seconds\n"
     ]
    },
    {
     "name": "stderr",
     "output_type": "stream",
     "text": [
      "INFO:root:Converting image dtype to float\n"
     ]
    },
    {
     "name": "stdout",
     "output_type": "stream",
     "text": [
      "Tile (26, 23) Processing Time: 8.49 seconds\n"
     ]
    },
    {
     "name": "stderr",
     "output_type": "stream",
     "text": [
      "INFO:root:Converting image dtype to float\n"
     ]
    },
    {
     "name": "stdout",
     "output_type": "stream",
     "text": [
      "Tile (26, 24) Processing Time: 8.26 seconds\n"
     ]
    },
    {
     "name": "stderr",
     "output_type": "stream",
     "text": [
      "INFO:root:Converting image dtype to float\n"
     ]
    },
    {
     "name": "stdout",
     "output_type": "stream",
     "text": [
      "Tile (26, 25) Processing Time: 8.40 seconds\n"
     ]
    },
    {
     "name": "stderr",
     "output_type": "stream",
     "text": [
      "INFO:root:Converting image dtype to float\n"
     ]
    },
    {
     "name": "stdout",
     "output_type": "stream",
     "text": [
      "Tile (26, 26) Processing Time: 8.52 seconds\n"
     ]
    },
    {
     "name": "stderr",
     "output_type": "stream",
     "text": [
      "INFO:root:Converting image dtype to float\n"
     ]
    },
    {
     "name": "stdout",
     "output_type": "stream",
     "text": [
      "Tile (26, 27) Processing Time: 8.71 seconds\n"
     ]
    },
    {
     "name": "stderr",
     "output_type": "stream",
     "text": [
      "INFO:root:Converting image dtype to float\n"
     ]
    },
    {
     "name": "stdout",
     "output_type": "stream",
     "text": [
      "Tile (26, 28) Processing Time: 8.61 seconds\n"
     ]
    },
    {
     "name": "stderr",
     "output_type": "stream",
     "text": [
      "INFO:root:Converting image dtype to float\n"
     ]
    },
    {
     "name": "stdout",
     "output_type": "stream",
     "text": [
      "Tile (26, 29) Processing Time: 8.50 seconds\n"
     ]
    },
    {
     "name": "stderr",
     "output_type": "stream",
     "text": [
      "INFO:root:Converting image dtype to float\n"
     ]
    },
    {
     "name": "stdout",
     "output_type": "stream",
     "text": [
      "Tile (26, 30) Processing Time: 7.99 seconds\n"
     ]
    },
    {
     "name": "stderr",
     "output_type": "stream",
     "text": [
      "INFO:root:Converting image dtype to float\n"
     ]
    },
    {
     "name": "stdout",
     "output_type": "stream",
     "text": [
      "Tile (26, 31) Processing Time: 7.77 seconds\n"
     ]
    },
    {
     "name": "stderr",
     "output_type": "stream",
     "text": [
      "INFO:root:Converting image dtype to float\n"
     ]
    },
    {
     "name": "stdout",
     "output_type": "stream",
     "text": [
      "Tile (26, 32) Processing Time: 7.87 seconds\n"
     ]
    },
    {
     "name": "stderr",
     "output_type": "stream",
     "text": [
      "INFO:root:Converting image dtype to float\n"
     ]
    },
    {
     "name": "stdout",
     "output_type": "stream",
     "text": [
      "Tile (26, 33) Processing Time: 8.28 seconds\n"
     ]
    },
    {
     "name": "stderr",
     "output_type": "stream",
     "text": [
      "INFO:root:Converting image dtype to float\n"
     ]
    },
    {
     "name": "stdout",
     "output_type": "stream",
     "text": [
      "Tile (26, 34) Processing Time: 8.63 seconds\n"
     ]
    },
    {
     "name": "stderr",
     "output_type": "stream",
     "text": [
      "INFO:root:Converting image dtype to float\n"
     ]
    },
    {
     "name": "stdout",
     "output_type": "stream",
     "text": [
      "Tile (26, 35) Processing Time: 8.88 seconds\n"
     ]
    },
    {
     "name": "stderr",
     "output_type": "stream",
     "text": [
      "INFO:root:Converting image dtype to float\n"
     ]
    },
    {
     "name": "stdout",
     "output_type": "stream",
     "text": [
      "Tile (26, 36) Processing Time: 8.81 seconds\n"
     ]
    },
    {
     "name": "stderr",
     "output_type": "stream",
     "text": [
      "INFO:root:Converting image dtype to float\n"
     ]
    },
    {
     "name": "stdout",
     "output_type": "stream",
     "text": [
      "Tile (26, 37) Processing Time: 8.60 seconds\n"
     ]
    },
    {
     "name": "stderr",
     "output_type": "stream",
     "text": [
      "INFO:root:Converting image dtype to float\n"
     ]
    },
    {
     "name": "stdout",
     "output_type": "stream",
     "text": [
      "Tile (26, 38) Processing Time: 8.91 seconds\n"
     ]
    },
    {
     "name": "stderr",
     "output_type": "stream",
     "text": [
      "INFO:root:Converting image dtype to float\n"
     ]
    },
    {
     "name": "stdout",
     "output_type": "stream",
     "text": [
      "Tile (26, 39) Processing Time: 9.15 seconds\n"
     ]
    },
    {
     "name": "stderr",
     "output_type": "stream",
     "text": [
      "INFO:root:Converting image dtype to float\n"
     ]
    },
    {
     "name": "stdout",
     "output_type": "stream",
     "text": [
      "Tile (26, 40) Processing Time: 8.93 seconds\n"
     ]
    },
    {
     "name": "stderr",
     "output_type": "stream",
     "text": [
      "INFO:root:Converting image dtype to float\n"
     ]
    },
    {
     "name": "stdout",
     "output_type": "stream",
     "text": [
      "Tile (26, 41) Processing Time: 8.69 seconds\n"
     ]
    },
    {
     "name": "stderr",
     "output_type": "stream",
     "text": [
      "INFO:root:Converting image dtype to float\n"
     ]
    },
    {
     "name": "stdout",
     "output_type": "stream",
     "text": [
      "Tile (26, 42) Processing Time: 8.49 seconds\n"
     ]
    },
    {
     "name": "stderr",
     "output_type": "stream",
     "text": [
      "INFO:root:Converting image dtype to float\n"
     ]
    },
    {
     "name": "stdout",
     "output_type": "stream",
     "text": [
      "Tile (26, 43) Processing Time: 8.59 seconds\n"
     ]
    },
    {
     "name": "stderr",
     "output_type": "stream",
     "text": [
      "INFO:root:Converting image dtype to float\n"
     ]
    },
    {
     "name": "stdout",
     "output_type": "stream",
     "text": [
      "Tile (26, 44) Processing Time: 8.42 seconds\n"
     ]
    },
    {
     "name": "stderr",
     "output_type": "stream",
     "text": [
      "INFO:root:Converting image dtype to float\n"
     ]
    },
    {
     "name": "stdout",
     "output_type": "stream",
     "text": [
      "Tile (26, 45) Processing Time: 8.51 seconds\n"
     ]
    },
    {
     "name": "stderr",
     "output_type": "stream",
     "text": [
      "INFO:root:Converting image dtype to float\n"
     ]
    },
    {
     "name": "stdout",
     "output_type": "stream",
     "text": [
      "Tile (26, 46) Processing Time: 8.24 seconds\n"
     ]
    },
    {
     "name": "stderr",
     "output_type": "stream",
     "text": [
      "INFO:root:Converting image dtype to float\n"
     ]
    },
    {
     "name": "stdout",
     "output_type": "stream",
     "text": [
      "Tile (26, 47) Processing Time: 7.88 seconds\n"
     ]
    },
    {
     "name": "stderr",
     "output_type": "stream",
     "text": [
      "INFO:root:Converting image dtype to float\n"
     ]
    },
    {
     "name": "stdout",
     "output_type": "stream",
     "text": [
      "Tile (26, 48) Processing Time: 7.63 seconds\n"
     ]
    },
    {
     "name": "stderr",
     "output_type": "stream",
     "text": [
      "INFO:root:Converting image dtype to float\n"
     ]
    },
    {
     "name": "stdout",
     "output_type": "stream",
     "text": [
      "Tile (26, 49) Processing Time: 7.68 seconds\n"
     ]
    },
    {
     "name": "stderr",
     "output_type": "stream",
     "text": [
      "INFO:root:Converting image dtype to float\n"
     ]
    },
    {
     "name": "stdout",
     "output_type": "stream",
     "text": [
      "Tile (27, 19) Processing Time: 7.48 seconds\n"
     ]
    },
    {
     "name": "stderr",
     "output_type": "stream",
     "text": [
      "INFO:root:Converting image dtype to float\n"
     ]
    },
    {
     "name": "stdout",
     "output_type": "stream",
     "text": [
      "Tile (27, 20) Processing Time: 7.47 seconds\n"
     ]
    },
    {
     "name": "stderr",
     "output_type": "stream",
     "text": [
      "INFO:root:Converting image dtype to float\n"
     ]
    },
    {
     "name": "stdout",
     "output_type": "stream",
     "text": [
      "Tile (27, 21) Processing Time: 7.87 seconds\n"
     ]
    },
    {
     "name": "stderr",
     "output_type": "stream",
     "text": [
      "INFO:root:Converting image dtype to float\n"
     ]
    },
    {
     "name": "stdout",
     "output_type": "stream",
     "text": [
      "Tile (27, 22) Processing Time: 7.85 seconds\n"
     ]
    },
    {
     "name": "stderr",
     "output_type": "stream",
     "text": [
      "INFO:root:Converting image dtype to float\n"
     ]
    },
    {
     "name": "stdout",
     "output_type": "stream",
     "text": [
      "Tile (27, 23) Processing Time: 7.63 seconds\n"
     ]
    },
    {
     "name": "stderr",
     "output_type": "stream",
     "text": [
      "INFO:root:Converting image dtype to float\n"
     ]
    },
    {
     "name": "stdout",
     "output_type": "stream",
     "text": [
      "Tile (27, 24) Processing Time: 7.87 seconds\n"
     ]
    },
    {
     "name": "stderr",
     "output_type": "stream",
     "text": [
      "INFO:root:Converting image dtype to float\n"
     ]
    },
    {
     "name": "stdout",
     "output_type": "stream",
     "text": [
      "Tile (27, 25) Processing Time: 7.88 seconds\n"
     ]
    },
    {
     "name": "stderr",
     "output_type": "stream",
     "text": [
      "INFO:root:Converting image dtype to float\n"
     ]
    },
    {
     "name": "stdout",
     "output_type": "stream",
     "text": [
      "Tile (27, 26) Processing Time: 8.19 seconds\n"
     ]
    },
    {
     "name": "stderr",
     "output_type": "stream",
     "text": [
      "INFO:root:Converting image dtype to float\n"
     ]
    },
    {
     "name": "stdout",
     "output_type": "stream",
     "text": [
      "Tile (27, 27) Processing Time: 8.12 seconds\n"
     ]
    },
    {
     "name": "stderr",
     "output_type": "stream",
     "text": [
      "INFO:root:Converting image dtype to float\n"
     ]
    },
    {
     "name": "stdout",
     "output_type": "stream",
     "text": [
      "Tile (27, 28) Processing Time: 8.02 seconds\n"
     ]
    },
    {
     "name": "stderr",
     "output_type": "stream",
     "text": [
      "INFO:root:Converting image dtype to float\n"
     ]
    },
    {
     "name": "stdout",
     "output_type": "stream",
     "text": [
      "Tile (27, 29) Processing Time: 7.76 seconds\n"
     ]
    },
    {
     "name": "stderr",
     "output_type": "stream",
     "text": [
      "INFO:root:Converting image dtype to float\n"
     ]
    },
    {
     "name": "stdout",
     "output_type": "stream",
     "text": [
      "Tile (27, 30) Processing Time: 7.66 seconds\n"
     ]
    },
    {
     "name": "stderr",
     "output_type": "stream",
     "text": [
      "INFO:root:Converting image dtype to float\n"
     ]
    },
    {
     "name": "stdout",
     "output_type": "stream",
     "text": [
      "Tile (27, 31) Processing Time: 7.63 seconds\n"
     ]
    },
    {
     "name": "stderr",
     "output_type": "stream",
     "text": [
      "INFO:root:Converting image dtype to float\n"
     ]
    },
    {
     "name": "stdout",
     "output_type": "stream",
     "text": [
      "Tile (27, 32) Processing Time: 7.58 seconds\n"
     ]
    },
    {
     "name": "stderr",
     "output_type": "stream",
     "text": [
      "INFO:root:Converting image dtype to float\n"
     ]
    },
    {
     "name": "stdout",
     "output_type": "stream",
     "text": [
      "Tile (27, 33) Processing Time: 7.77 seconds\n"
     ]
    },
    {
     "name": "stderr",
     "output_type": "stream",
     "text": [
      "INFO:root:Converting image dtype to float\n"
     ]
    },
    {
     "name": "stdout",
     "output_type": "stream",
     "text": [
      "Tile (27, 34) Processing Time: 8.69 seconds\n"
     ]
    },
    {
     "name": "stderr",
     "output_type": "stream",
     "text": [
      "INFO:root:Converting image dtype to float\n"
     ]
    },
    {
     "name": "stdout",
     "output_type": "stream",
     "text": [
      "Tile (27, 35) Processing Time: 8.32 seconds\n"
     ]
    },
    {
     "name": "stderr",
     "output_type": "stream",
     "text": [
      "INFO:root:Converting image dtype to float\n"
     ]
    },
    {
     "name": "stdout",
     "output_type": "stream",
     "text": [
      "Tile (27, 36) Processing Time: 8.27 seconds\n"
     ]
    },
    {
     "name": "stderr",
     "output_type": "stream",
     "text": [
      "INFO:root:Converting image dtype to float\n"
     ]
    },
    {
     "name": "stdout",
     "output_type": "stream",
     "text": [
      "Tile (27, 37) Processing Time: 8.36 seconds\n"
     ]
    },
    {
     "name": "stderr",
     "output_type": "stream",
     "text": [
      "INFO:root:Converting image dtype to float\n"
     ]
    },
    {
     "name": "stdout",
     "output_type": "stream",
     "text": [
      "Tile (27, 38) Processing Time: 8.73 seconds\n"
     ]
    },
    {
     "name": "stderr",
     "output_type": "stream",
     "text": [
      "INFO:root:Converting image dtype to float\n"
     ]
    },
    {
     "name": "stdout",
     "output_type": "stream",
     "text": [
      "Tile (27, 39) Processing Time: 8.93 seconds\n"
     ]
    },
    {
     "name": "stderr",
     "output_type": "stream",
     "text": [
      "INFO:root:Converting image dtype to float\n"
     ]
    },
    {
     "name": "stdout",
     "output_type": "stream",
     "text": [
      "Tile (27, 40) Processing Time: 8.54 seconds\n"
     ]
    },
    {
     "name": "stderr",
     "output_type": "stream",
     "text": [
      "INFO:root:Converting image dtype to float\n"
     ]
    },
    {
     "name": "stdout",
     "output_type": "stream",
     "text": [
      "Tile (27, 41) Processing Time: 8.37 seconds\n"
     ]
    },
    {
     "name": "stderr",
     "output_type": "stream",
     "text": [
      "INFO:root:Converting image dtype to float\n"
     ]
    },
    {
     "name": "stdout",
     "output_type": "stream",
     "text": [
      "Tile (27, 42) Processing Time: 8.22 seconds\n"
     ]
    },
    {
     "name": "stderr",
     "output_type": "stream",
     "text": [
      "INFO:root:Converting image dtype to float\n"
     ]
    },
    {
     "name": "stdout",
     "output_type": "stream",
     "text": [
      "Tile (27, 43) Processing Time: 8.00 seconds\n"
     ]
    },
    {
     "name": "stderr",
     "output_type": "stream",
     "text": [
      "INFO:root:Converting image dtype to float\n"
     ]
    },
    {
     "name": "stdout",
     "output_type": "stream",
     "text": [
      "Tile (27, 44) Processing Time: 8.10 seconds\n"
     ]
    },
    {
     "name": "stderr",
     "output_type": "stream",
     "text": [
      "INFO:root:Converting image dtype to float\n"
     ]
    },
    {
     "name": "stdout",
     "output_type": "stream",
     "text": [
      "Tile (27, 45) Processing Time: 8.10 seconds\n"
     ]
    },
    {
     "name": "stderr",
     "output_type": "stream",
     "text": [
      "INFO:root:Converting image dtype to float\n"
     ]
    },
    {
     "name": "stdout",
     "output_type": "stream",
     "text": [
      "Tile (27, 46) Processing Time: 7.84 seconds\n"
     ]
    },
    {
     "name": "stderr",
     "output_type": "stream",
     "text": [
      "INFO:root:Converting image dtype to float\n"
     ]
    },
    {
     "name": "stdout",
     "output_type": "stream",
     "text": [
      "Tile (27, 47) Processing Time: 7.77 seconds\n"
     ]
    },
    {
     "name": "stderr",
     "output_type": "stream",
     "text": [
      "INFO:root:Converting image dtype to float\n"
     ]
    },
    {
     "name": "stdout",
     "output_type": "stream",
     "text": [
      "Tile (27, 48) Processing Time: 7.52 seconds\n"
     ]
    },
    {
     "name": "stderr",
     "output_type": "stream",
     "text": [
      "INFO:root:Converting image dtype to float\n"
     ]
    },
    {
     "name": "stdout",
     "output_type": "stream",
     "text": [
      "Tile (28, 25) Processing Time: 7.47 seconds\n"
     ]
    },
    {
     "name": "stderr",
     "output_type": "stream",
     "text": [
      "INFO:root:Converting image dtype to float\n"
     ]
    },
    {
     "name": "stdout",
     "output_type": "stream",
     "text": [
      "Tile (28, 26) Processing Time: 7.59 seconds\n"
     ]
    },
    {
     "name": "stderr",
     "output_type": "stream",
     "text": [
      "INFO:root:Converting image dtype to float\n"
     ]
    },
    {
     "name": "stdout",
     "output_type": "stream",
     "text": [
      "Tile (28, 27) Processing Time: 7.60 seconds\n"
     ]
    },
    {
     "name": "stderr",
     "output_type": "stream",
     "text": [
      "INFO:root:Converting image dtype to float\n"
     ]
    },
    {
     "name": "stdout",
     "output_type": "stream",
     "text": [
      "Tile (28, 28) Processing Time: 7.55 seconds\n"
     ]
    },
    {
     "name": "stderr",
     "output_type": "stream",
     "text": [
      "INFO:root:Converting image dtype to float\n"
     ]
    },
    {
     "name": "stdout",
     "output_type": "stream",
     "text": [
      "Tile (28, 29) Processing Time: 7.38 seconds\n"
     ]
    },
    {
     "name": "stderr",
     "output_type": "stream",
     "text": [
      "INFO:root:Converting image dtype to float\n"
     ]
    },
    {
     "name": "stdout",
     "output_type": "stream",
     "text": [
      "Tile (28, 32) Processing Time: 7.50 seconds\n"
     ]
    },
    {
     "name": "stderr",
     "output_type": "stream",
     "text": [
      "INFO:root:Converting image dtype to float\n"
     ]
    },
    {
     "name": "stdout",
     "output_type": "stream",
     "text": [
      "Tile (28, 33) Processing Time: 7.65 seconds\n"
     ]
    },
    {
     "name": "stderr",
     "output_type": "stream",
     "text": [
      "INFO:root:Converting image dtype to float\n"
     ]
    },
    {
     "name": "stdout",
     "output_type": "stream",
     "text": [
      "Tile (28, 34) Processing Time: 7.63 seconds\n"
     ]
    },
    {
     "name": "stderr",
     "output_type": "stream",
     "text": [
      "INFO:root:Converting image dtype to float\n"
     ]
    },
    {
     "name": "stdout",
     "output_type": "stream",
     "text": [
      "Tile (28, 35) Processing Time: 7.63 seconds\n"
     ]
    },
    {
     "name": "stderr",
     "output_type": "stream",
     "text": [
      "INFO:root:Converting image dtype to float\n"
     ]
    },
    {
     "name": "stdout",
     "output_type": "stream",
     "text": [
      "Tile (28, 36) Processing Time: 7.64 seconds\n"
     ]
    },
    {
     "name": "stderr",
     "output_type": "stream",
     "text": [
      "INFO:root:Converting image dtype to float\n"
     ]
    },
    {
     "name": "stdout",
     "output_type": "stream",
     "text": [
      "Tile (28, 37) Processing Time: 7.72 seconds\n"
     ]
    },
    {
     "name": "stderr",
     "output_type": "stream",
     "text": [
      "INFO:root:Converting image dtype to float\n"
     ]
    },
    {
     "name": "stdout",
     "output_type": "stream",
     "text": [
      "Tile (28, 38) Processing Time: 7.81 seconds\n"
     ]
    },
    {
     "name": "stderr",
     "output_type": "stream",
     "text": [
      "INFO:root:Converting image dtype to float\n"
     ]
    },
    {
     "name": "stdout",
     "output_type": "stream",
     "text": [
      "Tile (28, 39) Processing Time: 7.99 seconds\n"
     ]
    },
    {
     "name": "stderr",
     "output_type": "stream",
     "text": [
      "INFO:root:Converting image dtype to float\n"
     ]
    },
    {
     "name": "stdout",
     "output_type": "stream",
     "text": [
      "Tile (28, 40) Processing Time: 8.07 seconds\n"
     ]
    },
    {
     "name": "stderr",
     "output_type": "stream",
     "text": [
      "INFO:root:Converting image dtype to float\n"
     ]
    },
    {
     "name": "stdout",
     "output_type": "stream",
     "text": [
      "Tile (28, 41) Processing Time: 7.83 seconds\n"
     ]
    },
    {
     "name": "stderr",
     "output_type": "stream",
     "text": [
      "INFO:root:Converting image dtype to float\n"
     ]
    },
    {
     "name": "stdout",
     "output_type": "stream",
     "text": [
      "Tile (28, 42) Processing Time: 7.82 seconds\n"
     ]
    },
    {
     "name": "stderr",
     "output_type": "stream",
     "text": [
      "INFO:root:Converting image dtype to float\n"
     ]
    },
    {
     "name": "stdout",
     "output_type": "stream",
     "text": [
      "Tile (28, 43) Processing Time: 7.80 seconds\n"
     ]
    },
    {
     "name": "stderr",
     "output_type": "stream",
     "text": [
      "INFO:root:Converting image dtype to float\n"
     ]
    },
    {
     "name": "stdout",
     "output_type": "stream",
     "text": [
      "Tile (28, 44) Processing Time: 7.70 seconds\n"
     ]
    },
    {
     "name": "stderr",
     "output_type": "stream",
     "text": [
      "INFO:root:Converting image dtype to float\n"
     ]
    },
    {
     "name": "stdout",
     "output_type": "stream",
     "text": [
      "Tile (28, 45) Processing Time: 7.84 seconds\n"
     ]
    },
    {
     "name": "stderr",
     "output_type": "stream",
     "text": [
      "INFO:root:Converting image dtype to float\n"
     ]
    },
    {
     "name": "stdout",
     "output_type": "stream",
     "text": [
      "Tile (28, 46) Processing Time: 7.57 seconds\n"
     ]
    },
    {
     "name": "stderr",
     "output_type": "stream",
     "text": [
      "INFO:root:Converting image dtype to float\n"
     ]
    },
    {
     "name": "stdout",
     "output_type": "stream",
     "text": [
      "Tile (28, 47) Processing Time: 7.38 seconds\n",
      "Final Output Shape Before Saving: (1, 35445, 67038, 2)\n",
      "(35445, 67038)\n"
     ]
    },
    {
     "ename": "OSError",
     "evalue": "[Errno 22] Invalid argument: '/run/user/1325827/gvfs/smb-share:server=group3.ad.helsinki.fi,share=h30492/farkkilab2/9_EyeMT/9_EyeMT_Cycif/batch2_adjacent_slides/mesmer_seg_new/S188_iOme.ome.tif'",
     "output_type": "error",
     "traceback": [
      "\u001b[0;31m---------------------------------------------------------------------------\u001b[0m",
      "\u001b[0;31mOSError\u001b[0m                                   Traceback (most recent call last)",
      "\u001b[0;32m/tmp/ipykernel_1078944/3339274023.py\u001b[0m in \u001b[0;36m?\u001b[0;34m()\u001b[0m\n\u001b[1;32m     95\u001b[0m     \u001b[0mfinal_output\u001b[0m \u001b[0;34m=\u001b[0m \u001b[0moutput\u001b[0m\u001b[0;34m[\u001b[0m\u001b[0;36m0\u001b[0m\u001b[0;34m,\u001b[0m \u001b[0;34m:\u001b[0m\u001b[0;34m,\u001b[0m \u001b[0;34m:\u001b[0m\u001b[0;34m,\u001b[0m \u001b[0;36m0\u001b[0m\u001b[0;34m]\u001b[0m \u001b[0;32mif\u001b[0m \u001b[0moutput\u001b[0m\u001b[0;34m.\u001b[0m\u001b[0mshape\u001b[0m\u001b[0;34m[\u001b[0m\u001b[0;36m0\u001b[0m\u001b[0;34m]\u001b[0m \u001b[0;34m==\u001b[0m \u001b[0;36m1\u001b[0m \u001b[0;32melse\u001b[0m \u001b[0moutput\u001b[0m\u001b[0;34m[\u001b[0m\u001b[0;34m...\u001b[0m\u001b[0;34m,\u001b[0m \u001b[0;36m0\u001b[0m\u001b[0;34m]\u001b[0m\u001b[0;34m\u001b[0m\u001b[0;34m\u001b[0m\u001b[0m\n\u001b[1;32m     96\u001b[0m     \u001b[0mprint\u001b[0m\u001b[0;34m(\u001b[0m\u001b[0mfinal_output\u001b[0m\u001b[0;34m.\u001b[0m\u001b[0mshape\u001b[0m\u001b[0;34m)\u001b[0m\u001b[0;34m\u001b[0m\u001b[0;34m\u001b[0m\u001b[0m\n\u001b[1;32m     97\u001b[0m \u001b[0;34m\u001b[0m\u001b[0m\n\u001b[1;32m     98\u001b[0m     \u001b[0;31m# Save output as .ome.tif\u001b[0m\u001b[0;34m\u001b[0m\u001b[0;34m\u001b[0m\u001b[0m\n\u001b[0;32m---> 99\u001b[0;31m     \u001b[0moutput_file\u001b[0m \u001b[0;34m=\u001b[0m \u001b[0mPath\u001b[0m\u001b[0;34m(\u001b[0m\u001b[0moutput_folder\u001b[0m\u001b[0;34m)\u001b[0m \u001b[0;34m/\u001b[0m \u001b[0;34mf\"{image_id}.tif\"\u001b[0m\u001b[0;34m\u001b[0m\u001b[0;34m\u001b[0m\u001b[0m\n\u001b[0m\u001b[1;32m    100\u001b[0m     \u001b[0mtifffile\u001b[0m\u001b[0;34m.\u001b[0m\u001b[0mimwrite\u001b[0m\u001b[0;34m(\u001b[0m\u001b[0moutput_file\u001b[0m\u001b[0;34m,\u001b[0m \u001b[0mfinal_output\u001b[0m\u001b[0;34m.\u001b[0m\u001b[0mastype\u001b[0m\u001b[0;34m(\u001b[0m\u001b[0mnp\u001b[0m\u001b[0;34m.\u001b[0m\u001b[0muint32\u001b[0m\u001b[0;34m)\u001b[0m\u001b[0;34m)\u001b[0m \u001b[0;31m# Save with uint32 (4,294,967,295 max values) to avoid duplicated cell IDs\u001b[0m\u001b[0;34m\u001b[0m\u001b[0;34m\u001b[0m\u001b[0m\n\u001b[1;32m    101\u001b[0m     \u001b[0mprint\u001b[0m\u001b[0;34m(\u001b[0m\u001b[0;34mf\"Saved: {output_file}\"\u001b[0m\u001b[0;34m)\u001b[0m\u001b[0;34m\u001b[0m\u001b[0;34m\u001b[0m\u001b[0m\n",
      "\u001b[0;32m~/.conda/envs/mesmer/lib/python3.9/site-packages/tifffile/tifffile.py\u001b[0m in \u001b[0;36m?\u001b[0;34m(file, data, mode, bigtiff, byteorder, imagej, ome, shaped, append, shape, dtype, photometric, planarconfig, extrasamples, volumetric, tile, rowsperstrip, bitspersample, compression, compressionargs, predictor, subsampling, jpegtables, iccprofile, colormap, description, datetime, resolution, resolutionunit, subfiletype, software, metadata, extratags, contiguous, truncate, align, maxworkers, buffersize, returnoffset)\u001b[0m\n\u001b[1;32m   1435\u001b[0m             \u001b[0;32mand\u001b[0m \u001b[0;32mnot\u001b[0m \u001b[0mtruncate\u001b[0m\u001b[0;34m\u001b[0m\u001b[0;34m\u001b[0m\u001b[0m\n\u001b[1;32m   1436\u001b[0m             \u001b[0;32mand\u001b[0m \u001b[0mcompression\u001b[0m \u001b[0;32min\u001b[0m \u001b[0;34m{\u001b[0m\u001b[0;32mNone\u001b[0m\u001b[0;34m,\u001b[0m \u001b[0;36m0\u001b[0m\u001b[0;34m,\u001b[0m \u001b[0;36m1\u001b[0m\u001b[0;34m,\u001b[0m \u001b[0;34m'NONE'\u001b[0m\u001b[0;34m,\u001b[0m \u001b[0;34m'none'\u001b[0m\u001b[0;34m}\u001b[0m\u001b[0;34m\u001b[0m\u001b[0;34m\u001b[0m\u001b[0m\n\u001b[1;32m   1437\u001b[0m         )\n\u001b[1;32m   1438\u001b[0m \u001b[0;34m\u001b[0m\u001b[0m\n\u001b[0;32m-> 1439\u001b[0;31m     with TiffWriter(\n\u001b[0m\u001b[1;32m   1440\u001b[0m         \u001b[0mfile\u001b[0m\u001b[0;34m,\u001b[0m\u001b[0;34m\u001b[0m\u001b[0;34m\u001b[0m\u001b[0m\n\u001b[1;32m   1441\u001b[0m         \u001b[0mmode\u001b[0m\u001b[0;34m=\u001b[0m\u001b[0mmode\u001b[0m\u001b[0;34m,\u001b[0m\u001b[0;34m\u001b[0m\u001b[0;34m\u001b[0m\u001b[0m\n\u001b[1;32m   1442\u001b[0m         \u001b[0mbigtiff\u001b[0m\u001b[0;34m=\u001b[0m\u001b[0mbigtiff\u001b[0m\u001b[0;34m,\u001b[0m\u001b[0;34m\u001b[0m\u001b[0;34m\u001b[0m\u001b[0m\n",
      "\u001b[0;32m~/.conda/envs/mesmer/lib/python3.9/site-packages/tifffile/tifffile.py\u001b[0m in \u001b[0;36m?\u001b[0;34m(self, file, mode, bigtiff, byteorder, append, imagej, ome, shaped)\u001b[0m\n\u001b[1;32m   1763\u001b[0m         \u001b[0mself\u001b[0m\u001b[0;34m.\u001b[0m\u001b[0m_ifdindex\u001b[0m \u001b[0;34m=\u001b[0m \u001b[0;36m0\u001b[0m\u001b[0;34m\u001b[0m\u001b[0;34m\u001b[0m\u001b[0m\n\u001b[1;32m   1764\u001b[0m         \u001b[0mself\u001b[0m\u001b[0;34m.\u001b[0m\u001b[0m_omexml\u001b[0m \u001b[0;34m=\u001b[0m \u001b[0;32mNone\u001b[0m\u001b[0;34m\u001b[0m\u001b[0;34m\u001b[0m\u001b[0m\n\u001b[1;32m   1765\u001b[0m         \u001b[0mself\u001b[0m\u001b[0;34m.\u001b[0m\u001b[0m_storedshape\u001b[0m \u001b[0;34m=\u001b[0m \u001b[0;32mNone\u001b[0m\u001b[0;34m\u001b[0m\u001b[0;34m\u001b[0m\u001b[0m\n\u001b[1;32m   1766\u001b[0m \u001b[0;34m\u001b[0m\u001b[0m\n\u001b[0;32m-> 1767\u001b[0;31m         \u001b[0mself\u001b[0m\u001b[0;34m.\u001b[0m\u001b[0m_fh\u001b[0m \u001b[0;34m=\u001b[0m \u001b[0mFileHandle\u001b[0m\u001b[0;34m(\u001b[0m\u001b[0mfile\u001b[0m\u001b[0;34m,\u001b[0m \u001b[0mmode\u001b[0m\u001b[0;34m=\u001b[0m\u001b[0mmode\u001b[0m\u001b[0;34m,\u001b[0m \u001b[0msize\u001b[0m\u001b[0;34m=\u001b[0m\u001b[0;36m0\u001b[0m\u001b[0;34m)\u001b[0m\u001b[0;34m\u001b[0m\u001b[0;34m\u001b[0m\u001b[0m\n\u001b[0m\u001b[1;32m   1768\u001b[0m         \u001b[0;32mif\u001b[0m \u001b[0mappend\u001b[0m\u001b[0;34m:\u001b[0m\u001b[0;34m\u001b[0m\u001b[0;34m\u001b[0m\u001b[0m\n\u001b[1;32m   1769\u001b[0m             \u001b[0mself\u001b[0m\u001b[0;34m.\u001b[0m\u001b[0m_fh\u001b[0m\u001b[0;34m.\u001b[0m\u001b[0mseek\u001b[0m\u001b[0;34m(\u001b[0m\u001b[0;36m0\u001b[0m\u001b[0;34m,\u001b[0m \u001b[0mos\u001b[0m\u001b[0;34m.\u001b[0m\u001b[0mSEEK_END\u001b[0m\u001b[0;34m)\u001b[0m\u001b[0;34m\u001b[0m\u001b[0;34m\u001b[0m\u001b[0m\n\u001b[1;32m   1770\u001b[0m         \u001b[0;32melse\u001b[0m\u001b[0;34m:\u001b[0m\u001b[0;34m\u001b[0m\u001b[0;34m\u001b[0m\u001b[0m\n",
      "\u001b[0;32m~/.conda/envs/mesmer/lib/python3.9/site-packages/tifffile/tifffile.py\u001b[0m in \u001b[0;36m?\u001b[0;34m(self, file, mode, name, offset, size)\u001b[0m\n\u001b[1;32m  14655\u001b[0m         \u001b[0mself\u001b[0m\u001b[0;34m.\u001b[0m\u001b[0m_offset\u001b[0m \u001b[0;34m=\u001b[0m \u001b[0;34m-\u001b[0m\u001b[0;36m1\u001b[0m \u001b[0;32mif\u001b[0m \u001b[0moffset\u001b[0m \u001b[0;32mis\u001b[0m \u001b[0;32mNone\u001b[0m \u001b[0;32melse\u001b[0m \u001b[0moffset\u001b[0m\u001b[0;34m\u001b[0m\u001b[0;34m\u001b[0m\u001b[0m\n\u001b[1;32m  14656\u001b[0m         \u001b[0mself\u001b[0m\u001b[0;34m.\u001b[0m\u001b[0m_size\u001b[0m \u001b[0;34m=\u001b[0m \u001b[0;34m-\u001b[0m\u001b[0;36m1\u001b[0m \u001b[0;32mif\u001b[0m \u001b[0msize\u001b[0m \u001b[0;32mis\u001b[0m \u001b[0;32mNone\u001b[0m \u001b[0;32melse\u001b[0m \u001b[0msize\u001b[0m\u001b[0;34m\u001b[0m\u001b[0;34m\u001b[0m\u001b[0m\n\u001b[1;32m  14657\u001b[0m         \u001b[0mself\u001b[0m\u001b[0;34m.\u001b[0m\u001b[0m_close\u001b[0m \u001b[0;34m=\u001b[0m \u001b[0;32mTrue\u001b[0m\u001b[0;34m\u001b[0m\u001b[0;34m\u001b[0m\u001b[0m\n\u001b[1;32m  14658\u001b[0m         \u001b[0mself\u001b[0m\u001b[0;34m.\u001b[0m\u001b[0m_lock\u001b[0m \u001b[0;34m=\u001b[0m \u001b[0mNullContext\u001b[0m\u001b[0;34m(\u001b[0m\u001b[0;34m)\u001b[0m\u001b[0;34m\u001b[0m\u001b[0;34m\u001b[0m\u001b[0m\n\u001b[0;32m> 14659\u001b[0;31m         \u001b[0mself\u001b[0m\u001b[0;34m.\u001b[0m\u001b[0mopen\u001b[0m\u001b[0;34m(\u001b[0m\u001b[0;34m)\u001b[0m\u001b[0;34m\u001b[0m\u001b[0;34m\u001b[0m\u001b[0m\n\u001b[0m\u001b[1;32m  14660\u001b[0m         \u001b[0;32massert\u001b[0m \u001b[0mself\u001b[0m\u001b[0;34m.\u001b[0m\u001b[0m_fh\u001b[0m \u001b[0;32mis\u001b[0m \u001b[0;32mnot\u001b[0m \u001b[0;32mNone\u001b[0m\u001b[0;34m\u001b[0m\u001b[0;34m\u001b[0m\u001b[0m\n",
      "\u001b[0;32m~/.conda/envs/mesmer/lib/python3.9/site-packages/tifffile/tifffile.py\u001b[0m in \u001b[0;36m?\u001b[0;34m(self)\u001b[0m\n\u001b[1;32m  14674\u001b[0m             \u001b[0;32mif\u001b[0m \u001b[0mself\u001b[0m\u001b[0;34m.\u001b[0m\u001b[0m_mode\u001b[0m \u001b[0;32mnot\u001b[0m \u001b[0;32min\u001b[0m \u001b[0;34m{\u001b[0m\u001b[0;34m'rb'\u001b[0m\u001b[0;34m,\u001b[0m \u001b[0;34m'r+b'\u001b[0m\u001b[0;34m,\u001b[0m \u001b[0;34m'wb'\u001b[0m\u001b[0;34m,\u001b[0m \u001b[0;34m'xb'\u001b[0m\u001b[0;34m}\u001b[0m\u001b[0;34m:\u001b[0m\u001b[0;34m\u001b[0m\u001b[0;34m\u001b[0m\u001b[0m\n\u001b[1;32m  14675\u001b[0m                 \u001b[0;32mraise\u001b[0m \u001b[0mValueError\u001b[0m\u001b[0;34m(\u001b[0m\u001b[0;34mf'invalid mode {self._mode}'\u001b[0m\u001b[0;34m)\u001b[0m\u001b[0;34m\u001b[0m\u001b[0;34m\u001b[0m\u001b[0m\n\u001b[1;32m  14676\u001b[0m             \u001b[0mself\u001b[0m\u001b[0;34m.\u001b[0m\u001b[0m_file\u001b[0m \u001b[0;34m=\u001b[0m \u001b[0mos\u001b[0m\u001b[0;34m.\u001b[0m\u001b[0mpath\u001b[0m\u001b[0;34m.\u001b[0m\u001b[0mrealpath\u001b[0m\u001b[0;34m(\u001b[0m\u001b[0mself\u001b[0m\u001b[0;34m.\u001b[0m\u001b[0m_file\u001b[0m\u001b[0;34m)\u001b[0m\u001b[0;34m\u001b[0m\u001b[0;34m\u001b[0m\u001b[0m\n\u001b[1;32m  14677\u001b[0m             \u001b[0mself\u001b[0m\u001b[0;34m.\u001b[0m\u001b[0m_dir\u001b[0m\u001b[0;34m,\u001b[0m \u001b[0mself\u001b[0m\u001b[0;34m.\u001b[0m\u001b[0m_name\u001b[0m \u001b[0;34m=\u001b[0m \u001b[0mos\u001b[0m\u001b[0;34m.\u001b[0m\u001b[0mpath\u001b[0m\u001b[0;34m.\u001b[0m\u001b[0msplit\u001b[0m\u001b[0;34m(\u001b[0m\u001b[0mself\u001b[0m\u001b[0;34m.\u001b[0m\u001b[0m_file\u001b[0m\u001b[0;34m)\u001b[0m\u001b[0;34m\u001b[0m\u001b[0;34m\u001b[0m\u001b[0m\n\u001b[0;32m> 14678\u001b[0;31m             self._fh = open(\n\u001b[0m\u001b[1;32m  14679\u001b[0m                 \u001b[0mself\u001b[0m\u001b[0;34m.\u001b[0m\u001b[0m_file\u001b[0m\u001b[0;34m,\u001b[0m \u001b[0mself\u001b[0m\u001b[0;34m.\u001b[0m\u001b[0m_mode\u001b[0m\u001b[0;34m,\u001b[0m \u001b[0mencoding\u001b[0m\u001b[0;34m=\u001b[0m\u001b[0;32mNone\u001b[0m\u001b[0;34m\u001b[0m\u001b[0;34m\u001b[0m\u001b[0m\n\u001b[1;32m  14680\u001b[0m             )  # type: ignore\n\u001b[1;32m  14681\u001b[0m             \u001b[0mself\u001b[0m\u001b[0;34m.\u001b[0m\u001b[0m_close\u001b[0m \u001b[0;34m=\u001b[0m \u001b[0;32mTrue\u001b[0m\u001b[0;34m\u001b[0m\u001b[0;34m\u001b[0m\u001b[0m\n",
      "\u001b[0;31mOSError\u001b[0m: [Errno 22] Invalid argument: '/run/user/1325827/gvfs/smb-share:server=group3.ad.helsinki.fi,share=h30492/farkkilab2/9_EyeMT/9_EyeMT_Cycif/batch2_adjacent_slides/mesmer_seg_new/S188_iOme.ome.tif'"
     ]
    }
   ],
   "source": [
    "# Run function\n",
    "for image_name in image_files:\n",
    "    print_memory_usage(\"➡️ Start of loop\")\n",
    "\n",
    "    input_path = os.path.join(input_folder, image_name)\n",
    "    image_id = image_name.replace(\".tif\", \"\")\n",
    "\n",
    "    print_memory_usage(\"Before loading image\")\n",
    "    image = tifffile.imread(input_path, key=channel)\n",
    "    print_memory_usage(\"After loading image\")\n",
    "\n",
    "    # Gamma correction\n",
    "    image_corrected = [apply_gamma_correction(image[i], gamma=gamma) for i in range(2)]\n",
    "    print_memory_usage(\"After gamma correction\")\n",
    "\n",
    "    # Unsharp masking\n",
    "    image_sharpened = [apply_unsharp_mask(image_corrected[i], sigma=sigma, strength=strength) for i in range(2)]\n",
    "    print_memory_usage(\"After unsharp masking\")\n",
    "\n",
    "    # Free gamma-corrected data\n",
    "    del image_corrected\n",
    "    gc.collect()\n",
    "    print_memory_usage(\"After deleting corrected data\")\n",
    "\n",
    "    # Stack channels\n",
    "    processed_image = np.stack(image_sharpened, axis=-1)\n",
    "    print_memory_usage(\"After stacking channels\")\n",
    "\n",
    "    # Free sharpened data\n",
    "    del image_sharpened\n",
    "    gc.collect()\n",
    "    print_memory_usage(\"After deleting sharpened data\")\n",
    "\n",
    "    # Expand dimensions\n",
    "    processed_image = np.expand_dims(processed_image, axis=0)\n",
    "    print_memory_usage(\"After expand_dims\")\n",
    "\n",
    "    # calculates Tile Number and Overlap\n",
    "    num_tiles_x = (processed_image.shape[1] / tile_size[0]) * 2\n",
    "    num_tiles_y = (processed_image.shape[2] / tile_size[1]) * 2\n",
    "    num_tiles = int(np.ceil(num_tiles_x)), int(np.ceil(num_tiles_y)) \n",
    "\n",
    "    overlap_x = (num_tiles[0] * tile_size[0] - image.shape[1]) / (num_tiles[0] - 1)\n",
    "    overlap_y = (num_tiles[1] * tile_size[1] - image.shape[2]) / (num_tiles[1] - 1)\n",
    "    overlap = int(np.ceil(overlap_x)), int(np.ceil(overlap_y))  # Ensures integer values\n",
    "\n",
    "# Free original image\n",
    "    del image\n",
    "    gc.collect()\n",
    "    print_memory_usage(\"After deleting original image\")\n",
    "\n",
    "    print(overlap)\n",
    "\n",
    "    # Creates tiles out of the input image\n",
    "    image_tiles = tile(processed_image, tile_size, overlap)\n",
    "    print(image_tiles.shape)\n",
    "\n",
    "    output_tiles = np.zeros_like(image_tiles)\n",
    "    tile_times = []\n",
    "    mean_intensity_df = []\n",
    "\n",
    "    for i in range(image_tiles.shape[1]): # \n",
    "            for j in range(image_tiles.shape[2]):\n",
    "                mean_intensity = np.mean(image_tiles[:,i,j,:,:,0])\n",
    "                print(f\"Tile ({i}, {j}) Mean Intensity: {mean_intensity}\")\n",
    "                mean_intensity_df.append(mean_intensity)\n",
    "\n",
    "    \n",
    "    # Run the GMM filtering function\n",
    "    skipped_mask, cluster_label,original_labels = filter_tiles_by_mean_intensity_gmm_auto_background(\n",
    "    image_tiles,\n",
    "    channel_idx=0,  # DAPI\n",
    "    n_components=3, # aim for 3 clusters\n",
    "    visualize=True\n",
    ")\n",
    "    \n",
    "    for i in range(image_tiles.shape[1]): \n",
    "            for j in range(image_tiles.shape[2]):\n",
    "                if not skipped_mask[i, j]: # check if you need to skip the tile\n",
    "                    start_time = time.time()\n",
    "                    output_tiles[:,i,j,:,:,:] = app.predict(image_tiles[:,i,j,:,:,:], image_mpp=0.325, compartment='nuclear') #  image_mpp = 1, if your images are captured with 0.65 microns/pixel\n",
    "                    end_time = time.time()\n",
    "                    tile_times.append(end_time - start_time)\n",
    "                    print(f\"Tile ({i}, {j}) Processing Time: {end_time - start_time:.2f} seconds\")\n",
    "                else:\n",
    "                    output_tiles[:,i,j,:,:,:] = np.zeros_like(image_tiles[:,i,j,:,:,:])\n",
    "\n",
    "\n",
    "    output = untile(output_tiles, processed_image.shape, tile_size, overlap)\n",
    "\n",
    "    print(\"Final Output Shape Before Saving:\", output.shape)  # Should be (1, height, width)\n",
    "\n",
    "    # Remove batch dimension for saving\n",
    "    final_output = output[0, :, :, 0] if output.shape[0] == 1 else output[..., 0]\n",
    "    print(final_output.shape)\n",
    "    \n",
    "    # Save output as .ome.tif\n",
    "    output_file = Path(output_folder) / f\"{image_id}.tif\"\n",
    "    tifffile.imwrite(output_file, final_output.astype(np.uint32)) # Save with uint32 (4,294,967,295 max values) to avoid duplicated cell IDs\n",
    "    print(f\"Saved: {output_file}\")"
   ]
  }
 ],
 "metadata": {
  "kernelspec": {
   "display_name": "mesmer",
   "language": "python",
   "name": "python3"
  },
  "language_info": {
   "codemirror_mode": {
    "name": "ipython",
    "version": 3
   },
   "file_extension": ".py",
   "mimetype": "text/x-python",
   "name": "python",
   "nbconvert_exporter": "python",
   "pygments_lexer": "ipython3",
   "version": "3.9.23"
  }
 },
 "nbformat": 4,
 "nbformat_minor": 5
}
